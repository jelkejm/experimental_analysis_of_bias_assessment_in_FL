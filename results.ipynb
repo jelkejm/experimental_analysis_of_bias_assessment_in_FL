{
 "cells": [
  {
   "cell_type": "code",
   "execution_count": 1,
   "metadata": {},
   "outputs": [
    {
     "ename": "ModuleNotFoundError",
     "evalue": "No module named 'numpy'",
     "output_type": "error",
     "traceback": [
      "\u001b[0;31m---------------------------------------------------------------------------\u001b[0m",
      "\u001b[0;31mModuleNotFoundError\u001b[0m                       Traceback (most recent call last)",
      "\u001b[0;32m<ipython-input-1-c68d9d6aad9a>\u001b[0m in \u001b[0;36m<module>\u001b[0;34m\u001b[0m\n\u001b[0;32m----> 1\u001b[0;31m \u001b[0;32mimport\u001b[0m \u001b[0mnumpy\u001b[0m \u001b[0;32mas\u001b[0m \u001b[0mnp\u001b[0m\u001b[0;34m\u001b[0m\u001b[0;34m\u001b[0m\u001b[0m\n\u001b[0m\u001b[1;32m      2\u001b[0m \u001b[0;32mimport\u001b[0m \u001b[0mmatplotlib\u001b[0m \u001b[0;32mas\u001b[0m \u001b[0mplt\u001b[0m\u001b[0;34m\u001b[0m\u001b[0;34m\u001b[0m\u001b[0m\n",
      "\u001b[0;31mModuleNotFoundError\u001b[0m: No module named 'numpy'"
     ]
    }
   ],
   "source": [
    "import numpy as np \n",
    "import matplotlib.pyplot as plt\n"
   ]
  },
  {
   "cell_type": "code",
   "execution_count": 2,
   "metadata": {},
   "outputs": [],
   "source": [
    "def plot(lst_all):\n",
    "    local_acc, local_eo_sex, local_eo_race, local_eo_black, local_dp_sex, local_dp_race, local_dp_black, global_acc, global_eo_sex, global_eo_race, global_eo_black, global_dp_sex, global_dp_race, global_dp_black, central_acc, central_eo_sex, central_eo_race, central_eo_black, central_dp_sex, central_dp_race, central_dp_black = lst_all\n",
    "\n",
    "    avg_local_acc = np.mean(avg_local_acc)\n",
    "    avg_local_eo_sex = np.mean(local_eo_sex)\n",
    "    avg_local_eo_race = np.mean(local_eo_race)\n",
    "    avg_local_eo_black = np,mean(local_eo_black)\n",
    "    avg_local_eo_white = np.mean(local_eo_white)\n",
    "    avg_local_dp_sex = np.mean(local_dp_sex)\n",
    "    avg_local_dp_race = np.mean(local_dp_race)\n",
    "    avg_local_dp_black = np.mean(local_dp_black)\n",
    "    avg_local_dp_white = np.mean(local_dp_white)\n",
    "\n",
    "    avg_global_acc = np.mean(avg_global_acc)\n",
    "    avg_global_eo_sex = np.mean(local_dp_white)\n",
    "    avg_global_eo_race = np.mean(global_eo_race)\n",
    "    avg_global_eo_black = np.mean(global_eo_black)\n",
    "    avg_global_eo_white = np.mean(global_eo_white)\n",
    "    avg_global_dp_sex = np.mean(global_dp_sex)\n",
    "    avg_global_dp_race = np.mean(global_dp_race)\n",
    "    avg_global_dp_black = np.mean(global_dp_black)\n",
    "    avg_global_dp_white = np.mean(global_dp_white)\n",
    "\n",
    "    avg_central_acc = np.mean(avg_central_acc)\n",
    "    avg_central_eo_sex = np.mean(central_eo_sex)\n",
    "    avg_central_eo_race = np.mean(central_eo_race)\n",
    "    avg_central_eo_black = np.mean(central_eo_black)\n",
    "    avg_central_eo_white = np.mean(central_eo_white)\n",
    "    avg_central_dp_sex = np.mean(central_dp_sex)\n",
    "    avg_central_dp_race = np.mean(central_dp_race)\n",
    "    avg_central_dp_black = np.mean(central_dp_black)\n",
    "    avg_central_dp_white = np.mean(central_dp_white)\n",
    "\n",
    "    # differences\n",
    "    rq1_acc = avg_local_acc - avg_global_acc\n",
    "    rq1_eo_sex = avg_local_eo_sex - avg_global_eo_sex\n",
    "    rq1_eo_race = avg_local_eo_race - avg_global_eo_race\n",
    "    rq1_eo_black = avg_local_eo_black - avg_global_eo_black\n",
    "    rq1_eo_white = avg_local_eo_white - avg_global_eo_white\n",
    "    rq1_dp_sex = avg_local_dp_sex - avg_global_dp_sex\n",
    "    rq1_dp_race = avg_local_dp_race - avg_global_dp_race\n",
    "    rq1_dp_black = avg_local_dp_black - avg_global_dp_black\n",
    "    rq1_dp_white = avg_local_dp_white - avg_global_dp_white\n",
    "\n",
    "    rq2_acc = avg_global_acc - avg_central_acc\n",
    "    rq2_eo_sex = avg_global_eo_sex - avg_central_eo_sex\n",
    "    rq2_eo_race = avg_global_eo_race - avg_central_eo_race\n",
    "    rq2_eo_black = avg_global_eo_black - avg_central_eo_black\n",
    "    rq2_eo_white = avg_global_eo_white - avg_central_eo_white\n",
    "    rq2_dp_sex = avg_global_dp_sex - avg_central_dp_sex\n",
    "    rq2_dp_race = avg_global_dp_race - avg_central_dp_race\n",
    "    rq2_dp_black = avg_global_dp_black - avg_central_dp_black\n",
    "    rq2_dp_white = avg_global_dp_white - avg_central_dp_white\n",
    "\n",
    "    metrics = ['Accuracy', 'EO sex', 'EO race', 'EO white', 'DP sex', 'DP race', 'DP black', 'DP white']\n",
    "    rq1 = [rq1_acc, rq1_eo_sex, rq1_eo_race, rq1_eo_black, rq1_eo_white, rq1_dp_sex, rq1_dp_race, rq1_dp_black, rq1_dp_white]\n",
    "    rq2 = [rq2_acc, rq2_eo_sex, rq2_eo_race, rq2_eo_black, rq2_eo_white, rq2_dp_sex, rq2_dp_race, rq2_dp_black, rq2_dp_white]\n",
    "\n",
    "    fig, ax = plt.subplots(2, 1)\n",
    "\n",
    "    ax[0].bar(metrics, rq1)\n",
    "    ax[0].set_ylabel('Metric value')\n",
    "    ax[0].set_title('RQ1: difference in metric score local vs. global model')\n",
    "\n",
    "    ax[1].bar(metrics, rq1)\n",
    "    ax[1].set_ylabel('Metric value')\n",
    "    ax[1].set_title('RQ2: difference in metric score global vs. central model')\n",
    "\n",
    "    ax[2].bar(['Central', 'Global', 'Local'], [avg_central_acc, avg_global_acc, avg_local_acc])\n",
    "    ax[2].set_ylabel('Accuracy')\n",
    "    ax[2].set_title('Comparison accuracy between 3 pipelines')\n",
    "\n",
    "    plt.show()"
   ]
  },
  {
   "cell_type": "code",
   "execution_count": 3,
   "metadata": {},
   "outputs": [
    {
     "ename": "NameError",
     "evalue": "name 'np' is not defined",
     "output_type": "error",
     "traceback": [
      "\u001b[0;31m---------------------------------------------------------------------------\u001b[0m",
      "\u001b[0;31mNameError\u001b[0m                                 Traceback (most recent call last)",
      "\u001b[0;32m<ipython-input-3-ff3391da2628>\u001b[0m in \u001b[0;36m<module>\u001b[0;34m\u001b[0m\n\u001b[1;32m     38\u001b[0m         central_acc, central_eo_sex, central_eo_race, central_eo_black, central_dp_sex, central_dp_race, central_dp_black]\n\u001b[1;32m     39\u001b[0m \u001b[0;34m\u001b[0m\u001b[0m\n\u001b[0;32m---> 40\u001b[0;31m \u001b[0mplot\u001b[0m\u001b[0;34m(\u001b[0m\u001b[0mall\u001b[0m\u001b[0;34m)\u001b[0m\u001b[0;34m\u001b[0m\u001b[0;34m\u001b[0m\u001b[0m\n\u001b[0m",
      "\u001b[0;32m<ipython-input-2-f581ec288f62>\u001b[0m in \u001b[0;36mplot\u001b[0;34m(lst_all)\u001b[0m\n\u001b[1;32m      2\u001b[0m     \u001b[0mlocal_acc\u001b[0m\u001b[0;34m,\u001b[0m \u001b[0mlocal_eo_sex\u001b[0m\u001b[0;34m,\u001b[0m \u001b[0mlocal_eo_race\u001b[0m\u001b[0;34m,\u001b[0m \u001b[0mlocal_eo_black\u001b[0m\u001b[0;34m,\u001b[0m \u001b[0mlocal_dp_sex\u001b[0m\u001b[0;34m,\u001b[0m \u001b[0mlocal_dp_race\u001b[0m\u001b[0;34m,\u001b[0m \u001b[0mlocal_dp_black\u001b[0m\u001b[0;34m,\u001b[0m \u001b[0mglobal_acc\u001b[0m\u001b[0;34m,\u001b[0m \u001b[0mglobal_eo_sex\u001b[0m\u001b[0;34m,\u001b[0m \u001b[0mglobal_eo_race\u001b[0m\u001b[0;34m,\u001b[0m \u001b[0mglobal_eo_black\u001b[0m\u001b[0;34m,\u001b[0m \u001b[0mglobal_dp_sex\u001b[0m\u001b[0;34m,\u001b[0m \u001b[0mglobal_dp_race\u001b[0m\u001b[0;34m,\u001b[0m \u001b[0mglobal_dp_black\u001b[0m\u001b[0;34m,\u001b[0m \u001b[0mcentral_acc\u001b[0m\u001b[0;34m,\u001b[0m \u001b[0mcentral_eo_sex\u001b[0m\u001b[0;34m,\u001b[0m \u001b[0mcentral_eo_race\u001b[0m\u001b[0;34m,\u001b[0m \u001b[0mcentral_eo_black\u001b[0m\u001b[0;34m,\u001b[0m \u001b[0mcentral_dp_sex\u001b[0m\u001b[0;34m,\u001b[0m \u001b[0mcentral_dp_race\u001b[0m\u001b[0;34m,\u001b[0m \u001b[0mcentral_dp_black\u001b[0m \u001b[0;34m=\u001b[0m \u001b[0mlst_all\u001b[0m\u001b[0;34m\u001b[0m\u001b[0;34m\u001b[0m\u001b[0m\n\u001b[1;32m      3\u001b[0m \u001b[0;34m\u001b[0m\u001b[0m\n\u001b[0;32m----> 4\u001b[0;31m     \u001b[0mavg_local_acc\u001b[0m \u001b[0;34m=\u001b[0m \u001b[0mnp\u001b[0m\u001b[0;34m.\u001b[0m\u001b[0mmean\u001b[0m\u001b[0;34m(\u001b[0m\u001b[0mavg_local_acc\u001b[0m\u001b[0;34m)\u001b[0m\u001b[0;34m\u001b[0m\u001b[0;34m\u001b[0m\u001b[0m\n\u001b[0m\u001b[1;32m      5\u001b[0m     \u001b[0mavg_local_eo_sex\u001b[0m \u001b[0;34m=\u001b[0m \u001b[0mnp\u001b[0m\u001b[0;34m.\u001b[0m\u001b[0mmean\u001b[0m\u001b[0;34m(\u001b[0m\u001b[0mlocal_eo_sex\u001b[0m\u001b[0;34m)\u001b[0m\u001b[0;34m\u001b[0m\u001b[0;34m\u001b[0m\u001b[0m\n\u001b[1;32m      6\u001b[0m     \u001b[0mavg_local_eo_race\u001b[0m \u001b[0;34m=\u001b[0m \u001b[0mnp\u001b[0m\u001b[0;34m.\u001b[0m\u001b[0mmean\u001b[0m\u001b[0;34m(\u001b[0m\u001b[0mlocal_eo_race\u001b[0m\u001b[0;34m)\u001b[0m\u001b[0;34m\u001b[0m\u001b[0;34m\u001b[0m\u001b[0m\n",
      "\u001b[0;31mNameError\u001b[0m: name 'np' is not defined"
     ]
    }
   ],
   "source": [
    "# Results Experiments 1\n",
    "\n",
    "local_acc = [0.74, 0.740, 0.737, 0.738, 0.739]\n",
    "local_eo_sex = [0.515, 0.612, 0.594, 0.663, 0.657]\n",
    "local_eo_race = [0.000, 0.000, 0.000, 0.000, 0.000]\n",
    "local_eo_white = [0.576, 0.556, 0.564, 0.540, 0.552]\n",
    "local_eo_black = [0.748, 0.741, 0.727, 0.730, 0.721]\n",
    "local_dp_sex = [0.559, 0.605, 0.606, 0.637, 0.643]\n",
    "local_dp_race = [0.030, 0.042, 0.053, 0.058, 0.044]\n",
    "local_dp_white = [0.626, 0.610, 0.620, 0.595, 0.607]\n",
    "local_dp_black = [0.685, 0.691,0.675, 0.673, 0.675]\n",
    "\n",
    "\n",
    "global_acc = [0.740, 0.740, 0.737, 0.738, 0.739]\n",
    "global_eo_sex = [0.514, 0.609, 0.592, 0.663, 0.655]\n",
    "global_eo_race = [0.403, 0.348, 0.404, 0.346, 0.356]\n",
    "global_eo_white = [0.573, 0.555, 0.562, 0.537, 0.550]\n",
    "global_eo_black = [0.797, 0.797, 0.782, 0.777, 0.779]\n",
    "global_dp_sex = [0.558, 0.604, 0.606, 0.636, 0.643]\n",
    "global_dp_race = [0.374, 0.320, 0.374, 0.344, 0.354]\n",
    "global_dp_white = [0.625, 0.610, 0.619, 0.595, 0.607]\n",
    "global_dp_black = [0.683, 0.690, 0.675, 0.673, 0.674]\n",
    "\n",
    "\n",
    "central_acc = [0.758, 0.728, 0.696, 0.761, 0.736]\n",
    "central_eo_sex = [0.599, 0.636, 0.615, 0.525, 0.586]\n",
    "central_eo_race = [0.334, 0.360, 0.527, 0.415, 0.288]\n",
    "central_eo_white = [0.750, 0.571, 0.695, 0.647, 0.897]\n",
    "central_eo_black = [0.887, 0.896, 0.929, 0.825, 0.809]\n",
    "central_dp_sex = [0.641, 0.668, 0.674, 0.575, 0.591]\n",
    "central_dp_race = [0.428, 0.392, 0.531, 0.366, 0.329]\n",
    "central_dp_white = [0.738, 0.630, 0.730, 0.665, 0.801]\n",
    "central_dp_black = [0.764, 0.804, 0.849, 0.707, 0.671]\n",
    "\n",
    "\n",
    "all = [local_acc, local_eo_sex, local_eo_race, local_eo_black, local_dp_sex, local_dp_race, local_dp_black, \n",
    "        global_acc, global_eo_sex, global_eo_race, global_eo_black, global_dp_sex, global_dp_race, global_dp_black, \n",
    "        central_acc, central_eo_sex, central_eo_race, central_eo_black, central_dp_sex, central_dp_race, central_dp_black]\n",
    "\n",
    "plot(all)"
   ]
  },
  {
   "cell_type": "code",
   "execution_count": null,
   "metadata": {},
   "outputs": [],
   "source": []
  }
 ],
 "metadata": {
  "kernelspec": {
   "display_name": "Python 3",
   "language": "python",
   "name": "python3"
  },
  "language_info": {
   "codemirror_mode": {
    "name": "ipython",
    "version": 3
   },
   "file_extension": ".py",
   "mimetype": "text/x-python",
   "name": "python",
   "nbconvert_exporter": "python",
   "pygments_lexer": "ipython3",
   "version": "3.6.8"
  },
  "orig_nbformat": 4
 },
 "nbformat": 4,
 "nbformat_minor": 2
}
