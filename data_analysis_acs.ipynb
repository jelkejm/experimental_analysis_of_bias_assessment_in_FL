{
 "cells": [
  {
   "cell_type": "markdown",
   "metadata": {},
   "source": [
    "# Data analysis ACS PUMS Income dataset\n",
    "This notebook provides all code for the data analysis images from \"A Holistic Analysis of Bias Assessment within Federated Learning\""
   ]
  },
  {
   "cell_type": "code",
   "execution_count": 28,
   "metadata": {
    "scrolled": true
   },
   "outputs": [],
   "source": [
    "import os\n",
    "import pandas as pd\n",
    "import plotly.graph_objects as gp\n",
    "import matplotlib.pyplot as plt\n",
    "current_path = os.getcwd()"
   ]
  },
  {
   "cell_type": "code",
   "execution_count": 29,
   "metadata": {},
   "outputs": [
    {
     "data": {
      "text/plain": [
       "1737629"
      ]
     },
     "execution_count": 29,
     "metadata": {},
     "output_type": "execute_result"
    }
   ],
   "source": [
    "folderpath = os.path.join(current_path, 'acs_data')\n",
    "file_list = os.listdir(folderpath)\n",
    "file_list.remove('ACS-2022-complete.csv')\n",
    "list_state_df = [pd.read_csv(os.path.join(folderpath, file)) for file in file_list]\n",
    "df_all_states = pd.concat(list_state_df, ignore_index=True)\n",
    "df_all_states = df_all_states.drop('State',axis=1)\n",
    "df_all_states.head()\n",
    "len(df_all_states)"
   ]
  },
  {
   "cell_type": "code",
   "execution_count": 30,
   "metadata": {},
   "outputs": [
    {
     "data": {
      "text/plain": [
       "Sex\n",
       "1    904275\n",
       "2    833354\n",
       "Name: count, dtype: int64"
      ]
     },
     "execution_count": 30,
     "metadata": {},
     "output_type": "execute_result"
    }
   ],
   "source": [
    "df_all_states['Sex'].value_counts()"
   ]
  },
  {
   "cell_type": "code",
   "execution_count": 31,
   "metadata": {},
   "outputs": [
    {
     "name": "stdout",
     "output_type": "stream",
     "text": [
      "91.47631629076172\n"
     ]
    },
    {
     "data": {
      "text/plain": [
       "Sex\n",
       "1    904275\n",
       "2    833354\n",
       "Name: count, dtype: int64"
      ]
     },
     "execution_count": 31,
     "metadata": {},
     "output_type": "execute_result"
    }
   ],
   "source": [
    "print(1589519 / len(df_all_states) * 100)\n",
    "df_all_states['Sex'].value_counts()\n"
   ]
  },
  {
   "cell_type": "code",
   "execution_count": 32,
   "metadata": {},
   "outputs": [],
   "source": [
    "# total population sizes per state\n",
    "entire_population = {\n",
    " 'AL': 5039877,\n",
    " 'AK': 732441,\n",
    " 'AZ': 7233988,\n",
    " 'AR': 3011524,\n",
    " 'CA': 39237836,\n",
    " 'CO': 5826185,\n",
    " 'CT': 3596298,\n",
    " 'DE': 1004523,\n",
    " 'FL': 22229952,\n",
    " 'GA': 10725135,\n",
    " 'HI': 1411151,\n",
    " 'ID': 1900923,\n",
    " 'IL': 12538344,\n",
    " 'IN': 6805985,\n",
    " 'IA': 3193079,\n",
    " 'KS': 2910341,\n",
    " 'KY': 4509394,\n",
    " 'LA': 4622982,\n",
    " 'ME': 1354522,\n",
    " 'MD': 6185278,\n",
    " 'MA': 6911743,\n",
    " 'MI': 9989642,\n",
    " 'MN': 5726298,\n",
    " 'MS': 2951996,\n",
    " 'MO': 6147027,\n",
    " 'MT': 1100185,\n",
    " 'NE': 1962071,\n",
    " 'NV': 3241676,\n",
    " 'NH': 1377088,\n",
    " 'NJ': 9288994,\n",
    " 'NM': 2097022,\n",
    " 'NY': 19377858,\n",
    " 'NC': 10600823,\n",
    " 'ND': 800394,\n",
    " 'OH': 11642640,\n",
    " 'OK': 4007177,\n",
    " 'OR': 4241507,\n",
    " 'PA': 12964056,\n",
    " 'RI': 1071140,\n",
    " 'SC': 5347796,\n",
    " 'SD': 901165,\n",
    " 'TN': 7056933,\n",
    " 'TX': 30077954,\n",
    " 'UT': 3350582,\n",
    " 'VT': 647156,\n",
    " 'VA': 8711177,\n",
    " 'WA': 7705281,\n",
    " 'WV': 1780573,\n",
    " 'WI': 5895908,\n",
    " 'WY': 576850,\n",
    " 'PR': 3193694\n",
    "}\n",
    "\n"
   ]
  },
  {
   "cell_type": "code",
   "execution_count": 33,
   "metadata": {},
   "outputs": [
    {
     "data": {
      "text/html": [
       "<div>\n",
       "<style scoped>\n",
       "    .dataframe tbody tr th:only-of-type {\n",
       "        vertical-align: middle;\n",
       "    }\n",
       "\n",
       "    .dataframe tbody tr th {\n",
       "        vertical-align: top;\n",
       "    }\n",
       "\n",
       "    .dataframe thead th {\n",
       "        text-align: right;\n",
       "    }\n",
       "</style>\n",
       "<table border=\"1\" class=\"dataframe\">\n",
       "  <thead>\n",
       "    <tr style=\"text-align: right;\">\n",
       "      <th></th>\n",
       "      <th>State</th>\n",
       "      <th>Size</th>\n",
       "      <th>Population</th>\n",
       "      <th>Size Percentage</th>\n",
       "      <th>#Males</th>\n",
       "      <th>#Females</th>\n",
       "      <th>#Whites</th>\n",
       "      <th>#Non_whites</th>\n",
       "      <th>Mean Age</th>\n",
       "      <th>#&gt;50k</th>\n",
       "      <th>#&lt;50k</th>\n",
       "      <th>%&gt;50k</th>\n",
       "      <th>female_&gt;50k</th>\n",
       "      <th>male_&gt;50k</th>\n",
       "      <th>white_&gt;50k</th>\n",
       "      <th>non_white_&gt;50k</th>\n",
       "    </tr>\n",
       "  </thead>\n",
       "  <tbody>\n",
       "    <tr>\n",
       "      <th>0</th>\n",
       "      <td>GA</td>\n",
       "      <td>55896</td>\n",
       "      <td>10725135</td>\n",
       "      <td>0.521168</td>\n",
       "      <td>29051</td>\n",
       "      <td>26845</td>\n",
       "      <td>33710</td>\n",
       "      <td>22186</td>\n",
       "      <td>42.94</td>\n",
       "      <td>23644</td>\n",
       "      <td>32252</td>\n",
       "      <td>42.299986</td>\n",
       "      <td>9610</td>\n",
       "      <td>14034</td>\n",
       "      <td>15975</td>\n",
       "      <td>7669</td>\n",
       "    </tr>\n",
       "    <tr>\n",
       "      <th>1</th>\n",
       "      <td>HI</td>\n",
       "      <td>7880</td>\n",
       "      <td>1411151</td>\n",
       "      <td>0.558409</td>\n",
       "      <td>4139</td>\n",
       "      <td>3741</td>\n",
       "      <td>1996</td>\n",
       "      <td>5884</td>\n",
       "      <td>43.94</td>\n",
       "      <td>3470</td>\n",
       "      <td>4410</td>\n",
       "      <td>44.035533</td>\n",
       "      <td>1432</td>\n",
       "      <td>2038</td>\n",
       "      <td>967</td>\n",
       "      <td>2503</td>\n",
       "    </tr>\n",
       "    <tr>\n",
       "      <th>2</th>\n",
       "      <td>CT</td>\n",
       "      <td>20487</td>\n",
       "      <td>3596298</td>\n",
       "      <td>0.569669</td>\n",
       "      <td>10487</td>\n",
       "      <td>10000</td>\n",
       "      <td>14777</td>\n",
       "      <td>5710</td>\n",
       "      <td>44.17</td>\n",
       "      <td>10797</td>\n",
       "      <td>9690</td>\n",
       "      <td>52.701713</td>\n",
       "      <td>4642</td>\n",
       "      <td>6155</td>\n",
       "      <td>8544</td>\n",
       "      <td>2253</td>\n",
       "    </tr>\n",
       "    <tr>\n",
       "      <th>3</th>\n",
       "      <td>NJ</td>\n",
       "      <td>50354</td>\n",
       "      <td>9288994</td>\n",
       "      <td>0.542082</td>\n",
       "      <td>26078</td>\n",
       "      <td>24276</td>\n",
       "      <td>30964</td>\n",
       "      <td>19390</td>\n",
       "      <td>44.40</td>\n",
       "      <td>27135</td>\n",
       "      <td>23219</td>\n",
       "      <td>53.888470</td>\n",
       "      <td>11550</td>\n",
       "      <td>15585</td>\n",
       "      <td>18192</td>\n",
       "      <td>8943</td>\n",
       "    </tr>\n",
       "    <tr>\n",
       "      <th>4</th>\n",
       "      <td>LA</td>\n",
       "      <td>21008</td>\n",
       "      <td>4622982</td>\n",
       "      <td>0.454425</td>\n",
       "      <td>10619</td>\n",
       "      <td>10389</td>\n",
       "      <td>13831</td>\n",
       "      <td>7177</td>\n",
       "      <td>43.64</td>\n",
       "      <td>8048</td>\n",
       "      <td>12960</td>\n",
       "      <td>38.309216</td>\n",
       "      <td>2940</td>\n",
       "      <td>5108</td>\n",
       "      <td>6121</td>\n",
       "      <td>1927</td>\n",
       "    </tr>\n",
       "  </tbody>\n",
       "</table>\n",
       "</div>"
      ],
      "text/plain": [
       "  State   Size  Population  Size Percentage  #Males  #Females  #Whites  \\\n",
       "0    GA  55896    10725135         0.521168   29051     26845    33710   \n",
       "1    HI   7880     1411151         0.558409    4139      3741     1996   \n",
       "2    CT  20487     3596298         0.569669   10487     10000    14777   \n",
       "3    NJ  50354     9288994         0.542082   26078     24276    30964   \n",
       "4    LA  21008     4622982         0.454425   10619     10389    13831   \n",
       "\n",
       "   #Non_whites  Mean Age  #>50k  #<50k      %>50k  female_>50k  male_>50k  \\\n",
       "0        22186     42.94  23644  32252  42.299986         9610      14034   \n",
       "1         5884     43.94   3470   4410  44.035533         1432       2038   \n",
       "2         5710     44.17  10797   9690  52.701713         4642       6155   \n",
       "3        19390     44.40  27135  23219  53.888470        11550      15585   \n",
       "4         7177     43.64   8048  12960  38.309216         2940       5108   \n",
       "\n",
       "   white_>50k  non_white_>50k  \n",
       "0       15975            7669  \n",
       "1         967            2503  \n",
       "2        8544            2253  \n",
       "3       18192            8943  \n",
       "4        6121            1927  "
      ]
     },
     "execution_count": 33,
     "metadata": {},
     "output_type": "execute_result"
    }
   ],
   "source": [
    "# create dataframe per state\n",
    "df_per_state = pd.DataFrame(columns=['State', 'Size', 'Population', 'Size Percentage', '#Males', '#Females', '#Whites', '#Non_whites', 'Mean Age',  '#>50k', '#<50k', '%>50k', 'female_>50k', 'male_>50k', 'white_>50k', 'non_white_>50k'])\n",
    "\n",
    "# loop through all states\n",
    "for df in list_state_df:\n",
    "    state = df.loc[0, 'State']\n",
    "    \n",
    "    # obtain number of total individuals, males, females, whites, non-whites\n",
    "    size = len(df)\n",
    "    population = entire_population[state]\n",
    "    size_percentage = (size / population) * 100\n",
    "    males = df['Sex'].value_counts()[1]\n",
    "    females = df['Sex'].value_counts()[2]\n",
    "    whites = df['Race'].value_counts()[1]\n",
    "    non_whites = size - whites\n",
    "\n",
    "    assert size == males + females, \"Sizes don't add up\"\n",
    "\n",
    "    # calculate percentage that earns above/below 50k\n",
    "    below_50k = df.groupby('Income').size()['<=50K']\n",
    "    above_50k = df.groupby('Income').size()['>50K']\n",
    "    percentage = (above_50k / (above_50k + below_50k)) * 100\n",
    "\n",
    "    # count females and males with income above/below 50k\n",
    "    count_sex = df[['Sex', 'Income']].value_counts(ascending=True).reset_index(name='count')\n",
    "    female_above_50k = count_sex.loc[(count_sex['Sex'] == 2 ) & (count_sex['Income'] == '>50K')]['count'].sum()\n",
    "    male_above_50k = count_sex.loc[(count_sex['Sex'] == 1 ) & (count_sex['Income'] == '>50K')]['count'].sum()\n",
    "    \n",
    "    # count non-whites and whites with income above/below 50k\n",
    "    count_race = df[['Race', 'Income']].value_counts(ascending=True).reset_index(name='count')\n",
    "    non_white_above_50k = count_race.loc[(count_race['Race'].isin([2, 3, 4, 5, 6, 7, 8, 9])) & (count_race['Income'] == '>50K')]['count'].sum()\n",
    "    white_above_50k = count_race.loc[(count_race['Race'] == 1) & (count_race['Income'] == '>50K')]['count'].sum()\n",
    "    \n",
    "    # calculate mean age per state\n",
    "    mean_age = df.loc[:, 'Age'].mean().round(2)\n",
    "\n",
    "    # create dataframe with all relevant variables\n",
    "    new_row = {'State': state, 'Size': size, 'Population': population, 'Size Percentage':size_percentage, '#Males':males, '#Females':females, '#Whites':whites, '#Non_whites':non_whites, 'Mean Age':mean_age, '#>50k': above_50k, '#<50k': below_50k, 'female_>50k':female_above_50k, 'male_>50k':male_above_50k, 'white_>50k': white_above_50k, 'non_white_>50k': non_white_above_50k,'%>50k':percentage}\n",
    "    df_per_state.loc[len(df_per_state)] = new_row\n",
    "\n",
    "df_per_state.head()"
   ]
  },
  {
   "cell_type": "code",
   "execution_count": 34,
   "metadata": {},
   "outputs": [
    {
     "data": {
      "application/vnd.plotly.v1+json": {
       "config": {
        "plotlyServerURL": "https://plot.ly"
       },
       "data": [
        {
         "colorbar": {
          "title": {
           "text": "<b>State dataset size</b>"
          }
         },
         "colorscale": [
          [
           0,
           "rgb(228, 241, 225)"
          ],
          [
           0.16666666666666666,
           "rgb(180, 217, 204)"
          ],
          [
           0.3333333333333333,
           "rgb(137, 192, 182)"
          ],
          [
           0.5,
           "rgb(99, 166, 160)"
          ],
          [
           0.6666666666666666,
           "rgb(68, 140, 138)"
          ],
          [
           0.8333333333333334,
           "rgb(40, 114, 116)"
          ],
          [
           1,
           "rgb(13, 88, 95)"
          ]
         ],
         "locationmode": "USA-states",
         "locations": [
          "GA",
          "HI",
          "CT",
          "NJ",
          "LA",
          "MA",
          "NH",
          "WV",
          "AZ",
          "MN",
          "AK",
          "IA",
          "UT",
          "AR",
          "OK",
          "MD",
          "WA",
          "RI",
          "MI",
          "WY",
          "MS",
          "ND",
          "VT",
          "OH",
          "MT",
          "AL",
          "TN",
          "WI",
          "CO",
          "NC",
          "SC",
          "FL",
          "PA",
          "SD",
          "NE",
          "ME",
          "CA",
          "AL",
          "NM",
          "ID",
          "DE",
          "VA",
          "NV",
          "OR",
          "KY",
          "IL",
          "TX",
          "MO",
          "PR",
          "KS",
          "NY",
          "IN"
         ],
         "marker": {
          "line": {
           "color": "white"
          }
         },
         "type": "choropleth",
         "z": [
          55896,
          7880,
          20487,
          50354,
          21008,
          41625,
          7965,
          8056,
          35308,
          32012,
          3591,
          18097,
          18921,
          14201,
          18442,
          33665,
          42172,
          5760,
          50595,
          3240,
          13519,
          4498,
          3833,
          62508,
          5770,
          1020,
          36419,
          32774,
          33682,
          54857,
          26933,
          105790,
          68221,
          4961,
          11111,
          7399,
          201841,
          24201,
          9219,
          9978,
          4839,
          47371,
          15569,
          22456,
          22632,
          67326,
          149261,
          32181,
          10343,
          15908,
          105420,
          36514
         ],
         "zmax": 200000,
         "zmin": 0
        },
        {
         "locationmode": "USA-states",
         "locations": [
          "GA",
          "HI",
          "CT",
          "NJ",
          "LA",
          "MA",
          "NH",
          "WV",
          "AZ",
          "MN",
          "AK",
          "IA",
          "UT",
          "AR",
          "OK",
          "MD",
          "WA",
          "RI",
          "MI",
          "WY",
          "MS",
          "ND",
          "VT",
          "OH",
          "MT",
          "AL",
          "TN",
          "WI",
          "CO",
          "NC",
          "SC",
          "FL",
          "PA",
          "SD",
          "NE",
          "ME",
          "CA",
          "AL",
          "NM",
          "ID",
          "DE",
          "VA",
          "NV",
          "OR",
          "KY",
          "IL",
          "TX",
          "MO",
          "PR",
          "KS",
          "NY",
          "IN"
         ],
         "mode": "text",
         "text": [
          "GA",
          "HI",
          "CT",
          "NJ",
          "LA",
          "MA",
          "NH",
          "WV",
          "AZ",
          "MN",
          "AK",
          "IA",
          "UT",
          "AR",
          "OK",
          "MD",
          "WA",
          "RI",
          "MI",
          "WY",
          "MS",
          "ND",
          "VT",
          "OH",
          "MT",
          "AL",
          "TN",
          "WI",
          "CO",
          "NC",
          "SC",
          "FL",
          "PA",
          "SD",
          "NE",
          "ME",
          "CA",
          "AL",
          "NM",
          "ID",
          "DE",
          "VA",
          "NV",
          "OR",
          "KY",
          "IL",
          "TX",
          "MO",
          "PR",
          "KS",
          "NY",
          "IN"
         ],
         "type": "scattergeo"
        }
       ],
       "layout": {
        "autosize": false,
        "font": {
         "size": 13
        },
        "geo": {
         "scope": "usa"
        },
        "height": 550,
        "template": {
         "data": {
          "bar": [
           {
            "error_x": {
             "color": "#2a3f5f"
            },
            "error_y": {
             "color": "#2a3f5f"
            },
            "marker": {
             "line": {
              "color": "#E5ECF6",
              "width": 0.5
             },
             "pattern": {
              "fillmode": "overlay",
              "size": 10,
              "solidity": 0.2
             }
            },
            "type": "bar"
           }
          ],
          "barpolar": [
           {
            "marker": {
             "line": {
              "color": "#E5ECF6",
              "width": 0.5
             },
             "pattern": {
              "fillmode": "overlay",
              "size": 10,
              "solidity": 0.2
             }
            },
            "type": "barpolar"
           }
          ],
          "carpet": [
           {
            "aaxis": {
             "endlinecolor": "#2a3f5f",
             "gridcolor": "white",
             "linecolor": "white",
             "minorgridcolor": "white",
             "startlinecolor": "#2a3f5f"
            },
            "baxis": {
             "endlinecolor": "#2a3f5f",
             "gridcolor": "white",
             "linecolor": "white",
             "minorgridcolor": "white",
             "startlinecolor": "#2a3f5f"
            },
            "type": "carpet"
           }
          ],
          "choropleth": [
           {
            "colorbar": {
             "outlinewidth": 0,
             "ticks": ""
            },
            "type": "choropleth"
           }
          ],
          "contour": [
           {
            "colorbar": {
             "outlinewidth": 0,
             "ticks": ""
            },
            "colorscale": [
             [
              0,
              "#0d0887"
             ],
             [
              0.1111111111111111,
              "#46039f"
             ],
             [
              0.2222222222222222,
              "#7201a8"
             ],
             [
              0.3333333333333333,
              "#9c179e"
             ],
             [
              0.4444444444444444,
              "#bd3786"
             ],
             [
              0.5555555555555556,
              "#d8576b"
             ],
             [
              0.6666666666666666,
              "#ed7953"
             ],
             [
              0.7777777777777778,
              "#fb9f3a"
             ],
             [
              0.8888888888888888,
              "#fdca26"
             ],
             [
              1,
              "#f0f921"
             ]
            ],
            "type": "contour"
           }
          ],
          "contourcarpet": [
           {
            "colorbar": {
             "outlinewidth": 0,
             "ticks": ""
            },
            "type": "contourcarpet"
           }
          ],
          "heatmap": [
           {
            "colorbar": {
             "outlinewidth": 0,
             "ticks": ""
            },
            "colorscale": [
             [
              0,
              "#0d0887"
             ],
             [
              0.1111111111111111,
              "#46039f"
             ],
             [
              0.2222222222222222,
              "#7201a8"
             ],
             [
              0.3333333333333333,
              "#9c179e"
             ],
             [
              0.4444444444444444,
              "#bd3786"
             ],
             [
              0.5555555555555556,
              "#d8576b"
             ],
             [
              0.6666666666666666,
              "#ed7953"
             ],
             [
              0.7777777777777778,
              "#fb9f3a"
             ],
             [
              0.8888888888888888,
              "#fdca26"
             ],
             [
              1,
              "#f0f921"
             ]
            ],
            "type": "heatmap"
           }
          ],
          "heatmapgl": [
           {
            "colorbar": {
             "outlinewidth": 0,
             "ticks": ""
            },
            "colorscale": [
             [
              0,
              "#0d0887"
             ],
             [
              0.1111111111111111,
              "#46039f"
             ],
             [
              0.2222222222222222,
              "#7201a8"
             ],
             [
              0.3333333333333333,
              "#9c179e"
             ],
             [
              0.4444444444444444,
              "#bd3786"
             ],
             [
              0.5555555555555556,
              "#d8576b"
             ],
             [
              0.6666666666666666,
              "#ed7953"
             ],
             [
              0.7777777777777778,
              "#fb9f3a"
             ],
             [
              0.8888888888888888,
              "#fdca26"
             ],
             [
              1,
              "#f0f921"
             ]
            ],
            "type": "heatmapgl"
           }
          ],
          "histogram": [
           {
            "marker": {
             "pattern": {
              "fillmode": "overlay",
              "size": 10,
              "solidity": 0.2
             }
            },
            "type": "histogram"
           }
          ],
          "histogram2d": [
           {
            "colorbar": {
             "outlinewidth": 0,
             "ticks": ""
            },
            "colorscale": [
             [
              0,
              "#0d0887"
             ],
             [
              0.1111111111111111,
              "#46039f"
             ],
             [
              0.2222222222222222,
              "#7201a8"
             ],
             [
              0.3333333333333333,
              "#9c179e"
             ],
             [
              0.4444444444444444,
              "#bd3786"
             ],
             [
              0.5555555555555556,
              "#d8576b"
             ],
             [
              0.6666666666666666,
              "#ed7953"
             ],
             [
              0.7777777777777778,
              "#fb9f3a"
             ],
             [
              0.8888888888888888,
              "#fdca26"
             ],
             [
              1,
              "#f0f921"
             ]
            ],
            "type": "histogram2d"
           }
          ],
          "histogram2dcontour": [
           {
            "colorbar": {
             "outlinewidth": 0,
             "ticks": ""
            },
            "colorscale": [
             [
              0,
              "#0d0887"
             ],
             [
              0.1111111111111111,
              "#46039f"
             ],
             [
              0.2222222222222222,
              "#7201a8"
             ],
             [
              0.3333333333333333,
              "#9c179e"
             ],
             [
              0.4444444444444444,
              "#bd3786"
             ],
             [
              0.5555555555555556,
              "#d8576b"
             ],
             [
              0.6666666666666666,
              "#ed7953"
             ],
             [
              0.7777777777777778,
              "#fb9f3a"
             ],
             [
              0.8888888888888888,
              "#fdca26"
             ],
             [
              1,
              "#f0f921"
             ]
            ],
            "type": "histogram2dcontour"
           }
          ],
          "mesh3d": [
           {
            "colorbar": {
             "outlinewidth": 0,
             "ticks": ""
            },
            "type": "mesh3d"
           }
          ],
          "parcoords": [
           {
            "line": {
             "colorbar": {
              "outlinewidth": 0,
              "ticks": ""
             }
            },
            "type": "parcoords"
           }
          ],
          "pie": [
           {
            "automargin": true,
            "type": "pie"
           }
          ],
          "scatter": [
           {
            "marker": {
             "colorbar": {
              "outlinewidth": 0,
              "ticks": ""
             }
            },
            "type": "scatter"
           }
          ],
          "scatter3d": [
           {
            "line": {
             "colorbar": {
              "outlinewidth": 0,
              "ticks": ""
             }
            },
            "marker": {
             "colorbar": {
              "outlinewidth": 0,
              "ticks": ""
             }
            },
            "type": "scatter3d"
           }
          ],
          "scattercarpet": [
           {
            "marker": {
             "colorbar": {
              "outlinewidth": 0,
              "ticks": ""
             }
            },
            "type": "scattercarpet"
           }
          ],
          "scattergeo": [
           {
            "marker": {
             "colorbar": {
              "outlinewidth": 0,
              "ticks": ""
             }
            },
            "type": "scattergeo"
           }
          ],
          "scattergl": [
           {
            "marker": {
             "colorbar": {
              "outlinewidth": 0,
              "ticks": ""
             }
            },
            "type": "scattergl"
           }
          ],
          "scattermapbox": [
           {
            "marker": {
             "colorbar": {
              "outlinewidth": 0,
              "ticks": ""
             }
            },
            "type": "scattermapbox"
           }
          ],
          "scatterpolar": [
           {
            "marker": {
             "colorbar": {
              "outlinewidth": 0,
              "ticks": ""
             }
            },
            "type": "scatterpolar"
           }
          ],
          "scatterpolargl": [
           {
            "marker": {
             "colorbar": {
              "outlinewidth": 0,
              "ticks": ""
             }
            },
            "type": "scatterpolargl"
           }
          ],
          "scatterternary": [
           {
            "marker": {
             "colorbar": {
              "outlinewidth": 0,
              "ticks": ""
             }
            },
            "type": "scatterternary"
           }
          ],
          "surface": [
           {
            "colorbar": {
             "outlinewidth": 0,
             "ticks": ""
            },
            "colorscale": [
             [
              0,
              "#0d0887"
             ],
             [
              0.1111111111111111,
              "#46039f"
             ],
             [
              0.2222222222222222,
              "#7201a8"
             ],
             [
              0.3333333333333333,
              "#9c179e"
             ],
             [
              0.4444444444444444,
              "#bd3786"
             ],
             [
              0.5555555555555556,
              "#d8576b"
             ],
             [
              0.6666666666666666,
              "#ed7953"
             ],
             [
              0.7777777777777778,
              "#fb9f3a"
             ],
             [
              0.8888888888888888,
              "#fdca26"
             ],
             [
              1,
              "#f0f921"
             ]
            ],
            "type": "surface"
           }
          ],
          "table": [
           {
            "cells": {
             "fill": {
              "color": "#EBF0F8"
             },
             "line": {
              "color": "white"
             }
            },
            "header": {
             "fill": {
              "color": "#C8D4E3"
             },
             "line": {
              "color": "white"
             }
            },
            "type": "table"
           }
          ]
         },
         "layout": {
          "annotationdefaults": {
           "arrowcolor": "#2a3f5f",
           "arrowhead": 0,
           "arrowwidth": 1
          },
          "autotypenumbers": "strict",
          "coloraxis": {
           "colorbar": {
            "outlinewidth": 0,
            "ticks": ""
           }
          },
          "colorscale": {
           "diverging": [
            [
             0,
             "#8e0152"
            ],
            [
             0.1,
             "#c51b7d"
            ],
            [
             0.2,
             "#de77ae"
            ],
            [
             0.3,
             "#f1b6da"
            ],
            [
             0.4,
             "#fde0ef"
            ],
            [
             0.5,
             "#f7f7f7"
            ],
            [
             0.6,
             "#e6f5d0"
            ],
            [
             0.7,
             "#b8e186"
            ],
            [
             0.8,
             "#7fbc41"
            ],
            [
             0.9,
             "#4d9221"
            ],
            [
             1,
             "#276419"
            ]
           ],
           "sequential": [
            [
             0,
             "#0d0887"
            ],
            [
             0.1111111111111111,
             "#46039f"
            ],
            [
             0.2222222222222222,
             "#7201a8"
            ],
            [
             0.3333333333333333,
             "#9c179e"
            ],
            [
             0.4444444444444444,
             "#bd3786"
            ],
            [
             0.5555555555555556,
             "#d8576b"
            ],
            [
             0.6666666666666666,
             "#ed7953"
            ],
            [
             0.7777777777777778,
             "#fb9f3a"
            ],
            [
             0.8888888888888888,
             "#fdca26"
            ],
            [
             1,
             "#f0f921"
            ]
           ],
           "sequentialminus": [
            [
             0,
             "#0d0887"
            ],
            [
             0.1111111111111111,
             "#46039f"
            ],
            [
             0.2222222222222222,
             "#7201a8"
            ],
            [
             0.3333333333333333,
             "#9c179e"
            ],
            [
             0.4444444444444444,
             "#bd3786"
            ],
            [
             0.5555555555555556,
             "#d8576b"
            ],
            [
             0.6666666666666666,
             "#ed7953"
            ],
            [
             0.7777777777777778,
             "#fb9f3a"
            ],
            [
             0.8888888888888888,
             "#fdca26"
            ],
            [
             1,
             "#f0f921"
            ]
           ]
          },
          "colorway": [
           "#636efa",
           "#EF553B",
           "#00cc96",
           "#ab63fa",
           "#FFA15A",
           "#19d3f3",
           "#FF6692",
           "#B6E880",
           "#FF97FF",
           "#FECB52"
          ],
          "font": {
           "color": "#2a3f5f"
          },
          "geo": {
           "bgcolor": "white",
           "lakecolor": "white",
           "landcolor": "#E5ECF6",
           "showlakes": true,
           "showland": true,
           "subunitcolor": "white"
          },
          "hoverlabel": {
           "align": "left"
          },
          "hovermode": "closest",
          "mapbox": {
           "style": "light"
          },
          "paper_bgcolor": "white",
          "plot_bgcolor": "#E5ECF6",
          "polar": {
           "angularaxis": {
            "gridcolor": "white",
            "linecolor": "white",
            "ticks": ""
           },
           "bgcolor": "#E5ECF6",
           "radialaxis": {
            "gridcolor": "white",
            "linecolor": "white",
            "ticks": ""
           }
          },
          "scene": {
           "xaxis": {
            "backgroundcolor": "#E5ECF6",
            "gridcolor": "white",
            "gridwidth": 2,
            "linecolor": "white",
            "showbackground": true,
            "ticks": "",
            "zerolinecolor": "white"
           },
           "yaxis": {
            "backgroundcolor": "#E5ECF6",
            "gridcolor": "white",
            "gridwidth": 2,
            "linecolor": "white",
            "showbackground": true,
            "ticks": "",
            "zerolinecolor": "white"
           },
           "zaxis": {
            "backgroundcolor": "#E5ECF6",
            "gridcolor": "white",
            "gridwidth": 2,
            "linecolor": "white",
            "showbackground": true,
            "ticks": "",
            "zerolinecolor": "white"
           }
          },
          "shapedefaults": {
           "line": {
            "color": "#2a3f5f"
           }
          },
          "ternary": {
           "aaxis": {
            "gridcolor": "white",
            "linecolor": "white",
            "ticks": ""
           },
           "baxis": {
            "gridcolor": "white",
            "linecolor": "white",
            "ticks": ""
           },
           "bgcolor": "#E5ECF6",
           "caxis": {
            "gridcolor": "white",
            "linecolor": "white",
            "ticks": ""
           }
          },
          "title": {
           "x": 0.05
          },
          "xaxis": {
           "automargin": true,
           "gridcolor": "white",
           "linecolor": "white",
           "ticks": "",
           "title": {
            "standoff": 15
           },
           "zerolinecolor": "white",
           "zerolinewidth": 2
          },
          "yaxis": {
           "automargin": true,
           "gridcolor": "white",
           "linecolor": "white",
           "ticks": "",
           "title": {
            "standoff": 15
           },
           "zerolinecolor": "white",
           "zerolinewidth": 2
          }
         }
        },
        "title": {
         "text": "2022 ACS dataset - Data Size by State"
        },
        "width": 900
       }
      }
     },
     "metadata": {},
     "output_type": "display_data"
    }
   ],
   "source": [
    "# code for total size per state\n",
    "fig = gp.Figure(data=gp.Choropleth(\n",
    "    locations=df_per_state['State'], # Spatial coordinates\n",
    "    z = df_per_state['Size'].astype(float), # Data to be color-coded\n",
    "    locationmode = 'USA-states', # set of locations match entries in `locations`\n",
    "    colorscale = 'mint',\n",
    "    colorbar_title = \"<b>State dataset size</b>\",\n",
    "    marker_line_color='white', # line markers between states\n",
    "    zmax = 200000,\n",
    "    zmin = 0.0\n",
    " \n",
    "    \n",
    "))\n",
    "fig.add_scattergeo(\n",
    "    locations=df_per_state['State'],    ###codes for states,\n",
    "    locationmode='USA-states',\n",
    "    text=df_per_state['State'],\n",
    "    mode='text')\n",
    "\n",
    "fig.update_layout(\n",
    "    title_text = '2022 ACS dataset - Data Size by State',\n",
    "    geo_scope='usa', # limite map scope to USA\n",
    "    autosize=False,\n",
    "                width=900,\n",
    "                height=550,\n",
    "    font=dict(size=13)\n",
    ")\n",
    "\n",
    "fig.show()\n",
    "\n"
   ]
  },
  {
   "cell_type": "code",
   "execution_count": 35,
   "metadata": {},
   "outputs": [
    {
     "data": {
      "application/vnd.plotly.v1+json": {
       "config": {
        "plotlyServerURL": "https://plot.ly"
       },
       "data": [
        {
         "colorbar": {
          "title": {
           "text": "<b>Data set size to population (%)</b>"
          }
         },
         "colorscale": [
          [
           0,
           "rgb(228, 241, 225)"
          ],
          [
           0.16666666666666666,
           "rgb(180, 217, 204)"
          ],
          [
           0.3333333333333333,
           "rgb(137, 192, 182)"
          ],
          [
           0.5,
           "rgb(99, 166, 160)"
          ],
          [
           0.6666666666666666,
           "rgb(68, 140, 138)"
          ],
          [
           0.8333333333333334,
           "rgb(40, 114, 116)"
          ],
          [
           1,
           "rgb(13, 88, 95)"
          ]
         ],
         "locationmode": "USA-states",
         "locations": [
          "GA",
          "HI",
          "CT",
          "NJ",
          "LA",
          "MA",
          "NH",
          "WV",
          "AZ",
          "MN",
          "AK",
          "IA",
          "UT",
          "AR",
          "OK",
          "MD",
          "WA",
          "RI",
          "MI",
          "WY",
          "MS",
          "ND",
          "VT",
          "OH",
          "MT",
          "AL",
          "TN",
          "WI",
          "CO",
          "NC",
          "SC",
          "FL",
          "PA",
          "SD",
          "NE",
          "ME",
          "CA",
          "AL",
          "NM",
          "ID",
          "DE",
          "VA",
          "NV",
          "OR",
          "KY",
          "IL",
          "TX",
          "MO",
          "PR",
          "KS",
          "NY",
          "IN"
         ],
         "marker": {
          "line": {
           "color": "white"
          }
         },
         "type": "choropleth",
         "z": [
          0.521168265014846,
          0.5584094118914277,
          0.5696691431021567,
          0.5420823826562919,
          0.45442530384068125,
          0.6022359338302944,
          0.5783944090718967,
          0.45243862509428145,
          0.4880848572046291,
          0.5590348249427466,
          0.4902783978504753,
          0.566757039208864,
          0.5647078626937052,
          0.47155526570600137,
          0.4602242426526205,
          0.5442762637346292,
          0.5473129403067845,
          0.5377448326082491,
          0.5064746063973063,
          0.5616711450117015,
          0.4579613251508471,
          0.5619732281851187,
          0.5922837770182151,
          0.5368885407433366,
          0.5244572503715285,
          0.02023858915604488,
          0.5160740508660066,
          0.5558770591400001,
          0.5781141518849813,
          0.5174786900979291,
          0.5036280366715559,
          0.4758894666079351,
          0.5262319138393108,
          0.5505096181054524,
          0.5662893952359522,
          0.5462443577882087,
          0.5144040053585014,
          0.4801902903582766,
          0.4396234278896454,
          0.5249029024321343,
          0.48172117512491003,
          0.5437956317498772,
          0.4802762521609192,
          0.5294344675135512,
          0.5018856192206758,
          0.5369608618171586,
          0.49624718489828135,
          0.523521370574751,
          0.3238569506032826,
          0.5466026146077041,
          0.5440229771525832,
          0.5364983907546079
         ],
         "zmax": 0.7,
         "zmin": 0.4
        },
        {
         "locationmode": "USA-states",
         "locations": [
          "GA",
          "HI",
          "CT",
          "NJ",
          "LA",
          "MA",
          "NH",
          "WV",
          "AZ",
          "MN",
          "AK",
          "IA",
          "UT",
          "AR",
          "OK",
          "MD",
          "WA",
          "RI",
          "MI",
          "WY",
          "MS",
          "ND",
          "VT",
          "OH",
          "MT",
          "AL",
          "TN",
          "WI",
          "CO",
          "NC",
          "SC",
          "FL",
          "PA",
          "SD",
          "NE",
          "ME",
          "CA",
          "AL",
          "NM",
          "ID",
          "DE",
          "VA",
          "NV",
          "OR",
          "KY",
          "IL",
          "TX",
          "MO",
          "PR",
          "KS",
          "NY",
          "IN"
         ],
         "mode": "text",
         "text": [
          "GA",
          "HI",
          "CT",
          "NJ",
          "LA",
          "MA",
          "NH",
          "WV",
          "AZ",
          "MN",
          "AK",
          "IA",
          "UT",
          "AR",
          "OK",
          "MD",
          "WA",
          "RI",
          "MI",
          "WY",
          "MS",
          "ND",
          "VT",
          "OH",
          "MT",
          "AL",
          "TN",
          "WI",
          "CO",
          "NC",
          "SC",
          "FL",
          "PA",
          "SD",
          "NE",
          "ME",
          "CA",
          "AL",
          "NM",
          "ID",
          "DE",
          "VA",
          "NV",
          "OR",
          "KY",
          "IL",
          "TX",
          "MO",
          "PR",
          "KS",
          "NY",
          "IN"
         ],
         "type": "scattergeo"
        }
       ],
       "layout": {
        "autosize": false,
        "font": {
         "size": 13
        },
        "geo": {
         "scope": "usa"
        },
        "height": 550,
        "template": {
         "data": {
          "bar": [
           {
            "error_x": {
             "color": "#2a3f5f"
            },
            "error_y": {
             "color": "#2a3f5f"
            },
            "marker": {
             "line": {
              "color": "#E5ECF6",
              "width": 0.5
             },
             "pattern": {
              "fillmode": "overlay",
              "size": 10,
              "solidity": 0.2
             }
            },
            "type": "bar"
           }
          ],
          "barpolar": [
           {
            "marker": {
             "line": {
              "color": "#E5ECF6",
              "width": 0.5
             },
             "pattern": {
              "fillmode": "overlay",
              "size": 10,
              "solidity": 0.2
             }
            },
            "type": "barpolar"
           }
          ],
          "carpet": [
           {
            "aaxis": {
             "endlinecolor": "#2a3f5f",
             "gridcolor": "white",
             "linecolor": "white",
             "minorgridcolor": "white",
             "startlinecolor": "#2a3f5f"
            },
            "baxis": {
             "endlinecolor": "#2a3f5f",
             "gridcolor": "white",
             "linecolor": "white",
             "minorgridcolor": "white",
             "startlinecolor": "#2a3f5f"
            },
            "type": "carpet"
           }
          ],
          "choropleth": [
           {
            "colorbar": {
             "outlinewidth": 0,
             "ticks": ""
            },
            "type": "choropleth"
           }
          ],
          "contour": [
           {
            "colorbar": {
             "outlinewidth": 0,
             "ticks": ""
            },
            "colorscale": [
             [
              0,
              "#0d0887"
             ],
             [
              0.1111111111111111,
              "#46039f"
             ],
             [
              0.2222222222222222,
              "#7201a8"
             ],
             [
              0.3333333333333333,
              "#9c179e"
             ],
             [
              0.4444444444444444,
              "#bd3786"
             ],
             [
              0.5555555555555556,
              "#d8576b"
             ],
             [
              0.6666666666666666,
              "#ed7953"
             ],
             [
              0.7777777777777778,
              "#fb9f3a"
             ],
             [
              0.8888888888888888,
              "#fdca26"
             ],
             [
              1,
              "#f0f921"
             ]
            ],
            "type": "contour"
           }
          ],
          "contourcarpet": [
           {
            "colorbar": {
             "outlinewidth": 0,
             "ticks": ""
            },
            "type": "contourcarpet"
           }
          ],
          "heatmap": [
           {
            "colorbar": {
             "outlinewidth": 0,
             "ticks": ""
            },
            "colorscale": [
             [
              0,
              "#0d0887"
             ],
             [
              0.1111111111111111,
              "#46039f"
             ],
             [
              0.2222222222222222,
              "#7201a8"
             ],
             [
              0.3333333333333333,
              "#9c179e"
             ],
             [
              0.4444444444444444,
              "#bd3786"
             ],
             [
              0.5555555555555556,
              "#d8576b"
             ],
             [
              0.6666666666666666,
              "#ed7953"
             ],
             [
              0.7777777777777778,
              "#fb9f3a"
             ],
             [
              0.8888888888888888,
              "#fdca26"
             ],
             [
              1,
              "#f0f921"
             ]
            ],
            "type": "heatmap"
           }
          ],
          "heatmapgl": [
           {
            "colorbar": {
             "outlinewidth": 0,
             "ticks": ""
            },
            "colorscale": [
             [
              0,
              "#0d0887"
             ],
             [
              0.1111111111111111,
              "#46039f"
             ],
             [
              0.2222222222222222,
              "#7201a8"
             ],
             [
              0.3333333333333333,
              "#9c179e"
             ],
             [
              0.4444444444444444,
              "#bd3786"
             ],
             [
              0.5555555555555556,
              "#d8576b"
             ],
             [
              0.6666666666666666,
              "#ed7953"
             ],
             [
              0.7777777777777778,
              "#fb9f3a"
             ],
             [
              0.8888888888888888,
              "#fdca26"
             ],
             [
              1,
              "#f0f921"
             ]
            ],
            "type": "heatmapgl"
           }
          ],
          "histogram": [
           {
            "marker": {
             "pattern": {
              "fillmode": "overlay",
              "size": 10,
              "solidity": 0.2
             }
            },
            "type": "histogram"
           }
          ],
          "histogram2d": [
           {
            "colorbar": {
             "outlinewidth": 0,
             "ticks": ""
            },
            "colorscale": [
             [
              0,
              "#0d0887"
             ],
             [
              0.1111111111111111,
              "#46039f"
             ],
             [
              0.2222222222222222,
              "#7201a8"
             ],
             [
              0.3333333333333333,
              "#9c179e"
             ],
             [
              0.4444444444444444,
              "#bd3786"
             ],
             [
              0.5555555555555556,
              "#d8576b"
             ],
             [
              0.6666666666666666,
              "#ed7953"
             ],
             [
              0.7777777777777778,
              "#fb9f3a"
             ],
             [
              0.8888888888888888,
              "#fdca26"
             ],
             [
              1,
              "#f0f921"
             ]
            ],
            "type": "histogram2d"
           }
          ],
          "histogram2dcontour": [
           {
            "colorbar": {
             "outlinewidth": 0,
             "ticks": ""
            },
            "colorscale": [
             [
              0,
              "#0d0887"
             ],
             [
              0.1111111111111111,
              "#46039f"
             ],
             [
              0.2222222222222222,
              "#7201a8"
             ],
             [
              0.3333333333333333,
              "#9c179e"
             ],
             [
              0.4444444444444444,
              "#bd3786"
             ],
             [
              0.5555555555555556,
              "#d8576b"
             ],
             [
              0.6666666666666666,
              "#ed7953"
             ],
             [
              0.7777777777777778,
              "#fb9f3a"
             ],
             [
              0.8888888888888888,
              "#fdca26"
             ],
             [
              1,
              "#f0f921"
             ]
            ],
            "type": "histogram2dcontour"
           }
          ],
          "mesh3d": [
           {
            "colorbar": {
             "outlinewidth": 0,
             "ticks": ""
            },
            "type": "mesh3d"
           }
          ],
          "parcoords": [
           {
            "line": {
             "colorbar": {
              "outlinewidth": 0,
              "ticks": ""
             }
            },
            "type": "parcoords"
           }
          ],
          "pie": [
           {
            "automargin": true,
            "type": "pie"
           }
          ],
          "scatter": [
           {
            "marker": {
             "colorbar": {
              "outlinewidth": 0,
              "ticks": ""
             }
            },
            "type": "scatter"
           }
          ],
          "scatter3d": [
           {
            "line": {
             "colorbar": {
              "outlinewidth": 0,
              "ticks": ""
             }
            },
            "marker": {
             "colorbar": {
              "outlinewidth": 0,
              "ticks": ""
             }
            },
            "type": "scatter3d"
           }
          ],
          "scattercarpet": [
           {
            "marker": {
             "colorbar": {
              "outlinewidth": 0,
              "ticks": ""
             }
            },
            "type": "scattercarpet"
           }
          ],
          "scattergeo": [
           {
            "marker": {
             "colorbar": {
              "outlinewidth": 0,
              "ticks": ""
             }
            },
            "type": "scattergeo"
           }
          ],
          "scattergl": [
           {
            "marker": {
             "colorbar": {
              "outlinewidth": 0,
              "ticks": ""
             }
            },
            "type": "scattergl"
           }
          ],
          "scattermapbox": [
           {
            "marker": {
             "colorbar": {
              "outlinewidth": 0,
              "ticks": ""
             }
            },
            "type": "scattermapbox"
           }
          ],
          "scatterpolar": [
           {
            "marker": {
             "colorbar": {
              "outlinewidth": 0,
              "ticks": ""
             }
            },
            "type": "scatterpolar"
           }
          ],
          "scatterpolargl": [
           {
            "marker": {
             "colorbar": {
              "outlinewidth": 0,
              "ticks": ""
             }
            },
            "type": "scatterpolargl"
           }
          ],
          "scatterternary": [
           {
            "marker": {
             "colorbar": {
              "outlinewidth": 0,
              "ticks": ""
             }
            },
            "type": "scatterternary"
           }
          ],
          "surface": [
           {
            "colorbar": {
             "outlinewidth": 0,
             "ticks": ""
            },
            "colorscale": [
             [
              0,
              "#0d0887"
             ],
             [
              0.1111111111111111,
              "#46039f"
             ],
             [
              0.2222222222222222,
              "#7201a8"
             ],
             [
              0.3333333333333333,
              "#9c179e"
             ],
             [
              0.4444444444444444,
              "#bd3786"
             ],
             [
              0.5555555555555556,
              "#d8576b"
             ],
             [
              0.6666666666666666,
              "#ed7953"
             ],
             [
              0.7777777777777778,
              "#fb9f3a"
             ],
             [
              0.8888888888888888,
              "#fdca26"
             ],
             [
              1,
              "#f0f921"
             ]
            ],
            "type": "surface"
           }
          ],
          "table": [
           {
            "cells": {
             "fill": {
              "color": "#EBF0F8"
             },
             "line": {
              "color": "white"
             }
            },
            "header": {
             "fill": {
              "color": "#C8D4E3"
             },
             "line": {
              "color": "white"
             }
            },
            "type": "table"
           }
          ]
         },
         "layout": {
          "annotationdefaults": {
           "arrowcolor": "#2a3f5f",
           "arrowhead": 0,
           "arrowwidth": 1
          },
          "autotypenumbers": "strict",
          "coloraxis": {
           "colorbar": {
            "outlinewidth": 0,
            "ticks": ""
           }
          },
          "colorscale": {
           "diverging": [
            [
             0,
             "#8e0152"
            ],
            [
             0.1,
             "#c51b7d"
            ],
            [
             0.2,
             "#de77ae"
            ],
            [
             0.3,
             "#f1b6da"
            ],
            [
             0.4,
             "#fde0ef"
            ],
            [
             0.5,
             "#f7f7f7"
            ],
            [
             0.6,
             "#e6f5d0"
            ],
            [
             0.7,
             "#b8e186"
            ],
            [
             0.8,
             "#7fbc41"
            ],
            [
             0.9,
             "#4d9221"
            ],
            [
             1,
             "#276419"
            ]
           ],
           "sequential": [
            [
             0,
             "#0d0887"
            ],
            [
             0.1111111111111111,
             "#46039f"
            ],
            [
             0.2222222222222222,
             "#7201a8"
            ],
            [
             0.3333333333333333,
             "#9c179e"
            ],
            [
             0.4444444444444444,
             "#bd3786"
            ],
            [
             0.5555555555555556,
             "#d8576b"
            ],
            [
             0.6666666666666666,
             "#ed7953"
            ],
            [
             0.7777777777777778,
             "#fb9f3a"
            ],
            [
             0.8888888888888888,
             "#fdca26"
            ],
            [
             1,
             "#f0f921"
            ]
           ],
           "sequentialminus": [
            [
             0,
             "#0d0887"
            ],
            [
             0.1111111111111111,
             "#46039f"
            ],
            [
             0.2222222222222222,
             "#7201a8"
            ],
            [
             0.3333333333333333,
             "#9c179e"
            ],
            [
             0.4444444444444444,
             "#bd3786"
            ],
            [
             0.5555555555555556,
             "#d8576b"
            ],
            [
             0.6666666666666666,
             "#ed7953"
            ],
            [
             0.7777777777777778,
             "#fb9f3a"
            ],
            [
             0.8888888888888888,
             "#fdca26"
            ],
            [
             1,
             "#f0f921"
            ]
           ]
          },
          "colorway": [
           "#636efa",
           "#EF553B",
           "#00cc96",
           "#ab63fa",
           "#FFA15A",
           "#19d3f3",
           "#FF6692",
           "#B6E880",
           "#FF97FF",
           "#FECB52"
          ],
          "font": {
           "color": "#2a3f5f"
          },
          "geo": {
           "bgcolor": "white",
           "lakecolor": "white",
           "landcolor": "#E5ECF6",
           "showlakes": true,
           "showland": true,
           "subunitcolor": "white"
          },
          "hoverlabel": {
           "align": "left"
          },
          "hovermode": "closest",
          "mapbox": {
           "style": "light"
          },
          "paper_bgcolor": "white",
          "plot_bgcolor": "#E5ECF6",
          "polar": {
           "angularaxis": {
            "gridcolor": "white",
            "linecolor": "white",
            "ticks": ""
           },
           "bgcolor": "#E5ECF6",
           "radialaxis": {
            "gridcolor": "white",
            "linecolor": "white",
            "ticks": ""
           }
          },
          "scene": {
           "xaxis": {
            "backgroundcolor": "#E5ECF6",
            "gridcolor": "white",
            "gridwidth": 2,
            "linecolor": "white",
            "showbackground": true,
            "ticks": "",
            "zerolinecolor": "white"
           },
           "yaxis": {
            "backgroundcolor": "#E5ECF6",
            "gridcolor": "white",
            "gridwidth": 2,
            "linecolor": "white",
            "showbackground": true,
            "ticks": "",
            "zerolinecolor": "white"
           },
           "zaxis": {
            "backgroundcolor": "#E5ECF6",
            "gridcolor": "white",
            "gridwidth": 2,
            "linecolor": "white",
            "showbackground": true,
            "ticks": "",
            "zerolinecolor": "white"
           }
          },
          "shapedefaults": {
           "line": {
            "color": "#2a3f5f"
           }
          },
          "ternary": {
           "aaxis": {
            "gridcolor": "white",
            "linecolor": "white",
            "ticks": ""
           },
           "baxis": {
            "gridcolor": "white",
            "linecolor": "white",
            "ticks": ""
           },
           "bgcolor": "#E5ECF6",
           "caxis": {
            "gridcolor": "white",
            "linecolor": "white",
            "ticks": ""
           }
          },
          "title": {
           "x": 0.05
          },
          "xaxis": {
           "automargin": true,
           "gridcolor": "white",
           "linecolor": "white",
           "ticks": "",
           "title": {
            "standoff": 15
           },
           "zerolinecolor": "white",
           "zerolinewidth": 2
          },
          "yaxis": {
           "automargin": true,
           "gridcolor": "white",
           "linecolor": "white",
           "ticks": "",
           "title": {
            "standoff": 15
           },
           "zerolinecolor": "white",
           "zerolinewidth": 2
          }
         }
        },
        "title": {
         "text": "2022 ACS dataset - Percentage dataset to population by State"
        },
        "width": 900
       }
      }
     },
     "metadata": {},
     "output_type": "display_data"
    }
   ],
   "source": [
    "# code for percentage dataset size of total population\n",
    "fig = gp.Figure(data=gp.Choropleth(\n",
    "    locations=df_per_state['State'], # Spatial coordinates\n",
    "    z = df_per_state['Size Percentage'].astype(float), # Data to be color-coded\n",
    "    locationmode = 'USA-states', # set of locations match entries in `locations`\n",
    "    colorscale = 'mint',\n",
    "    colorbar_title = \"<b>Data set size to population (%)</b>\",\n",
    "    marker_line_color='white', # line markers between states\n",
    "    zmax = 0.7,\n",
    "    zmin = 0.4\n",
    " \n",
    "    \n",
    "))\n",
    "fig.add_scattergeo(\n",
    "    locations=df_per_state['State'],    ###codes for states,\n",
    "    locationmode='USA-states',\n",
    "    text=df_per_state['State'],\n",
    "    mode='text')\n",
    "\n",
    "fig.update_layout(\n",
    "    title_text = '2022 ACS dataset - Percentage dataset to population by State',\n",
    "    geo_scope='usa', # limite map scope to USA\n",
    "    autosize=False,\n",
    "                width=900,\n",
    "                height=550,\n",
    "    font=dict(size=13)\n",
    ")\n",
    "\n",
    "fig.show()"
   ]
  },
  {
   "cell_type": "code",
   "execution_count": 36,
   "metadata": {},
   "outputs": [
    {
     "data": {
      "application/vnd.plotly.v1+json": {
       "config": {
        "plotlyServerURL": "https://plot.ly"
       },
       "data": [
        {
         "colorbar": {
          "title": {
           "text": "<b>Percentage that earns >50k</b>"
          }
         },
         "colorscale": [
          [
           0,
           "rgb(230, 240, 240)"
          ],
          [
           0.09090909090909091,
           "rgb(191, 221, 229)"
          ],
          [
           0.18181818181818182,
           "rgb(156, 201, 226)"
          ],
          [
           0.2727272727272727,
           "rgb(129, 180, 227)"
          ],
          [
           0.36363636363636365,
           "rgb(115, 154, 228)"
          ],
          [
           0.45454545454545453,
           "rgb(117, 127, 221)"
          ],
          [
           0.5454545454545454,
           "rgb(120, 100, 202)"
          ],
          [
           0.6363636363636364,
           "rgb(119, 74, 175)"
          ],
          [
           0.7272727272727273,
           "rgb(113, 50, 141)"
          ],
          [
           0.8181818181818182,
           "rgb(100, 31, 104)"
          ],
          [
           0.9090909090909091,
           "rgb(80, 20, 66)"
          ],
          [
           1,
           "rgb(54, 14, 36)"
          ]
         ],
         "locationmode": "USA-states",
         "locations": [
          "GA",
          "HI",
          "CT",
          "NJ",
          "LA",
          "MA",
          "NH",
          "WV",
          "AZ",
          "MN",
          "AK",
          "IA",
          "UT",
          "AR",
          "OK",
          "MD",
          "WA",
          "RI",
          "MI",
          "WY",
          "MS",
          "ND",
          "VT",
          "OH",
          "MT",
          "AL",
          "TN",
          "WI",
          "CO",
          "NC",
          "SC",
          "FL",
          "PA",
          "SD",
          "NE",
          "ME",
          "CA",
          "AL",
          "NM",
          "ID",
          "DE",
          "VA",
          "NV",
          "OR",
          "KY",
          "IL",
          "TX",
          "MO",
          "PR",
          "KS",
          "NY",
          "IN"
         ],
         "marker": {
          "line": {
           "color": "white"
          }
         },
         "type": "choropleth",
         "z": [
          42.299985687705735,
          44.03553299492386,
          52.70171328159321,
          53.88846963498432,
          38.309215536938304,
          53.75135135135135,
          50.1067168863779,
          35.67527308838133,
          42.3643366942336,
          45.43608646757466,
          42.49512670565302,
          38.4870420511687,
          40.64267216320491,
          33.47651573832829,
          33.48335321548639,
          55.30372790732214,
          51.38006260077776,
          47.93402777777778,
          40.59689692657377,
          38.73456790123457,
          32.650343960352096,
          42.95242329924411,
          43.04722149752153,
          41.124336084981124,
          36.741767764298096,
          50.19607843137255,
          37.70010159532112,
          41.48715445169952,
          50.29689448370049,
          40.191771332737844,
          37.270263245832254,
          40.326117780508554,
          43.3341639671069,
          36.42410804273332,
          39.49239492394924,
          38.59981078524125,
          47.03256523699347,
          37.53150696252221,
          37.737281700835226,
          36.44016837041491,
          47.59247778466625,
          49.13343606848072,
          40.92748410302524,
          44.184182401140006,
          36.925592082007775,
          45.769836318807,
          43.00788551597537,
          37.6464373388024,
          13.419704147732766,
          37.855167211465925,
          47.59059002086891,
          38.02377170400394
         ],
         "zmax": 100,
         "zmin": 0
        },
        {
         "locationmode": "USA-states",
         "locations": [
          "GA",
          "HI",
          "CT",
          "NJ",
          "LA",
          "MA",
          "NH",
          "WV",
          "AZ",
          "MN",
          "AK",
          "IA",
          "UT",
          "AR",
          "OK",
          "MD",
          "WA",
          "RI",
          "MI",
          "WY",
          "MS",
          "ND",
          "VT",
          "OH",
          "MT",
          "AL",
          "TN",
          "WI",
          "CO",
          "NC",
          "SC",
          "FL",
          "PA",
          "SD",
          "NE",
          "ME",
          "CA",
          "AL",
          "NM",
          "ID",
          "DE",
          "VA",
          "NV",
          "OR",
          "KY",
          "IL",
          "TX",
          "MO",
          "PR",
          "KS",
          "NY",
          "IN"
         ],
         "mode": "text",
         "text": [
          "GA",
          "HI",
          "CT",
          "NJ",
          "LA",
          "MA",
          "NH",
          "WV",
          "AZ",
          "MN",
          "AK",
          "IA",
          "UT",
          "AR",
          "OK",
          "MD",
          "WA",
          "RI",
          "MI",
          "WY",
          "MS",
          "ND",
          "VT",
          "OH",
          "MT",
          "AL",
          "TN",
          "WI",
          "CO",
          "NC",
          "SC",
          "FL",
          "PA",
          "SD",
          "NE",
          "ME",
          "CA",
          "AL",
          "NM",
          "ID",
          "DE",
          "VA",
          "NV",
          "OR",
          "KY",
          "IL",
          "TX",
          "MO",
          "PR",
          "KS",
          "NY",
          "IN"
         ],
         "type": "scattergeo"
        }
       ],
       "layout": {
        "autosize": false,
        "font": {
         "size": 13
        },
        "geo": {
         "scope": "usa"
        },
        "height": 550,
        "template": {
         "data": {
          "bar": [
           {
            "error_x": {
             "color": "#2a3f5f"
            },
            "error_y": {
             "color": "#2a3f5f"
            },
            "marker": {
             "line": {
              "color": "#E5ECF6",
              "width": 0.5
             },
             "pattern": {
              "fillmode": "overlay",
              "size": 10,
              "solidity": 0.2
             }
            },
            "type": "bar"
           }
          ],
          "barpolar": [
           {
            "marker": {
             "line": {
              "color": "#E5ECF6",
              "width": 0.5
             },
             "pattern": {
              "fillmode": "overlay",
              "size": 10,
              "solidity": 0.2
             }
            },
            "type": "barpolar"
           }
          ],
          "carpet": [
           {
            "aaxis": {
             "endlinecolor": "#2a3f5f",
             "gridcolor": "white",
             "linecolor": "white",
             "minorgridcolor": "white",
             "startlinecolor": "#2a3f5f"
            },
            "baxis": {
             "endlinecolor": "#2a3f5f",
             "gridcolor": "white",
             "linecolor": "white",
             "minorgridcolor": "white",
             "startlinecolor": "#2a3f5f"
            },
            "type": "carpet"
           }
          ],
          "choropleth": [
           {
            "colorbar": {
             "outlinewidth": 0,
             "ticks": ""
            },
            "type": "choropleth"
           }
          ],
          "contour": [
           {
            "colorbar": {
             "outlinewidth": 0,
             "ticks": ""
            },
            "colorscale": [
             [
              0,
              "#0d0887"
             ],
             [
              0.1111111111111111,
              "#46039f"
             ],
             [
              0.2222222222222222,
              "#7201a8"
             ],
             [
              0.3333333333333333,
              "#9c179e"
             ],
             [
              0.4444444444444444,
              "#bd3786"
             ],
             [
              0.5555555555555556,
              "#d8576b"
             ],
             [
              0.6666666666666666,
              "#ed7953"
             ],
             [
              0.7777777777777778,
              "#fb9f3a"
             ],
             [
              0.8888888888888888,
              "#fdca26"
             ],
             [
              1,
              "#f0f921"
             ]
            ],
            "type": "contour"
           }
          ],
          "contourcarpet": [
           {
            "colorbar": {
             "outlinewidth": 0,
             "ticks": ""
            },
            "type": "contourcarpet"
           }
          ],
          "heatmap": [
           {
            "colorbar": {
             "outlinewidth": 0,
             "ticks": ""
            },
            "colorscale": [
             [
              0,
              "#0d0887"
             ],
             [
              0.1111111111111111,
              "#46039f"
             ],
             [
              0.2222222222222222,
              "#7201a8"
             ],
             [
              0.3333333333333333,
              "#9c179e"
             ],
             [
              0.4444444444444444,
              "#bd3786"
             ],
             [
              0.5555555555555556,
              "#d8576b"
             ],
             [
              0.6666666666666666,
              "#ed7953"
             ],
             [
              0.7777777777777778,
              "#fb9f3a"
             ],
             [
              0.8888888888888888,
              "#fdca26"
             ],
             [
              1,
              "#f0f921"
             ]
            ],
            "type": "heatmap"
           }
          ],
          "heatmapgl": [
           {
            "colorbar": {
             "outlinewidth": 0,
             "ticks": ""
            },
            "colorscale": [
             [
              0,
              "#0d0887"
             ],
             [
              0.1111111111111111,
              "#46039f"
             ],
             [
              0.2222222222222222,
              "#7201a8"
             ],
             [
              0.3333333333333333,
              "#9c179e"
             ],
             [
              0.4444444444444444,
              "#bd3786"
             ],
             [
              0.5555555555555556,
              "#d8576b"
             ],
             [
              0.6666666666666666,
              "#ed7953"
             ],
             [
              0.7777777777777778,
              "#fb9f3a"
             ],
             [
              0.8888888888888888,
              "#fdca26"
             ],
             [
              1,
              "#f0f921"
             ]
            ],
            "type": "heatmapgl"
           }
          ],
          "histogram": [
           {
            "marker": {
             "pattern": {
              "fillmode": "overlay",
              "size": 10,
              "solidity": 0.2
             }
            },
            "type": "histogram"
           }
          ],
          "histogram2d": [
           {
            "colorbar": {
             "outlinewidth": 0,
             "ticks": ""
            },
            "colorscale": [
             [
              0,
              "#0d0887"
             ],
             [
              0.1111111111111111,
              "#46039f"
             ],
             [
              0.2222222222222222,
              "#7201a8"
             ],
             [
              0.3333333333333333,
              "#9c179e"
             ],
             [
              0.4444444444444444,
              "#bd3786"
             ],
             [
              0.5555555555555556,
              "#d8576b"
             ],
             [
              0.6666666666666666,
              "#ed7953"
             ],
             [
              0.7777777777777778,
              "#fb9f3a"
             ],
             [
              0.8888888888888888,
              "#fdca26"
             ],
             [
              1,
              "#f0f921"
             ]
            ],
            "type": "histogram2d"
           }
          ],
          "histogram2dcontour": [
           {
            "colorbar": {
             "outlinewidth": 0,
             "ticks": ""
            },
            "colorscale": [
             [
              0,
              "#0d0887"
             ],
             [
              0.1111111111111111,
              "#46039f"
             ],
             [
              0.2222222222222222,
              "#7201a8"
             ],
             [
              0.3333333333333333,
              "#9c179e"
             ],
             [
              0.4444444444444444,
              "#bd3786"
             ],
             [
              0.5555555555555556,
              "#d8576b"
             ],
             [
              0.6666666666666666,
              "#ed7953"
             ],
             [
              0.7777777777777778,
              "#fb9f3a"
             ],
             [
              0.8888888888888888,
              "#fdca26"
             ],
             [
              1,
              "#f0f921"
             ]
            ],
            "type": "histogram2dcontour"
           }
          ],
          "mesh3d": [
           {
            "colorbar": {
             "outlinewidth": 0,
             "ticks": ""
            },
            "type": "mesh3d"
           }
          ],
          "parcoords": [
           {
            "line": {
             "colorbar": {
              "outlinewidth": 0,
              "ticks": ""
             }
            },
            "type": "parcoords"
           }
          ],
          "pie": [
           {
            "automargin": true,
            "type": "pie"
           }
          ],
          "scatter": [
           {
            "marker": {
             "colorbar": {
              "outlinewidth": 0,
              "ticks": ""
             }
            },
            "type": "scatter"
           }
          ],
          "scatter3d": [
           {
            "line": {
             "colorbar": {
              "outlinewidth": 0,
              "ticks": ""
             }
            },
            "marker": {
             "colorbar": {
              "outlinewidth": 0,
              "ticks": ""
             }
            },
            "type": "scatter3d"
           }
          ],
          "scattercarpet": [
           {
            "marker": {
             "colorbar": {
              "outlinewidth": 0,
              "ticks": ""
             }
            },
            "type": "scattercarpet"
           }
          ],
          "scattergeo": [
           {
            "marker": {
             "colorbar": {
              "outlinewidth": 0,
              "ticks": ""
             }
            },
            "type": "scattergeo"
           }
          ],
          "scattergl": [
           {
            "marker": {
             "colorbar": {
              "outlinewidth": 0,
              "ticks": ""
             }
            },
            "type": "scattergl"
           }
          ],
          "scattermapbox": [
           {
            "marker": {
             "colorbar": {
              "outlinewidth": 0,
              "ticks": ""
             }
            },
            "type": "scattermapbox"
           }
          ],
          "scatterpolar": [
           {
            "marker": {
             "colorbar": {
              "outlinewidth": 0,
              "ticks": ""
             }
            },
            "type": "scatterpolar"
           }
          ],
          "scatterpolargl": [
           {
            "marker": {
             "colorbar": {
              "outlinewidth": 0,
              "ticks": ""
             }
            },
            "type": "scatterpolargl"
           }
          ],
          "scatterternary": [
           {
            "marker": {
             "colorbar": {
              "outlinewidth": 0,
              "ticks": ""
             }
            },
            "type": "scatterternary"
           }
          ],
          "surface": [
           {
            "colorbar": {
             "outlinewidth": 0,
             "ticks": ""
            },
            "colorscale": [
             [
              0,
              "#0d0887"
             ],
             [
              0.1111111111111111,
              "#46039f"
             ],
             [
              0.2222222222222222,
              "#7201a8"
             ],
             [
              0.3333333333333333,
              "#9c179e"
             ],
             [
              0.4444444444444444,
              "#bd3786"
             ],
             [
              0.5555555555555556,
              "#d8576b"
             ],
             [
              0.6666666666666666,
              "#ed7953"
             ],
             [
              0.7777777777777778,
              "#fb9f3a"
             ],
             [
              0.8888888888888888,
              "#fdca26"
             ],
             [
              1,
              "#f0f921"
             ]
            ],
            "type": "surface"
           }
          ],
          "table": [
           {
            "cells": {
             "fill": {
              "color": "#EBF0F8"
             },
             "line": {
              "color": "white"
             }
            },
            "header": {
             "fill": {
              "color": "#C8D4E3"
             },
             "line": {
              "color": "white"
             }
            },
            "type": "table"
           }
          ]
         },
         "layout": {
          "annotationdefaults": {
           "arrowcolor": "#2a3f5f",
           "arrowhead": 0,
           "arrowwidth": 1
          },
          "autotypenumbers": "strict",
          "coloraxis": {
           "colorbar": {
            "outlinewidth": 0,
            "ticks": ""
           }
          },
          "colorscale": {
           "diverging": [
            [
             0,
             "#8e0152"
            ],
            [
             0.1,
             "#c51b7d"
            ],
            [
             0.2,
             "#de77ae"
            ],
            [
             0.3,
             "#f1b6da"
            ],
            [
             0.4,
             "#fde0ef"
            ],
            [
             0.5,
             "#f7f7f7"
            ],
            [
             0.6,
             "#e6f5d0"
            ],
            [
             0.7,
             "#b8e186"
            ],
            [
             0.8,
             "#7fbc41"
            ],
            [
             0.9,
             "#4d9221"
            ],
            [
             1,
             "#276419"
            ]
           ],
           "sequential": [
            [
             0,
             "#0d0887"
            ],
            [
             0.1111111111111111,
             "#46039f"
            ],
            [
             0.2222222222222222,
             "#7201a8"
            ],
            [
             0.3333333333333333,
             "#9c179e"
            ],
            [
             0.4444444444444444,
             "#bd3786"
            ],
            [
             0.5555555555555556,
             "#d8576b"
            ],
            [
             0.6666666666666666,
             "#ed7953"
            ],
            [
             0.7777777777777778,
             "#fb9f3a"
            ],
            [
             0.8888888888888888,
             "#fdca26"
            ],
            [
             1,
             "#f0f921"
            ]
           ],
           "sequentialminus": [
            [
             0,
             "#0d0887"
            ],
            [
             0.1111111111111111,
             "#46039f"
            ],
            [
             0.2222222222222222,
             "#7201a8"
            ],
            [
             0.3333333333333333,
             "#9c179e"
            ],
            [
             0.4444444444444444,
             "#bd3786"
            ],
            [
             0.5555555555555556,
             "#d8576b"
            ],
            [
             0.6666666666666666,
             "#ed7953"
            ],
            [
             0.7777777777777778,
             "#fb9f3a"
            ],
            [
             0.8888888888888888,
             "#fdca26"
            ],
            [
             1,
             "#f0f921"
            ]
           ]
          },
          "colorway": [
           "#636efa",
           "#EF553B",
           "#00cc96",
           "#ab63fa",
           "#FFA15A",
           "#19d3f3",
           "#FF6692",
           "#B6E880",
           "#FF97FF",
           "#FECB52"
          ],
          "font": {
           "color": "#2a3f5f"
          },
          "geo": {
           "bgcolor": "white",
           "lakecolor": "white",
           "landcolor": "#E5ECF6",
           "showlakes": true,
           "showland": true,
           "subunitcolor": "white"
          },
          "hoverlabel": {
           "align": "left"
          },
          "hovermode": "closest",
          "mapbox": {
           "style": "light"
          },
          "paper_bgcolor": "white",
          "plot_bgcolor": "#E5ECF6",
          "polar": {
           "angularaxis": {
            "gridcolor": "white",
            "linecolor": "white",
            "ticks": ""
           },
           "bgcolor": "#E5ECF6",
           "radialaxis": {
            "gridcolor": "white",
            "linecolor": "white",
            "ticks": ""
           }
          },
          "scene": {
           "xaxis": {
            "backgroundcolor": "#E5ECF6",
            "gridcolor": "white",
            "gridwidth": 2,
            "linecolor": "white",
            "showbackground": true,
            "ticks": "",
            "zerolinecolor": "white"
           },
           "yaxis": {
            "backgroundcolor": "#E5ECF6",
            "gridcolor": "white",
            "gridwidth": 2,
            "linecolor": "white",
            "showbackground": true,
            "ticks": "",
            "zerolinecolor": "white"
           },
           "zaxis": {
            "backgroundcolor": "#E5ECF6",
            "gridcolor": "white",
            "gridwidth": 2,
            "linecolor": "white",
            "showbackground": true,
            "ticks": "",
            "zerolinecolor": "white"
           }
          },
          "shapedefaults": {
           "line": {
            "color": "#2a3f5f"
           }
          },
          "ternary": {
           "aaxis": {
            "gridcolor": "white",
            "linecolor": "white",
            "ticks": ""
           },
           "baxis": {
            "gridcolor": "white",
            "linecolor": "white",
            "ticks": ""
           },
           "bgcolor": "#E5ECF6",
           "caxis": {
            "gridcolor": "white",
            "linecolor": "white",
            "ticks": ""
           }
          },
          "title": {
           "x": 0.05
          },
          "xaxis": {
           "automargin": true,
           "gridcolor": "white",
           "linecolor": "white",
           "ticks": "",
           "title": {
            "standoff": 15
           },
           "zerolinecolor": "white",
           "zerolinewidth": 2
          },
          "yaxis": {
           "automargin": true,
           "gridcolor": "white",
           "linecolor": "white",
           "ticks": "",
           "title": {
            "standoff": 15
           },
           "zerolinecolor": "white",
           "zerolinewidth": 2
          }
         }
        },
        "title": {
         "text": "2022 ACS dataset - Percentage that earns >50k per State"
        },
        "width": 900
       }
      }
     },
     "metadata": {},
     "output_type": "display_data"
    }
   ],
   "source": [
    "# code for total size per state\n",
    "fig = gp.Figure(data=gp.Choropleth(\n",
    "    locations=df_per_state['State'], # Spatial coordinates\n",
    "    z = df_per_state['%>50k'].astype(float), # Data to be color-coded\n",
    "    locationmode = 'USA-states', # set of locations match entries in `locations`\n",
    "    colorscale = 'dense',\n",
    "    colorbar_title = \"<b>Percentage that earns >50k</b>\",\n",
    "    marker_line_color='white', # line markers between states\n",
    "    zmax = 100,\n",
    "    zmin = 0.0\n",
    " \n",
    "    \n",
    "))\n",
    "fig.add_scattergeo(\n",
    "    locations=df_per_state['State'],    ###codes for states,\n",
    "    locationmode='USA-states',\n",
    "    text=df_per_state['State'],\n",
    "    mode='text')\n",
    "\n",
    "fig.update_layout(\n",
    "    title_text = '2022 ACS dataset - Percentage that earns >50k per State',\n",
    "    geo_scope='usa', # limite map scope to USA\n",
    "    autosize=False,\n",
    "                width=900,\n",
    "                height=550,\n",
    "    font=dict(size=13)\n",
    ")\n",
    "\n",
    "fig.show()\n"
   ]
  },
  {
   "cell_type": "code",
   "execution_count": 37,
   "metadata": {},
   "outputs": [
    {
     "data": {
      "application/vnd.plotly.v1+json": {
       "config": {
        "plotlyServerURL": "https://plot.ly"
       },
       "data": [
        {
         "marker": {
          "color": "brown"
         },
         "name": "White",
         "orientation": "h",
         "showlegend": false,
         "type": "bar",
         "x": [
          0.603084299413196,
          0.2532994923857868,
          0.7212866695953531,
          0.6149263216427692,
          0.6583682406702208,
          0.7410930930930931,
          0.9040803515379786,
          0.9062810327706058,
          0.6229466409878781,
          0.8698300637261027,
          0.5472013366750209,
          0.8948997071337791,
          0.8254320596162994,
          0.753115977748046,
          0.6575208762607092,
          0.5747512253081836,
          0.6811628568718581,
          0.7805555555555556,
          0.8188556181440854,
          0.8432098765432099,
          0.6416894740735262,
          0.8835037794575367,
          0.9115575267414557,
          0.8328693927177321,
          0.8625649913344887,
          0.19607843137254902,
          0.7798401933056921,
          0.8835662415329224,
          0.7615046612433941,
          0.6901215888583043,
          0.699996287082761,
          0.6019472539937613,
          0.8406062649330851,
          0.8677685950413223,
          0.8563585635856359,
          0.913231517772672,
          0.4142518120698966,
          0.7253832486260898,
          0.49810174639331817,
          0.8383443575866907,
          0.6842322793965695,
          0.6614595427582276,
          0.5397263793435674,
          0.7609992874955468,
          0.8569724284199364,
          0.7185039954846567,
          0.5547262848299288,
          0.827071874708679,
          0.2540848883302717,
          0.822542117173749,
          0.6457029026750142,
          0.8329134030782713
         ],
         "y": [
          "GA",
          "HI",
          "CT",
          "NJ",
          "LA",
          "MA",
          "NH",
          "WV",
          "AZ",
          "MN",
          "AK",
          "IA",
          "UT",
          "AR",
          "OK",
          "MD",
          "WA",
          "RI",
          "MI",
          "WY",
          "MS",
          "ND",
          "VT",
          "OH",
          "MT",
          "AL",
          "TN",
          "WI",
          "CO",
          "NC",
          "SC",
          "FL",
          "PA",
          "SD",
          "NE",
          "ME",
          "CA",
          "AL",
          "NM",
          "ID",
          "DE",
          "VA",
          "NV",
          "OR",
          "KY",
          "IL",
          "TX",
          "MO",
          "PR",
          "KS",
          "NY",
          "IN"
         ]
        },
        {
         "hoverinfo": "x",
         "marker": {
          "color": "orange"
         },
         "name": "White with income >50K",
         "opacity": 0.5,
         "orientation": "h",
         "type": "bar",
         "x": [
          0.285798626019751,
          0.12271573604060913,
          0.4170449553375311,
          0.3612821225721889,
          0.29136519421172885,
          0.42834834834834834,
          0.458631512868801,
          0.32969215491559084,
          0.3033590121218987,
          0.4122204173434962,
          0.28682818156502365,
          0.3570205006354644,
          0.35442101368849427,
          0.2759664812337159,
          0.2451469471857716,
          0.348641021832764,
          0.3708621834392488,
          0.4015625,
          0.3464176302006127,
          0.34012345679012346,
          0.2503143723648199,
          0.401067140951534,
          0.40151317505870077,
          0.3590100467140206,
          0.3289428076256499,
          0.10196078431372549,
          0.31420412422087374,
          0.381308354183194,
          0.41027848702571107,
          0.31106331006070326,
          0.29914974195225186,
          0.2773702618394933,
          0.37783087319153924,
          0.33440838540616813,
          0.35559355593555936,
          0.36018380862278687,
          0.23559138133481305,
          0.3011859014090327,
          0.23104458184184837,
          0.32100621367007415,
          0.35999173382930355,
          0.3503198159211332,
          0.26886762155565547,
          0.3555842536515853,
          0.3302403676210675,
          0.3523750111398271,
          0.27558437904074073,
          0.3232963549920761,
          0.03470946533887653,
          0.3271938647221524,
          0.33605577689243027,
          0.3309415566631977
         ],
         "y": [
          "GA",
          "HI",
          "CT",
          "NJ",
          "LA",
          "MA",
          "NH",
          "WV",
          "AZ",
          "MN",
          "AK",
          "IA",
          "UT",
          "AR",
          "OK",
          "MD",
          "WA",
          "RI",
          "MI",
          "WY",
          "MS",
          "ND",
          "VT",
          "OH",
          "MT",
          "AL",
          "TN",
          "WI",
          "CO",
          "NC",
          "SC",
          "FL",
          "PA",
          "SD",
          "NE",
          "ME",
          "CA",
          "AL",
          "NM",
          "ID",
          "DE",
          "VA",
          "NV",
          "OR",
          "KY",
          "IL",
          "TX",
          "MO",
          "PR",
          "KS",
          "NY",
          "IN"
         ]
        },
        {
         "name": "Non-White",
         "orientation": "h",
         "showlegend": false,
         "type": "bar",
         "x": [
          -0.3969157005868041,
          -0.7467005076142132,
          -0.27871333040464685,
          -0.38507367835723083,
          -0.3416317593297791,
          -0.25890690690690693,
          -0.09591964846202135,
          -0.09371896722939424,
          -0.3770533590121219,
          -0.13016993627389728,
          -0.4527986633249791,
          -0.10510029286622093,
          -0.17456794038370066,
          -0.24688402225195408,
          -0.34247912373929074,
          -0.42524877469181643,
          -0.3188371431281419,
          -0.21944444444444444,
          -0.1811443818559146,
          -0.15679012345679014,
          -0.35831052592647383,
          -0.11649622054246332,
          -0.08844247325854422,
          -0.16713060728226786,
          -0.13743500866551125,
          -0.803921568627451,
          -0.2201598066943079,
          -0.11643375846707756,
          -0.2384953387566059,
          -0.3098784111416957,
          -0.3000037129172391,
          -0.3980527460062388,
          -0.15939373506691487,
          -0.1322314049586777,
          -0.14364143641436414,
          -0.08676848222732801,
          -0.5857481879301034,
          -0.2746167513739102,
          -0.5018982536066818,
          -0.1616556424133093,
          -0.31576772060343045,
          -0.3385404572417724,
          -0.4602736206564327,
          -0.23900071250445315,
          -0.14302757158006363,
          -0.28149600451534323,
          -0.4452737151700712,
          -0.17292812529132096,
          -0.7459151116697283,
          -0.17745788282625094,
          -0.35429709732498577,
          -0.16708659692172864
         ],
         "y": [
          "GA",
          "HI",
          "CT",
          "NJ",
          "LA",
          "MA",
          "NH",
          "WV",
          "AZ",
          "MN",
          "AK",
          "IA",
          "UT",
          "AR",
          "OK",
          "MD",
          "WA",
          "RI",
          "MI",
          "WY",
          "MS",
          "ND",
          "VT",
          "OH",
          "MT",
          "AL",
          "TN",
          "WI",
          "CO",
          "NC",
          "SC",
          "FL",
          "PA",
          "SD",
          "NE",
          "ME",
          "CA",
          "AL",
          "NM",
          "ID",
          "DE",
          "VA",
          "NV",
          "OR",
          "KY",
          "IL",
          "TX",
          "MO",
          "PR",
          "KS",
          "NY",
          "IN"
         ]
        },
        {
         "hoverinfo": "x",
         "marker": {
          "color": "darkgreen"
         },
         "name": "Non-White with income >50K",
         "opacity": 0.5,
         "orientation": "h",
         "type": "bar",
         "x": [
          -0.13720123085730643,
          -0.31763959390862945,
          -0.10997217747840093,
          -0.1776025737776542,
          -0.09172696115765423,
          -0.10916516516516517,
          -0.042435655994978026,
          -0.027060575968222443,
          -0.1202843548204373,
          -0.042140447332250405,
          -0.13812308549150654,
          -0.027849919876222578,
          -0.05200570794355478,
          -0.05879867614956693,
          -0.08968658496909229,
          -0.20439625724045746,
          -0.1429384425685289,
          -0.07777777777777778,
          -0.05955133906512501,
          -0.04722222222222222,
          -0.07618906723870109,
          -0.02845709204090707,
          -0.028959039916514478,
          -0.05223331413579062,
          -0.03847487001733102,
          -0.4,
          -0.06279689173233752,
          -0.03356319033380118,
          -0.09269045781129387,
          -0.09085440326667517,
          -0.07355289050607063,
          -0.1258909159655922,
          -0.055510766479529766,
          -0.029832695021165086,
          -0.03933039330393304,
          -0.025814299229625626,
          -0.2347342710351217,
          -0.07412916821618941,
          -0.14632823516650395,
          -0.043395470034074964,
          -0.11593304401735896,
          -0.14101454476367398,
          -0.14040721947459694,
          -0.08625757035981475,
          -0.039015553199010254,
          -0.10532335204824288,
          -0.154494476119013,
          -0.05316801839594792,
          -0.09948757613845112,
          -0.051357807392506914,
          -0.13985012331625876,
          -0.04929616037684176
         ],
         "y": [
          "GA",
          "HI",
          "CT",
          "NJ",
          "LA",
          "MA",
          "NH",
          "WV",
          "AZ",
          "MN",
          "AK",
          "IA",
          "UT",
          "AR",
          "OK",
          "MD",
          "WA",
          "RI",
          "MI",
          "WY",
          "MS",
          "ND",
          "VT",
          "OH",
          "MT",
          "AL",
          "TN",
          "WI",
          "CO",
          "NC",
          "SC",
          "FL",
          "PA",
          "SD",
          "NE",
          "ME",
          "CA",
          "AL",
          "NM",
          "ID",
          "DE",
          "VA",
          "NV",
          "OR",
          "KY",
          "IL",
          "TX",
          "MO",
          "PR",
          "KS",
          "NY",
          "IN"
         ]
        }
       ],
       "layout": {
        "autosize": false,
        "bargap": 0,
        "bargroupgap": 0,
        "barmode": "overlay",
        "font": {
         "size": 14
        },
        "height": 800,
        "plot_bgcolor": "rgba(0,0,0,0)",
        "template": {
         "data": {
          "bar": [
           {
            "error_x": {
             "color": "#2a3f5f"
            },
            "error_y": {
             "color": "#2a3f5f"
            },
            "marker": {
             "line": {
              "color": "#E5ECF6",
              "width": 0.5
             },
             "pattern": {
              "fillmode": "overlay",
              "size": 10,
              "solidity": 0.2
             }
            },
            "type": "bar"
           }
          ],
          "barpolar": [
           {
            "marker": {
             "line": {
              "color": "#E5ECF6",
              "width": 0.5
             },
             "pattern": {
              "fillmode": "overlay",
              "size": 10,
              "solidity": 0.2
             }
            },
            "type": "barpolar"
           }
          ],
          "carpet": [
           {
            "aaxis": {
             "endlinecolor": "#2a3f5f",
             "gridcolor": "white",
             "linecolor": "white",
             "minorgridcolor": "white",
             "startlinecolor": "#2a3f5f"
            },
            "baxis": {
             "endlinecolor": "#2a3f5f",
             "gridcolor": "white",
             "linecolor": "white",
             "minorgridcolor": "white",
             "startlinecolor": "#2a3f5f"
            },
            "type": "carpet"
           }
          ],
          "choropleth": [
           {
            "colorbar": {
             "outlinewidth": 0,
             "ticks": ""
            },
            "type": "choropleth"
           }
          ],
          "contour": [
           {
            "colorbar": {
             "outlinewidth": 0,
             "ticks": ""
            },
            "colorscale": [
             [
              0,
              "#0d0887"
             ],
             [
              0.1111111111111111,
              "#46039f"
             ],
             [
              0.2222222222222222,
              "#7201a8"
             ],
             [
              0.3333333333333333,
              "#9c179e"
             ],
             [
              0.4444444444444444,
              "#bd3786"
             ],
             [
              0.5555555555555556,
              "#d8576b"
             ],
             [
              0.6666666666666666,
              "#ed7953"
             ],
             [
              0.7777777777777778,
              "#fb9f3a"
             ],
             [
              0.8888888888888888,
              "#fdca26"
             ],
             [
              1,
              "#f0f921"
             ]
            ],
            "type": "contour"
           }
          ],
          "contourcarpet": [
           {
            "colorbar": {
             "outlinewidth": 0,
             "ticks": ""
            },
            "type": "contourcarpet"
           }
          ],
          "heatmap": [
           {
            "colorbar": {
             "outlinewidth": 0,
             "ticks": ""
            },
            "colorscale": [
             [
              0,
              "#0d0887"
             ],
             [
              0.1111111111111111,
              "#46039f"
             ],
             [
              0.2222222222222222,
              "#7201a8"
             ],
             [
              0.3333333333333333,
              "#9c179e"
             ],
             [
              0.4444444444444444,
              "#bd3786"
             ],
             [
              0.5555555555555556,
              "#d8576b"
             ],
             [
              0.6666666666666666,
              "#ed7953"
             ],
             [
              0.7777777777777778,
              "#fb9f3a"
             ],
             [
              0.8888888888888888,
              "#fdca26"
             ],
             [
              1,
              "#f0f921"
             ]
            ],
            "type": "heatmap"
           }
          ],
          "heatmapgl": [
           {
            "colorbar": {
             "outlinewidth": 0,
             "ticks": ""
            },
            "colorscale": [
             [
              0,
              "#0d0887"
             ],
             [
              0.1111111111111111,
              "#46039f"
             ],
             [
              0.2222222222222222,
              "#7201a8"
             ],
             [
              0.3333333333333333,
              "#9c179e"
             ],
             [
              0.4444444444444444,
              "#bd3786"
             ],
             [
              0.5555555555555556,
              "#d8576b"
             ],
             [
              0.6666666666666666,
              "#ed7953"
             ],
             [
              0.7777777777777778,
              "#fb9f3a"
             ],
             [
              0.8888888888888888,
              "#fdca26"
             ],
             [
              1,
              "#f0f921"
             ]
            ],
            "type": "heatmapgl"
           }
          ],
          "histogram": [
           {
            "marker": {
             "pattern": {
              "fillmode": "overlay",
              "size": 10,
              "solidity": 0.2
             }
            },
            "type": "histogram"
           }
          ],
          "histogram2d": [
           {
            "colorbar": {
             "outlinewidth": 0,
             "ticks": ""
            },
            "colorscale": [
             [
              0,
              "#0d0887"
             ],
             [
              0.1111111111111111,
              "#46039f"
             ],
             [
              0.2222222222222222,
              "#7201a8"
             ],
             [
              0.3333333333333333,
              "#9c179e"
             ],
             [
              0.4444444444444444,
              "#bd3786"
             ],
             [
              0.5555555555555556,
              "#d8576b"
             ],
             [
              0.6666666666666666,
              "#ed7953"
             ],
             [
              0.7777777777777778,
              "#fb9f3a"
             ],
             [
              0.8888888888888888,
              "#fdca26"
             ],
             [
              1,
              "#f0f921"
             ]
            ],
            "type": "histogram2d"
           }
          ],
          "histogram2dcontour": [
           {
            "colorbar": {
             "outlinewidth": 0,
             "ticks": ""
            },
            "colorscale": [
             [
              0,
              "#0d0887"
             ],
             [
              0.1111111111111111,
              "#46039f"
             ],
             [
              0.2222222222222222,
              "#7201a8"
             ],
             [
              0.3333333333333333,
              "#9c179e"
             ],
             [
              0.4444444444444444,
              "#bd3786"
             ],
             [
              0.5555555555555556,
              "#d8576b"
             ],
             [
              0.6666666666666666,
              "#ed7953"
             ],
             [
              0.7777777777777778,
              "#fb9f3a"
             ],
             [
              0.8888888888888888,
              "#fdca26"
             ],
             [
              1,
              "#f0f921"
             ]
            ],
            "type": "histogram2dcontour"
           }
          ],
          "mesh3d": [
           {
            "colorbar": {
             "outlinewidth": 0,
             "ticks": ""
            },
            "type": "mesh3d"
           }
          ],
          "parcoords": [
           {
            "line": {
             "colorbar": {
              "outlinewidth": 0,
              "ticks": ""
             }
            },
            "type": "parcoords"
           }
          ],
          "pie": [
           {
            "automargin": true,
            "type": "pie"
           }
          ],
          "scatter": [
           {
            "marker": {
             "colorbar": {
              "outlinewidth": 0,
              "ticks": ""
             }
            },
            "type": "scatter"
           }
          ],
          "scatter3d": [
           {
            "line": {
             "colorbar": {
              "outlinewidth": 0,
              "ticks": ""
             }
            },
            "marker": {
             "colorbar": {
              "outlinewidth": 0,
              "ticks": ""
             }
            },
            "type": "scatter3d"
           }
          ],
          "scattercarpet": [
           {
            "marker": {
             "colorbar": {
              "outlinewidth": 0,
              "ticks": ""
             }
            },
            "type": "scattercarpet"
           }
          ],
          "scattergeo": [
           {
            "marker": {
             "colorbar": {
              "outlinewidth": 0,
              "ticks": ""
             }
            },
            "type": "scattergeo"
           }
          ],
          "scattergl": [
           {
            "marker": {
             "colorbar": {
              "outlinewidth": 0,
              "ticks": ""
             }
            },
            "type": "scattergl"
           }
          ],
          "scattermapbox": [
           {
            "marker": {
             "colorbar": {
              "outlinewidth": 0,
              "ticks": ""
             }
            },
            "type": "scattermapbox"
           }
          ],
          "scatterpolar": [
           {
            "marker": {
             "colorbar": {
              "outlinewidth": 0,
              "ticks": ""
             }
            },
            "type": "scatterpolar"
           }
          ],
          "scatterpolargl": [
           {
            "marker": {
             "colorbar": {
              "outlinewidth": 0,
              "ticks": ""
             }
            },
            "type": "scatterpolargl"
           }
          ],
          "scatterternary": [
           {
            "marker": {
             "colorbar": {
              "outlinewidth": 0,
              "ticks": ""
             }
            },
            "type": "scatterternary"
           }
          ],
          "surface": [
           {
            "colorbar": {
             "outlinewidth": 0,
             "ticks": ""
            },
            "colorscale": [
             [
              0,
              "#0d0887"
             ],
             [
              0.1111111111111111,
              "#46039f"
             ],
             [
              0.2222222222222222,
              "#7201a8"
             ],
             [
              0.3333333333333333,
              "#9c179e"
             ],
             [
              0.4444444444444444,
              "#bd3786"
             ],
             [
              0.5555555555555556,
              "#d8576b"
             ],
             [
              0.6666666666666666,
              "#ed7953"
             ],
             [
              0.7777777777777778,
              "#fb9f3a"
             ],
             [
              0.8888888888888888,
              "#fdca26"
             ],
             [
              1,
              "#f0f921"
             ]
            ],
            "type": "surface"
           }
          ],
          "table": [
           {
            "cells": {
             "fill": {
              "color": "#EBF0F8"
             },
             "line": {
              "color": "white"
             }
            },
            "header": {
             "fill": {
              "color": "#C8D4E3"
             },
             "line": {
              "color": "white"
             }
            },
            "type": "table"
           }
          ]
         },
         "layout": {
          "annotationdefaults": {
           "arrowcolor": "#2a3f5f",
           "arrowhead": 0,
           "arrowwidth": 1
          },
          "autotypenumbers": "strict",
          "coloraxis": {
           "colorbar": {
            "outlinewidth": 0,
            "ticks": ""
           }
          },
          "colorscale": {
           "diverging": [
            [
             0,
             "#8e0152"
            ],
            [
             0.1,
             "#c51b7d"
            ],
            [
             0.2,
             "#de77ae"
            ],
            [
             0.3,
             "#f1b6da"
            ],
            [
             0.4,
             "#fde0ef"
            ],
            [
             0.5,
             "#f7f7f7"
            ],
            [
             0.6,
             "#e6f5d0"
            ],
            [
             0.7,
             "#b8e186"
            ],
            [
             0.8,
             "#7fbc41"
            ],
            [
             0.9,
             "#4d9221"
            ],
            [
             1,
             "#276419"
            ]
           ],
           "sequential": [
            [
             0,
             "#0d0887"
            ],
            [
             0.1111111111111111,
             "#46039f"
            ],
            [
             0.2222222222222222,
             "#7201a8"
            ],
            [
             0.3333333333333333,
             "#9c179e"
            ],
            [
             0.4444444444444444,
             "#bd3786"
            ],
            [
             0.5555555555555556,
             "#d8576b"
            ],
            [
             0.6666666666666666,
             "#ed7953"
            ],
            [
             0.7777777777777778,
             "#fb9f3a"
            ],
            [
             0.8888888888888888,
             "#fdca26"
            ],
            [
             1,
             "#f0f921"
            ]
           ],
           "sequentialminus": [
            [
             0,
             "#0d0887"
            ],
            [
             0.1111111111111111,
             "#46039f"
            ],
            [
             0.2222222222222222,
             "#7201a8"
            ],
            [
             0.3333333333333333,
             "#9c179e"
            ],
            [
             0.4444444444444444,
             "#bd3786"
            ],
            [
             0.5555555555555556,
             "#d8576b"
            ],
            [
             0.6666666666666666,
             "#ed7953"
            ],
            [
             0.7777777777777778,
             "#fb9f3a"
            ],
            [
             0.8888888888888888,
             "#fdca26"
            ],
            [
             1,
             "#f0f921"
            ]
           ]
          },
          "colorway": [
           "#636efa",
           "#EF553B",
           "#00cc96",
           "#ab63fa",
           "#FFA15A",
           "#19d3f3",
           "#FF6692",
           "#B6E880",
           "#FF97FF",
           "#FECB52"
          ],
          "font": {
           "color": "#2a3f5f"
          },
          "geo": {
           "bgcolor": "white",
           "lakecolor": "white",
           "landcolor": "#E5ECF6",
           "showlakes": true,
           "showland": true,
           "subunitcolor": "white"
          },
          "hoverlabel": {
           "align": "left"
          },
          "hovermode": "closest",
          "mapbox": {
           "style": "light"
          },
          "paper_bgcolor": "white",
          "plot_bgcolor": "#E5ECF6",
          "polar": {
           "angularaxis": {
            "gridcolor": "white",
            "linecolor": "white",
            "ticks": ""
           },
           "bgcolor": "#E5ECF6",
           "radialaxis": {
            "gridcolor": "white",
            "linecolor": "white",
            "ticks": ""
           }
          },
          "scene": {
           "xaxis": {
            "backgroundcolor": "#E5ECF6",
            "gridcolor": "white",
            "gridwidth": 2,
            "linecolor": "white",
            "showbackground": true,
            "ticks": "",
            "zerolinecolor": "white"
           },
           "yaxis": {
            "backgroundcolor": "#E5ECF6",
            "gridcolor": "white",
            "gridwidth": 2,
            "linecolor": "white",
            "showbackground": true,
            "ticks": "",
            "zerolinecolor": "white"
           },
           "zaxis": {
            "backgroundcolor": "#E5ECF6",
            "gridcolor": "white",
            "gridwidth": 2,
            "linecolor": "white",
            "showbackground": true,
            "ticks": "",
            "zerolinecolor": "white"
           }
          },
          "shapedefaults": {
           "line": {
            "color": "#2a3f5f"
           }
          },
          "ternary": {
           "aaxis": {
            "gridcolor": "white",
            "linecolor": "white",
            "ticks": ""
           },
           "baxis": {
            "gridcolor": "white",
            "linecolor": "white",
            "ticks": ""
           },
           "bgcolor": "#E5ECF6",
           "caxis": {
            "gridcolor": "white",
            "linecolor": "white",
            "ticks": ""
           }
          },
          "title": {
           "x": 0.05
          },
          "xaxis": {
           "automargin": true,
           "gridcolor": "white",
           "linecolor": "white",
           "ticks": "",
           "title": {
            "standoff": 15
           },
           "zerolinecolor": "white",
           "zerolinewidth": 2
          },
          "yaxis": {
           "automargin": true,
           "gridcolor": "white",
           "linecolor": "white",
           "ticks": "",
           "title": {
            "standoff": 15
           },
           "zerolinecolor": "white",
           "zerolinewidth": 2
          }
         }
        },
        "title": {
         "font": {
          "size": 30
         },
         "text": "Percentage of Non-White vs. White individuals with >50K"
        },
        "width": 1200,
        "xaxis": {
         "linecolor": "gray",
         "linewidth": 0,
         "showline": true,
         "ticktext": [
          "100%",
          "75%",
          "50%",
          "25%",
          "0%",
          "25%",
          "50%",
          "75%",
          "100%"
         ],
         "tickvals": [
          -1,
          -0.75,
          -0.5,
          -0.25,
          0,
          0.25,
          0.5,
          0.75,
          1
         ],
         "title": {
          "font": {
           "size": 25
          },
          "text": "<b>Population</b>"
         }
        },
        "yaxis": {
         "linecolor": "gray",
         "linewidth": 0,
         "showline": true,
         "tickvals": [
          "GA",
          "HI",
          "CT",
          "NJ",
          "LA",
          "MA",
          "NH",
          "WV",
          "AZ",
          "MN",
          "AK",
          "IA",
          "UT",
          "AR",
          "OK",
          "MD",
          "WA",
          "RI",
          "MI",
          "WY",
          "MS",
          "ND",
          "VT",
          "OH",
          "MT",
          "AL",
          "TN",
          "WI",
          "CO",
          "NC",
          "SC",
          "FL",
          "PA",
          "SD",
          "NE",
          "ME",
          "CA",
          "AL",
          "NM",
          "ID",
          "DE",
          "VA",
          "NV",
          "OR",
          "KY",
          "IL",
          "TX",
          "MO",
          "PR",
          "KS",
          "NY",
          "IN"
         ],
         "title": {
          "font": {
           "size": 25
          },
          "text": "<b>State</b>"
         }
        }
       }
      }
     },
     "metadata": {},
     "output_type": "display_data"
    }
   ],
   "source": [
    "state = df_per_state['State']\n",
    "size = df_per_state['Size']\n",
    "x_W = df_per_state['#Whites'] / size\n",
    "x_NW = (df_per_state['#Non_whites'] * -1) / size\n",
    "x_Pos_W = df_per_state['white_>50k'] / size\n",
    "x_Pos_NW = (df_per_state['non_white_>50k']* -1) / size \n",
    "\n",
    "\n",
    "# Creating instance of the figure\n",
    "fig = gp.Figure()\n",
    " \n",
    "# Adding Male data to the figure\n",
    "fig.add_trace(gp.Bar(y= state, x = x_W, \n",
    "                     name = 'White', \n",
    "                     showlegend=False,\n",
    "                     orientation = 'h',marker=dict(color='brown')))\n",
    "\n",
    "fig.add_trace(gp.Bar(y=state,\n",
    "               x=x_Pos_W,\n",
    "               orientation='h',\n",
    "               hoverinfo='x',\n",
    "               name = 'White with income >50K',      \n",
    "               opacity=0.5,\n",
    "               marker=dict(color='orange')\n",
    "               ))\n",
    "  \n",
    "# Adding Female data to the figure\n",
    "fig.add_trace(gp.Bar(y = state, x = x_NW,\n",
    "                     name = 'Non-White', \n",
    "                     showlegend=False,\n",
    "                     orientation = 'h'))\n",
    "\n",
    "fig.add_trace(gp.Bar(y=state,\n",
    "               x=x_Pos_NW,\n",
    "               orientation='h',\n",
    "               hoverinfo='x',\n",
    "               name = 'Non-White with income >50K',      \n",
    "               opacity=0.5,\n",
    "               marker=dict(color='darkgreen')\n",
    "               ))\n",
    "\n",
    "# Updating the layout for our graph\n",
    "fig.update_layout(title = 'Percentage of Non-White vs. White individuals with >50K',\n",
    "                 title_font_size = 30, barmode = 'overlay',\n",
    "                 bargap = 0.0, bargroupgap = 0,\n",
    "                 xaxis = dict(tickvals = [-1, -0.75, -0.5, -0.25, 0, 0.25, 0.5, 0.75, 1],\n",
    "                              ticktext = ['100%', '75%', '50%', '25%','0%','25%', '50%', '75%','100%'],\n",
    "                              title = '<b>Population</b>',\n",
    "                              title_font_size = 25),\n",
    "                 yaxis =    dict(title = '<b>State</b>',tickvals = state.tolist(),\n",
    "                              title_font_size = 25),\n",
    "                autosize=False,\n",
    "                width=1200,\n",
    "                height=800,\n",
    "                font=dict(size=14),       \n",
    "                plot_bgcolor='rgba(0,0,0,0)'\n",
    "                )\n",
    "\n",
    "  \n",
    "fig.update_xaxes(showline=True, linewidth=0, linecolor='gray')\n",
    "fig.update_yaxes(showline=True, linewidth=0, linecolor='gray')\n",
    "fig.show()"
   ]
  },
  {
   "cell_type": "code",
   "execution_count": 38,
   "metadata": {},
   "outputs": [
    {
     "data": {
      "application/vnd.plotly.v1+json": {
       "config": {
        "plotlyServerURL": "https://plot.ly"
       },
       "data": [
        {
         "marker": {
          "color": "brown"
         },
         "name": "Male",
         "orientation": "h",
         "showlegend": false,
         "type": "bar",
         "x": [
          0.5197330757120366,
          0.525253807106599,
          0.511885585981354,
          0.5178933153274814,
          0.505474105102818,
          0.5017177177177177,
          0.522661644695543,
          0.5284260178748759,
          0.5290302481024131,
          0.5276458827939523,
          0.5647451963241437,
          0.5247831132231862,
          0.5440515828973098,
          0.5210196465037673,
          0.5326428803817373,
          0.5023615030447052,
          0.5318931992791426,
          0.49947916666666664,
          0.5247356458148038,
          0.5262345679012346,
          0.5006287447296398,
          0.5440195642507781,
          0.5037829376467519,
          0.5174377679657004,
          0.5298093587521664,
          0.4715686274509804,
          0.5201955023476756,
          0.5303594312564838,
          0.5267798824297845,
          0.5169987421842245,
          0.5107117662347306,
          0.5158521599395028,
          0.5191216780756659,
          0.541423100181415,
          0.5281252812528126,
          0.5129071496148128,
          0.5282326187444573,
          0.5215073757282757,
          0.5049354593773728,
          0.5354780517137703,
          0.49948336433147345,
          0.5148297481581559,
          0.532532596827028,
          0.5134930530815818,
          0.525097207493814,
          0.5175712206279892,
          0.5289794387013352,
          0.5157080264752494,
          0.51319733152857,
          0.5316193110384712,
          0.5025042686397269,
          0.522429752971463
         ],
         "y": [
          "GA",
          "HI",
          "CT",
          "NJ",
          "LA",
          "MA",
          "NH",
          "WV",
          "AZ",
          "MN",
          "AK",
          "IA",
          "UT",
          "AR",
          "OK",
          "MD",
          "WA",
          "RI",
          "MI",
          "WY",
          "MS",
          "ND",
          "VT",
          "OH",
          "MT",
          "AL",
          "TN",
          "WI",
          "CO",
          "NC",
          "SC",
          "FL",
          "PA",
          "SD",
          "NE",
          "ME",
          "CA",
          "AL",
          "NM",
          "ID",
          "DE",
          "VA",
          "NV",
          "OR",
          "KY",
          "IL",
          "TX",
          "MO",
          "PR",
          "KS",
          "NY",
          "IN"
         ]
        },
        {
         "hoverinfo": "x",
         "marker": {
          "color": "orange"
         },
         "name": "Male with income >50K",
         "opacity": 0.7,
         "orientation": "h",
         "type": "bar",
         "x": [
          0.25107342206955774,
          0.25862944162436546,
          0.30043442182847657,
          0.30950867855582476,
          0.24314546839299314,
          0.3016216216216216,
          0.3042059008160703,
          0.2342353525322741,
          0.25487141724255125,
          0.2781144570785955,
          0.25870231133389027,
          0.244405150024866,
          0.28360023254584854,
          0.21329483839166255,
          0.2185229367747533,
          0.3047378583098173,
          0.3086408043251446,
          0.2720486111111111,
          0.25498567052080245,
          0.24320987654320989,
          0.20837340039943783,
          0.28523788350377943,
          0.23793373336811896,
          0.2548313815831574,
          0.23639514731369152,
          0.246078431372549,
          0.2346577336005931,
          0.2649966436809666,
          0.3003681491597886,
          0.24000583334852435,
          0.23283704006237702,
          0.2408167123546649,
          0.2649917180926694,
          0.23845998790566417,
          0.25173251732517327,
          0.23205838626841466,
          0.27247189619552026,
          0.24184951035081195,
          0.21553313808439092,
          0.24433754259370616,
          0.2719570159123786,
          0.28798209875240127,
          0.24869933842892927,
          0.2608656929105807,
          0.23214916931778012,
          0.276208299913852,
          0.2628951970039059,
          0.2352630434107082,
          0.08459827902929518,
          0.2463540357053055,
          0.26664769493454754,
          0.24930163772799474
         ],
         "y": [
          "GA",
          "HI",
          "CT",
          "NJ",
          "LA",
          "MA",
          "NH",
          "WV",
          "AZ",
          "MN",
          "AK",
          "IA",
          "UT",
          "AR",
          "OK",
          "MD",
          "WA",
          "RI",
          "MI",
          "WY",
          "MS",
          "ND",
          "VT",
          "OH",
          "MT",
          "AL",
          "TN",
          "WI",
          "CO",
          "NC",
          "SC",
          "FL",
          "PA",
          "SD",
          "NE",
          "ME",
          "CA",
          "AL",
          "NM",
          "ID",
          "DE",
          "VA",
          "NV",
          "OR",
          "KY",
          "IL",
          "TX",
          "MO",
          "PR",
          "KS",
          "NY",
          "IN"
         ]
        },
        {
         "name": "Female",
         "orientation": "h",
         "showlegend": false,
         "type": "bar",
         "x": [
          -0.48026692428796336,
          -0.47474619289340103,
          -0.48811441401864597,
          -0.48210668467251855,
          -0.494525894897182,
          -0.4982822822822823,
          -0.477338355304457,
          -0.47157398212512414,
          -0.47096975189758694,
          -0.47235411720604775,
          -0.4352548036758563,
          -0.47521688677681384,
          -0.45594841710269013,
          -0.47898035349623264,
          -0.46735711961826265,
          -0.49763849695529483,
          -0.4681068007208574,
          -0.5005208333333333,
          -0.4752643541851962,
          -0.4737654320987654,
          -0.49937125527036025,
          -0.45598043574922187,
          -0.4962170623532481,
          -0.4825622320342996,
          -0.4701906412478336,
          -0.5284313725490196,
          -0.47980449765232436,
          -0.46964056874351623,
          -0.47322011757021554,
          -0.4830012578157756,
          -0.48928823376526936,
          -0.4841478400604972,
          -0.48087832192433416,
          -0.45857689981858496,
          -0.47187471874718745,
          -0.4870928503851872,
          -0.47176738125554274,
          -0.4784926242717243,
          -0.49506454062262717,
          -0.4645219482862297,
          -0.5005166356685266,
          -0.48517025184184415,
          -0.4674674031729719,
          -0.4865069469184182,
          -0.47490279250618594,
          -0.4824287793720108,
          -0.47102056129866476,
          -0.4842919735247506,
          -0.48680266847142994,
          -0.4683806889615288,
          -0.4974957313602732,
          -0.477570247028537
         ],
         "y": [
          "GA",
          "HI",
          "CT",
          "NJ",
          "LA",
          "MA",
          "NH",
          "WV",
          "AZ",
          "MN",
          "AK",
          "IA",
          "UT",
          "AR",
          "OK",
          "MD",
          "WA",
          "RI",
          "MI",
          "WY",
          "MS",
          "ND",
          "VT",
          "OH",
          "MT",
          "AL",
          "TN",
          "WI",
          "CO",
          "NC",
          "SC",
          "FL",
          "PA",
          "SD",
          "NE",
          "ME",
          "CA",
          "AL",
          "NM",
          "ID",
          "DE",
          "VA",
          "NV",
          "OR",
          "KY",
          "IL",
          "TX",
          "MO",
          "PR",
          "KS",
          "NY",
          "IN"
         ]
        },
        {
         "hoverinfo": "x",
         "marker": {
          "color": "darkgreen"
         },
         "name": "Female with income >50K",
         "opacity": 0.7,
         "orientation": "h",
         "type": "bar",
         "x": [
          -0.17192643480749964,
          -0.1817258883248731,
          -0.22658271098745547,
          -0.22937601779401834,
          -0.13994668697638996,
          -0.23589189189189189,
          -0.19686126804770873,
          -0.12251737835153922,
          -0.16877194969978476,
          -0.17624640759715107,
          -0.16624895572263992,
          -0.14046527048682103,
          -0.12282648908620052,
          -0.12147031899162031,
          -0.11631059538011061,
          -0.24829942076340414,
          -0.20515982168263303,
          -0.20729166666666668,
          -0.15098329874493527,
          -0.1441358024691358,
          -0.11813003920408315,
          -0.14428634948866162,
          -0.19253848160709627,
          -0.15641197926665387,
          -0.13102253032928943,
          -0.25588235294117645,
          -0.14234328235261814,
          -0.14987490083602856,
          -0.2026007956772163,
          -0.16191187997885412,
          -0.13986559239594548,
          -0.16244446545042066,
          -0.16834992157839962,
          -0.12578109252166902,
          -0.14319143191431916,
          -0.15393972158399782,
          -0.1978537561744145,
          -0.13346555927441014,
          -0.1618396789239614,
          -0.12006414111044297,
          -0.20396776193428395,
          -0.2033522619324059,
          -0.16057550260132314,
          -0.1809761311008194,
          -0.13710675150229762,
          -0.181490063274218,
          -0.16718365815584782,
          -0.1412013299773158,
          -0.049598762448032484,
          -0.13219763640935378,
          -0.20925820527414152,
          -0.1309360793120447
         ],
         "y": [
          "GA",
          "HI",
          "CT",
          "NJ",
          "LA",
          "MA",
          "NH",
          "WV",
          "AZ",
          "MN",
          "AK",
          "IA",
          "UT",
          "AR",
          "OK",
          "MD",
          "WA",
          "RI",
          "MI",
          "WY",
          "MS",
          "ND",
          "VT",
          "OH",
          "MT",
          "AL",
          "TN",
          "WI",
          "CO",
          "NC",
          "SC",
          "FL",
          "PA",
          "SD",
          "NE",
          "ME",
          "CA",
          "AL",
          "NM",
          "ID",
          "DE",
          "VA",
          "NV",
          "OR",
          "KY",
          "IL",
          "TX",
          "MO",
          "PR",
          "KS",
          "NY",
          "IN"
         ]
        }
       ],
       "layout": {
        "autosize": false,
        "bargap": 0,
        "bargroupgap": 0,
        "barmode": "overlay",
        "font": {
         "size": 14
        },
        "height": 800,
        "plot_bgcolor": "rgba(0,0,0,0)",
        "template": {
         "data": {
          "bar": [
           {
            "error_x": {
             "color": "#2a3f5f"
            },
            "error_y": {
             "color": "#2a3f5f"
            },
            "marker": {
             "line": {
              "color": "#E5ECF6",
              "width": 0.5
             },
             "pattern": {
              "fillmode": "overlay",
              "size": 10,
              "solidity": 0.2
             }
            },
            "type": "bar"
           }
          ],
          "barpolar": [
           {
            "marker": {
             "line": {
              "color": "#E5ECF6",
              "width": 0.5
             },
             "pattern": {
              "fillmode": "overlay",
              "size": 10,
              "solidity": 0.2
             }
            },
            "type": "barpolar"
           }
          ],
          "carpet": [
           {
            "aaxis": {
             "endlinecolor": "#2a3f5f",
             "gridcolor": "white",
             "linecolor": "white",
             "minorgridcolor": "white",
             "startlinecolor": "#2a3f5f"
            },
            "baxis": {
             "endlinecolor": "#2a3f5f",
             "gridcolor": "white",
             "linecolor": "white",
             "minorgridcolor": "white",
             "startlinecolor": "#2a3f5f"
            },
            "type": "carpet"
           }
          ],
          "choropleth": [
           {
            "colorbar": {
             "outlinewidth": 0,
             "ticks": ""
            },
            "type": "choropleth"
           }
          ],
          "contour": [
           {
            "colorbar": {
             "outlinewidth": 0,
             "ticks": ""
            },
            "colorscale": [
             [
              0,
              "#0d0887"
             ],
             [
              0.1111111111111111,
              "#46039f"
             ],
             [
              0.2222222222222222,
              "#7201a8"
             ],
             [
              0.3333333333333333,
              "#9c179e"
             ],
             [
              0.4444444444444444,
              "#bd3786"
             ],
             [
              0.5555555555555556,
              "#d8576b"
             ],
             [
              0.6666666666666666,
              "#ed7953"
             ],
             [
              0.7777777777777778,
              "#fb9f3a"
             ],
             [
              0.8888888888888888,
              "#fdca26"
             ],
             [
              1,
              "#f0f921"
             ]
            ],
            "type": "contour"
           }
          ],
          "contourcarpet": [
           {
            "colorbar": {
             "outlinewidth": 0,
             "ticks": ""
            },
            "type": "contourcarpet"
           }
          ],
          "heatmap": [
           {
            "colorbar": {
             "outlinewidth": 0,
             "ticks": ""
            },
            "colorscale": [
             [
              0,
              "#0d0887"
             ],
             [
              0.1111111111111111,
              "#46039f"
             ],
             [
              0.2222222222222222,
              "#7201a8"
             ],
             [
              0.3333333333333333,
              "#9c179e"
             ],
             [
              0.4444444444444444,
              "#bd3786"
             ],
             [
              0.5555555555555556,
              "#d8576b"
             ],
             [
              0.6666666666666666,
              "#ed7953"
             ],
             [
              0.7777777777777778,
              "#fb9f3a"
             ],
             [
              0.8888888888888888,
              "#fdca26"
             ],
             [
              1,
              "#f0f921"
             ]
            ],
            "type": "heatmap"
           }
          ],
          "heatmapgl": [
           {
            "colorbar": {
             "outlinewidth": 0,
             "ticks": ""
            },
            "colorscale": [
             [
              0,
              "#0d0887"
             ],
             [
              0.1111111111111111,
              "#46039f"
             ],
             [
              0.2222222222222222,
              "#7201a8"
             ],
             [
              0.3333333333333333,
              "#9c179e"
             ],
             [
              0.4444444444444444,
              "#bd3786"
             ],
             [
              0.5555555555555556,
              "#d8576b"
             ],
             [
              0.6666666666666666,
              "#ed7953"
             ],
             [
              0.7777777777777778,
              "#fb9f3a"
             ],
             [
              0.8888888888888888,
              "#fdca26"
             ],
             [
              1,
              "#f0f921"
             ]
            ],
            "type": "heatmapgl"
           }
          ],
          "histogram": [
           {
            "marker": {
             "pattern": {
              "fillmode": "overlay",
              "size": 10,
              "solidity": 0.2
             }
            },
            "type": "histogram"
           }
          ],
          "histogram2d": [
           {
            "colorbar": {
             "outlinewidth": 0,
             "ticks": ""
            },
            "colorscale": [
             [
              0,
              "#0d0887"
             ],
             [
              0.1111111111111111,
              "#46039f"
             ],
             [
              0.2222222222222222,
              "#7201a8"
             ],
             [
              0.3333333333333333,
              "#9c179e"
             ],
             [
              0.4444444444444444,
              "#bd3786"
             ],
             [
              0.5555555555555556,
              "#d8576b"
             ],
             [
              0.6666666666666666,
              "#ed7953"
             ],
             [
              0.7777777777777778,
              "#fb9f3a"
             ],
             [
              0.8888888888888888,
              "#fdca26"
             ],
             [
              1,
              "#f0f921"
             ]
            ],
            "type": "histogram2d"
           }
          ],
          "histogram2dcontour": [
           {
            "colorbar": {
             "outlinewidth": 0,
             "ticks": ""
            },
            "colorscale": [
             [
              0,
              "#0d0887"
             ],
             [
              0.1111111111111111,
              "#46039f"
             ],
             [
              0.2222222222222222,
              "#7201a8"
             ],
             [
              0.3333333333333333,
              "#9c179e"
             ],
             [
              0.4444444444444444,
              "#bd3786"
             ],
             [
              0.5555555555555556,
              "#d8576b"
             ],
             [
              0.6666666666666666,
              "#ed7953"
             ],
             [
              0.7777777777777778,
              "#fb9f3a"
             ],
             [
              0.8888888888888888,
              "#fdca26"
             ],
             [
              1,
              "#f0f921"
             ]
            ],
            "type": "histogram2dcontour"
           }
          ],
          "mesh3d": [
           {
            "colorbar": {
             "outlinewidth": 0,
             "ticks": ""
            },
            "type": "mesh3d"
           }
          ],
          "parcoords": [
           {
            "line": {
             "colorbar": {
              "outlinewidth": 0,
              "ticks": ""
             }
            },
            "type": "parcoords"
           }
          ],
          "pie": [
           {
            "automargin": true,
            "type": "pie"
           }
          ],
          "scatter": [
           {
            "marker": {
             "colorbar": {
              "outlinewidth": 0,
              "ticks": ""
             }
            },
            "type": "scatter"
           }
          ],
          "scatter3d": [
           {
            "line": {
             "colorbar": {
              "outlinewidth": 0,
              "ticks": ""
             }
            },
            "marker": {
             "colorbar": {
              "outlinewidth": 0,
              "ticks": ""
             }
            },
            "type": "scatter3d"
           }
          ],
          "scattercarpet": [
           {
            "marker": {
             "colorbar": {
              "outlinewidth": 0,
              "ticks": ""
             }
            },
            "type": "scattercarpet"
           }
          ],
          "scattergeo": [
           {
            "marker": {
             "colorbar": {
              "outlinewidth": 0,
              "ticks": ""
             }
            },
            "type": "scattergeo"
           }
          ],
          "scattergl": [
           {
            "marker": {
             "colorbar": {
              "outlinewidth": 0,
              "ticks": ""
             }
            },
            "type": "scattergl"
           }
          ],
          "scattermapbox": [
           {
            "marker": {
             "colorbar": {
              "outlinewidth": 0,
              "ticks": ""
             }
            },
            "type": "scattermapbox"
           }
          ],
          "scatterpolar": [
           {
            "marker": {
             "colorbar": {
              "outlinewidth": 0,
              "ticks": ""
             }
            },
            "type": "scatterpolar"
           }
          ],
          "scatterpolargl": [
           {
            "marker": {
             "colorbar": {
              "outlinewidth": 0,
              "ticks": ""
             }
            },
            "type": "scatterpolargl"
           }
          ],
          "scatterternary": [
           {
            "marker": {
             "colorbar": {
              "outlinewidth": 0,
              "ticks": ""
             }
            },
            "type": "scatterternary"
           }
          ],
          "surface": [
           {
            "colorbar": {
             "outlinewidth": 0,
             "ticks": ""
            },
            "colorscale": [
             [
              0,
              "#0d0887"
             ],
             [
              0.1111111111111111,
              "#46039f"
             ],
             [
              0.2222222222222222,
              "#7201a8"
             ],
             [
              0.3333333333333333,
              "#9c179e"
             ],
             [
              0.4444444444444444,
              "#bd3786"
             ],
             [
              0.5555555555555556,
              "#d8576b"
             ],
             [
              0.6666666666666666,
              "#ed7953"
             ],
             [
              0.7777777777777778,
              "#fb9f3a"
             ],
             [
              0.8888888888888888,
              "#fdca26"
             ],
             [
              1,
              "#f0f921"
             ]
            ],
            "type": "surface"
           }
          ],
          "table": [
           {
            "cells": {
             "fill": {
              "color": "#EBF0F8"
             },
             "line": {
              "color": "white"
             }
            },
            "header": {
             "fill": {
              "color": "#C8D4E3"
             },
             "line": {
              "color": "white"
             }
            },
            "type": "table"
           }
          ]
         },
         "layout": {
          "annotationdefaults": {
           "arrowcolor": "#2a3f5f",
           "arrowhead": 0,
           "arrowwidth": 1
          },
          "autotypenumbers": "strict",
          "coloraxis": {
           "colorbar": {
            "outlinewidth": 0,
            "ticks": ""
           }
          },
          "colorscale": {
           "diverging": [
            [
             0,
             "#8e0152"
            ],
            [
             0.1,
             "#c51b7d"
            ],
            [
             0.2,
             "#de77ae"
            ],
            [
             0.3,
             "#f1b6da"
            ],
            [
             0.4,
             "#fde0ef"
            ],
            [
             0.5,
             "#f7f7f7"
            ],
            [
             0.6,
             "#e6f5d0"
            ],
            [
             0.7,
             "#b8e186"
            ],
            [
             0.8,
             "#7fbc41"
            ],
            [
             0.9,
             "#4d9221"
            ],
            [
             1,
             "#276419"
            ]
           ],
           "sequential": [
            [
             0,
             "#0d0887"
            ],
            [
             0.1111111111111111,
             "#46039f"
            ],
            [
             0.2222222222222222,
             "#7201a8"
            ],
            [
             0.3333333333333333,
             "#9c179e"
            ],
            [
             0.4444444444444444,
             "#bd3786"
            ],
            [
             0.5555555555555556,
             "#d8576b"
            ],
            [
             0.6666666666666666,
             "#ed7953"
            ],
            [
             0.7777777777777778,
             "#fb9f3a"
            ],
            [
             0.8888888888888888,
             "#fdca26"
            ],
            [
             1,
             "#f0f921"
            ]
           ],
           "sequentialminus": [
            [
             0,
             "#0d0887"
            ],
            [
             0.1111111111111111,
             "#46039f"
            ],
            [
             0.2222222222222222,
             "#7201a8"
            ],
            [
             0.3333333333333333,
             "#9c179e"
            ],
            [
             0.4444444444444444,
             "#bd3786"
            ],
            [
             0.5555555555555556,
             "#d8576b"
            ],
            [
             0.6666666666666666,
             "#ed7953"
            ],
            [
             0.7777777777777778,
             "#fb9f3a"
            ],
            [
             0.8888888888888888,
             "#fdca26"
            ],
            [
             1,
             "#f0f921"
            ]
           ]
          },
          "colorway": [
           "#636efa",
           "#EF553B",
           "#00cc96",
           "#ab63fa",
           "#FFA15A",
           "#19d3f3",
           "#FF6692",
           "#B6E880",
           "#FF97FF",
           "#FECB52"
          ],
          "font": {
           "color": "#2a3f5f"
          },
          "geo": {
           "bgcolor": "white",
           "lakecolor": "white",
           "landcolor": "#E5ECF6",
           "showlakes": true,
           "showland": true,
           "subunitcolor": "white"
          },
          "hoverlabel": {
           "align": "left"
          },
          "hovermode": "closest",
          "mapbox": {
           "style": "light"
          },
          "paper_bgcolor": "white",
          "plot_bgcolor": "#E5ECF6",
          "polar": {
           "angularaxis": {
            "gridcolor": "white",
            "linecolor": "white",
            "ticks": ""
           },
           "bgcolor": "#E5ECF6",
           "radialaxis": {
            "gridcolor": "white",
            "linecolor": "white",
            "ticks": ""
           }
          },
          "scene": {
           "xaxis": {
            "backgroundcolor": "#E5ECF6",
            "gridcolor": "white",
            "gridwidth": 2,
            "linecolor": "white",
            "showbackground": true,
            "ticks": "",
            "zerolinecolor": "white"
           },
           "yaxis": {
            "backgroundcolor": "#E5ECF6",
            "gridcolor": "white",
            "gridwidth": 2,
            "linecolor": "white",
            "showbackground": true,
            "ticks": "",
            "zerolinecolor": "white"
           },
           "zaxis": {
            "backgroundcolor": "#E5ECF6",
            "gridcolor": "white",
            "gridwidth": 2,
            "linecolor": "white",
            "showbackground": true,
            "ticks": "",
            "zerolinecolor": "white"
           }
          },
          "shapedefaults": {
           "line": {
            "color": "#2a3f5f"
           }
          },
          "ternary": {
           "aaxis": {
            "gridcolor": "white",
            "linecolor": "white",
            "ticks": ""
           },
           "baxis": {
            "gridcolor": "white",
            "linecolor": "white",
            "ticks": ""
           },
           "bgcolor": "#E5ECF6",
           "caxis": {
            "gridcolor": "white",
            "linecolor": "white",
            "ticks": ""
           }
          },
          "title": {
           "x": 0.05
          },
          "xaxis": {
           "automargin": true,
           "gridcolor": "white",
           "linecolor": "white",
           "ticks": "",
           "title": {
            "standoff": 15
           },
           "zerolinecolor": "white",
           "zerolinewidth": 2
          },
          "yaxis": {
           "automargin": true,
           "gridcolor": "white",
           "linecolor": "white",
           "ticks": "",
           "title": {
            "standoff": 15
           },
           "zerolinecolor": "white",
           "zerolinewidth": 2
          }
         }
        },
        "title": {
         "font": {
          "size": 25
         },
         "text": "Percentage of Female vs. Male individuals with >50K"
        },
        "width": 1200,
        "xaxis": {
         "linecolor": "gray",
         "linewidth": 0,
         "showline": true,
         "ticktext": [
          "100%",
          "75%",
          "50%",
          "25%",
          "0%",
          "25%",
          "50%",
          "75%",
          "100%"
         ],
         "tickvals": [
          -1,
          -0.75,
          -0.5,
          -0.25,
          0,
          0.25,
          0.5,
          0.75,
          1
         ],
         "title": {
          "font": {
           "size": 25
          },
          "text": "<b>Population</b>"
         }
        },
        "yaxis": {
         "linecolor": "gray",
         "linewidth": 0,
         "showline": true,
         "tickvals": [
          "GA",
          "HI",
          "CT",
          "NJ",
          "LA",
          "MA",
          "NH",
          "WV",
          "AZ",
          "MN",
          "AK",
          "IA",
          "UT",
          "AR",
          "OK",
          "MD",
          "WA",
          "RI",
          "MI",
          "WY",
          "MS",
          "ND",
          "VT",
          "OH",
          "MT",
          "AL",
          "TN",
          "WI",
          "CO",
          "NC",
          "SC",
          "FL",
          "PA",
          "SD",
          "NE",
          "ME",
          "CA",
          "AL",
          "NM",
          "ID",
          "DE",
          "VA",
          "NV",
          "OR",
          "KY",
          "IL",
          "TX",
          "MO",
          "PR",
          "KS",
          "NY",
          "IN"
         ],
         "title": {
          "font": {
           "size": 25
          },
          "text": "<b>State</b>"
         }
        }
       }
      }
     },
     "metadata": {},
     "output_type": "display_data"
    }
   ],
   "source": [
    "state = df_per_state['State'] # states\n",
    "size = df_per_state['Size'] # dataset size by state\n",
    "x_M = df_per_state['#Males'] / size # percentage males\n",
    "x_F = (df_per_state['#Females'] * -1) / size # percentage females \n",
    "x_Pos_M = df_per_state['male_>50k'] / size # percentage males with income >50K\n",
    "x_Pos_F = (df_per_state['female_>50k']* -1) / size # percentage females with income >50K\n",
    "\n",
    "\n",
    "# Creating instance of the figure\n",
    "fig = gp.Figure()\n",
    " \n",
    "# Adding Male data to the figure\n",
    "fig.add_trace(gp.Bar(y= state, x = x_M, \n",
    "                     name = 'Male', \n",
    "                     showlegend=False,\n",
    "                     orientation = 'h',marker=dict(color='brown')))\n",
    "\n",
    "fig.add_trace(gp.Bar(y=state,\n",
    "               x=x_Pos_M,\n",
    "               orientation='h',\n",
    "               hoverinfo='x',\n",
    "               #showlegend=False,\n",
    "               name = 'Male with income >50K',      \n",
    "               opacity=0.7,\n",
    "               marker=dict(color='orange')\n",
    "               ))\n",
    "  \n",
    "# Adding Female data to the figure\n",
    "fig.add_trace(gp.Bar(y = state, x = x_F,\n",
    "                     name = 'Female', \n",
    "                     showlegend=False,\n",
    "                     orientation = 'h'))\n",
    "\n",
    "fig.add_trace(gp.Bar(y=state,\n",
    "               x=x_Pos_F,\n",
    "               orientation='h',\n",
    "               hoverinfo='x',\n",
    "               #showlegend=False,\n",
    "               name = 'Female with income >50K',      \n",
    "               opacity=0.7,\n",
    "               marker=dict(color='darkgreen')\n",
    "               ))\n",
    "\n",
    "# Updating the layout for our graph\n",
    "fig.update_layout(title = 'Percentage of Female vs. Male individuals with >50K',\n",
    "                 title_font_size = 25, barmode = 'overlay',\n",
    "                 bargap = 0.0, bargroupgap = 0,\n",
    "                 xaxis = dict(tickvals = [-1, -0.75, -0.5, -0.25, 0, 0.25, 0.5, 0.75, 1],\n",
    "                              ticktext = ['100%', '75%', '50%', '25%','0%','25%', '50%', '75%','100%'],\n",
    "                              title = '<b>Population</b>',\n",
    "                              title_font_size = 25),\n",
    "                 yaxis =    dict(title = '<b>State</b>',tickvals = state.tolist(),\n",
    "                              title_font_size = 25),\n",
    "                autosize=False,\n",
    "                width=1200,\n",
    "                height=800,\n",
    "                font=dict(size=14),       \n",
    "                plot_bgcolor='rgba(0,0,0,0)'\n",
    "                 )\n",
    "\n",
    "fig.update_xaxes(showline=True, linewidth=0, linecolor='gray')\n",
    "fig.update_yaxes(showline=True, linewidth=0, linecolor='gray')\n",
    "fig.show()"
   ]
  },
  {
   "cell_type": "code",
   "execution_count": 39,
   "metadata": {},
   "outputs": [
    {
     "name": "stderr",
     "output_type": "stream",
     "text": [
      "/tmp/ipykernel_17542/178175665.py:70: UserWarning:\n",
      "\n",
      "FixedFormatter should only be used together with FixedLocator\n",
      "\n"
     ]
    },
    {
     "data": {
      "image/png": "[encoded data removed]",
      "text/plain": [
       "<Figure size 1080x1080 with 4 Axes>"
      ]
     },
     "metadata": {
      "needs_background": "light"
     },
     "output_type": "display_data"
    }
   ],
   "source": [
    "# Data for binary classifications\n",
    "sex = {\n",
    "    'Category': ['Males', 'Females'],\n",
    "    'Count': [895612, 824542]\n",
    "}\n",
    "\n",
    "white_nonwhite = {\n",
    "    'Category': ['Whites', 'Non-Whites'],\n",
    "    'Count': [1152609, 567545]\n",
    "}\n",
    "\n",
    "black_nonblack = {\n",
    "    'Category': ['Blacks', 'Non-Blacks'],\n",
    "    'Count': [141530, 1578624]\n",
    "}\n",
    "\n",
    "# Data for multi-class race categories\n",
    "race = {\n",
    "    'Category': [\n",
    "        'White', 'Two or More', 'Black', 'Asian', 'Other',\n",
    "        'American Indian', 'Islander',\n",
    "        'Tribes', 'Alaska Native'\n",
    "    ],\n",
    "    'Count': [\n",
    "        1152609, 183537, 141530, 115655, 104439, 16052, 2821, 2544, 967\n",
    "    ]\n",
    "}\n",
    "\n",
    "# Creating the figure and subplots\n",
    "fig, axes = plt.subplots(2, 2, figsize=(15, 15))\n",
    "\n",
    "# Font sizes\n",
    "title_fontsize = 20\n",
    "label_fontsize = 18\n",
    "tick_fontsize = 16\n",
    "\n",
    "# Common y-axis limit\n",
    "y_limit = [0, 1650000]\n",
    "\n",
    "# Plotting binary classifications (Males vs. Females)\n",
    "axes[0, 0].bar(sex['Category'], sex['Count'])\n",
    "axes[0, 0].set_ylabel('Count', fontsize=label_fontsize)\n",
    "axes[0, 0].set_xlabel('Class', fontsize=label_fontsize)\n",
    "axes[0, 0].set_title('Male vs Female', fontsize=title_fontsize)\n",
    "axes[0, 0].tick_params(axis='both', which='major', labelsize=tick_fontsize)\n",
    "axes[0, 0].set_ylim(y_limit)\n",
    "\n",
    "# Plotting binary classifications (Whites vs. Non-Whites)\n",
    "axes[0, 1].bar(white_nonwhite['Category'], white_nonwhite['Count'])\n",
    "axes[0, 1].set_ylabel('Count', fontsize=label_fontsize)\n",
    "axes[0, 1].set_xlabel('Class', fontsize=label_fontsize)\n",
    "axes[0, 1].set_title('Whites vs Non-Whites', fontsize=title_fontsize)\n",
    "axes[0, 1].tick_params(axis='both', which='major', labelsize=tick_fontsize)\n",
    "axes[0, 1].set_ylim(y_limit)\n",
    "\n",
    "# Plotting binary classifications (Blacks vs. Non-Blacks)\n",
    "axes[1, 0].bar(black_nonblack['Category'], black_nonblack['Count'])\n",
    "axes[1, 0].set_ylabel('Count', fontsize=label_fontsize)\n",
    "axes[1, 0].set_xlabel('Class', fontsize=label_fontsize)\n",
    "axes[1, 0].set_title('Blacks vs Non-Blacks', fontsize=title_fontsize)\n",
    "axes[1, 0].tick_params(axis='both', which='major', labelsize=tick_fontsize)\n",
    "axes[1, 0].set_ylim(y_limit)\n",
    "\n",
    "# Plotting multi-class race categories\n",
    "axes[1, 1].bar(race['Category'], race['Count'])\n",
    "axes[1, 1].set_ylabel('Count', fontsize=label_fontsize)\n",
    "axes[1, 1].set_xlabel('Class', fontsize=label_fontsize)\n",
    "axes[1, 1].set_title('Multi-Class Race Categories', fontsize=title_fontsize)\n",
    "axes[1, 1].tick_params(axis='both', which='major', labelsize=tick_fontsize)\n",
    "axes[1, 1].set_xticklabels(race['Category'], rotation=45, ha='right', fontsize=tick_fontsize)\n",
    "axes[1, 1].set_ylim(y_limit)\n",
    "\n",
    "# Adjust layout\n",
    "plt.tight_layout()\n",
    "\n",
    "# Show plot\n",
    "plt.show()\n"
   ]
  },
  {
   "cell_type": "code",
   "execution_count": null,
   "metadata": {},
   "outputs": [],
   "source": []
  }
 ],
 "metadata": {
  "kernelspec": {
   "display_name": "Python 3 (ipykernel)",
   "language": "python",
   "name": "python3"
  },
  "language_info": {
   "codemirror_mode": {
    "name": "ipython",
    "version": 3
   },
   "file_extension": ".py",
   "mimetype": "text/x-python",
   "name": "python",
   "nbconvert_exporter": "python",
   "pygments_lexer": "ipython3",
   "version": "3.12.3"
  }
 },
 "nbformat": 4,
 "nbformat_minor": 2
}
