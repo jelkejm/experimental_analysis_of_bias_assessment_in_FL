{
 "cells": [
  {
   "cell_type": "code",
   "execution_count": 7,
   "metadata": {
    "scrolled": true
   },
   "outputs": [],
   "source": [
    "import os\n",
    "import pandas as pd\n",
    "import plotly.graph_objects as gp\n",
    "current_path = os.getcwd()"
   ]
  },
  {
   "cell_type": "code",
   "execution_count": 8,
   "metadata": {},
   "outputs": [
    {
     "data": {
      "text/plain": [
       "1720154"
      ]
     },
     "execution_count": 8,
     "metadata": {},
     "output_type": "execute_result"
    }
   ],
   "source": [
    "folderpath = os.path.join(current_path, 'acs_data')\n",
    "file_list = os.listdir(folderpath)\n",
    "file_list.remove('ACS-2022-complete.csv')\n",
    "list_state_df = [pd.read_csv(os.path.join(folderpath, file)) for file in file_list]\n",
    "df_all_states = pd.concat(list_state_df, ignore_index=True)\n",
    "df_all_states = df_all_states.drop('State',axis=1)\n",
    "df_all_states.head()\n",
    "len(df_all_states)"
   ]
  },
  {
   "cell_type": "code",
   "execution_count": 9,
   "metadata": {},
   "outputs": [
    {
     "data": {
      "text/plain": [
       "Sex\n",
       "1    895612\n",
       "2    824542\n",
       "Name: count, dtype: int64"
      ]
     },
     "execution_count": 9,
     "metadata": {},
     "output_type": "execute_result"
    }
   ],
   "source": [
    "df_all_states['Sex'].value_counts()"
   ]
  },
  {
   "cell_type": "code",
   "execution_count": 10,
   "metadata": {},
   "outputs": [
    {
     "name": "stdout",
     "output_type": "stream",
     "text": [
      "92.40562182223219\n"
     ]
    },
    {
     "data": {
      "text/plain": [
       "Sex\n",
       "1    895612\n",
       "2    824542\n",
       "Name: count, dtype: int64"
      ]
     },
     "execution_count": 10,
     "metadata": {},
     "output_type": "execute_result"
    }
   ],
   "source": [
    "print(1589519 / len(df_all_states) * 100)\n",
    "df_all_states['Sex'].value_counts()\n"
   ]
  },
  {
   "cell_type": "code",
   "execution_count": 11,
   "metadata": {},
   "outputs": [],
   "source": [
    "# total population sizes per state\n",
    "entire_population = {\n",
    " 'AL': 5039877,\n",
    " 'AK': 732441,\n",
    " 'AZ': 7233988,\n",
    " 'AR': 3011524,\n",
    " 'CA': 39237836,\n",
    " 'CO': 5826185,\n",
    " 'CT': 3596298,\n",
    " 'DE': 1004523,\n",
    " 'FL': 22229952,\n",
    " 'GA': 10725135,\n",
    " 'HI': 1411151,\n",
    " 'ID': 1900923,\n",
    " 'IL': 12538344,\n",
    " 'IN': 6805985,\n",
    " 'IA': 3193079,\n",
    " 'KS': 2910341,\n",
    " 'KY': 4509394,\n",
    " 'LA': 4622982,\n",
    " 'ME': 1354522,\n",
    " 'MD': 6185278,\n",
    " 'MA': 6911743,\n",
    " 'MI': 9989642,\n",
    " 'MN': 5726298,\n",
    " 'MS': 2951996,\n",
    " 'MO': 6147027,\n",
    " 'MT': 1100185,\n",
    " 'NE': 1962071,\n",
    " 'NV': 3241676,\n",
    " 'NH': 1377088,\n",
    " 'NJ': 9288994,\n",
    " 'NM': 2097022,\n",
    " 'NY': 19377858,\n",
    " 'NC': 10600823,\n",
    " 'ND': 800394,\n",
    " 'OH': 11642640,\n",
    " 'OK': 4007177,\n",
    " 'OR': 4241507,\n",
    " 'PA': 12964056,\n",
    " 'RI': 1071140,\n",
    " 'SC': 5347796,\n",
    " 'SD': 901165,\n",
    " 'TN': 7056933,\n",
    " 'TX': 30077954,\n",
    " 'UT': 3350582,\n",
    " 'VT': 647156,\n",
    " 'VA': 8711177,\n",
    " 'WA': 7705281,\n",
    " 'WV': 1780573,\n",
    " 'WI': 5895908,\n",
    " 'WY': 576850,\n",
    " 'PR': 3193694\n",
    "}\n",
    "\n"
   ]
  },
  {
   "cell_type": "code",
   "execution_count": 12,
   "metadata": {},
   "outputs": [
    {
     "data": {
      "text/html": [
       "<div>\n",
       "<style scoped>\n",
       "    .dataframe tbody tr th:only-of-type {\n",
       "        vertical-align: middle;\n",
       "    }\n",
       "\n",
       "    .dataframe tbody tr th {\n",
       "        vertical-align: top;\n",
       "    }\n",
       "\n",
       "    .dataframe thead th {\n",
       "        text-align: right;\n",
       "    }\n",
       "</style>\n",
       "<table border=\"1\" class=\"dataframe\">\n",
       "  <thead>\n",
       "    <tr style=\"text-align: right;\">\n",
       "      <th></th>\n",
       "      <th>State</th>\n",
       "      <th>Size</th>\n",
       "      <th>Population</th>\n",
       "      <th>Size Percentage</th>\n",
       "      <th>#Males</th>\n",
       "      <th>#Females</th>\n",
       "      <th>#Whites</th>\n",
       "      <th>#Non_whites</th>\n",
       "      <th>Mean Age</th>\n",
       "      <th>#&gt;50k</th>\n",
       "      <th>#&lt;50k</th>\n",
       "      <th>%&gt;50k</th>\n",
       "      <th>female_&gt;50k</th>\n",
       "      <th>male_&gt;50k</th>\n",
       "      <th>white_&gt;50k</th>\n",
       "      <th>non_white_&gt;50k</th>\n",
       "    </tr>\n",
       "  </thead>\n",
       "  <tbody>\n",
       "    <tr>\n",
       "      <th>0</th>\n",
       "      <td>PR</td>\n",
       "      <td>10300</td>\n",
       "      <td>3193694</td>\n",
       "      <td>0.322511</td>\n",
       "      <td>5283</td>\n",
       "      <td>5017</td>\n",
       "      <td>2617</td>\n",
       "      <td>7683</td>\n",
       "      <td>43.63</td>\n",
       "      <td>1388</td>\n",
       "      <td>8912</td>\n",
       "      <td>13.475728</td>\n",
       "      <td>513</td>\n",
       "      <td>875</td>\n",
       "      <td>359</td>\n",
       "      <td>1029</td>\n",
       "    </tr>\n",
       "    <tr>\n",
       "      <th>1</th>\n",
       "      <td>NY</td>\n",
       "      <td>104624</td>\n",
       "      <td>19377858</td>\n",
       "      <td>0.539915</td>\n",
       "      <td>52576</td>\n",
       "      <td>52048</td>\n",
       "      <td>67519</td>\n",
       "      <td>37105</td>\n",
       "      <td>43.66</td>\n",
       "      <td>50166</td>\n",
       "      <td>54458</td>\n",
       "      <td>47.948845</td>\n",
       "      <td>22060</td>\n",
       "      <td>28106</td>\n",
       "      <td>35423</td>\n",
       "      <td>14743</td>\n",
       "    </tr>\n",
       "    <tr>\n",
       "      <th>2</th>\n",
       "      <td>MT</td>\n",
       "      <td>5693</td>\n",
       "      <td>1100185</td>\n",
       "      <td>0.517458</td>\n",
       "      <td>3022</td>\n",
       "      <td>2671</td>\n",
       "      <td>4915</td>\n",
       "      <td>778</td>\n",
       "      <td>44.88</td>\n",
       "      <td>2120</td>\n",
       "      <td>3573</td>\n",
       "      <td>37.238714</td>\n",
       "      <td>756</td>\n",
       "      <td>1364</td>\n",
       "      <td>1898</td>\n",
       "      <td>222</td>\n",
       "    </tr>\n",
       "    <tr>\n",
       "      <th>3</th>\n",
       "      <td>MS</td>\n",
       "      <td>13403</td>\n",
       "      <td>2951996</td>\n",
       "      <td>0.454032</td>\n",
       "      <td>6720</td>\n",
       "      <td>6683</td>\n",
       "      <td>8598</td>\n",
       "      <td>4805</td>\n",
       "      <td>43.95</td>\n",
       "      <td>4414</td>\n",
       "      <td>8989</td>\n",
       "      <td>32.932925</td>\n",
       "      <td>1597</td>\n",
       "      <td>2817</td>\n",
       "      <td>3384</td>\n",
       "      <td>1030</td>\n",
       "    </tr>\n",
       "    <tr>\n",
       "      <th>4</th>\n",
       "      <td>NV</td>\n",
       "      <td>15440</td>\n",
       "      <td>3241676</td>\n",
       "      <td>0.476297</td>\n",
       "      <td>8223</td>\n",
       "      <td>7217</td>\n",
       "      <td>8338</td>\n",
       "      <td>7102</td>\n",
       "      <td>43.49</td>\n",
       "      <td>6371</td>\n",
       "      <td>9069</td>\n",
       "      <td>41.262953</td>\n",
       "      <td>2499</td>\n",
       "      <td>3872</td>\n",
       "      <td>4185</td>\n",
       "      <td>2186</td>\n",
       "    </tr>\n",
       "  </tbody>\n",
       "</table>\n",
       "</div>"
      ],
      "text/plain": [
       "  State    Size  Population  Size Percentage  #Males  #Females  #Whites  \\\n",
       "0    PR   10300     3193694         0.322511    5283      5017     2617   \n",
       "1    NY  104624    19377858         0.539915   52576     52048    67519   \n",
       "2    MT    5693     1100185         0.517458    3022      2671     4915   \n",
       "3    MS   13403     2951996         0.454032    6720      6683     8598   \n",
       "4    NV   15440     3241676         0.476297    8223      7217     8338   \n",
       "\n",
       "   #Non_whites  Mean Age  #>50k  #<50k      %>50k  female_>50k  male_>50k  \\\n",
       "0         7683     43.63   1388   8912  13.475728          513        875   \n",
       "1        37105     43.66  50166  54458  47.948845        22060      28106   \n",
       "2          778     44.88   2120   3573  37.238714          756       1364   \n",
       "3         4805     43.95   4414   8989  32.932925         1597       2817   \n",
       "4         7102     43.49   6371   9069  41.262953         2499       3872   \n",
       "\n",
       "   white_>50k  non_white_>50k  \n",
       "0         359            1029  \n",
       "1       35423           14743  \n",
       "2        1898             222  \n",
       "3        3384            1030  \n",
       "4        4185            2186  "
      ]
     },
     "execution_count": 12,
     "metadata": {},
     "output_type": "execute_result"
    }
   ],
   "source": [
    "# create dataframe per state\n",
    "df_per_state = pd.DataFrame(columns=['State', 'Size', 'Population', 'Size Percentage', '#Males', '#Females', '#Whites', '#Non_whites', 'Mean Age',  '#>50k', '#<50k', '%>50k', 'female_>50k', 'male_>50k', 'white_>50k', 'non_white_>50k'])\n",
    "\n",
    "# loop through all states\n",
    "for df in list_state_df:\n",
    "    state = df.loc[0, 'State']\n",
    "    \n",
    "    # obtain number of total individuals, males, females, whites, non-whites\n",
    "    size = len(df)\n",
    "    population = entire_population[state]\n",
    "    size_percentage = (size / population) * 100\n",
    "    males = df['Sex'].value_counts()[1]\n",
    "    females = df['Sex'].value_counts()[2]\n",
    "    whites = df['Race'].value_counts()[1]\n",
    "    non_whites = size - whites\n",
    "\n",
    "    assert size == males + females, \"Sizes don't add up\"\n",
    "\n",
    "    # calculate percentage that earns above/below 50k\n",
    "    below_50k = df.groupby('Income').size()['<=50K']\n",
    "    above_50k = df.groupby('Income').size()['>50K']\n",
    "    percentage = (above_50k / (above_50k + below_50k)) * 100\n",
    "\n",
    "    # count females and males with income above/below 50k\n",
    "    count_sex = df[['Sex', 'Income']].value_counts(ascending=True).reset_index(name='count')\n",
    "    female_above_50k = count_sex.loc[(count_sex['Sex'] == 2 ) & (count_sex['Income'] == '>50K')]['count'].sum()\n",
    "    male_above_50k = count_sex.loc[(count_sex['Sex'] == 1 ) & (count_sex['Income'] == '>50K')]['count'].sum()\n",
    "    \n",
    "    # count non-whites and whites with income above/below 50k\n",
    "    count_race = df[['Race', 'Income']].value_counts(ascending=True).reset_index(name='count')\n",
    "    non_white_above_50k = count_race.loc[(count_race['Race'].isin([2, 3, 4, 5, 6, 7, 8, 9])) & (count_race['Income'] == '>50K')]['count'].sum()\n",
    "    white_above_50k = count_race.loc[(count_race['Race'] == 1) & (count_race['Income'] == '>50K')]['count'].sum()\n",
    "    \n",
    "    # calculate mean age per state\n",
    "    mean_age = df.loc[:, 'Age'].mean().round(2)\n",
    "\n",
    "    # create dataframe with all relevant variables\n",
    "    new_row = {'State': state, 'Size': size, 'Population': population, 'Size Percentage':size_percentage, '#Males':males, '#Females':females, '#Whites':whites, '#Non_whites':non_whites, 'Mean Age':mean_age, '#>50k': above_50k, '#<50k': below_50k, 'female_>50k':female_above_50k, 'male_>50k':male_above_50k, 'white_>50k': white_above_50k, 'non_white_>50k': non_white_above_50k,'%>50k':percentage}\n",
    "    df_per_state.loc[len(df_per_state)] = new_row\n",
    "\n",
    "df_per_state.head()"
   ]
  },
  {
   "cell_type": "code",
   "execution_count": 13,
   "metadata": {},
   "outputs": [
    {
     "ename": "ValueError",
     "evalue": "Mime type rendering requires nbformat>=4.2.0 but it is not installed",
     "output_type": "error",
     "traceback": [
      "\u001b[0;31m---------------------------------------------------------------------------\u001b[0m",
      "\u001b[0;31mValueError\u001b[0m                                Traceback (most recent call last)",
      "Cell \u001b[0;32mIn[13], line 29\u001b[0m\n\u001b[1;32m     14\u001b[0m fig\u001b[38;5;241m.\u001b[39madd_scattergeo(\n\u001b[1;32m     15\u001b[0m     locations\u001b[38;5;241m=\u001b[39mdf_per_state[\u001b[38;5;124m'\u001b[39m\u001b[38;5;124mState\u001b[39m\u001b[38;5;124m'\u001b[39m],    \u001b[38;5;66;03m###codes for states,\u001b[39;00m\n\u001b[1;32m     16\u001b[0m     locationmode\u001b[38;5;241m=\u001b[39m\u001b[38;5;124m'\u001b[39m\u001b[38;5;124mUSA-states\u001b[39m\u001b[38;5;124m'\u001b[39m,\n\u001b[1;32m     17\u001b[0m     text\u001b[38;5;241m=\u001b[39mdf_per_state[\u001b[38;5;124m'\u001b[39m\u001b[38;5;124mState\u001b[39m\u001b[38;5;124m'\u001b[39m],\n\u001b[1;32m     18\u001b[0m     mode\u001b[38;5;241m=\u001b[39m\u001b[38;5;124m'\u001b[39m\u001b[38;5;124mtext\u001b[39m\u001b[38;5;124m'\u001b[39m)\n\u001b[1;32m     20\u001b[0m fig\u001b[38;5;241m.\u001b[39mupdate_layout(\n\u001b[1;32m     21\u001b[0m     title_text \u001b[38;5;241m=\u001b[39m \u001b[38;5;124m'\u001b[39m\u001b[38;5;124m2022 ACS dataset - Data Size by State\u001b[39m\u001b[38;5;124m'\u001b[39m,\n\u001b[1;32m     22\u001b[0m     geo_scope\u001b[38;5;241m=\u001b[39m\u001b[38;5;124m'\u001b[39m\u001b[38;5;124musa\u001b[39m\u001b[38;5;124m'\u001b[39m, \u001b[38;5;66;03m# limite map scope to USA\u001b[39;00m\n\u001b[0;32m   (...)\u001b[0m\n\u001b[1;32m     26\u001b[0m     font\u001b[38;5;241m=\u001b[39m\u001b[38;5;28mdict\u001b[39m(size\u001b[38;5;241m=\u001b[39m\u001b[38;5;241m13\u001b[39m)\n\u001b[1;32m     27\u001b[0m )\n\u001b[0;32m---> 29\u001b[0m \u001b[43mfig\u001b[49m\u001b[38;5;241;43m.\u001b[39;49m\u001b[43mshow\u001b[49m\u001b[43m(\u001b[49m\u001b[43m)\u001b[49m\n",
      "File \u001b[0;32m~/anaconda3/envs/thesis_jelke/lib/python3.12/site-packages/plotly/basedatatypes.py:3410\u001b[0m, in \u001b[0;36mBaseFigure.show\u001b[0;34m(self, *args, **kwargs)\u001b[0m\n\u001b[1;32m   3377\u001b[0m \u001b[38;5;250m\u001b[39m\u001b[38;5;124;03m\"\"\"\u001b[39;00m\n\u001b[1;32m   3378\u001b[0m \u001b[38;5;124;03mShow a figure using either the default renderer(s) or the renderer(s)\u001b[39;00m\n\u001b[1;32m   3379\u001b[0m \u001b[38;5;124;03mspecified by the renderer argument\u001b[39;00m\n\u001b[0;32m   (...)\u001b[0m\n\u001b[1;32m   3406\u001b[0m \u001b[38;5;124;03mNone\u001b[39;00m\n\u001b[1;32m   3407\u001b[0m \u001b[38;5;124;03m\"\"\"\u001b[39;00m\n\u001b[1;32m   3408\u001b[0m \u001b[38;5;28;01mimport\u001b[39;00m \u001b[38;5;21;01mplotly\u001b[39;00m\u001b[38;5;21;01m.\u001b[39;00m\u001b[38;5;21;01mio\u001b[39;00m \u001b[38;5;28;01mas\u001b[39;00m \u001b[38;5;21;01mpio\u001b[39;00m\n\u001b[0;32m-> 3410\u001b[0m \u001b[38;5;28;01mreturn\u001b[39;00m \u001b[43mpio\u001b[49m\u001b[38;5;241;43m.\u001b[39;49m\u001b[43mshow\u001b[49m\u001b[43m(\u001b[49m\u001b[38;5;28;43mself\u001b[39;49m\u001b[43m,\u001b[49m\u001b[43m \u001b[49m\u001b[38;5;241;43m*\u001b[39;49m\u001b[43margs\u001b[49m\u001b[43m,\u001b[49m\u001b[43m \u001b[49m\u001b[38;5;241;43m*\u001b[39;49m\u001b[38;5;241;43m*\u001b[39;49m\u001b[43mkwargs\u001b[49m\u001b[43m)\u001b[49m\n",
      "File \u001b[0;32m~/anaconda3/envs/thesis_jelke/lib/python3.12/site-packages/plotly/io/_renderers.py:394\u001b[0m, in \u001b[0;36mshow\u001b[0;34m(fig, renderer, validate, **kwargs)\u001b[0m\n\u001b[1;32m    389\u001b[0m         \u001b[38;5;28;01mraise\u001b[39;00m \u001b[38;5;167;01mValueError\u001b[39;00m(\n\u001b[1;32m    390\u001b[0m             \u001b[38;5;124m\"\u001b[39m\u001b[38;5;124mMime type rendering requires ipython but it is not installed\u001b[39m\u001b[38;5;124m\"\u001b[39m\n\u001b[1;32m    391\u001b[0m         )\n\u001b[1;32m    393\u001b[0m     \u001b[38;5;28;01mif\u001b[39;00m \u001b[38;5;129;01mnot\u001b[39;00m nbformat \u001b[38;5;129;01mor\u001b[39;00m Version(nbformat\u001b[38;5;241m.\u001b[39m__version__) \u001b[38;5;241m<\u001b[39m Version(\u001b[38;5;124m\"\u001b[39m\u001b[38;5;124m4.2.0\u001b[39m\u001b[38;5;124m\"\u001b[39m):\n\u001b[0;32m--> 394\u001b[0m         \u001b[38;5;28;01mraise\u001b[39;00m \u001b[38;5;167;01mValueError\u001b[39;00m(\n\u001b[1;32m    395\u001b[0m             \u001b[38;5;124m\"\u001b[39m\u001b[38;5;124mMime type rendering requires nbformat>=4.2.0 but it is not installed\u001b[39m\u001b[38;5;124m\"\u001b[39m\n\u001b[1;32m    396\u001b[0m         )\n\u001b[1;32m    398\u001b[0m     ipython_display\u001b[38;5;241m.\u001b[39mdisplay(bundle, raw\u001b[38;5;241m=\u001b[39m\u001b[38;5;28;01mTrue\u001b[39;00m)\n\u001b[1;32m    400\u001b[0m \u001b[38;5;66;03m# external renderers\u001b[39;00m\n",
      "\u001b[0;31mValueError\u001b[0m: Mime type rendering requires nbformat>=4.2.0 but it is not installed"
     ]
    }
   ],
   "source": [
    "# code for total size per state\n",
    "fig = gp.Figure(data=gp.Choropleth(\n",
    "    locations=df_per_state['State'], # Spatial coordinates\n",
    "    z = df_per_state['Size'].astype(float), # Data to be color-coded\n",
    "    locationmode = 'USA-states', # set of locations match entries in `locations`\n",
    "    colorscale = 'mint',\n",
    "    colorbar_title = \"<b>State dataset size</b>\",\n",
    "    marker_line_color='white', # line markers between states\n",
    "    zmax = 200000,\n",
    "    zmin = 0.0\n",
    " \n",
    "    \n",
    "))\n",
    "fig.add_scattergeo(\n",
    "    locations=df_per_state['State'],    ###codes for states,\n",
    "    locationmode='USA-states',\n",
    "    text=df_per_state['State'],\n",
    "    mode='text')\n",
    "\n",
    "fig.update_layout(\n",
    "    title_text = '2022 ACS dataset - Data Size by State',\n",
    "    geo_scope='usa', # limite map scope to USA\n",
    "    autosize=False,\n",
    "                width=900,\n",
    "                height=550,\n",
    "    font=dict(size=13)\n",
    ")\n",
    "\n",
    "fig.show()\n",
    "\n"
   ]
  },
  {
   "cell_type": "code",
   "execution_count": null,
   "metadata": {},
   "outputs": [
    {
     "data": {
      "application/vnd.plotly.v1+json": {
       "config": {
        "plotlyServerURL": "https://plot.ly"
       },
       "data": [
        {
         "colorbar": {
          "title": {
           "text": "<b>Data set size to population (%)</b>"
          }
         },
         "colorscale": [
          [
           0,
           "rgb(228, 241, 225)"
          ],
          [
           0.16666666666666666,
           "rgb(180, 217, 204)"
          ],
          [
           0.3333333333333333,
           "rgb(137, 192, 182)"
          ],
          [
           0.5,
           "rgb(99, 166, 160)"
          ],
          [
           0.6666666666666666,
           "rgb(68, 140, 138)"
          ],
          [
           0.8333333333333334,
           "rgb(40, 114, 116)"
          ],
          [
           1,
           "rgb(13, 88, 95)"
          ]
         ],
         "locationmode": "USA-states",
         "locations": [
          "GA",
          "HI",
          "CT",
          "NJ",
          "LA",
          "MA",
          "NH",
          "WV",
          "AZ",
          "MN",
          "AK",
          "IA",
          "UT",
          "AR",
          "OK",
          "MD",
          "WA",
          "RI",
          "MI",
          "WY",
          "MS",
          "ND",
          "VT",
          "OH",
          "MT",
          "TN",
          "WI",
          "CO",
          "NC",
          "SC",
          "FL",
          "PA",
          "SD",
          "NE",
          "ME",
          "CA",
          "AL",
          "NM",
          "ID",
          "DE",
          "VA",
          "NV",
          "OR",
          "KY",
          "IL",
          "TX",
          "MO",
          "PR",
          "KS",
          "NY",
          "IN"
         ],
         "marker": {
          "line": {
           "color": "white"
          }
         },
         "type": "choropleth",
         "z": [
          0.5165436146025202,
          0.5547244766860527,
          0.5641912878187514,
          0.5378623347156861,
          0.4509643342760149,
          0.5965933629187312,
          0.5707696240182182,
          0.4472717490380905,
          0.48450453608714866,
          0.5508620054352742,
          0.4853633261928264,
          0.5583012509242646,
          0.5538142328705878,
          0.46800224736711377,
          0.4557073470924793,
          0.5397170507129995,
          0.5424721045215612,
          0.5332636256698471,
          0.5005885095782211,
          0.5510964722198145,
          0.45403178053086796,
          0.5543519816490378,
          0.5859483648455704,
          0.5310479410168141,
          0.5174584274462931,
          0.5103350138084065,
          0.547786702234838,
          0.5721239541827113,
          0.5122809804484048,
          0.49899061220734675,
          0.47260111042974806,
          0.5205778191640024,
          0.5411883506350114,
          0.5568605825171464,
          0.5392308135268382,
          0.5111826248521962,
          0.47584494621594936,
          0.4354746874377093,
          0.5170646049313938,
          0.47654458882474565,
          0.5385035799410344,
          0.4762968291710831,
          0.5248134684205401,
          0.49645251667962476,
          0.5313779873961028,
          0.49192175770998253,
          0.5167050673439372,
          0.3225105473473664,
          0.5392838846032132,
          0.5399151959932826,
          0.5302391938859695
         ],
         "zmax": 0.7,
         "zmin": 0.4
        },
        {
         "locationmode": "USA-states",
         "locations": [
          "GA",
          "HI",
          "CT",
          "NJ",
          "LA",
          "MA",
          "NH",
          "WV",
          "AZ",
          "MN",
          "AK",
          "IA",
          "UT",
          "AR",
          "OK",
          "MD",
          "WA",
          "RI",
          "MI",
          "WY",
          "MS",
          "ND",
          "VT",
          "OH",
          "MT",
          "TN",
          "WI",
          "CO",
          "NC",
          "SC",
          "FL",
          "PA",
          "SD",
          "NE",
          "ME",
          "CA",
          "AL",
          "NM",
          "ID",
          "DE",
          "VA",
          "NV",
          "OR",
          "KY",
          "IL",
          "TX",
          "MO",
          "PR",
          "KS",
          "NY",
          "IN"
         ],
         "mode": "text",
         "text": [
          "GA",
          "HI",
          "CT",
          "NJ",
          "LA",
          "MA",
          "NH",
          "WV",
          "AZ",
          "MN",
          "AK",
          "IA",
          "UT",
          "AR",
          "OK",
          "MD",
          "WA",
          "RI",
          "MI",
          "WY",
          "MS",
          "ND",
          "VT",
          "OH",
          "MT",
          "TN",
          "WI",
          "CO",
          "NC",
          "SC",
          "FL",
          "PA",
          "SD",
          "NE",
          "ME",
          "CA",
          "AL",
          "NM",
          "ID",
          "DE",
          "VA",
          "NV",
          "OR",
          "KY",
          "IL",
          "TX",
          "MO",
          "PR",
          "KS",
          "NY",
          "IN"
         ],
         "type": "scattergeo"
        }
       ],
       "layout": {
        "autosize": false,
        "font": {
         "size": 13
        },
        "geo": {
         "scope": "usa"
        },
        "height": 550,
        "template": {
         "data": {
          "bar": [
           {
            "error_x": {
             "color": "#2a3f5f"
            },
            "error_y": {
             "color": "#2a3f5f"
            },
            "marker": {
             "line": {
              "color": "#E5ECF6",
              "width": 0.5
             },
             "pattern": {
              "fillmode": "overlay",
              "size": 10,
              "solidity": 0.2
             }
            },
            "type": "bar"
           }
          ],
          "barpolar": [
           {
            "marker": {
             "line": {
              "color": "#E5ECF6",
              "width": 0.5
             },
             "pattern": {
              "fillmode": "overlay",
              "size": 10,
              "solidity": 0.2
             }
            },
            "type": "barpolar"
           }
          ],
          "carpet": [
           {
            "aaxis": {
             "endlinecolor": "#2a3f5f",
             "gridcolor": "white",
             "linecolor": "white",
             "minorgridcolor": "white",
             "startlinecolor": "#2a3f5f"
            },
            "baxis": {
             "endlinecolor": "#2a3f5f",
             "gridcolor": "white",
             "linecolor": "white",
             "minorgridcolor": "white",
             "startlinecolor": "#2a3f5f"
            },
            "type": "carpet"
           }
          ],
          "choropleth": [
           {
            "colorbar": {
             "outlinewidth": 0,
             "ticks": ""
            },
            "type": "choropleth"
           }
          ],
          "contour": [
           {
            "colorbar": {
             "outlinewidth": 0,
             "ticks": ""
            },
            "colorscale": [
             [
              0,
              "#0d0887"
             ],
             [
              0.1111111111111111,
              "#46039f"
             ],
             [
              0.2222222222222222,
              "#7201a8"
             ],
             [
              0.3333333333333333,
              "#9c179e"
             ],
             [
              0.4444444444444444,
              "#bd3786"
             ],
             [
              0.5555555555555556,
              "#d8576b"
             ],
             [
              0.6666666666666666,
              "#ed7953"
             ],
             [
              0.7777777777777778,
              "#fb9f3a"
             ],
             [
              0.8888888888888888,
              "#fdca26"
             ],
             [
              1,
              "#f0f921"
             ]
            ],
            "type": "contour"
           }
          ],
          "contourcarpet": [
           {
            "colorbar": {
             "outlinewidth": 0,
             "ticks": ""
            },
            "type": "contourcarpet"
           }
          ],
          "heatmap": [
           {
            "colorbar": {
             "outlinewidth": 0,
             "ticks": ""
            },
            "colorscale": [
             [
              0,
              "#0d0887"
             ],
             [
              0.1111111111111111,
              "#46039f"
             ],
             [
              0.2222222222222222,
              "#7201a8"
             ],
             [
              0.3333333333333333,
              "#9c179e"
             ],
             [
              0.4444444444444444,
              "#bd3786"
             ],
             [
              0.5555555555555556,
              "#d8576b"
             ],
             [
              0.6666666666666666,
              "#ed7953"
             ],
             [
              0.7777777777777778,
              "#fb9f3a"
             ],
             [
              0.8888888888888888,
              "#fdca26"
             ],
             [
              1,
              "#f0f921"
             ]
            ],
            "type": "heatmap"
           }
          ],
          "heatmapgl": [
           {
            "colorbar": {
             "outlinewidth": 0,
             "ticks": ""
            },
            "colorscale": [
             [
              0,
              "#0d0887"
             ],
             [
              0.1111111111111111,
              "#46039f"
             ],
             [
              0.2222222222222222,
              "#7201a8"
             ],
             [
              0.3333333333333333,
              "#9c179e"
             ],
             [
              0.4444444444444444,
              "#bd3786"
             ],
             [
              0.5555555555555556,
              "#d8576b"
             ],
             [
              0.6666666666666666,
              "#ed7953"
             ],
             [
              0.7777777777777778,
              "#fb9f3a"
             ],
             [
              0.8888888888888888,
              "#fdca26"
             ],
             [
              1,
              "#f0f921"
             ]
            ],
            "type": "heatmapgl"
           }
          ],
          "histogram": [
           {
            "marker": {
             "pattern": {
              "fillmode": "overlay",
              "size": 10,
              "solidity": 0.2
             }
            },
            "type": "histogram"
           }
          ],
          "histogram2d": [
           {
            "colorbar": {
             "outlinewidth": 0,
             "ticks": ""
            },
            "colorscale": [
             [
              0,
              "#0d0887"
             ],
             [
              0.1111111111111111,
              "#46039f"
             ],
             [
              0.2222222222222222,
              "#7201a8"
             ],
             [
              0.3333333333333333,
              "#9c179e"
             ],
             [
              0.4444444444444444,
              "#bd3786"
             ],
             [
              0.5555555555555556,
              "#d8576b"
             ],
             [
              0.6666666666666666,
              "#ed7953"
             ],
             [
              0.7777777777777778,
              "#fb9f3a"
             ],
             [
              0.8888888888888888,
              "#fdca26"
             ],
             [
              1,
              "#f0f921"
             ]
            ],
            "type": "histogram2d"
           }
          ],
          "histogram2dcontour": [
           {
            "colorbar": {
             "outlinewidth": 0,
             "ticks": ""
            },
            "colorscale": [
             [
              0,
              "#0d0887"
             ],
             [
              0.1111111111111111,
              "#46039f"
             ],
             [
              0.2222222222222222,
              "#7201a8"
             ],
             [
              0.3333333333333333,
              "#9c179e"
             ],
             [
              0.4444444444444444,
              "#bd3786"
             ],
             [
              0.5555555555555556,
              "#d8576b"
             ],
             [
              0.6666666666666666,
              "#ed7953"
             ],
             [
              0.7777777777777778,
              "#fb9f3a"
             ],
             [
              0.8888888888888888,
              "#fdca26"
             ],
             [
              1,
              "#f0f921"
             ]
            ],
            "type": "histogram2dcontour"
           }
          ],
          "mesh3d": [
           {
            "colorbar": {
             "outlinewidth": 0,
             "ticks": ""
            },
            "type": "mesh3d"
           }
          ],
          "parcoords": [
           {
            "line": {
             "colorbar": {
              "outlinewidth": 0,
              "ticks": ""
             }
            },
            "type": "parcoords"
           }
          ],
          "pie": [
           {
            "automargin": true,
            "type": "pie"
           }
          ],
          "scatter": [
           {
            "marker": {
             "colorbar": {
              "outlinewidth": 0,
              "ticks": ""
             }
            },
            "type": "scatter"
           }
          ],
          "scatter3d": [
           {
            "line": {
             "colorbar": {
              "outlinewidth": 0,
              "ticks": ""
             }
            },
            "marker": {
             "colorbar": {
              "outlinewidth": 0,
              "ticks": ""
             }
            },
            "type": "scatter3d"
           }
          ],
          "scattercarpet": [
           {
            "marker": {
             "colorbar": {
              "outlinewidth": 0,
              "ticks": ""
             }
            },
            "type": "scattercarpet"
           }
          ],
          "scattergeo": [
           {
            "marker": {
             "colorbar": {
              "outlinewidth": 0,
              "ticks": ""
             }
            },
            "type": "scattergeo"
           }
          ],
          "scattergl": [
           {
            "marker": {
             "colorbar": {
              "outlinewidth": 0,
              "ticks": ""
             }
            },
            "type": "scattergl"
           }
          ],
          "scattermapbox": [
           {
            "marker": {
             "colorbar": {
              "outlinewidth": 0,
              "ticks": ""
             }
            },
            "type": "scattermapbox"
           }
          ],
          "scatterpolar": [
           {
            "marker": {
             "colorbar": {
              "outlinewidth": 0,
              "ticks": ""
             }
            },
            "type": "scatterpolar"
           }
          ],
          "scatterpolargl": [
           {
            "marker": {
             "colorbar": {
              "outlinewidth": 0,
              "ticks": ""
             }
            },
            "type": "scatterpolargl"
           }
          ],
          "scatterternary": [
           {
            "marker": {
             "colorbar": {
              "outlinewidth": 0,
              "ticks": ""
             }
            },
            "type": "scatterternary"
           }
          ],
          "surface": [
           {
            "colorbar": {
             "outlinewidth": 0,
             "ticks": ""
            },
            "colorscale": [
             [
              0,
              "#0d0887"
             ],
             [
              0.1111111111111111,
              "#46039f"
             ],
             [
              0.2222222222222222,
              "#7201a8"
             ],
             [
              0.3333333333333333,
              "#9c179e"
             ],
             [
              0.4444444444444444,
              "#bd3786"
             ],
             [
              0.5555555555555556,
              "#d8576b"
             ],
             [
              0.6666666666666666,
              "#ed7953"
             ],
             [
              0.7777777777777778,
              "#fb9f3a"
             ],
             [
              0.8888888888888888,
              "#fdca26"
             ],
             [
              1,
              "#f0f921"
             ]
            ],
            "type": "surface"
           }
          ],
          "table": [
           {
            "cells": {
             "fill": {
              "color": "#EBF0F8"
             },
             "line": {
              "color": "white"
             }
            },
            "header": {
             "fill": {
              "color": "#C8D4E3"
             },
             "line": {
              "color": "white"
             }
            },
            "type": "table"
           }
          ]
         },
         "layout": {
          "annotationdefaults": {
           "arrowcolor": "#2a3f5f",
           "arrowhead": 0,
           "arrowwidth": 1
          },
          "autotypenumbers": "strict",
          "coloraxis": {
           "colorbar": {
            "outlinewidth": 0,
            "ticks": ""
           }
          },
          "colorscale": {
           "diverging": [
            [
             0,
             "#8e0152"
            ],
            [
             0.1,
             "#c51b7d"
            ],
            [
             0.2,
             "#de77ae"
            ],
            [
             0.3,
             "#f1b6da"
            ],
            [
             0.4,
             "#fde0ef"
            ],
            [
             0.5,
             "#f7f7f7"
            ],
            [
             0.6,
             "#e6f5d0"
            ],
            [
             0.7,
             "#b8e186"
            ],
            [
             0.8,
             "#7fbc41"
            ],
            [
             0.9,
             "#4d9221"
            ],
            [
             1,
             "#276419"
            ]
           ],
           "sequential": [
            [
             0,
             "#0d0887"
            ],
            [
             0.1111111111111111,
             "#46039f"
            ],
            [
             0.2222222222222222,
             "#7201a8"
            ],
            [
             0.3333333333333333,
             "#9c179e"
            ],
            [
             0.4444444444444444,
             "#bd3786"
            ],
            [
             0.5555555555555556,
             "#d8576b"
            ],
            [
             0.6666666666666666,
             "#ed7953"
            ],
            [
             0.7777777777777778,
             "#fb9f3a"
            ],
            [
             0.8888888888888888,
             "#fdca26"
            ],
            [
             1,
             "#f0f921"
            ]
           ],
           "sequentialminus": [
            [
             0,
             "#0d0887"
            ],
            [
             0.1111111111111111,
             "#46039f"
            ],
            [
             0.2222222222222222,
             "#7201a8"
            ],
            [
             0.3333333333333333,
             "#9c179e"
            ],
            [
             0.4444444444444444,
             "#bd3786"
            ],
            [
             0.5555555555555556,
             "#d8576b"
            ],
            [
             0.6666666666666666,
             "#ed7953"
            ],
            [
             0.7777777777777778,
             "#fb9f3a"
            ],
            [
             0.8888888888888888,
             "#fdca26"
            ],
            [
             1,
             "#f0f921"
            ]
           ]
          },
          "colorway": [
           "#636efa",
           "#EF553B",
           "#00cc96",
           "#ab63fa",
           "#FFA15A",
           "#19d3f3",
           "#FF6692",
           "#B6E880",
           "#FF97FF",
           "#FECB52"
          ],
          "font": {
           "color": "#2a3f5f"
          },
          "geo": {
           "bgcolor": "white",
           "lakecolor": "white",
           "landcolor": "#E5ECF6",
           "showlakes": true,
           "showland": true,
           "subunitcolor": "white"
          },
          "hoverlabel": {
           "align": "left"
          },
          "hovermode": "closest",
          "mapbox": {
           "style": "light"
          },
          "paper_bgcolor": "white",
          "plot_bgcolor": "#E5ECF6",
          "polar": {
           "angularaxis": {
            "gridcolor": "white",
            "linecolor": "white",
            "ticks": ""
           },
           "bgcolor": "#E5ECF6",
           "radialaxis": {
            "gridcolor": "white",
            "linecolor": "white",
            "ticks": ""
           }
          },
          "scene": {
           "xaxis": {
            "backgroundcolor": "#E5ECF6",
            "gridcolor": "white",
            "gridwidth": 2,
            "linecolor": "white",
            "showbackground": true,
            "ticks": "",
            "zerolinecolor": "white"
           },
           "yaxis": {
            "backgroundcolor": "#E5ECF6",
            "gridcolor": "white",
            "gridwidth": 2,
            "linecolor": "white",
            "showbackground": true,
            "ticks": "",
            "zerolinecolor": "white"
           },
           "zaxis": {
            "backgroundcolor": "#E5ECF6",
            "gridcolor": "white",
            "gridwidth": 2,
            "linecolor": "white",
            "showbackground": true,
            "ticks": "",
            "zerolinecolor": "white"
           }
          },
          "shapedefaults": {
           "line": {
            "color": "#2a3f5f"
           }
          },
          "ternary": {
           "aaxis": {
            "gridcolor": "white",
            "linecolor": "white",
            "ticks": ""
           },
           "baxis": {
            "gridcolor": "white",
            "linecolor": "white",
            "ticks": ""
           },
           "bgcolor": "#E5ECF6",
           "caxis": {
            "gridcolor": "white",
            "linecolor": "white",
            "ticks": ""
           }
          },
          "title": {
           "x": 0.05
          },
          "xaxis": {
           "automargin": true,
           "gridcolor": "white",
           "linecolor": "white",
           "ticks": "",
           "title": {
            "standoff": 15
           },
           "zerolinecolor": "white",
           "zerolinewidth": 2
          },
          "yaxis": {
           "automargin": true,
           "gridcolor": "white",
           "linecolor": "white",
           "ticks": "",
           "title": {
            "standoff": 15
           },
           "zerolinecolor": "white",
           "zerolinewidth": 2
          }
         }
        },
        "title": {
         "text": "2022 ACS dataset - Percentage dataset to population by State"
        },
        "width": 900
       }
      }
     },
     "metadata": {},
     "output_type": "display_data"
    }
   ],
   "source": [
    "# code for percentage dataset size of total population\n",
    "fig = gp.Figure(data=gp.Choropleth(\n",
    "    locations=df_per_state['State'], # Spatial coordinates\n",
    "    z = df_per_state['Size Percentage'].astype(float), # Data to be color-coded\n",
    "    locationmode = 'USA-states', # set of locations match entries in `locations`\n",
    "    colorscale = 'mint',\n",
    "    colorbar_title = \"<b>Data set size to population (%)</b>\",\n",
    "    marker_line_color='white', # line markers between states\n",
    "    zmax = 0.7,\n",
    "    zmin = 0.4\n",
    " \n",
    "    \n",
    "))\n",
    "fig.add_scattergeo(\n",
    "    locations=df_per_state['State'],    ###codes for states,\n",
    "    locationmode='USA-states',\n",
    "    text=df_per_state['State'],\n",
    "    mode='text')\n",
    "\n",
    "fig.update_layout(\n",
    "    title_text = '2022 ACS dataset - Percentage dataset to population by State',\n",
    "    geo_scope='usa', # limite map scope to USA\n",
    "    autosize=False,\n",
    "                width=900,\n",
    "                height=550,\n",
    "    font=dict(size=13)\n",
    ")\n",
    "\n",
    "fig.show()"
   ]
  },
  {
   "cell_type": "code",
   "execution_count": null,
   "metadata": {},
   "outputs": [
    {
     "data": {
      "application/vnd.plotly.v1+json": {
       "config": {
        "plotlyServerURL": "https://plot.ly"
       },
       "data": [
        {
         "colorbar": {
          "title": {
           "text": "<b>Percentage that earns >50k</b>"
          }
         },
         "colorscale": [
          [
           0,
           "rgb(230, 240, 240)"
          ],
          [
           0.09090909090909091,
           "rgb(191, 221, 229)"
          ],
          [
           0.18181818181818182,
           "rgb(156, 201, 226)"
          ],
          [
           0.2727272727272727,
           "rgb(129, 180, 227)"
          ],
          [
           0.36363636363636365,
           "rgb(115, 154, 228)"
          ],
          [
           0.45454545454545453,
           "rgb(117, 127, 221)"
          ],
          [
           0.5454545454545454,
           "rgb(120, 100, 202)"
          ],
          [
           0.6363636363636364,
           "rgb(119, 74, 175)"
          ],
          [
           0.7272727272727273,
           "rgb(113, 50, 141)"
          ],
          [
           0.8181818181818182,
           "rgb(100, 31, 104)"
          ],
          [
           0.9090909090909091,
           "rgb(80, 20, 66)"
          ],
          [
           1,
           "rgb(54, 14, 36)"
          ]
         ],
         "locationmode": "USA-states",
         "locations": [
          "GA",
          "HI",
          "CT",
          "NJ",
          "LA",
          "MA",
          "NH",
          "WV",
          "AZ",
          "MN",
          "AK",
          "IA",
          "UT",
          "AR",
          "OK",
          "MD",
          "WA",
          "RI",
          "MI",
          "WY",
          "MS",
          "ND",
          "VT",
          "OH",
          "MT",
          "TN",
          "WI",
          "CO",
          "NC",
          "SC",
          "FL",
          "PA",
          "SD",
          "NE",
          "ME",
          "CA",
          "AL",
          "NM",
          "ID",
          "DE",
          "VA",
          "NV",
          "OR",
          "KY",
          "IL",
          "TX",
          "MO",
          "PR",
          "KS",
          "NY",
          "IN"
         ],
         "marker": {
          "line": {
           "color": "white"
          }
         },
         "type": "choropleth",
         "z": [
          42.67689530685921,
          44.31527848748084,
          53.2134056185313,
          54.30927504903727,
          38.59842670759785,
          54.25973081120408,
          50.77608142493639,
          36.087393269713715,
          42.674541356386776,
          46.11019528277961,
          42.897327707454295,
          39.069950075727824,
          41.442121146798875,
          33.73066553143181,
          33.81523465308581,
          55.7709013569781,
          51.838560731117965,
          48.33683473389356,
          41.07424960505529,
          39.47782321484743,
          32.93292546444826,
          43.54293441514537,
          43.5126582278481,
          41.57501455651161,
          37.23871421043386,
          38.124062864441605,
          42.099885438276004,
          50.82350823508235,
          40.5995654255515,
          37.60914371369684,
          40.60575486155398,
          43.80482456140351,
          37.05146606520402,
          40.16108365367014,
          39.10186199342826,
          47.326463153801285,
          37.874239012592774,
          38.09680245291283,
          36.992572998270425,
          48.109463129308544,
          49.61628650607546,
          41.262953367875646,
          44.56873315363881,
          37.32970027247956,
          46.25071293489028,
          43.384698567180315,
          38.14306403878849,
          13.475728155339805,
          38.36890729531698,
          47.94884538920324,
          38.46985147417424
         ],
         "zmax": 100,
         "zmin": 0
        },
        {
         "locationmode": "USA-states",
         "locations": [
          "GA",
          "HI",
          "CT",
          "NJ",
          "LA",
          "MA",
          "NH",
          "WV",
          "AZ",
          "MN",
          "AK",
          "IA",
          "UT",
          "AR",
          "OK",
          "MD",
          "WA",
          "RI",
          "MI",
          "WY",
          "MS",
          "ND",
          "VT",
          "OH",
          "MT",
          "TN",
          "WI",
          "CO",
          "NC",
          "SC",
          "FL",
          "PA",
          "SD",
          "NE",
          "ME",
          "CA",
          "AL",
          "NM",
          "ID",
          "DE",
          "VA",
          "NV",
          "OR",
          "KY",
          "IL",
          "TX",
          "MO",
          "PR",
          "KS",
          "NY",
          "IN"
         ],
         "mode": "text",
         "text": [
          "GA",
          "HI",
          "CT",
          "NJ",
          "LA",
          "MA",
          "NH",
          "WV",
          "AZ",
          "MN",
          "AK",
          "IA",
          "UT",
          "AR",
          "OK",
          "MD",
          "WA",
          "RI",
          "MI",
          "WY",
          "MS",
          "ND",
          "VT",
          "OH",
          "MT",
          "TN",
          "WI",
          "CO",
          "NC",
          "SC",
          "FL",
          "PA",
          "SD",
          "NE",
          "ME",
          "CA",
          "AL",
          "NM",
          "ID",
          "DE",
          "VA",
          "NV",
          "OR",
          "KY",
          "IL",
          "TX",
          "MO",
          "PR",
          "KS",
          "NY",
          "IN"
         ],
         "type": "scattergeo"
        }
       ],
       "layout": {
        "autosize": false,
        "font": {
         "size": 13
        },
        "geo": {
         "scope": "usa"
        },
        "height": 550,
        "template": {
         "data": {
          "bar": [
           {
            "error_x": {
             "color": "#2a3f5f"
            },
            "error_y": {
             "color": "#2a3f5f"
            },
            "marker": {
             "line": {
              "color": "#E5ECF6",
              "width": 0.5
             },
             "pattern": {
              "fillmode": "overlay",
              "size": 10,
              "solidity": 0.2
             }
            },
            "type": "bar"
           }
          ],
          "barpolar": [
           {
            "marker": {
             "line": {
              "color": "#E5ECF6",
              "width": 0.5
             },
             "pattern": {
              "fillmode": "overlay",
              "size": 10,
              "solidity": 0.2
             }
            },
            "type": "barpolar"
           }
          ],
          "carpet": [
           {
            "aaxis": {
             "endlinecolor": "#2a3f5f",
             "gridcolor": "white",
             "linecolor": "white",
             "minorgridcolor": "white",
             "startlinecolor": "#2a3f5f"
            },
            "baxis": {
             "endlinecolor": "#2a3f5f",
             "gridcolor": "white",
             "linecolor": "white",
             "minorgridcolor": "white",
             "startlinecolor": "#2a3f5f"
            },
            "type": "carpet"
           }
          ],
          "choropleth": [
           {
            "colorbar": {
             "outlinewidth": 0,
             "ticks": ""
            },
            "type": "choropleth"
           }
          ],
          "contour": [
           {
            "colorbar": {
             "outlinewidth": 0,
             "ticks": ""
            },
            "colorscale": [
             [
              0,
              "#0d0887"
             ],
             [
              0.1111111111111111,
              "#46039f"
             ],
             [
              0.2222222222222222,
              "#7201a8"
             ],
             [
              0.3333333333333333,
              "#9c179e"
             ],
             [
              0.4444444444444444,
              "#bd3786"
             ],
             [
              0.5555555555555556,
              "#d8576b"
             ],
             [
              0.6666666666666666,
              "#ed7953"
             ],
             [
              0.7777777777777778,
              "#fb9f3a"
             ],
             [
              0.8888888888888888,
              "#fdca26"
             ],
             [
              1,
              "#f0f921"
             ]
            ],
            "type": "contour"
           }
          ],
          "contourcarpet": [
           {
            "colorbar": {
             "outlinewidth": 0,
             "ticks": ""
            },
            "type": "contourcarpet"
           }
          ],
          "heatmap": [
           {
            "colorbar": {
             "outlinewidth": 0,
             "ticks": ""
            },
            "colorscale": [
             [
              0,
              "#0d0887"
             ],
             [
              0.1111111111111111,
              "#46039f"
             ],
             [
              0.2222222222222222,
              "#7201a8"
             ],
             [
              0.3333333333333333,
              "#9c179e"
             ],
             [
              0.4444444444444444,
              "#bd3786"
             ],
             [
              0.5555555555555556,
              "#d8576b"
             ],
             [
              0.6666666666666666,
              "#ed7953"
             ],
             [
              0.7777777777777778,
              "#fb9f3a"
             ],
             [
              0.8888888888888888,
              "#fdca26"
             ],
             [
              1,
              "#f0f921"
             ]
            ],
            "type": "heatmap"
           }
          ],
          "heatmapgl": [
           {
            "colorbar": {
             "outlinewidth": 0,
             "ticks": ""
            },
            "colorscale": [
             [
              0,
              "#0d0887"
             ],
             [
              0.1111111111111111,
              "#46039f"
             ],
             [
              0.2222222222222222,
              "#7201a8"
             ],
             [
              0.3333333333333333,
              "#9c179e"
             ],
             [
              0.4444444444444444,
              "#bd3786"
             ],
             [
              0.5555555555555556,
              "#d8576b"
             ],
             [
              0.6666666666666666,
              "#ed7953"
             ],
             [
              0.7777777777777778,
              "#fb9f3a"
             ],
             [
              0.8888888888888888,
              "#fdca26"
             ],
             [
              1,
              "#f0f921"
             ]
            ],
            "type": "heatmapgl"
           }
          ],
          "histogram": [
           {
            "marker": {
             "pattern": {
              "fillmode": "overlay",
              "size": 10,
              "solidity": 0.2
             }
            },
            "type": "histogram"
           }
          ],
          "histogram2d": [
           {
            "colorbar": {
             "outlinewidth": 0,
             "ticks": ""
            },
            "colorscale": [
             [
              0,
              "#0d0887"
             ],
             [
              0.1111111111111111,
              "#46039f"
             ],
             [
              0.2222222222222222,
              "#7201a8"
             ],
             [
              0.3333333333333333,
              "#9c179e"
             ],
             [
              0.4444444444444444,
              "#bd3786"
             ],
             [
              0.5555555555555556,
              "#d8576b"
             ],
             [
              0.6666666666666666,
              "#ed7953"
             ],
             [
              0.7777777777777778,
              "#fb9f3a"
             ],
             [
              0.8888888888888888,
              "#fdca26"
             ],
             [
              1,
              "#f0f921"
             ]
            ],
            "type": "histogram2d"
           }
          ],
          "histogram2dcontour": [
           {
            "colorbar": {
             "outlinewidth": 0,
             "ticks": ""
            },
            "colorscale": [
             [
              0,
              "#0d0887"
             ],
             [
              0.1111111111111111,
              "#46039f"
             ],
             [
              0.2222222222222222,
              "#7201a8"
             ],
             [
              0.3333333333333333,
              "#9c179e"
             ],
             [
              0.4444444444444444,
              "#bd3786"
             ],
             [
              0.5555555555555556,
              "#d8576b"
             ],
             [
              0.6666666666666666,
              "#ed7953"
             ],
             [
              0.7777777777777778,
              "#fb9f3a"
             ],
             [
              0.8888888888888888,
              "#fdca26"
             ],
             [
              1,
              "#f0f921"
             ]
            ],
            "type": "histogram2dcontour"
           }
          ],
          "mesh3d": [
           {
            "colorbar": {
             "outlinewidth": 0,
             "ticks": ""
            },
            "type": "mesh3d"
           }
          ],
          "parcoords": [
           {
            "line": {
             "colorbar": {
              "outlinewidth": 0,
              "ticks": ""
             }
            },
            "type": "parcoords"
           }
          ],
          "pie": [
           {
            "automargin": true,
            "type": "pie"
           }
          ],
          "scatter": [
           {
            "marker": {
             "colorbar": {
              "outlinewidth": 0,
              "ticks": ""
             }
            },
            "type": "scatter"
           }
          ],
          "scatter3d": [
           {
            "line": {
             "colorbar": {
              "outlinewidth": 0,
              "ticks": ""
             }
            },
            "marker": {
             "colorbar": {
              "outlinewidth": 0,
              "ticks": ""
             }
            },
            "type": "scatter3d"
           }
          ],
          "scattercarpet": [
           {
            "marker": {
             "colorbar": {
              "outlinewidth": 0,
              "ticks": ""
             }
            },
            "type": "scattercarpet"
           }
          ],
          "scattergeo": [
           {
            "marker": {
             "colorbar": {
              "outlinewidth": 0,
              "ticks": ""
             }
            },
            "type": "scattergeo"
           }
          ],
          "scattergl": [
           {
            "marker": {
             "colorbar": {
              "outlinewidth": 0,
              "ticks": ""
             }
            },
            "type": "scattergl"
           }
          ],
          "scattermapbox": [
           {
            "marker": {
             "colorbar": {
              "outlinewidth": 0,
              "ticks": ""
             }
            },
            "type": "scattermapbox"
           }
          ],
          "scatterpolar": [
           {
            "marker": {
             "colorbar": {
              "outlinewidth": 0,
              "ticks": ""
             }
            },
            "type": "scatterpolar"
           }
          ],
          "scatterpolargl": [
           {
            "marker": {
             "colorbar": {
              "outlinewidth": 0,
              "ticks": ""
             }
            },
            "type": "scatterpolargl"
           }
          ],
          "scatterternary": [
           {
            "marker": {
             "colorbar": {
              "outlinewidth": 0,
              "ticks": ""
             }
            },
            "type": "scatterternary"
           }
          ],
          "surface": [
           {
            "colorbar": {
             "outlinewidth": 0,
             "ticks": ""
            },
            "colorscale": [
             [
              0,
              "#0d0887"
             ],
             [
              0.1111111111111111,
              "#46039f"
             ],
             [
              0.2222222222222222,
              "#7201a8"
             ],
             [
              0.3333333333333333,
              "#9c179e"
             ],
             [
              0.4444444444444444,
              "#bd3786"
             ],
             [
              0.5555555555555556,
              "#d8576b"
             ],
             [
              0.6666666666666666,
              "#ed7953"
             ],
             [
              0.7777777777777778,
              "#fb9f3a"
             ],
             [
              0.8888888888888888,
              "#fdca26"
             ],
             [
              1,
              "#f0f921"
             ]
            ],
            "type": "surface"
           }
          ],
          "table": [
           {
            "cells": {
             "fill": {
              "color": "#EBF0F8"
             },
             "line": {
              "color": "white"
             }
            },
            "header": {
             "fill": {
              "color": "#C8D4E3"
             },
             "line": {
              "color": "white"
             }
            },
            "type": "table"
           }
          ]
         },
         "layout": {
          "annotationdefaults": {
           "arrowcolor": "#2a3f5f",
           "arrowhead": 0,
           "arrowwidth": 1
          },
          "autotypenumbers": "strict",
          "coloraxis": {
           "colorbar": {
            "outlinewidth": 0,
            "ticks": ""
           }
          },
          "colorscale": {
           "diverging": [
            [
             0,
             "#8e0152"
            ],
            [
             0.1,
             "#c51b7d"
            ],
            [
             0.2,
             "#de77ae"
            ],
            [
             0.3,
             "#f1b6da"
            ],
            [
             0.4,
             "#fde0ef"
            ],
            [
             0.5,
             "#f7f7f7"
            ],
            [
             0.6,
             "#e6f5d0"
            ],
            [
             0.7,
             "#b8e186"
            ],
            [
             0.8,
             "#7fbc41"
            ],
            [
             0.9,
             "#4d9221"
            ],
            [
             1,
             "#276419"
            ]
           ],
           "sequential": [
            [
             0,
             "#0d0887"
            ],
            [
             0.1111111111111111,
             "#46039f"
            ],
            [
             0.2222222222222222,
             "#7201a8"
            ],
            [
             0.3333333333333333,
             "#9c179e"
            ],
            [
             0.4444444444444444,
             "#bd3786"
            ],
            [
             0.5555555555555556,
             "#d8576b"
            ],
            [
             0.6666666666666666,
             "#ed7953"
            ],
            [
             0.7777777777777778,
             "#fb9f3a"
            ],
            [
             0.8888888888888888,
             "#fdca26"
            ],
            [
             1,
             "#f0f921"
            ]
           ],
           "sequentialminus": [
            [
             0,
             "#0d0887"
            ],
            [
             0.1111111111111111,
             "#46039f"
            ],
            [
             0.2222222222222222,
             "#7201a8"
            ],
            [
             0.3333333333333333,
             "#9c179e"
            ],
            [
             0.4444444444444444,
             "#bd3786"
            ],
            [
             0.5555555555555556,
             "#d8576b"
            ],
            [
             0.6666666666666666,
             "#ed7953"
            ],
            [
             0.7777777777777778,
             "#fb9f3a"
            ],
            [
             0.8888888888888888,
             "#fdca26"
            ],
            [
             1,
             "#f0f921"
            ]
           ]
          },
          "colorway": [
           "#636efa",
           "#EF553B",
           "#00cc96",
           "#ab63fa",
           "#FFA15A",
           "#19d3f3",
           "#FF6692",
           "#B6E880",
           "#FF97FF",
           "#FECB52"
          ],
          "font": {
           "color": "#2a3f5f"
          },
          "geo": {
           "bgcolor": "white",
           "lakecolor": "white",
           "landcolor": "#E5ECF6",
           "showlakes": true,
           "showland": true,
           "subunitcolor": "white"
          },
          "hoverlabel": {
           "align": "left"
          },
          "hovermode": "closest",
          "mapbox": {
           "style": "light"
          },
          "paper_bgcolor": "white",
          "plot_bgcolor": "#E5ECF6",
          "polar": {
           "angularaxis": {
            "gridcolor": "white",
            "linecolor": "white",
            "ticks": ""
           },
           "bgcolor": "#E5ECF6",
           "radialaxis": {
            "gridcolor": "white",
            "linecolor": "white",
            "ticks": ""
           }
          },
          "scene": {
           "xaxis": {
            "backgroundcolor": "#E5ECF6",
            "gridcolor": "white",
            "gridwidth": 2,
            "linecolor": "white",
            "showbackground": true,
            "ticks": "",
            "zerolinecolor": "white"
           },
           "yaxis": {
            "backgroundcolor": "#E5ECF6",
            "gridcolor": "white",
            "gridwidth": 2,
            "linecolor": "white",
            "showbackground": true,
            "ticks": "",
            "zerolinecolor": "white"
           },
           "zaxis": {
            "backgroundcolor": "#E5ECF6",
            "gridcolor": "white",
            "gridwidth": 2,
            "linecolor": "white",
            "showbackground": true,
            "ticks": "",
            "zerolinecolor": "white"
           }
          },
          "shapedefaults": {
           "line": {
            "color": "#2a3f5f"
           }
          },
          "ternary": {
           "aaxis": {
            "gridcolor": "white",
            "linecolor": "white",
            "ticks": ""
           },
           "baxis": {
            "gridcolor": "white",
            "linecolor": "white",
            "ticks": ""
           },
           "bgcolor": "#E5ECF6",
           "caxis": {
            "gridcolor": "white",
            "linecolor": "white",
            "ticks": ""
           }
          },
          "title": {
           "x": 0.05
          },
          "xaxis": {
           "automargin": true,
           "gridcolor": "white",
           "linecolor": "white",
           "ticks": "",
           "title": {
            "standoff": 15
           },
           "zerolinecolor": "white",
           "zerolinewidth": 2
          },
          "yaxis": {
           "automargin": true,
           "gridcolor": "white",
           "linecolor": "white",
           "ticks": "",
           "title": {
            "standoff": 15
           },
           "zerolinecolor": "white",
           "zerolinewidth": 2
          }
         }
        },
        "title": {
         "text": "2022 ACS dataset - Percentage that earns >50k per State"
        },
        "width": 900
       }
      }
     },
     "metadata": {},
     "output_type": "display_data"
    }
   ],
   "source": [
    "# code for total size per state\n",
    "fig = gp.Figure(data=gp.Choropleth(\n",
    "    locations=df_per_state['State'], # Spatial coordinates\n",
    "    z = df_per_state['%>50k'].astype(float), # Data to be color-coded\n",
    "    locationmode = 'USA-states', # set of locations match entries in `locations`\n",
    "    colorscale = 'dense',\n",
    "    colorbar_title = \"<b>Percentage that earns >50k</b>\",\n",
    "    marker_line_color='white', # line markers between states\n",
    "    zmax = 100,\n",
    "    zmin = 0.0\n",
    " \n",
    "    \n",
    "))\n",
    "fig.add_scattergeo(\n",
    "    locations=df_per_state['State'],    ###codes for states,\n",
    "    locationmode='USA-states',\n",
    "    text=df_per_state['State'],\n",
    "    mode='text')\n",
    "\n",
    "fig.update_layout(\n",
    "    title_text = '2022 ACS dataset - Percentage that earns >50k per State',\n",
    "    geo_scope='usa', # limite map scope to USA\n",
    "    autosize=False,\n",
    "                width=900,\n",
    "                height=550,\n",
    "    font=dict(size=13)\n",
    ")\n",
    "\n",
    "fig.show()\n"
   ]
  },
  {
   "cell_type": "code",
   "execution_count": null,
   "metadata": {},
   "outputs": [
    {
     "data": {
      "application/vnd.plotly.v1+json": {
       "config": {
        "plotlyServerURL": "https://plot.ly"
       },
       "data": [
        {
         "marker": {
          "color": "brown"
         },
         "name": "White",
         "orientation": "h",
         "showlegend": false,
         "type": "bar",
         "x": [
          0.6036642599277978,
          0.2534491568727644,
          0.7214391325776245,
          0.6142468275889676,
          0.6583365310821182,
          0.7408269673820783,
          0.9045801526717557,
          0.9073329984932195,
          0.6230134953921652,
          0.8701813340096374,
          0.5488045007032348,
          0.8956077859426712,
          0.8255550765251132,
          0.7531573719313183,
          0.6579048244893488,
          0.5740646436809155,
          0.6816670255269265,
          0.7806372549019608,
          0.8192053112564242,
          0.8424032714690154,
          0.6414981720510333,
          0.8832544512057696,
          0.9129746835443038,
          0.8334573332470725,
          0.8633409450202002,
          0.7804187260509802,
          0.8841068829922284,
          0.7617976179761797,
          0.6898316944720657,
          0.7003560052463931,
          0.6016619233002408,
          0.8409495021337127,
          0.8681566536805413,
          0.858045030203185,
          0.9134720700985761,
          0.414274817152515,
          0.7255024601784672,
          0.4985764345159877,
          0.8385390171940177,
          0.6847712554836014,
          0.6616712854402046,
          0.5400259067357513,
          0.7615453728661276,
          0.8575065886451959,
          0.7183982229159788,
          0.554845904298459,
          0.8275297525344751,
          0.25407766990291264,
          0.8231920993947117,
          0.6453490594892185,
          0.8332686765683884
         ],
         "y": [
          "GA",
          "HI",
          "CT",
          "NJ",
          "LA",
          "MA",
          "NH",
          "WV",
          "AZ",
          "MN",
          "AK",
          "IA",
          "UT",
          "AR",
          "OK",
          "MD",
          "WA",
          "RI",
          "MI",
          "WY",
          "MS",
          "ND",
          "VT",
          "OH",
          "MT",
          "TN",
          "WI",
          "CO",
          "NC",
          "SC",
          "FL",
          "PA",
          "SD",
          "NE",
          "ME",
          "CA",
          "AL",
          "NM",
          "ID",
          "DE",
          "VA",
          "NV",
          "OR",
          "KY",
          "IL",
          "TX",
          "MO",
          "PR",
          "KS",
          "NY",
          "IN"
         ]
        },
        {
         "hoverinfo": "x",
         "marker": {
          "color": "orange"
         },
         "name": "White with income >50K",
         "opacity": 0.5,
         "orientation": "h",
         "type": "bar",
         "x": [
          0.28833935018050544,
          0.12353091466530404,
          0.4210941350418926,
          0.3640967135022617,
          0.2935533384497314,
          0.43239966048259976,
          0.46475826972010176,
          0.33350075339025614,
          0.30560073040600305,
          0.4183362921633274,
          0.28973277074542897,
          0.36242777808941495,
          0.3613925414960121,
          0.2780615864907053,
          0.24757680302283555,
          0.351586136656382,
          0.3741716309002608,
          0.40493697478991597,
          0.3504909312696223,
          0.3466498899024851,
          0.2524807878833097,
          0.40658102321388323,
          0.40585443037974683,
          0.36294235621401305,
          0.33339188477077114,
          0.31773754650969066,
          0.3869399634640988,
          0.4145741457414574,
          0.31421942326814717,
          0.3018924489413528,
          0.2793002027432205,
          0.38193456614509247,
          0.3401681361492721,
          0.3616144975288303,
          0.36486856516977,
          0.2370660644041939,
          0.30393628554749397,
          0.23324572930354795,
          0.32587241835385083,
          0.36390223522038856,
          0.35376252398209335,
          0.2710492227979275,
          0.35867026055705303,
          0.33385446911153793,
          0.3560772070963288,
          0.2780008110300081,
          0.32756123669794096,
          0.03485436893203883,
          0.33163427843262183,
          0.3385743232910231,
          0.33482043892706714
         ],
         "y": [
          "GA",
          "HI",
          "CT",
          "NJ",
          "LA",
          "MA",
          "NH",
          "WV",
          "AZ",
          "MN",
          "AK",
          "IA",
          "UT",
          "AR",
          "OK",
          "MD",
          "WA",
          "RI",
          "MI",
          "WY",
          "MS",
          "ND",
          "VT",
          "OH",
          "MT",
          "TN",
          "WI",
          "CO",
          "NC",
          "SC",
          "FL",
          "PA",
          "SD",
          "NE",
          "ME",
          "CA",
          "AL",
          "NM",
          "ID",
          "DE",
          "VA",
          "NV",
          "OR",
          "KY",
          "IL",
          "TX",
          "MO",
          "PR",
          "KS",
          "NY",
          "IN"
         ]
        },
        {
         "name": "Non-White",
         "orientation": "h",
         "showlegend": false,
         "type": "bar",
         "x": [
          -0.3963357400722022,
          -0.7465508431272355,
          -0.27856086742237557,
          -0.3857531724110324,
          -0.3416634689178818,
          -0.2591730326179217,
          -0.09541984732824428,
          -0.09266700150678052,
          -0.3769865046078347,
          -0.12981866599036268,
          -0.4511954992967651,
          -0.10439221405732878,
          -0.17444492347488683,
          -0.2468426280686817,
          -0.3420951755106511,
          -0.4259353563190846,
          -0.3183329744730735,
          -0.2193627450980392,
          -0.1807946887435759,
          -0.15759672853098458,
          -0.3585018279489666,
          -0.11674554879423034,
          -0.08702531645569621,
          -0.16654266675292748,
          -0.13665905497979974,
          -0.21958127394901983,
          -0.11589311700777162,
          -0.23820238202382024,
          -0.3101683055279343,
          -0.29964399475360687,
          -0.3983380766997592,
          -0.15905049786628733,
          -0.13184334631945868,
          -0.14195496979681493,
          -0.08652792990142388,
          -0.585725182847485,
          -0.2744975398215328,
          -0.5014235654840122,
          -0.16146098280598228,
          -0.3152287445163986,
          -0.33832871455979535,
          -0.4599740932642487,
          -0.23845462713387242,
          -0.14249341135480412,
          -0.28160177708402123,
          -0.44515409570154096,
          -0.17247024746552483,
          -0.7459223300970874,
          -0.1768079006052883,
          -0.35465094051078144,
          -0.16673132343161162
         ],
         "y": [
          "GA",
          "HI",
          "CT",
          "NJ",
          "LA",
          "MA",
          "NH",
          "WV",
          "AZ",
          "MN",
          "AK",
          "IA",
          "UT",
          "AR",
          "OK",
          "MD",
          "WA",
          "RI",
          "MI",
          "WY",
          "MS",
          "ND",
          "VT",
          "OH",
          "MT",
          "TN",
          "WI",
          "CO",
          "NC",
          "SC",
          "FL",
          "PA",
          "SD",
          "NE",
          "ME",
          "CA",
          "AL",
          "NM",
          "ID",
          "DE",
          "VA",
          "NV",
          "OR",
          "KY",
          "IL",
          "TX",
          "MO",
          "PR",
          "KS",
          "NY",
          "IN"
         ]
        },
        {
         "hoverinfo": "x",
         "marker": {
          "color": "darkgreen"
         },
         "name": "Non-White with income >50K",
         "opacity": 0.5,
         "orientation": "h",
         "type": "bar",
         "x": [
          -0.13842960288808664,
          -0.31962187020950433,
          -0.1110399211434204,
          -0.17899603698811095,
          -0.09243092862624712,
          -0.11019764762944101,
          -0.04300254452926209,
          -0.027373179306880966,
          -0.12114468315786471,
          -0.04276566066446868,
          -0.13924050632911392,
          -0.028271722667863354,
          -0.05302866997197672,
          -0.059245068823612884,
          -0.09057554350802256,
          -0.20612287691339903,
          -0.14421397641091893,
          -0.0784313725490196,
          -0.06025156478093067,
          -0.0481283422459893,
          -0.07684846676117287,
          -0.02884832093757043,
          -0.029272151898734177,
          -0.05280778935110306,
          -0.03899525733356754,
          -0.06350308213472539,
          -0.034058890918661176,
          -0.0936609366093661,
          -0.09177623098736788,
          -0.07419898819561552,
          -0.12675734587231938,
          -0.05611367946894263,
          -0.030346524502768094,
          -0.03999633900787113,
          -0.026150054764512595,
          -0.23619856713381893,
          -0.07480610457843383,
          -0.14772229522558036,
          -0.04405331162885339,
          -0.11719239607269688,
          -0.14240034107866126,
          -0.141580310880829,
          -0.08701707097933513,
          -0.039442533613257696,
          -0.10642992225257407,
          -0.1558461746417951,
          -0.05386940368994396,
          -0.09990291262135922,
          -0.052054794520547946,
          -0.14091413060100932,
          -0.04987807581467524
         ],
         "y": [
          "GA",
          "HI",
          "CT",
          "NJ",
          "LA",
          "MA",
          "NH",
          "WV",
          "AZ",
          "MN",
          "AK",
          "IA",
          "UT",
          "AR",
          "OK",
          "MD",
          "WA",
          "RI",
          "MI",
          "WY",
          "MS",
          "ND",
          "VT",
          "OH",
          "MT",
          "TN",
          "WI",
          "CO",
          "NC",
          "SC",
          "FL",
          "PA",
          "SD",
          "NE",
          "ME",
          "CA",
          "AL",
          "NM",
          "ID",
          "DE",
          "VA",
          "NV",
          "OR",
          "KY",
          "IL",
          "TX",
          "MO",
          "PR",
          "KS",
          "NY",
          "IN"
         ]
        }
       ],
       "layout": {
        "autosize": false,
        "bargap": 0,
        "bargroupgap": 0,
        "barmode": "overlay",
        "font": {
         "size": 14
        },
        "height": 800,
        "plot_bgcolor": "rgba(0,0,0,0)",
        "template": {
         "data": {
          "bar": [
           {
            "error_x": {
             "color": "#2a3f5f"
            },
            "error_y": {
             "color": "#2a3f5f"
            },
            "marker": {
             "line": {
              "color": "#E5ECF6",
              "width": 0.5
             },
             "pattern": {
              "fillmode": "overlay",
              "size": 10,
              "solidity": 0.2
             }
            },
            "type": "bar"
           }
          ],
          "barpolar": [
           {
            "marker": {
             "line": {
              "color": "#E5ECF6",
              "width": 0.5
             },
             "pattern": {
              "fillmode": "overlay",
              "size": 10,
              "solidity": 0.2
             }
            },
            "type": "barpolar"
           }
          ],
          "carpet": [
           {
            "aaxis": {
             "endlinecolor": "#2a3f5f",
             "gridcolor": "white",
             "linecolor": "white",
             "minorgridcolor": "white",
             "startlinecolor": "#2a3f5f"
            },
            "baxis": {
             "endlinecolor": "#2a3f5f",
             "gridcolor": "white",
             "linecolor": "white",
             "minorgridcolor": "white",
             "startlinecolor": "#2a3f5f"
            },
            "type": "carpet"
           }
          ],
          "choropleth": [
           {
            "colorbar": {
             "outlinewidth": 0,
             "ticks": ""
            },
            "type": "choropleth"
           }
          ],
          "contour": [
           {
            "colorbar": {
             "outlinewidth": 0,
             "ticks": ""
            },
            "colorscale": [
             [
              0,
              "#0d0887"
             ],
             [
              0.1111111111111111,
              "#46039f"
             ],
             [
              0.2222222222222222,
              "#7201a8"
             ],
             [
              0.3333333333333333,
              "#9c179e"
             ],
             [
              0.4444444444444444,
              "#bd3786"
             ],
             [
              0.5555555555555556,
              "#d8576b"
             ],
             [
              0.6666666666666666,
              "#ed7953"
             ],
             [
              0.7777777777777778,
              "#fb9f3a"
             ],
             [
              0.8888888888888888,
              "#fdca26"
             ],
             [
              1,
              "#f0f921"
             ]
            ],
            "type": "contour"
           }
          ],
          "contourcarpet": [
           {
            "colorbar": {
             "outlinewidth": 0,
             "ticks": ""
            },
            "type": "contourcarpet"
           }
          ],
          "heatmap": [
           {
            "colorbar": {
             "outlinewidth": 0,
             "ticks": ""
            },
            "colorscale": [
             [
              0,
              "#0d0887"
             ],
             [
              0.1111111111111111,
              "#46039f"
             ],
             [
              0.2222222222222222,
              "#7201a8"
             ],
             [
              0.3333333333333333,
              "#9c179e"
             ],
             [
              0.4444444444444444,
              "#bd3786"
             ],
             [
              0.5555555555555556,
              "#d8576b"
             ],
             [
              0.6666666666666666,
              "#ed7953"
             ],
             [
              0.7777777777777778,
              "#fb9f3a"
             ],
             [
              0.8888888888888888,
              "#fdca26"
             ],
             [
              1,
              "#f0f921"
             ]
            ],
            "type": "heatmap"
           }
          ],
          "heatmapgl": [
           {
            "colorbar": {
             "outlinewidth": 0,
             "ticks": ""
            },
            "colorscale": [
             [
              0,
              "#0d0887"
             ],
             [
              0.1111111111111111,
              "#46039f"
             ],
             [
              0.2222222222222222,
              "#7201a8"
             ],
             [
              0.3333333333333333,
              "#9c179e"
             ],
             [
              0.4444444444444444,
              "#bd3786"
             ],
             [
              0.5555555555555556,
              "#d8576b"
             ],
             [
              0.6666666666666666,
              "#ed7953"
             ],
             [
              0.7777777777777778,
              "#fb9f3a"
             ],
             [
              0.8888888888888888,
              "#fdca26"
             ],
             [
              1,
              "#f0f921"
             ]
            ],
            "type": "heatmapgl"
           }
          ],
          "histogram": [
           {
            "marker": {
             "pattern": {
              "fillmode": "overlay",
              "size": 10,
              "solidity": 0.2
             }
            },
            "type": "histogram"
           }
          ],
          "histogram2d": [
           {
            "colorbar": {
             "outlinewidth": 0,
             "ticks": ""
            },
            "colorscale": [
             [
              0,
              "#0d0887"
             ],
             [
              0.1111111111111111,
              "#46039f"
             ],
             [
              0.2222222222222222,
              "#7201a8"
             ],
             [
              0.3333333333333333,
              "#9c179e"
             ],
             [
              0.4444444444444444,
              "#bd3786"
             ],
             [
              0.5555555555555556,
              "#d8576b"
             ],
             [
              0.6666666666666666,
              "#ed7953"
             ],
             [
              0.7777777777777778,
              "#fb9f3a"
             ],
             [
              0.8888888888888888,
              "#fdca26"
             ],
             [
              1,
              "#f0f921"
             ]
            ],
            "type": "histogram2d"
           }
          ],
          "histogram2dcontour": [
           {
            "colorbar": {
             "outlinewidth": 0,
             "ticks": ""
            },
            "colorscale": [
             [
              0,
              "#0d0887"
             ],
             [
              0.1111111111111111,
              "#46039f"
             ],
             [
              0.2222222222222222,
              "#7201a8"
             ],
             [
              0.3333333333333333,
              "#9c179e"
             ],
             [
              0.4444444444444444,
              "#bd3786"
             ],
             [
              0.5555555555555556,
              "#d8576b"
             ],
             [
              0.6666666666666666,
              "#ed7953"
             ],
             [
              0.7777777777777778,
              "#fb9f3a"
             ],
             [
              0.8888888888888888,
              "#fdca26"
             ],
             [
              1,
              "#f0f921"
             ]
            ],
            "type": "histogram2dcontour"
           }
          ],
          "mesh3d": [
           {
            "colorbar": {
             "outlinewidth": 0,
             "ticks": ""
            },
            "type": "mesh3d"
           }
          ],
          "parcoords": [
           {
            "line": {
             "colorbar": {
              "outlinewidth": 0,
              "ticks": ""
             }
            },
            "type": "parcoords"
           }
          ],
          "pie": [
           {
            "automargin": true,
            "type": "pie"
           }
          ],
          "scatter": [
           {
            "marker": {
             "colorbar": {
              "outlinewidth": 0,
              "ticks": ""
             }
            },
            "type": "scatter"
           }
          ],
          "scatter3d": [
           {
            "line": {
             "colorbar": {
              "outlinewidth": 0,
              "ticks": ""
             }
            },
            "marker": {
             "colorbar": {
              "outlinewidth": 0,
              "ticks": ""
             }
            },
            "type": "scatter3d"
           }
          ],
          "scattercarpet": [
           {
            "marker": {
             "colorbar": {
              "outlinewidth": 0,
              "ticks": ""
             }
            },
            "type": "scattercarpet"
           }
          ],
          "scattergeo": [
           {
            "marker": {
             "colorbar": {
              "outlinewidth": 0,
              "ticks": ""
             }
            },
            "type": "scattergeo"
           }
          ],
          "scattergl": [
           {
            "marker": {
             "colorbar": {
              "outlinewidth": 0,
              "ticks": ""
             }
            },
            "type": "scattergl"
           }
          ],
          "scattermapbox": [
           {
            "marker": {
             "colorbar": {
              "outlinewidth": 0,
              "ticks": ""
             }
            },
            "type": "scattermapbox"
           }
          ],
          "scatterpolar": [
           {
            "marker": {
             "colorbar": {
              "outlinewidth": 0,
              "ticks": ""
             }
            },
            "type": "scatterpolar"
           }
          ],
          "scatterpolargl": [
           {
            "marker": {
             "colorbar": {
              "outlinewidth": 0,
              "ticks": ""
             }
            },
            "type": "scatterpolargl"
           }
          ],
          "scatterternary": [
           {
            "marker": {
             "colorbar": {
              "outlinewidth": 0,
              "ticks": ""
             }
            },
            "type": "scatterternary"
           }
          ],
          "surface": [
           {
            "colorbar": {
             "outlinewidth": 0,
             "ticks": ""
            },
            "colorscale": [
             [
              0,
              "#0d0887"
             ],
             [
              0.1111111111111111,
              "#46039f"
             ],
             [
              0.2222222222222222,
              "#7201a8"
             ],
             [
              0.3333333333333333,
              "#9c179e"
             ],
             [
              0.4444444444444444,
              "#bd3786"
             ],
             [
              0.5555555555555556,
              "#d8576b"
             ],
             [
              0.6666666666666666,
              "#ed7953"
             ],
             [
              0.7777777777777778,
              "#fb9f3a"
             ],
             [
              0.8888888888888888,
              "#fdca26"
             ],
             [
              1,
              "#f0f921"
             ]
            ],
            "type": "surface"
           }
          ],
          "table": [
           {
            "cells": {
             "fill": {
              "color": "#EBF0F8"
             },
             "line": {
              "color": "white"
             }
            },
            "header": {
             "fill": {
              "color": "#C8D4E3"
             },
             "line": {
              "color": "white"
             }
            },
            "type": "table"
           }
          ]
         },
         "layout": {
          "annotationdefaults": {
           "arrowcolor": "#2a3f5f",
           "arrowhead": 0,
           "arrowwidth": 1
          },
          "autotypenumbers": "strict",
          "coloraxis": {
           "colorbar": {
            "outlinewidth": 0,
            "ticks": ""
           }
          },
          "colorscale": {
           "diverging": [
            [
             0,
             "#8e0152"
            ],
            [
             0.1,
             "#c51b7d"
            ],
            [
             0.2,
             "#de77ae"
            ],
            [
             0.3,
             "#f1b6da"
            ],
            [
             0.4,
             "#fde0ef"
            ],
            [
             0.5,
             "#f7f7f7"
            ],
            [
             0.6,
             "#e6f5d0"
            ],
            [
             0.7,
             "#b8e186"
            ],
            [
             0.8,
             "#7fbc41"
            ],
            [
             0.9,
             "#4d9221"
            ],
            [
             1,
             "#276419"
            ]
           ],
           "sequential": [
            [
             0,
             "#0d0887"
            ],
            [
             0.1111111111111111,
             "#46039f"
            ],
            [
             0.2222222222222222,
             "#7201a8"
            ],
            [
             0.3333333333333333,
             "#9c179e"
            ],
            [
             0.4444444444444444,
             "#bd3786"
            ],
            [
             0.5555555555555556,
             "#d8576b"
            ],
            [
             0.6666666666666666,
             "#ed7953"
            ],
            [
             0.7777777777777778,
             "#fb9f3a"
            ],
            [
             0.8888888888888888,
             "#fdca26"
            ],
            [
             1,
             "#f0f921"
            ]
           ],
           "sequentialminus": [
            [
             0,
             "#0d0887"
            ],
            [
             0.1111111111111111,
             "#46039f"
            ],
            [
             0.2222222222222222,
             "#7201a8"
            ],
            [
             0.3333333333333333,
             "#9c179e"
            ],
            [
             0.4444444444444444,
             "#bd3786"
            ],
            [
             0.5555555555555556,
             "#d8576b"
            ],
            [
             0.6666666666666666,
             "#ed7953"
            ],
            [
             0.7777777777777778,
             "#fb9f3a"
            ],
            [
             0.8888888888888888,
             "#fdca26"
            ],
            [
             1,
             "#f0f921"
            ]
           ]
          },
          "colorway": [
           "#636efa",
           "#EF553B",
           "#00cc96",
           "#ab63fa",
           "#FFA15A",
           "#19d3f3",
           "#FF6692",
           "#B6E880",
           "#FF97FF",
           "#FECB52"
          ],
          "font": {
           "color": "#2a3f5f"
          },
          "geo": {
           "bgcolor": "white",
           "lakecolor": "white",
           "landcolor": "#E5ECF6",
           "showlakes": true,
           "showland": true,
           "subunitcolor": "white"
          },
          "hoverlabel": {
           "align": "left"
          },
          "hovermode": "closest",
          "mapbox": {
           "style": "light"
          },
          "paper_bgcolor": "white",
          "plot_bgcolor": "#E5ECF6",
          "polar": {
           "angularaxis": {
            "gridcolor": "white",
            "linecolor": "white",
            "ticks": ""
           },
           "bgcolor": "#E5ECF6",
           "radialaxis": {
            "gridcolor": "white",
            "linecolor": "white",
            "ticks": ""
           }
          },
          "scene": {
           "xaxis": {
            "backgroundcolor": "#E5ECF6",
            "gridcolor": "white",
            "gridwidth": 2,
            "linecolor": "white",
            "showbackground": true,
            "ticks": "",
            "zerolinecolor": "white"
           },
           "yaxis": {
            "backgroundcolor": "#E5ECF6",
            "gridcolor": "white",
            "gridwidth": 2,
            "linecolor": "white",
            "showbackground": true,
            "ticks": "",
            "zerolinecolor": "white"
           },
           "zaxis": {
            "backgroundcolor": "#E5ECF6",
            "gridcolor": "white",
            "gridwidth": 2,
            "linecolor": "white",
            "showbackground": true,
            "ticks": "",
            "zerolinecolor": "white"
           }
          },
          "shapedefaults": {
           "line": {
            "color": "#2a3f5f"
           }
          },
          "ternary": {
           "aaxis": {
            "gridcolor": "white",
            "linecolor": "white",
            "ticks": ""
           },
           "baxis": {
            "gridcolor": "white",
            "linecolor": "white",
            "ticks": ""
           },
           "bgcolor": "#E5ECF6",
           "caxis": {
            "gridcolor": "white",
            "linecolor": "white",
            "ticks": ""
           }
          },
          "title": {
           "x": 0.05
          },
          "xaxis": {
           "automargin": true,
           "gridcolor": "white",
           "linecolor": "white",
           "ticks": "",
           "title": {
            "standoff": 15
           },
           "zerolinecolor": "white",
           "zerolinewidth": 2
          },
          "yaxis": {
           "automargin": true,
           "gridcolor": "white",
           "linecolor": "white",
           "ticks": "",
           "title": {
            "standoff": 15
           },
           "zerolinecolor": "white",
           "zerolinewidth": 2
          }
         }
        },
        "title": {
         "font": {
          "size": 30
         },
         "text": "Percentage of Non-White vs. White individuals with >50K"
        },
        "width": 1200,
        "xaxis": {
         "linecolor": "gray",
         "linewidth": 0,
         "showline": true,
         "ticktext": [
          "100%",
          "75%",
          "50%",
          "25%",
          "0%",
          "25%",
          "50%",
          "75%",
          "100%"
         ],
         "tickvals": [
          -1,
          -0.75,
          -0.5,
          -0.25,
          0,
          0.25,
          0.5,
          0.75,
          1
         ],
         "title": {
          "font": {
           "size": 25
          },
          "text": "<b>Population</b>"
         }
        },
        "yaxis": {
         "linecolor": "gray",
         "linewidth": 0,
         "showline": true,
         "tickvals": [
          "GA",
          "HI",
          "CT",
          "NJ",
          "LA",
          "MA",
          "NH",
          "WV",
          "AZ",
          "MN",
          "AK",
          "IA",
          "UT",
          "AR",
          "OK",
          "MD",
          "WA",
          "RI",
          "MI",
          "WY",
          "MS",
          "ND",
          "VT",
          "OH",
          "MT",
          "TN",
          "WI",
          "CO",
          "NC",
          "SC",
          "FL",
          "PA",
          "SD",
          "NE",
          "ME",
          "CA",
          "AL",
          "NM",
          "ID",
          "DE",
          "VA",
          "NV",
          "OR",
          "KY",
          "IL",
          "TX",
          "MO",
          "PR",
          "KS",
          "NY",
          "IN"
         ],
         "title": {
          "font": {
           "size": 25
          },
          "text": "<b>State</b>"
         }
        }
       }
      }
     },
     "metadata": {},
     "output_type": "display_data"
    }
   ],
   "source": [
    "state = df_per_state['State']\n",
    "size = df_per_state['Size']\n",
    "x_W = df_per_state['#Whites'] / size\n",
    "x_NW = (df_per_state['#Non_whites'] * -1) / size\n",
    "x_Pos_W = df_per_state['white_>50k'] / size\n",
    "x_Pos_NW = (df_per_state['non_white_>50k']* -1) / size \n",
    "\n",
    "\n",
    "# Creating instance of the figure\n",
    "fig = gp.Figure()\n",
    " \n",
    "# Adding Male data to the figure\n",
    "fig.add_trace(gp.Bar(y= state, x = x_W, \n",
    "                     name = 'White', \n",
    "                     showlegend=False,\n",
    "                     orientation = 'h',marker=dict(color='brown')))\n",
    "\n",
    "fig.add_trace(gp.Bar(y=state,\n",
    "               x=x_Pos_W,\n",
    "               orientation='h',\n",
    "               hoverinfo='x',\n",
    "               name = 'White with income >50K',      \n",
    "               opacity=0.5,\n",
    "               marker=dict(color='orange')\n",
    "               ))\n",
    "  \n",
    "# Adding Female data to the figure\n",
    "fig.add_trace(gp.Bar(y = state, x = x_NW,\n",
    "                     name = 'Non-White', \n",
    "                     showlegend=False,\n",
    "                     orientation = 'h'))\n",
    "\n",
    "fig.add_trace(gp.Bar(y=state,\n",
    "               x=x_Pos_NW,\n",
    "               orientation='h',\n",
    "               hoverinfo='x',\n",
    "               name = 'Non-White with income >50K',      \n",
    "               opacity=0.5,\n",
    "               marker=dict(color='darkgreen')\n",
    "               ))\n",
    "\n",
    "# Updating the layout for our graph\n",
    "fig.update_layout(title = 'Percentage of Non-White vs. White individuals with >50K',\n",
    "                 title_font_size = 30, barmode = 'overlay',\n",
    "                 bargap = 0.0, bargroupgap = 0,\n",
    "                 xaxis = dict(tickvals = [-1, -0.75, -0.5, -0.25, 0, 0.25, 0.5, 0.75, 1],\n",
    "                              ticktext = ['100%', '75%', '50%', '25%','0%','25%', '50%', '75%','100%'],\n",
    "                              title = '<b>Population</b>',\n",
    "                              title_font_size = 25),\n",
    "                 yaxis =    dict(title = '<b>State</b>',tickvals = state.tolist(),\n",
    "                              title_font_size = 25),\n",
    "                autosize=False,\n",
    "                width=1200,\n",
    "                height=800,\n",
    "                font=dict(size=14),       \n",
    "                plot_bgcolor='rgba(0,0,0,0)'\n",
    "                )\n",
    "\n",
    "  \n",
    "fig.update_xaxes(showline=True, linewidth=0, linecolor='gray')\n",
    "fig.update_yaxes(showline=True, linewidth=0, linecolor='gray')\n",
    "fig.show()"
   ]
  },
  {
   "cell_type": "code",
   "execution_count": null,
   "metadata": {},
   "outputs": [
    {
     "data": {
      "application/vnd.plotly.v1+json": {
       "config": {
        "plotlyServerURL": "https://plot.ly"
       },
       "data": [
        {
         "marker": {
          "color": "brown"
         },
         "name": "Male",
         "orientation": "h",
         "showlegend": false,
         "type": "bar",
         "x": [
          0.5200902527075812,
          0.525038323965253,
          0.5118777723016265,
          0.5180136904047076,
          0.5060917114351496,
          0.5021462349945435,
          0.5223918575063613,
          0.5293822199899548,
          0.5290307854717681,
          0.5281511539436977,
          0.5659634317862166,
          0.5255511303079599,
          0.5442444492347489,
          0.520434227330779,
          0.5329390504353541,
          0.5028906928676272,
          0.5321658412880691,
          0.500875350140056,
          0.524786529885816,
          0.528782636049072,
          0.5013802879952249,
          0.5436105476673428,
          0.5021097046413502,
          0.5176780746587307,
          0.530827331810996,
          0.5202976620203255,
          0.5306994457689569,
          0.5270152701527016,
          0.5174382204544618,
          0.5101742551995503,
          0.5159196261148498,
          0.5197961119013751,
          0.5411113389378717,
          0.5286472634083836,
          0.5130065717415115,
          0.5283806219058018,
          0.5218080226836794,
          0.5048182216381953,
          0.5351510835283345,
          0.5009400459578024,
          0.5145597953528033,
          0.5325777202072539,
          0.5136567834681042,
          0.5259302273640952,
          0.5176957944346051,
          0.5294471478778048,
          0.5154902084251621,
          0.5129126213592233,
          0.5319528512265053,
          0.5025233216088086,
          0.5228053646641543
         ],
         "y": [
          "GA",
          "HI",
          "CT",
          "NJ",
          "LA",
          "MA",
          "NH",
          "WV",
          "AZ",
          "MN",
          "AK",
          "IA",
          "UT",
          "AR",
          "OK",
          "MD",
          "WA",
          "RI",
          "MI",
          "WY",
          "MS",
          "ND",
          "VT",
          "OH",
          "MT",
          "TN",
          "WI",
          "CO",
          "NC",
          "SC",
          "FL",
          "PA",
          "SD",
          "NE",
          "ME",
          "CA",
          "AL",
          "NM",
          "ID",
          "DE",
          "VA",
          "NV",
          "OR",
          "KY",
          "IL",
          "TX",
          "MO",
          "PR",
          "KS",
          "NY",
          "IN"
         ]
        },
        {
         "hoverinfo": "x",
         "marker": {
          "color": "orange"
         },
         "name": "Male with income >50K",
         "opacity": 0.7,
         "orientation": "h",
         "type": "bar",
         "x": [
          0.2533032490974729,
          0.26034747061829333,
          0.30335140463282406,
          0.3119370721748529,
          0.24501151189562548,
          0.30447435431065845,
          0.30826972010178116,
          0.23694123556002009,
          0.25675482895375046,
          0.28224067968551864,
          0.2613220815752461,
          0.24810680428563414,
          0.2891787023065316,
          0.21491414786433943,
          0.2206888998411916,
          0.3073121049636042,
          0.3113950094499868,
          0.27433473389355745,
          0.2579838822564841,
          0.24787669078326519,
          0.2101768260837126,
          0.2891593418976786,
          0.24050632911392406,
          0.2576179077440642,
          0.23959248199543298,
          0.23729660687510412,
          0.2689104251168839,
          0.3035130351303513,
          0.24244098258019373,
          0.23496346261944911,
          0.2424827953816427,
          0.26786984352773824,
          0.2425671519376666,
          0.2559948746110196,
          0.23507667031763418,
          0.27417899360345405,
          0.24405804353264948,
          0.21758650897941306,
          0.24804150981788584,
          0.2749112178817631,
          0.2908121935621403,
          0.25077720207253884,
          0.26316262353998204,
          0.23468977531603163,
          0.27911025725692673,
          0.26519329548526627,
          0.23836660159939552,
          0.08495145631067962,
          0.24969735584581076,
          0.26863817097415504,
          0.2522168033695411
         ],
         "y": [
          "GA",
          "HI",
          "CT",
          "NJ",
          "LA",
          "MA",
          "NH",
          "WV",
          "AZ",
          "MN",
          "AK",
          "IA",
          "UT",
          "AR",
          "OK",
          "MD",
          "WA",
          "RI",
          "MI",
          "WY",
          "MS",
          "ND",
          "VT",
          "OH",
          "MT",
          "TN",
          "WI",
          "CO",
          "NC",
          "SC",
          "FL",
          "PA",
          "SD",
          "NE",
          "ME",
          "CA",
          "AL",
          "NM",
          "ID",
          "DE",
          "VA",
          "NV",
          "OR",
          "KY",
          "IL",
          "TX",
          "MO",
          "PR",
          "KS",
          "NY",
          "IN"
         ]
        },
        {
         "name": "Female",
         "orientation": "h",
         "showlegend": false,
         "type": "bar",
         "x": [
          -0.47990974729241875,
          -0.47496167603474704,
          -0.4881222276983736,
          -0.48198630959529243,
          -0.49390828856485036,
          -0.49785376500545653,
          -0.4776081424936387,
          -0.47061778001004523,
          -0.4709692145282319,
          -0.4718488460563023,
          -0.4340365682137834,
          -0.47444886969204014,
          -0.45575555076525115,
          -0.47956577266922096,
          -0.46706094956464594,
          -0.4971093071323728,
          -0.4678341587119309,
          -0.499124649859944,
          -0.475213470114184,
          -0.47121736395092795,
          -0.49861971200477506,
          -0.4563894523326572,
          -0.4978902953586498,
          -0.48232192534126933,
          -0.46917266818900405,
          -0.4797023379796746,
          -0.4693005542310431,
          -0.47298472984729845,
          -0.48256177954553825,
          -0.4898257448004497,
          -0.48408037388515024,
          -0.48020388809862496,
          -0.45888866106212833,
          -0.4713527365916163,
          -0.4869934282584885,
          -0.47161937809419824,
          -0.47819197731632057,
          -0.49518177836180466,
          -0.4648489164716655,
          -0.4990599540421976,
          -0.4854402046471968,
          -0.4674222797927461,
          -0.4863432165318958,
          -0.4740697726359048,
          -0.4823042055653949,
          -0.47055285212219516,
          -0.48450979157483787,
          -0.4870873786407767,
          -0.46804714877349474,
          -0.4974766783911913,
          -0.4771946353358457
         ],
         "y": [
          "GA",
          "HI",
          "CT",
          "NJ",
          "LA",
          "MA",
          "NH",
          "WV",
          "AZ",
          "MN",
          "AK",
          "IA",
          "UT",
          "AR",
          "OK",
          "MD",
          "WA",
          "RI",
          "MI",
          "WY",
          "MS",
          "ND",
          "VT",
          "OH",
          "MT",
          "TN",
          "WI",
          "CO",
          "NC",
          "SC",
          "FL",
          "PA",
          "SD",
          "NE",
          "ME",
          "CA",
          "AL",
          "NM",
          "ID",
          "DE",
          "VA",
          "NV",
          "OR",
          "KY",
          "IL",
          "TX",
          "MO",
          "PR",
          "KS",
          "NY",
          "IN"
         ]
        },
        {
         "hoverinfo": "x",
         "marker": {
          "color": "darkgreen"
         },
         "name": "Female with income >50K",
         "opacity": 0.7,
         "orientation": "h",
         "type": "bar",
         "x": [
          -0.17346570397111913,
          -0.18280531425651508,
          -0.22878265155248892,
          -0.2311556783155198,
          -0.14097275518035304,
          -0.23812295380138232,
          -0.1994910941475827,
          -0.12393269713711702,
          -0.16999058461011726,
          -0.17886127314227745,
          -0.16765119549929677,
          -0.14259269647164413,
          -0.1252425091614572,
          -0.12239250744997872,
          -0.1174634466896665,
          -0.2503969086061768,
          -0.20699059786119284,
          -0.20903361344537816,
          -0.15275861379406883,
          -0.1469015413652092,
          -0.11915242856076998,
          -0.14627000225377507,
          -0.19462025316455697,
          -0.15813223782105196,
          -0.13279466010890567,
          -0.14394402176931193,
          -0.1520884292658761,
          -0.20472204722047221,
          -0.16355467167532134,
          -0.1411279745175192,
          -0.16357475323389714,
          -0.1701784020862968,
          -0.1279475087143736,
          -0.14561596192568185,
          -0.15594194961664842,
          -0.1990856379345588,
          -0.1346843465932783,
          -0.16338151554971528,
          -0.1218842201648184,
          -0.20618341341132232,
          -0.20535067149861436,
          -0.16185233160621762,
          -0.1825247079964061,
          -0.13860722740876402,
          -0.1833968720919761,
          -0.1686536901865369,
          -0.1430640387884894,
          -0.04980582524271845,
          -0.13399171710735902,
          -0.21085028291787736,
          -0.1324817113722013
         ],
         "y": [
          "GA",
          "HI",
          "CT",
          "NJ",
          "LA",
          "MA",
          "NH",
          "WV",
          "AZ",
          "MN",
          "AK",
          "IA",
          "UT",
          "AR",
          "OK",
          "MD",
          "WA",
          "RI",
          "MI",
          "WY",
          "MS",
          "ND",
          "VT",
          "OH",
          "MT",
          "TN",
          "WI",
          "CO",
          "NC",
          "SC",
          "FL",
          "PA",
          "SD",
          "NE",
          "ME",
          "CA",
          "AL",
          "NM",
          "ID",
          "DE",
          "VA",
          "NV",
          "OR",
          "KY",
          "IL",
          "TX",
          "MO",
          "PR",
          "KS",
          "NY",
          "IN"
         ]
        }
       ],
       "layout": {
        "autosize": false,
        "bargap": 0,
        "bargroupgap": 0,
        "barmode": "overlay",
        "font": {
         "size": 14
        },
        "height": 800,
        "plot_bgcolor": "rgba(0,0,0,0)",
        "template": {
         "data": {
          "bar": [
           {
            "error_x": {
             "color": "#2a3f5f"
            },
            "error_y": {
             "color": "#2a3f5f"
            },
            "marker": {
             "line": {
              "color": "#E5ECF6",
              "width": 0.5
             },
             "pattern": {
              "fillmode": "overlay",
              "size": 10,
              "solidity": 0.2
             }
            },
            "type": "bar"
           }
          ],
          "barpolar": [
           {
            "marker": {
             "line": {
              "color": "#E5ECF6",
              "width": 0.5
             },
             "pattern": {
              "fillmode": "overlay",
              "size": 10,
              "solidity": 0.2
             }
            },
            "type": "barpolar"
           }
          ],
          "carpet": [
           {
            "aaxis": {
             "endlinecolor": "#2a3f5f",
             "gridcolor": "white",
             "linecolor": "white",
             "minorgridcolor": "white",
             "startlinecolor": "#2a3f5f"
            },
            "baxis": {
             "endlinecolor": "#2a3f5f",
             "gridcolor": "white",
             "linecolor": "white",
             "minorgridcolor": "white",
             "startlinecolor": "#2a3f5f"
            },
            "type": "carpet"
           }
          ],
          "choropleth": [
           {
            "colorbar": {
             "outlinewidth": 0,
             "ticks": ""
            },
            "type": "choropleth"
           }
          ],
          "contour": [
           {
            "colorbar": {
             "outlinewidth": 0,
             "ticks": ""
            },
            "colorscale": [
             [
              0,
              "#0d0887"
             ],
             [
              0.1111111111111111,
              "#46039f"
             ],
             [
              0.2222222222222222,
              "#7201a8"
             ],
             [
              0.3333333333333333,
              "#9c179e"
             ],
             [
              0.4444444444444444,
              "#bd3786"
             ],
             [
              0.5555555555555556,
              "#d8576b"
             ],
             [
              0.6666666666666666,
              "#ed7953"
             ],
             [
              0.7777777777777778,
              "#fb9f3a"
             ],
             [
              0.8888888888888888,
              "#fdca26"
             ],
             [
              1,
              "#f0f921"
             ]
            ],
            "type": "contour"
           }
          ],
          "contourcarpet": [
           {
            "colorbar": {
             "outlinewidth": 0,
             "ticks": ""
            },
            "type": "contourcarpet"
           }
          ],
          "heatmap": [
           {
            "colorbar": {
             "outlinewidth": 0,
             "ticks": ""
            },
            "colorscale": [
             [
              0,
              "#0d0887"
             ],
             [
              0.1111111111111111,
              "#46039f"
             ],
             [
              0.2222222222222222,
              "#7201a8"
             ],
             [
              0.3333333333333333,
              "#9c179e"
             ],
             [
              0.4444444444444444,
              "#bd3786"
             ],
             [
              0.5555555555555556,
              "#d8576b"
             ],
             [
              0.6666666666666666,
              "#ed7953"
             ],
             [
              0.7777777777777778,
              "#fb9f3a"
             ],
             [
              0.8888888888888888,
              "#fdca26"
             ],
             [
              1,
              "#f0f921"
             ]
            ],
            "type": "heatmap"
           }
          ],
          "heatmapgl": [
           {
            "colorbar": {
             "outlinewidth": 0,
             "ticks": ""
            },
            "colorscale": [
             [
              0,
              "#0d0887"
             ],
             [
              0.1111111111111111,
              "#46039f"
             ],
             [
              0.2222222222222222,
              "#7201a8"
             ],
             [
              0.3333333333333333,
              "#9c179e"
             ],
             [
              0.4444444444444444,
              "#bd3786"
             ],
             [
              0.5555555555555556,
              "#d8576b"
             ],
             [
              0.6666666666666666,
              "#ed7953"
             ],
             [
              0.7777777777777778,
              "#fb9f3a"
             ],
             [
              0.8888888888888888,
              "#fdca26"
             ],
             [
              1,
              "#f0f921"
             ]
            ],
            "type": "heatmapgl"
           }
          ],
          "histogram": [
           {
            "marker": {
             "pattern": {
              "fillmode": "overlay",
              "size": 10,
              "solidity": 0.2
             }
            },
            "type": "histogram"
           }
          ],
          "histogram2d": [
           {
            "colorbar": {
             "outlinewidth": 0,
             "ticks": ""
            },
            "colorscale": [
             [
              0,
              "#0d0887"
             ],
             [
              0.1111111111111111,
              "#46039f"
             ],
             [
              0.2222222222222222,
              "#7201a8"
             ],
             [
              0.3333333333333333,
              "#9c179e"
             ],
             [
              0.4444444444444444,
              "#bd3786"
             ],
             [
              0.5555555555555556,
              "#d8576b"
             ],
             [
              0.6666666666666666,
              "#ed7953"
             ],
             [
              0.7777777777777778,
              "#fb9f3a"
             ],
             [
              0.8888888888888888,
              "#fdca26"
             ],
             [
              1,
              "#f0f921"
             ]
            ],
            "type": "histogram2d"
           }
          ],
          "histogram2dcontour": [
           {
            "colorbar": {
             "outlinewidth": 0,
             "ticks": ""
            },
            "colorscale": [
             [
              0,
              "#0d0887"
             ],
             [
              0.1111111111111111,
              "#46039f"
             ],
             [
              0.2222222222222222,
              "#7201a8"
             ],
             [
              0.3333333333333333,
              "#9c179e"
             ],
             [
              0.4444444444444444,
              "#bd3786"
             ],
             [
              0.5555555555555556,
              "#d8576b"
             ],
             [
              0.6666666666666666,
              "#ed7953"
             ],
             [
              0.7777777777777778,
              "#fb9f3a"
             ],
             [
              0.8888888888888888,
              "#fdca26"
             ],
             [
              1,
              "#f0f921"
             ]
            ],
            "type": "histogram2dcontour"
           }
          ],
          "mesh3d": [
           {
            "colorbar": {
             "outlinewidth": 0,
             "ticks": ""
            },
            "type": "mesh3d"
           }
          ],
          "parcoords": [
           {
            "line": {
             "colorbar": {
              "outlinewidth": 0,
              "ticks": ""
             }
            },
            "type": "parcoords"
           }
          ],
          "pie": [
           {
            "automargin": true,
            "type": "pie"
           }
          ],
          "scatter": [
           {
            "marker": {
             "colorbar": {
              "outlinewidth": 0,
              "ticks": ""
             }
            },
            "type": "scatter"
           }
          ],
          "scatter3d": [
           {
            "line": {
             "colorbar": {
              "outlinewidth": 0,
              "ticks": ""
             }
            },
            "marker": {
             "colorbar": {
              "outlinewidth": 0,
              "ticks": ""
             }
            },
            "type": "scatter3d"
           }
          ],
          "scattercarpet": [
           {
            "marker": {
             "colorbar": {
              "outlinewidth": 0,
              "ticks": ""
             }
            },
            "type": "scattercarpet"
           }
          ],
          "scattergeo": [
           {
            "marker": {
             "colorbar": {
              "outlinewidth": 0,
              "ticks": ""
             }
            },
            "type": "scattergeo"
           }
          ],
          "scattergl": [
           {
            "marker": {
             "colorbar": {
              "outlinewidth": 0,
              "ticks": ""
             }
            },
            "type": "scattergl"
           }
          ],
          "scattermapbox": [
           {
            "marker": {
             "colorbar": {
              "outlinewidth": 0,
              "ticks": ""
             }
            },
            "type": "scattermapbox"
           }
          ],
          "scatterpolar": [
           {
            "marker": {
             "colorbar": {
              "outlinewidth": 0,
              "ticks": ""
             }
            },
            "type": "scatterpolar"
           }
          ],
          "scatterpolargl": [
           {
            "marker": {
             "colorbar": {
              "outlinewidth": 0,
              "ticks": ""
             }
            },
            "type": "scatterpolargl"
           }
          ],
          "scatterternary": [
           {
            "marker": {
             "colorbar": {
              "outlinewidth": 0,
              "ticks": ""
             }
            },
            "type": "scatterternary"
           }
          ],
          "surface": [
           {
            "colorbar": {
             "outlinewidth": 0,
             "ticks": ""
            },
            "colorscale": [
             [
              0,
              "#0d0887"
             ],
             [
              0.1111111111111111,
              "#46039f"
             ],
             [
              0.2222222222222222,
              "#7201a8"
             ],
             [
              0.3333333333333333,
              "#9c179e"
             ],
             [
              0.4444444444444444,
              "#bd3786"
             ],
             [
              0.5555555555555556,
              "#d8576b"
             ],
             [
              0.6666666666666666,
              "#ed7953"
             ],
             [
              0.7777777777777778,
              "#fb9f3a"
             ],
             [
              0.8888888888888888,
              "#fdca26"
             ],
             [
              1,
              "#f0f921"
             ]
            ],
            "type": "surface"
           }
          ],
          "table": [
           {
            "cells": {
             "fill": {
              "color": "#EBF0F8"
             },
             "line": {
              "color": "white"
             }
            },
            "header": {
             "fill": {
              "color": "#C8D4E3"
             },
             "line": {
              "color": "white"
             }
            },
            "type": "table"
           }
          ]
         },
         "layout": {
          "annotationdefaults": {
           "arrowcolor": "#2a3f5f",
           "arrowhead": 0,
           "arrowwidth": 1
          },
          "autotypenumbers": "strict",
          "coloraxis": {
           "colorbar": {
            "outlinewidth": 0,
            "ticks": ""
           }
          },
          "colorscale": {
           "diverging": [
            [
             0,
             "#8e0152"
            ],
            [
             0.1,
             "#c51b7d"
            ],
            [
             0.2,
             "#de77ae"
            ],
            [
             0.3,
             "#f1b6da"
            ],
            [
             0.4,
             "#fde0ef"
            ],
            [
             0.5,
             "#f7f7f7"
            ],
            [
             0.6,
             "#e6f5d0"
            ],
            [
             0.7,
             "#b8e186"
            ],
            [
             0.8,
             "#7fbc41"
            ],
            [
             0.9,
             "#4d9221"
            ],
            [
             1,
             "#276419"
            ]
           ],
           "sequential": [
            [
             0,
             "#0d0887"
            ],
            [
             0.1111111111111111,
             "#46039f"
            ],
            [
             0.2222222222222222,
             "#7201a8"
            ],
            [
             0.3333333333333333,
             "#9c179e"
            ],
            [
             0.4444444444444444,
             "#bd3786"
            ],
            [
             0.5555555555555556,
             "#d8576b"
            ],
            [
             0.6666666666666666,
             "#ed7953"
            ],
            [
             0.7777777777777778,
             "#fb9f3a"
            ],
            [
             0.8888888888888888,
             "#fdca26"
            ],
            [
             1,
             "#f0f921"
            ]
           ],
           "sequentialminus": [
            [
             0,
             "#0d0887"
            ],
            [
             0.1111111111111111,
             "#46039f"
            ],
            [
             0.2222222222222222,
             "#7201a8"
            ],
            [
             0.3333333333333333,
             "#9c179e"
            ],
            [
             0.4444444444444444,
             "#bd3786"
            ],
            [
             0.5555555555555556,
             "#d8576b"
            ],
            [
             0.6666666666666666,
             "#ed7953"
            ],
            [
             0.7777777777777778,
             "#fb9f3a"
            ],
            [
             0.8888888888888888,
             "#fdca26"
            ],
            [
             1,
             "#f0f921"
            ]
           ]
          },
          "colorway": [
           "#636efa",
           "#EF553B",
           "#00cc96",
           "#ab63fa",
           "#FFA15A",
           "#19d3f3",
           "#FF6692",
           "#B6E880",
           "#FF97FF",
           "#FECB52"
          ],
          "font": {
           "color": "#2a3f5f"
          },
          "geo": {
           "bgcolor": "white",
           "lakecolor": "white",
           "landcolor": "#E5ECF6",
           "showlakes": true,
           "showland": true,
           "subunitcolor": "white"
          },
          "hoverlabel": {
           "align": "left"
          },
          "hovermode": "closest",
          "mapbox": {
           "style": "light"
          },
          "paper_bgcolor": "white",
          "plot_bgcolor": "#E5ECF6",
          "polar": {
           "angularaxis": {
            "gridcolor": "white",
            "linecolor": "white",
            "ticks": ""
           },
           "bgcolor": "#E5ECF6",
           "radialaxis": {
            "gridcolor": "white",
            "linecolor": "white",
            "ticks": ""
           }
          },
          "scene": {
           "xaxis": {
            "backgroundcolor": "#E5ECF6",
            "gridcolor": "white",
            "gridwidth": 2,
            "linecolor": "white",
            "showbackground": true,
            "ticks": "",
            "zerolinecolor": "white"
           },
           "yaxis": {
            "backgroundcolor": "#E5ECF6",
            "gridcolor": "white",
            "gridwidth": 2,
            "linecolor": "white",
            "showbackground": true,
            "ticks": "",
            "zerolinecolor": "white"
           },
           "zaxis": {
            "backgroundcolor": "#E5ECF6",
            "gridcolor": "white",
            "gridwidth": 2,
            "linecolor": "white",
            "showbackground": true,
            "ticks": "",
            "zerolinecolor": "white"
           }
          },
          "shapedefaults": {
           "line": {
            "color": "#2a3f5f"
           }
          },
          "ternary": {
           "aaxis": {
            "gridcolor": "white",
            "linecolor": "white",
            "ticks": ""
           },
           "baxis": {
            "gridcolor": "white",
            "linecolor": "white",
            "ticks": ""
           },
           "bgcolor": "#E5ECF6",
           "caxis": {
            "gridcolor": "white",
            "linecolor": "white",
            "ticks": ""
           }
          },
          "title": {
           "x": 0.05
          },
          "xaxis": {
           "automargin": true,
           "gridcolor": "white",
           "linecolor": "white",
           "ticks": "",
           "title": {
            "standoff": 15
           },
           "zerolinecolor": "white",
           "zerolinewidth": 2
          },
          "yaxis": {
           "automargin": true,
           "gridcolor": "white",
           "linecolor": "white",
           "ticks": "",
           "title": {
            "standoff": 15
           },
           "zerolinecolor": "white",
           "zerolinewidth": 2
          }
         }
        },
        "title": {
         "font": {
          "size": 25
         },
         "text": "Percentage of Female vs. Male individuals with >50K"
        },
        "width": 1200,
        "xaxis": {
         "linecolor": "gray",
         "linewidth": 0,
         "showline": true,
         "ticktext": [
          "100%",
          "75%",
          "50%",
          "25%",
          "0%",
          "25%",
          "50%",
          "75%",
          "100%"
         ],
         "tickvals": [
          -1,
          -0.75,
          -0.5,
          -0.25,
          0,
          0.25,
          0.5,
          0.75,
          1
         ],
         "title": {
          "font": {
           "size": 25
          },
          "text": "<b>Population</b>"
         }
        },
        "yaxis": {
         "linecolor": "gray",
         "linewidth": 0,
         "showline": true,
         "tickvals": [
          "GA",
          "HI",
          "CT",
          "NJ",
          "LA",
          "MA",
          "NH",
          "WV",
          "AZ",
          "MN",
          "AK",
          "IA",
          "UT",
          "AR",
          "OK",
          "MD",
          "WA",
          "RI",
          "MI",
          "WY",
          "MS",
          "ND",
          "VT",
          "OH",
          "MT",
          "TN",
          "WI",
          "CO",
          "NC",
          "SC",
          "FL",
          "PA",
          "SD",
          "NE",
          "ME",
          "CA",
          "AL",
          "NM",
          "ID",
          "DE",
          "VA",
          "NV",
          "OR",
          "KY",
          "IL",
          "TX",
          "MO",
          "PR",
          "KS",
          "NY",
          "IN"
         ],
         "title": {
          "font": {
           "size": 25
          },
          "text": "<b>State</b>"
         }
        }
       }
      }
     },
     "metadata": {},
     "output_type": "display_data"
    }
   ],
   "source": [
    "state = df_per_state['State'] # states\n",
    "size = df_per_state['Size'] # dataset size by state\n",
    "x_M = df_per_state['#Males'] / size # percentage males\n",
    "x_F = (df_per_state['#Females'] * -1) / size # percentage females \n",
    "x_Pos_M = df_per_state['male_>50k'] / size # percentage males with income >50K\n",
    "x_Pos_F = (df_per_state['female_>50k']* -1) / size # percentage females with income >50K\n",
    "\n",
    "\n",
    "# Creating instance of the figure\n",
    "fig = gp.Figure()\n",
    " \n",
    "# Adding Male data to the figure\n",
    "fig.add_trace(gp.Bar(y= state, x = x_M, \n",
    "                     name = 'Male', \n",
    "                     showlegend=False,\n",
    "                     orientation = 'h',marker=dict(color='brown')))\n",
    "\n",
    "fig.add_trace(gp.Bar(y=state,\n",
    "               x=x_Pos_M,\n",
    "               orientation='h',\n",
    "               hoverinfo='x',\n",
    "               #showlegend=False,\n",
    "               name = 'Male with income >50K',      \n",
    "               opacity=0.7,\n",
    "               marker=dict(color='orange')\n",
    "               ))\n",
    "  \n",
    "# Adding Female data to the figure\n",
    "fig.add_trace(gp.Bar(y = state, x = x_F,\n",
    "                     name = 'Female', \n",
    "                     showlegend=False,\n",
    "                     orientation = 'h'))\n",
    "\n",
    "fig.add_trace(gp.Bar(y=state,\n",
    "               x=x_Pos_F,\n",
    "               orientation='h',\n",
    "               hoverinfo='x',\n",
    "               #showlegend=False,\n",
    "               name = 'Female with income >50K',      \n",
    "               opacity=0.7,\n",
    "               marker=dict(color='darkgreen')\n",
    "               ))\n",
    "\n",
    "# Updating the layout for our graph\n",
    "fig.update_layout(title = 'Percentage of Female vs. Male individuals with >50K',\n",
    "                 title_font_size = 25, barmode = 'overlay',\n",
    "                 bargap = 0.0, bargroupgap = 0,\n",
    "                 xaxis = dict(tickvals = [-1, -0.75, -0.5, -0.25, 0, 0.25, 0.5, 0.75, 1],\n",
    "                              ticktext = ['100%', '75%', '50%', '25%','0%','25%', '50%', '75%','100%'],\n",
    "                              title = '<b>Population</b>',\n",
    "                              title_font_size = 25),\n",
    "                 yaxis =    dict(title = '<b>State</b>',tickvals = state.tolist(),\n",
    "                              title_font_size = 25),\n",
    "                autosize=False,\n",
    "                width=1200,\n",
    "                height=800,\n",
    "                font=dict(size=14),       \n",
    "                plot_bgcolor='rgba(0,0,0,0)'\n",
    "                 )\n",
    "\n",
    "fig.update_xaxes(showline=True, linewidth=0, linecolor='gray')\n",
    "fig.update_yaxes(showline=True, linewidth=0, linecolor='gray')\n",
    "fig.show()"
   ]
  },
  {
   "cell_type": "code",
   "execution_count": null,
   "metadata": {},
   "outputs": [
    {
     "data": {
      "image/png": "[encoded data removed]",
      "text/plain": [
       "<Figure size 1440x432 with 4 Axes>"
      ]
     },
     "metadata": {
      "needs_background": "light"
     },
     "output_type": "display_data"
    }
   ],
   "source": [
    "import matplotlib.pyplot as plt\n",
    "\n",
    "# Data for binary classifications\n",
    "binary_data_0 = {\n",
    "    'Category': ['Males', 'Females'],\n",
    "    'Count': [895612, 824542]\n",
    "}\n",
    "\n",
    "binary_data_1 = {\n",
    "    'Category': ['Whites', 'Non-Whites'],\n",
    "    'Count': [1152609, 567545]\n",
    "}\n",
    "\n",
    "binary_data_2 = {\n",
    "    'Category': ['Blacks', 'Non-Blacks'],\n",
    "    'Count': [141530, 1578624]\n",
    "}\n",
    "\n",
    "# Data for multi-class race categories\n",
    "multi_class_data = {\n",
    "    'Category': [\n",
    "        'White', 'Two or More', 'Black', 'Asian', 'Other',\n",
    "        'American Indian', 'Islander',\n",
    "        'Tribes', 'Alaska Native'\n",
    "    ],\n",
    "    'Count': [\n",
    "        1152609, 183537, 141530, 115655, 104439, 16052, 2821, 2544, 967\n",
    "    ]\n",
    "}\n",
    "\n",
    "# Creating the figure and subplots\n",
    "fig, axes = plt.subplots(1, 4, figsize=(20, 6))\n",
    "\n",
    "# Plotting binary classifications (Whites vs. Non-Whites)\n",
    "axes[0].bar(binary_data_0['Category'], binary_data_0['Count'])\n",
    "axes[0].set_ylabel('Count')\n",
    "axes[0].set_xlabel('Class')\n",
    "axes[0].set_title('Male vs Female')\n",
    "\n",
    "# Plotting binary classifications (Whites vs. Non-Whites)\n",
    "axes[1].bar(binary_data_1['Category'], binary_data_1['Count'])\n",
    "axes[1].set_ylabel('Count')\n",
    "axes[1].set_xlabel('Class')\n",
    "axes[1].set_title('Whites vs Non-Whites')\n",
    "\n",
    "# Plotting binary classifications (Blacks vs. Non-Blacks)\n",
    "axes[2].bar(binary_data_2['Category'], binary_data_2['Count'])\n",
    "axes[2].set_ylabel('Count')\n",
    "axes[2].set_xlabel('Class')\n",
    "axes[2].set_title('Blacks vs Non-Blacks')\n",
    "\n",
    "# Plotting multi-class race categories\n",
    "axes[3].bar(multi_class_data['Category'], multi_class_data['Count'])\n",
    "axes[3].set_ylabel('Count')\n",
    "axes[3].set_xlabel('Class')\n",
    "axes[3].set_title('Multi-Class Race Categories')\n",
    "axes[3].tick_params(axis='x', rotation=45)\n",
    "\n",
    "# Adjust layout\n",
    "plt.tight_layout()\n",
    "\n",
    "# Show plot\n",
    "plt.show()\n",
    "\n"
   ]
  },
  {
   "cell_type": "code",
   "execution_count": null,
   "metadata": {},
   "outputs": [],
   "source": []
  }
 ],
 "metadata": {
  "kernelspec": {
   "display_name": "Python 3 (ipykernel)",
   "language": "python",
   "name": "python3"
  },
  "language_info": {
   "codemirror_mode": {
    "name": "ipython",
    "version": 3
   },
   "file_extension": ".py",
   "mimetype": "text/x-python",
   "name": "python",
   "nbconvert_exporter": "python",
   "pygments_lexer": "ipython3",
   "version": "3.12.3"
  }
 },
 "nbformat": 4,
 "nbformat_minor": 2
}
