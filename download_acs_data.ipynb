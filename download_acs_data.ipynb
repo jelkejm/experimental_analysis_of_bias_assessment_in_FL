{
 "cells": [
  {
   "cell_type": "code",
   "execution_count": 8,
   "metadata": {},
   "outputs": [
    {
     "name": "stdout",
     "output_type": "stream",
     "text": [
      "Collecting folktables\n",
      "  Using cached folktables-0.0.12-py3-none-any.whl.metadata (533 bytes)\n",
      "Requirement already satisfied: numpy in /home/jip/anaconda3/envs/thesis_jelke/lib/python3.12/site-packages (from folktables) (2.0.0)\n",
      "Requirement already satisfied: pandas in /home/jip/anaconda3/envs/thesis_jelke/lib/python3.12/site-packages (from folktables) (2.2.2)\n",
      "Collecting requests (from folktables)\n",
      "  Downloading requests-2.32.3-py3-none-any.whl.metadata (4.6 kB)\n",
      "Collecting scikit-learn (from folktables)\n",
      "  Downloading scikit_learn-1.5.0-cp312-cp312-manylinux_2_17_x86_64.manylinux2014_x86_64.whl.metadata (11 kB)\n",
      "Requirement already satisfied: python-dateutil>=2.8.2 in /home/jip/anaconda3/envs/thesis_jelke/lib/python3.12/site-packages (from pandas->folktables) (2.9.0)\n",
      "Requirement already satisfied: pytz>=2020.1 in /home/jip/anaconda3/envs/thesis_jelke/lib/python3.12/site-packages (from pandas->folktables) (2024.1)\n",
      "Requirement already satisfied: tzdata>=2022.7 in /home/jip/anaconda3/envs/thesis_jelke/lib/python3.12/site-packages (from pandas->folktables) (2024.1)\n",
      "Collecting charset-normalizer<4,>=2 (from requests->folktables)\n",
      "  Downloading charset_normalizer-3.3.2-cp312-cp312-manylinux_2_17_x86_64.manylinux2014_x86_64.whl.metadata (33 kB)\n",
      "Collecting idna<4,>=2.5 (from requests->folktables)\n",
      "  Downloading idna-3.7-py3-none-any.whl.metadata (9.9 kB)\n",
      "Collecting urllib3<3,>=1.21.1 (from requests->folktables)\n",
      "  Downloading urllib3-2.2.2-py3-none-any.whl.metadata (6.4 kB)\n",
      "Collecting certifi>=2017.4.17 (from requests->folktables)\n",
      "  Downloading certifi-2024.6.2-py3-none-any.whl.metadata (2.2 kB)\n",
      "Collecting scipy>=1.6.0 (from scikit-learn->folktables)\n",
      "  Downloading scipy-1.13.1-cp312-cp312-manylinux_2_17_x86_64.manylinux2014_x86_64.whl.metadata (60 kB)\n",
      "\u001b[2K     \u001b[90m━━━━━━━━━━━━━━━━━━━━━━━━━━━━━━━━━━━━━━━━\u001b[0m \u001b[32m60.6/60.6 kB\u001b[0m \u001b[31m1.8 MB/s\u001b[0m eta \u001b[36m0:00:00\u001b[0m\n",
      "\u001b[?25hCollecting joblib>=1.2.0 (from scikit-learn->folktables)\n",
      "  Downloading joblib-1.4.2-py3-none-any.whl.metadata (5.4 kB)\n",
      "Collecting threadpoolctl>=3.1.0 (from scikit-learn->folktables)\n",
      "  Downloading threadpoolctl-3.5.0-py3-none-any.whl.metadata (13 kB)\n",
      "Requirement already satisfied: six>=1.5 in /home/jip/anaconda3/envs/thesis_jelke/lib/python3.12/site-packages (from python-dateutil>=2.8.2->pandas->folktables) (1.16.0)\n",
      "Using cached folktables-0.0.12-py3-none-any.whl (17 kB)\n",
      "Downloading requests-2.32.3-py3-none-any.whl (64 kB)\n",
      "\u001b[2K   \u001b[90m━━━━━━━━━━━━━━━━━━━━━━━━━━━━━━━━━━━━━━━━\u001b[0m \u001b[32m64.9/64.9 kB\u001b[0m \u001b[31m3.9 MB/s\u001b[0m eta \u001b[36m0:00:00\u001b[0m\n",
      "\u001b[?25hDownloading scikit_learn-1.5.0-cp312-cp312-manylinux_2_17_x86_64.manylinux2014_x86_64.whl (13.1 MB)\n",
      "\u001b[2K   \u001b[90m━━━━━━━━━━━━━━━━━━━━━━━━━━━━━━━━━━━━━━━━\u001b[0m \u001b[32m13.1/13.1 MB\u001b[0m \u001b[31m25.0 MB/s\u001b[0m eta \u001b[36m0:00:00\u001b[0m00:01\u001b[0m00:01\u001b[0m\n",
      "\u001b[?25hDownloading certifi-2024.6.2-py3-none-any.whl (164 kB)\n",
      "\u001b[2K   \u001b[90m━━━━━━━━━━━━━━━━━━━━━━━━━━━━━━━━━━━━━━━━\u001b[0m \u001b[32m164.4/164.4 kB\u001b[0m \u001b[31m9.8 MB/s\u001b[0m eta \u001b[36m0:00:00\u001b[0m\n",
      "\u001b[?25hDownloading charset_normalizer-3.3.2-cp312-cp312-manylinux_2_17_x86_64.manylinux2014_x86_64.whl (141 kB)\n",
      "\u001b[2K   \u001b[90m━━━━━━━━━━━━━━━━━━━━━━━━━━━━━━━━━━━━━━━━\u001b[0m \u001b[32m141.9/141.9 kB\u001b[0m \u001b[31m8.2 MB/s\u001b[0m eta \u001b[36m0:00:00\u001b[0m\n",
      "\u001b[?25hDownloading idna-3.7-py3-none-any.whl (66 kB)\n",
      "\u001b[2K   \u001b[90m━━━━━━━━━━━━━━━━━━━━━━━━━━━━━━━━━━━━━━━━\u001b[0m \u001b[32m66.8/66.8 kB\u001b[0m \u001b[31m4.7 MB/s\u001b[0m eta \u001b[36m0:00:00\u001b[0m\n",
      "\u001b[?25hDownloading joblib-1.4.2-py3-none-any.whl (301 kB)\n",
      "\u001b[2K   \u001b[90m━━━━━━━━━━━━━━━━━━━━━━━━━━━━━━━━━━━━━━━━\u001b[0m \u001b[32m301.8/301.8 kB\u001b[0m \u001b[31m18.4 MB/s\u001b[0m eta \u001b[36m0:00:00\u001b[0m\n",
      "\u001b[?25hDownloading scipy-1.13.1-cp312-cp312-manylinux_2_17_x86_64.manylinux2014_x86_64.whl (38.2 MB)\n",
      "\u001b[2K   \u001b[90m━━━━━━━━━━━━━━━━━━━━━━━━━━━━━━━━━━━━━━━━\u001b[0m \u001b[32m38.2/38.2 MB\u001b[0m \u001b[31m40.6 MB/s\u001b[0m eta \u001b[36m0:00:00\u001b[0m00:01\u001b[0m00:01\u001b[0m\n",
      "\u001b[?25hDownloading threadpoolctl-3.5.0-py3-none-any.whl (18 kB)\n",
      "Downloading urllib3-2.2.2-py3-none-any.whl (121 kB)\n",
      "\u001b[2K   \u001b[90m━━━━━━━━━━━━━━━━━━━━━━━━━━━━━━━━━━━━━━━━\u001b[0m \u001b[32m121.4/121.4 kB\u001b[0m \u001b[31m8.6 MB/s\u001b[0m eta \u001b[36m0:00:00\u001b[0m\n",
      "\u001b[?25hInstalling collected packages: urllib3, threadpoolctl, scipy, joblib, idna, charset-normalizer, certifi, scikit-learn, requests, folktables\n",
      "Successfully installed certifi-2024.6.2 charset-normalizer-3.3.2 folktables-0.0.12 idna-3.7 joblib-1.4.2 requests-2.32.3 scikit-learn-1.5.0 scipy-1.13.1 threadpoolctl-3.5.0 urllib3-2.2.2\n",
      "Note: you may need to restart the kernel to use updated packages.\n"
     ]
    }
   ],
   "source": [
    "pip install folktables"
   ]
  },
  {
   "cell_type": "code",
   "execution_count": 9,
   "metadata": {},
   "outputs": [],
   "source": [
    "#Import libraries\n",
    "import pandas as pd\n",
    "import matplotlib.pyplot as plt\n",
    "import numpy as np\n",
    "import seaborn as sns\n",
    "import os\n",
    "import glob\n",
    "\n",
    "sns.set_style('whitegrid')\n",
    "\n",
    "from folktables import ACSDataSource, ACSIncome\n",
    "from sklearn.linear_model import LogisticRegression\n",
    "\n",
    "# Link to dataset: https://www2.census.gov/programs-surveys/acs/data/pums/"
   ]
  },
  {
   "cell_type": "code",
   "execution_count": 2,
   "metadata": {},
   "outputs": [],
   "source": [
    "all_states = ['AL', 'AK', 'AZ', 'AR', 'CA', 'CO', 'CT', 'DE', 'FL', 'GA', 'HI',\n",
    "              'ID', 'IL', 'IN', 'IA', 'KS', 'KY', 'LA', 'ME', 'MD', 'MA', 'MI',\n",
    "              'MN', 'MS', 'MO', 'MT', 'NE', 'NV', 'NH', 'NJ', 'NM', 'NY', 'NC',\n",
    "              'ND', 'OH', 'OK', 'OR', 'PA', 'RI', 'SC', 'SD', 'TN', 'TX', 'UT',\n",
    "              'VT', 'VA', 'WA', 'WV', 'WI', 'WY', 'PR']"
   ]
  },
  {
   "cell_type": "code",
   "execution_count": 3,
   "metadata": {},
   "outputs": [],
   "source": [
    "features=['AGEP','COW','SCHL','MAR','OCCP','POBP','RELP','WKHP','SEX','RAC1P','PINCP']\n",
    "features_no_relp=['AGEP','COW','SCHL','MAR','OCCP','POBP','WKHP','SEX','RAC1P','PINCP']"
   ]
  },
  {
   "cell_type": "code",
   "execution_count": 4,
   "metadata": {},
   "outputs": [],
   "source": [
    "current_path = os.getcwd()\n",
    "year = 2022"
   ]
  },
  {
   "cell_type": "code",
   "execution_count": 5,
   "metadata": {},
   "outputs": [
    {
     "name": "stdout",
     "output_type": "stream",
     "text": [
      "Start loading data for  AL\n",
      "This is state 1 of 51\n",
      "Downloading data for 2022 1-Year person survey for AL...\n"
     ]
    },
    {
     "name": "stderr",
     "output_type": "stream",
     "text": [
      "/tmp/ipykernel_156201/3822860801.py:20: SettingWithCopyWarning: \n",
      "A value is trying to be set on a copy of a slice from a DataFrame.\n",
      "Try using .loc[row_indexer,col_indexer] = value instead\n",
      "\n",
      "See the caveats in the documentation: https://pandas.pydata.org/pandas-docs/stable/user_guide/indexing.html#returning-a-view-versus-a-copy\n",
      "  df['State'] = state_list[0]\n",
      "/tmp/ipykernel_156201/3822860801.py:23: SettingWithCopyWarning: \n",
      "A value is trying to be set on a copy of a slice from a DataFrame.\n",
      "Try using .loc[row_indexer,col_indexer] = value instead\n",
      "\n",
      "See the caveats in the documentation: https://pandas.pydata.org/pandas-docs/stable/user_guide/indexing.html#returning-a-view-versus-a-copy\n",
      "  df['Income'] = ['>50K' if v>50000 else '<=50K' for v in df['PINCP']]\n",
      "/tmp/ipykernel_156201/3822860801.py:36: FutureWarning: The behavior of DataFrame concatenation with empty or all-NA entries is deprecated. In a future version, this will no longer exclude empty or all-NA columns when determining the result dtypes. To retain the old behavior, exclude the relevant entries before the concat operation.\n",
      "  central_df = pd.concat([central_df, df], ignore_index=True)\n"
     ]
    },
    {
     "name": "stdout",
     "output_type": "stream",
     "text": [
      "The current columns are  Index(['Age', 'Class of Worker', 'Education', 'Marital Status', 'Occupation',\n",
      "       'Place of Birth', 'Worked hours', 'Sex', 'Race', 'State', 'Income'],\n",
      "      dtype='object')\n",
      "Len of df 24201\n",
      "Finished loading csv for this state\n",
      "--------------------\n",
      "Start loading data for  AK\n",
      "This is state 2 of 51\n",
      "Downloading data for 2022 1-Year person survey for AK...\n"
     ]
    },
    {
     "name": "stderr",
     "output_type": "stream",
     "text": [
      "/tmp/ipykernel_156201/3822860801.py:20: SettingWithCopyWarning: \n",
      "A value is trying to be set on a copy of a slice from a DataFrame.\n",
      "Try using .loc[row_indexer,col_indexer] = value instead\n",
      "\n",
      "See the caveats in the documentation: https://pandas.pydata.org/pandas-docs/stable/user_guide/indexing.html#returning-a-view-versus-a-copy\n",
      "  df['State'] = state_list[0]\n",
      "/tmp/ipykernel_156201/3822860801.py:23: SettingWithCopyWarning: \n",
      "A value is trying to be set on a copy of a slice from a DataFrame.\n",
      "Try using .loc[row_indexer,col_indexer] = value instead\n",
      "\n",
      "See the caveats in the documentation: https://pandas.pydata.org/pandas-docs/stable/user_guide/indexing.html#returning-a-view-versus-a-copy\n",
      "  df['Income'] = ['>50K' if v>50000 else '<=50K' for v in df['PINCP']]\n"
     ]
    },
    {
     "name": "stdout",
     "output_type": "stream",
     "text": [
      "The current columns are  Index(['Age', 'Class of Worker', 'Education', 'Marital Status', 'Occupation',\n",
      "       'Place of Birth', 'Worked hours', 'Sex', 'Race', 'State', 'Income'],\n",
      "      dtype='object')\n",
      "Len of df 3591\n",
      "Finished loading csv for this state\n",
      "--------------------\n",
      "Start loading data for  AZ\n",
      "This is state 3 of 51\n",
      "Downloading data for 2022 1-Year person survey for AZ...\n"
     ]
    },
    {
     "name": "stderr",
     "output_type": "stream",
     "text": [
      "/tmp/ipykernel_156201/3822860801.py:20: SettingWithCopyWarning: \n",
      "A value is trying to be set on a copy of a slice from a DataFrame.\n",
      "Try using .loc[row_indexer,col_indexer] = value instead\n",
      "\n",
      "See the caveats in the documentation: https://pandas.pydata.org/pandas-docs/stable/user_guide/indexing.html#returning-a-view-versus-a-copy\n",
      "  df['State'] = state_list[0]\n",
      "/tmp/ipykernel_156201/3822860801.py:23: SettingWithCopyWarning: \n",
      "A value is trying to be set on a copy of a slice from a DataFrame.\n",
      "Try using .loc[row_indexer,col_indexer] = value instead\n",
      "\n",
      "See the caveats in the documentation: https://pandas.pydata.org/pandas-docs/stable/user_guide/indexing.html#returning-a-view-versus-a-copy\n",
      "  df['Income'] = ['>50K' if v>50000 else '<=50K' for v in df['PINCP']]\n"
     ]
    },
    {
     "name": "stdout",
     "output_type": "stream",
     "text": [
      "The current columns are  Index(['Age', 'Class of Worker', 'Education', 'Marital Status', 'Occupation',\n",
      "       'Place of Birth', 'Worked hours', 'Sex', 'Race', 'State', 'Income'],\n",
      "      dtype='object')\n",
      "Len of df 35308\n",
      "Finished loading csv for this state\n",
      "--------------------\n",
      "Start loading data for  AR\n",
      "This is state 4 of 51\n",
      "Downloading data for 2022 1-Year person survey for AR...\n"
     ]
    },
    {
     "name": "stderr",
     "output_type": "stream",
     "text": [
      "/tmp/ipykernel_156201/3822860801.py:20: SettingWithCopyWarning: \n",
      "A value is trying to be set on a copy of a slice from a DataFrame.\n",
      "Try using .loc[row_indexer,col_indexer] = value instead\n",
      "\n",
      "See the caveats in the documentation: https://pandas.pydata.org/pandas-docs/stable/user_guide/indexing.html#returning-a-view-versus-a-copy\n",
      "  df['State'] = state_list[0]\n",
      "/tmp/ipykernel_156201/3822860801.py:23: SettingWithCopyWarning: \n",
      "A value is trying to be set on a copy of a slice from a DataFrame.\n",
      "Try using .loc[row_indexer,col_indexer] = value instead\n",
      "\n",
      "See the caveats in the documentation: https://pandas.pydata.org/pandas-docs/stable/user_guide/indexing.html#returning-a-view-versus-a-copy\n",
      "  df['Income'] = ['>50K' if v>50000 else '<=50K' for v in df['PINCP']]\n"
     ]
    },
    {
     "name": "stdout",
     "output_type": "stream",
     "text": [
      "The current columns are  Index(['Age', 'Class of Worker', 'Education', 'Marital Status', 'Occupation',\n",
      "       'Place of Birth', 'Worked hours', 'Sex', 'Race', 'State', 'Income'],\n",
      "      dtype='object')\n",
      "Len of df 14201\n",
      "Finished loading csv for this state\n",
      "--------------------\n",
      "Start loading data for  CA\n",
      "This is state 5 of 51\n",
      "Downloading data for 2022 1-Year person survey for CA...\n"
     ]
    },
    {
     "name": "stderr",
     "output_type": "stream",
     "text": [
      "/tmp/ipykernel_156201/3822860801.py:20: SettingWithCopyWarning: \n",
      "A value is trying to be set on a copy of a slice from a DataFrame.\n",
      "Try using .loc[row_indexer,col_indexer] = value instead\n",
      "\n",
      "See the caveats in the documentation: https://pandas.pydata.org/pandas-docs/stable/user_guide/indexing.html#returning-a-view-versus-a-copy\n",
      "  df['State'] = state_list[0]\n",
      "/tmp/ipykernel_156201/3822860801.py:23: SettingWithCopyWarning: \n",
      "A value is trying to be set on a copy of a slice from a DataFrame.\n",
      "Try using .loc[row_indexer,col_indexer] = value instead\n",
      "\n",
      "See the caveats in the documentation: https://pandas.pydata.org/pandas-docs/stable/user_guide/indexing.html#returning-a-view-versus-a-copy\n",
      "  df['Income'] = ['>50K' if v>50000 else '<=50K' for v in df['PINCP']]\n"
     ]
    },
    {
     "name": "stdout",
     "output_type": "stream",
     "text": [
      "The current columns are  Index(['Age', 'Class of Worker', 'Education', 'Marital Status', 'Occupation',\n",
      "       'Place of Birth', 'Worked hours', 'Sex', 'Race', 'State', 'Income'],\n",
      "      dtype='object')\n",
      "Len of df 201841\n",
      "Finished loading csv for this state\n",
      "--------------------\n",
      "Start loading data for  CO\n",
      "This is state 6 of 51\n",
      "Downloading data for 2022 1-Year person survey for CO...\n"
     ]
    },
    {
     "name": "stderr",
     "output_type": "stream",
     "text": [
      "/tmp/ipykernel_156201/3822860801.py:20: SettingWithCopyWarning: \n",
      "A value is trying to be set on a copy of a slice from a DataFrame.\n",
      "Try using .loc[row_indexer,col_indexer] = value instead\n",
      "\n",
      "See the caveats in the documentation: https://pandas.pydata.org/pandas-docs/stable/user_guide/indexing.html#returning-a-view-versus-a-copy\n",
      "  df['State'] = state_list[0]\n",
      "/tmp/ipykernel_156201/3822860801.py:23: SettingWithCopyWarning: \n",
      "A value is trying to be set on a copy of a slice from a DataFrame.\n",
      "Try using .loc[row_indexer,col_indexer] = value instead\n",
      "\n",
      "See the caveats in the documentation: https://pandas.pydata.org/pandas-docs/stable/user_guide/indexing.html#returning-a-view-versus-a-copy\n",
      "  df['Income'] = ['>50K' if v>50000 else '<=50K' for v in df['PINCP']]\n"
     ]
    },
    {
     "name": "stdout",
     "output_type": "stream",
     "text": [
      "The current columns are  Index(['Age', 'Class of Worker', 'Education', 'Marital Status', 'Occupation',\n",
      "       'Place of Birth', 'Worked hours', 'Sex', 'Race', 'State', 'Income'],\n",
      "      dtype='object')\n",
      "Len of df 33682\n",
      "Finished loading csv for this state\n",
      "--------------------\n",
      "Start loading data for  CT\n",
      "This is state 7 of 51\n",
      "Downloading data for 2022 1-Year person survey for CT...\n"
     ]
    },
    {
     "name": "stderr",
     "output_type": "stream",
     "text": [
      "/tmp/ipykernel_156201/3822860801.py:20: SettingWithCopyWarning: \n",
      "A value is trying to be set on a copy of a slice from a DataFrame.\n",
      "Try using .loc[row_indexer,col_indexer] = value instead\n",
      "\n",
      "See the caveats in the documentation: https://pandas.pydata.org/pandas-docs/stable/user_guide/indexing.html#returning-a-view-versus-a-copy\n",
      "  df['State'] = state_list[0]\n",
      "/tmp/ipykernel_156201/3822860801.py:23: SettingWithCopyWarning: \n",
      "A value is trying to be set on a copy of a slice from a DataFrame.\n",
      "Try using .loc[row_indexer,col_indexer] = value instead\n",
      "\n",
      "See the caveats in the documentation: https://pandas.pydata.org/pandas-docs/stable/user_guide/indexing.html#returning-a-view-versus-a-copy\n",
      "  df['Income'] = ['>50K' if v>50000 else '<=50K' for v in df['PINCP']]\n"
     ]
    },
    {
     "name": "stdout",
     "output_type": "stream",
     "text": [
      "The current columns are  Index(['Age', 'Class of Worker', 'Education', 'Marital Status', 'Occupation',\n",
      "       'Place of Birth', 'Worked hours', 'Sex', 'Race', 'State', 'Income'],\n",
      "      dtype='object')\n",
      "Len of df 20487\n",
      "Finished loading csv for this state\n",
      "--------------------\n",
      "Start loading data for  DE\n",
      "This is state 8 of 51\n",
      "Downloading data for 2022 1-Year person survey for DE...\n"
     ]
    },
    {
     "name": "stderr",
     "output_type": "stream",
     "text": [
      "/tmp/ipykernel_156201/3822860801.py:20: SettingWithCopyWarning: \n",
      "A value is trying to be set on a copy of a slice from a DataFrame.\n",
      "Try using .loc[row_indexer,col_indexer] = value instead\n",
      "\n",
      "See the caveats in the documentation: https://pandas.pydata.org/pandas-docs/stable/user_guide/indexing.html#returning-a-view-versus-a-copy\n",
      "  df['State'] = state_list[0]\n",
      "/tmp/ipykernel_156201/3822860801.py:23: SettingWithCopyWarning: \n",
      "A value is trying to be set on a copy of a slice from a DataFrame.\n",
      "Try using .loc[row_indexer,col_indexer] = value instead\n",
      "\n",
      "See the caveats in the documentation: https://pandas.pydata.org/pandas-docs/stable/user_guide/indexing.html#returning-a-view-versus-a-copy\n",
      "  df['Income'] = ['>50K' if v>50000 else '<=50K' for v in df['PINCP']]\n"
     ]
    },
    {
     "name": "stdout",
     "output_type": "stream",
     "text": [
      "The current columns are  Index(['Age', 'Class of Worker', 'Education', 'Marital Status', 'Occupation',\n",
      "       'Place of Birth', 'Worked hours', 'Sex', 'Race', 'State', 'Income'],\n",
      "      dtype='object')\n",
      "Len of df 4839\n",
      "Finished loading csv for this state\n",
      "--------------------\n",
      "Start loading data for  FL\n",
      "This is state 9 of 51\n",
      "Downloading data for 2022 1-Year person survey for FL...\n"
     ]
    },
    {
     "name": "stderr",
     "output_type": "stream",
     "text": [
      "/tmp/ipykernel_156201/3822860801.py:20: SettingWithCopyWarning: \n",
      "A value is trying to be set on a copy of a slice from a DataFrame.\n",
      "Try using .loc[row_indexer,col_indexer] = value instead\n",
      "\n",
      "See the caveats in the documentation: https://pandas.pydata.org/pandas-docs/stable/user_guide/indexing.html#returning-a-view-versus-a-copy\n",
      "  df['State'] = state_list[0]\n",
      "/tmp/ipykernel_156201/3822860801.py:23: SettingWithCopyWarning: \n",
      "A value is trying to be set on a copy of a slice from a DataFrame.\n",
      "Try using .loc[row_indexer,col_indexer] = value instead\n",
      "\n",
      "See the caveats in the documentation: https://pandas.pydata.org/pandas-docs/stable/user_guide/indexing.html#returning-a-view-versus-a-copy\n",
      "  df['Income'] = ['>50K' if v>50000 else '<=50K' for v in df['PINCP']]\n"
     ]
    },
    {
     "name": "stdout",
     "output_type": "stream",
     "text": [
      "The current columns are  Index(['Age', 'Class of Worker', 'Education', 'Marital Status', 'Occupation',\n",
      "       'Place of Birth', 'Worked hours', 'Sex', 'Race', 'State', 'Income'],\n",
      "      dtype='object')\n",
      "Len of df 105790\n",
      "Finished loading csv for this state\n",
      "--------------------\n",
      "Start loading data for  GA\n",
      "This is state 10 of 51\n",
      "Downloading data for 2022 1-Year person survey for GA...\n"
     ]
    },
    {
     "name": "stderr",
     "output_type": "stream",
     "text": [
      "/tmp/ipykernel_156201/3822860801.py:20: SettingWithCopyWarning: \n",
      "A value is trying to be set on a copy of a slice from a DataFrame.\n",
      "Try using .loc[row_indexer,col_indexer] = value instead\n",
      "\n",
      "See the caveats in the documentation: https://pandas.pydata.org/pandas-docs/stable/user_guide/indexing.html#returning-a-view-versus-a-copy\n",
      "  df['State'] = state_list[0]\n",
      "/tmp/ipykernel_156201/3822860801.py:23: SettingWithCopyWarning: \n",
      "A value is trying to be set on a copy of a slice from a DataFrame.\n",
      "Try using .loc[row_indexer,col_indexer] = value instead\n",
      "\n",
      "See the caveats in the documentation: https://pandas.pydata.org/pandas-docs/stable/user_guide/indexing.html#returning-a-view-versus-a-copy\n",
      "  df['Income'] = ['>50K' if v>50000 else '<=50K' for v in df['PINCP']]\n"
     ]
    },
    {
     "name": "stdout",
     "output_type": "stream",
     "text": [
      "The current columns are  Index(['Age', 'Class of Worker', 'Education', 'Marital Status', 'Occupation',\n",
      "       'Place of Birth', 'Worked hours', 'Sex', 'Race', 'State', 'Income'],\n",
      "      dtype='object')\n",
      "Len of df 55896\n",
      "Finished loading csv for this state\n",
      "--------------------\n",
      "Start loading data for  HI\n",
      "This is state 11 of 51\n",
      "Downloading data for 2022 1-Year person survey for HI...\n"
     ]
    },
    {
     "name": "stderr",
     "output_type": "stream",
     "text": [
      "/tmp/ipykernel_156201/3822860801.py:20: SettingWithCopyWarning: \n",
      "A value is trying to be set on a copy of a slice from a DataFrame.\n",
      "Try using .loc[row_indexer,col_indexer] = value instead\n",
      "\n",
      "See the caveats in the documentation: https://pandas.pydata.org/pandas-docs/stable/user_guide/indexing.html#returning-a-view-versus-a-copy\n",
      "  df['State'] = state_list[0]\n",
      "/tmp/ipykernel_156201/3822860801.py:23: SettingWithCopyWarning: \n",
      "A value is trying to be set on a copy of a slice from a DataFrame.\n",
      "Try using .loc[row_indexer,col_indexer] = value instead\n",
      "\n",
      "See the caveats in the documentation: https://pandas.pydata.org/pandas-docs/stable/user_guide/indexing.html#returning-a-view-versus-a-copy\n",
      "  df['Income'] = ['>50K' if v>50000 else '<=50K' for v in df['PINCP']]\n"
     ]
    },
    {
     "name": "stdout",
     "output_type": "stream",
     "text": [
      "The current columns are  Index(['Age', 'Class of Worker', 'Education', 'Marital Status', 'Occupation',\n",
      "       'Place of Birth', 'Worked hours', 'Sex', 'Race', 'State', 'Income'],\n",
      "      dtype='object')\n",
      "Len of df 7880\n",
      "Finished loading csv for this state\n",
      "--------------------\n",
      "Start loading data for  ID\n",
      "This is state 12 of 51\n",
      "Downloading data for 2022 1-Year person survey for ID...\n"
     ]
    },
    {
     "name": "stderr",
     "output_type": "stream",
     "text": [
      "/tmp/ipykernel_156201/3822860801.py:20: SettingWithCopyWarning: \n",
      "A value is trying to be set on a copy of a slice from a DataFrame.\n",
      "Try using .loc[row_indexer,col_indexer] = value instead\n",
      "\n",
      "See the caveats in the documentation: https://pandas.pydata.org/pandas-docs/stable/user_guide/indexing.html#returning-a-view-versus-a-copy\n",
      "  df['State'] = state_list[0]\n",
      "/tmp/ipykernel_156201/3822860801.py:23: SettingWithCopyWarning: \n",
      "A value is trying to be set on a copy of a slice from a DataFrame.\n",
      "Try using .loc[row_indexer,col_indexer] = value instead\n",
      "\n",
      "See the caveats in the documentation: https://pandas.pydata.org/pandas-docs/stable/user_guide/indexing.html#returning-a-view-versus-a-copy\n",
      "  df['Income'] = ['>50K' if v>50000 else '<=50K' for v in df['PINCP']]\n"
     ]
    },
    {
     "name": "stdout",
     "output_type": "stream",
     "text": [
      "The current columns are  Index(['Age', 'Class of Worker', 'Education', 'Marital Status', 'Occupation',\n",
      "       'Place of Birth', 'Worked hours', 'Sex', 'Race', 'State', 'Income'],\n",
      "      dtype='object')\n",
      "Len of df 9978\n",
      "Finished loading csv for this state\n",
      "--------------------\n",
      "Start loading data for  IL\n",
      "This is state 13 of 51\n",
      "Downloading data for 2022 1-Year person survey for IL...\n"
     ]
    },
    {
     "name": "stderr",
     "output_type": "stream",
     "text": [
      "/tmp/ipykernel_156201/3822860801.py:20: SettingWithCopyWarning: \n",
      "A value is trying to be set on a copy of a slice from a DataFrame.\n",
      "Try using .loc[row_indexer,col_indexer] = value instead\n",
      "\n",
      "See the caveats in the documentation: https://pandas.pydata.org/pandas-docs/stable/user_guide/indexing.html#returning-a-view-versus-a-copy\n",
      "  df['State'] = state_list[0]\n",
      "/tmp/ipykernel_156201/3822860801.py:23: SettingWithCopyWarning: \n",
      "A value is trying to be set on a copy of a slice from a DataFrame.\n",
      "Try using .loc[row_indexer,col_indexer] = value instead\n",
      "\n",
      "See the caveats in the documentation: https://pandas.pydata.org/pandas-docs/stable/user_guide/indexing.html#returning-a-view-versus-a-copy\n",
      "  df['Income'] = ['>50K' if v>50000 else '<=50K' for v in df['PINCP']]\n"
     ]
    },
    {
     "name": "stdout",
     "output_type": "stream",
     "text": [
      "The current columns are  Index(['Age', 'Class of Worker', 'Education', 'Marital Status', 'Occupation',\n",
      "       'Place of Birth', 'Worked hours', 'Sex', 'Race', 'State', 'Income'],\n",
      "      dtype='object')\n",
      "Len of df 67326\n",
      "Finished loading csv for this state\n",
      "--------------------\n",
      "Start loading data for  IN\n",
      "This is state 14 of 51\n",
      "Downloading data for 2022 1-Year person survey for IN...\n"
     ]
    },
    {
     "name": "stderr",
     "output_type": "stream",
     "text": [
      "/tmp/ipykernel_156201/3822860801.py:20: SettingWithCopyWarning: \n",
      "A value is trying to be set on a copy of a slice from a DataFrame.\n",
      "Try using .loc[row_indexer,col_indexer] = value instead\n",
      "\n",
      "See the caveats in the documentation: https://pandas.pydata.org/pandas-docs/stable/user_guide/indexing.html#returning-a-view-versus-a-copy\n",
      "  df['State'] = state_list[0]\n",
      "/tmp/ipykernel_156201/3822860801.py:23: SettingWithCopyWarning: \n",
      "A value is trying to be set on a copy of a slice from a DataFrame.\n",
      "Try using .loc[row_indexer,col_indexer] = value instead\n",
      "\n",
      "See the caveats in the documentation: https://pandas.pydata.org/pandas-docs/stable/user_guide/indexing.html#returning-a-view-versus-a-copy\n",
      "  df['Income'] = ['>50K' if v>50000 else '<=50K' for v in df['PINCP']]\n"
     ]
    },
    {
     "name": "stdout",
     "output_type": "stream",
     "text": [
      "The current columns are  Index(['Age', 'Class of Worker', 'Education', 'Marital Status', 'Occupation',\n",
      "       'Place of Birth', 'Worked hours', 'Sex', 'Race', 'State', 'Income'],\n",
      "      dtype='object')\n",
      "Len of df 36514\n",
      "Finished loading csv for this state\n",
      "--------------------\n",
      "Start loading data for  IA\n",
      "This is state 15 of 51\n",
      "Downloading data for 2022 1-Year person survey for IA...\n"
     ]
    },
    {
     "name": "stderr",
     "output_type": "stream",
     "text": [
      "/tmp/ipykernel_156201/3822860801.py:20: SettingWithCopyWarning: \n",
      "A value is trying to be set on a copy of a slice from a DataFrame.\n",
      "Try using .loc[row_indexer,col_indexer] = value instead\n",
      "\n",
      "See the caveats in the documentation: https://pandas.pydata.org/pandas-docs/stable/user_guide/indexing.html#returning-a-view-versus-a-copy\n",
      "  df['State'] = state_list[0]\n",
      "/tmp/ipykernel_156201/3822860801.py:23: SettingWithCopyWarning: \n",
      "A value is trying to be set on a copy of a slice from a DataFrame.\n",
      "Try using .loc[row_indexer,col_indexer] = value instead\n",
      "\n",
      "See the caveats in the documentation: https://pandas.pydata.org/pandas-docs/stable/user_guide/indexing.html#returning-a-view-versus-a-copy\n",
      "  df['Income'] = ['>50K' if v>50000 else '<=50K' for v in df['PINCP']]\n"
     ]
    },
    {
     "name": "stdout",
     "output_type": "stream",
     "text": [
      "The current columns are  Index(['Age', 'Class of Worker', 'Education', 'Marital Status', 'Occupation',\n",
      "       'Place of Birth', 'Worked hours', 'Sex', 'Race', 'State', 'Income'],\n",
      "      dtype='object')\n",
      "Len of df 18097\n",
      "Finished loading csv for this state\n",
      "--------------------\n",
      "Start loading data for  KS\n",
      "This is state 16 of 51\n",
      "Downloading data for 2022 1-Year person survey for KS...\n"
     ]
    },
    {
     "name": "stderr",
     "output_type": "stream",
     "text": [
      "/tmp/ipykernel_156201/3822860801.py:20: SettingWithCopyWarning: \n",
      "A value is trying to be set on a copy of a slice from a DataFrame.\n",
      "Try using .loc[row_indexer,col_indexer] = value instead\n",
      "\n",
      "See the caveats in the documentation: https://pandas.pydata.org/pandas-docs/stable/user_guide/indexing.html#returning-a-view-versus-a-copy\n",
      "  df['State'] = state_list[0]\n",
      "/tmp/ipykernel_156201/3822860801.py:23: SettingWithCopyWarning: \n",
      "A value is trying to be set on a copy of a slice from a DataFrame.\n",
      "Try using .loc[row_indexer,col_indexer] = value instead\n",
      "\n",
      "See the caveats in the documentation: https://pandas.pydata.org/pandas-docs/stable/user_guide/indexing.html#returning-a-view-versus-a-copy\n",
      "  df['Income'] = ['>50K' if v>50000 else '<=50K' for v in df['PINCP']]\n"
     ]
    },
    {
     "name": "stdout",
     "output_type": "stream",
     "text": [
      "The current columns are  Index(['Age', 'Class of Worker', 'Education', 'Marital Status', 'Occupation',\n",
      "       'Place of Birth', 'Worked hours', 'Sex', 'Race', 'State', 'Income'],\n",
      "      dtype='object')\n",
      "Len of df 15908\n",
      "Finished loading csv for this state\n",
      "--------------------\n",
      "Start loading data for  KY\n",
      "This is state 17 of 51\n",
      "Downloading data for 2022 1-Year person survey for KY...\n"
     ]
    },
    {
     "name": "stderr",
     "output_type": "stream",
     "text": [
      "/tmp/ipykernel_156201/3822860801.py:20: SettingWithCopyWarning: \n",
      "A value is trying to be set on a copy of a slice from a DataFrame.\n",
      "Try using .loc[row_indexer,col_indexer] = value instead\n",
      "\n",
      "See the caveats in the documentation: https://pandas.pydata.org/pandas-docs/stable/user_guide/indexing.html#returning-a-view-versus-a-copy\n",
      "  df['State'] = state_list[0]\n",
      "/tmp/ipykernel_156201/3822860801.py:23: SettingWithCopyWarning: \n",
      "A value is trying to be set on a copy of a slice from a DataFrame.\n",
      "Try using .loc[row_indexer,col_indexer] = value instead\n",
      "\n",
      "See the caveats in the documentation: https://pandas.pydata.org/pandas-docs/stable/user_guide/indexing.html#returning-a-view-versus-a-copy\n",
      "  df['Income'] = ['>50K' if v>50000 else '<=50K' for v in df['PINCP']]\n"
     ]
    },
    {
     "name": "stdout",
     "output_type": "stream",
     "text": [
      "The current columns are  Index(['Age', 'Class of Worker', 'Education', 'Marital Status', 'Occupation',\n",
      "       'Place of Birth', 'Worked hours', 'Sex', 'Race', 'State', 'Income'],\n",
      "      dtype='object')\n",
      "Len of df 22632\n",
      "Finished loading csv for this state\n",
      "--------------------\n",
      "Start loading data for  LA\n",
      "This is state 18 of 51\n",
      "Downloading data for 2022 1-Year person survey for LA...\n"
     ]
    },
    {
     "name": "stderr",
     "output_type": "stream",
     "text": [
      "/tmp/ipykernel_156201/3822860801.py:20: SettingWithCopyWarning: \n",
      "A value is trying to be set on a copy of a slice from a DataFrame.\n",
      "Try using .loc[row_indexer,col_indexer] = value instead\n",
      "\n",
      "See the caveats in the documentation: https://pandas.pydata.org/pandas-docs/stable/user_guide/indexing.html#returning-a-view-versus-a-copy\n",
      "  df['State'] = state_list[0]\n",
      "/tmp/ipykernel_156201/3822860801.py:23: SettingWithCopyWarning: \n",
      "A value is trying to be set on a copy of a slice from a DataFrame.\n",
      "Try using .loc[row_indexer,col_indexer] = value instead\n",
      "\n",
      "See the caveats in the documentation: https://pandas.pydata.org/pandas-docs/stable/user_guide/indexing.html#returning-a-view-versus-a-copy\n",
      "  df['Income'] = ['>50K' if v>50000 else '<=50K' for v in df['PINCP']]\n"
     ]
    },
    {
     "name": "stdout",
     "output_type": "stream",
     "text": [
      "The current columns are  Index(['Age', 'Class of Worker', 'Education', 'Marital Status', 'Occupation',\n",
      "       'Place of Birth', 'Worked hours', 'Sex', 'Race', 'State', 'Income'],\n",
      "      dtype='object')\n",
      "Len of df 21008\n",
      "Finished loading csv for this state\n",
      "--------------------\n",
      "Start loading data for  ME\n",
      "This is state 19 of 51\n",
      "Downloading data for 2022 1-Year person survey for ME...\n"
     ]
    },
    {
     "name": "stderr",
     "output_type": "stream",
     "text": [
      "/tmp/ipykernel_156201/3822860801.py:20: SettingWithCopyWarning: \n",
      "A value is trying to be set on a copy of a slice from a DataFrame.\n",
      "Try using .loc[row_indexer,col_indexer] = value instead\n",
      "\n",
      "See the caveats in the documentation: https://pandas.pydata.org/pandas-docs/stable/user_guide/indexing.html#returning-a-view-versus-a-copy\n",
      "  df['State'] = state_list[0]\n",
      "/tmp/ipykernel_156201/3822860801.py:23: SettingWithCopyWarning: \n",
      "A value is trying to be set on a copy of a slice from a DataFrame.\n",
      "Try using .loc[row_indexer,col_indexer] = value instead\n",
      "\n",
      "See the caveats in the documentation: https://pandas.pydata.org/pandas-docs/stable/user_guide/indexing.html#returning-a-view-versus-a-copy\n",
      "  df['Income'] = ['>50K' if v>50000 else '<=50K' for v in df['PINCP']]\n"
     ]
    },
    {
     "name": "stdout",
     "output_type": "stream",
     "text": [
      "The current columns are  Index(['Age', 'Class of Worker', 'Education', 'Marital Status', 'Occupation',\n",
      "       'Place of Birth', 'Worked hours', 'Sex', 'Race', 'State', 'Income'],\n",
      "      dtype='object')\n",
      "Len of df 7399\n",
      "Finished loading csv for this state\n",
      "--------------------\n",
      "Start loading data for  MD\n",
      "This is state 20 of 51\n",
      "Downloading data for 2022 1-Year person survey for MD...\n"
     ]
    },
    {
     "name": "stderr",
     "output_type": "stream",
     "text": [
      "/tmp/ipykernel_156201/3822860801.py:20: SettingWithCopyWarning: \n",
      "A value is trying to be set on a copy of a slice from a DataFrame.\n",
      "Try using .loc[row_indexer,col_indexer] = value instead\n",
      "\n",
      "See the caveats in the documentation: https://pandas.pydata.org/pandas-docs/stable/user_guide/indexing.html#returning-a-view-versus-a-copy\n",
      "  df['State'] = state_list[0]\n",
      "/tmp/ipykernel_156201/3822860801.py:23: SettingWithCopyWarning: \n",
      "A value is trying to be set on a copy of a slice from a DataFrame.\n",
      "Try using .loc[row_indexer,col_indexer] = value instead\n",
      "\n",
      "See the caveats in the documentation: https://pandas.pydata.org/pandas-docs/stable/user_guide/indexing.html#returning-a-view-versus-a-copy\n",
      "  df['Income'] = ['>50K' if v>50000 else '<=50K' for v in df['PINCP']]\n"
     ]
    },
    {
     "name": "stdout",
     "output_type": "stream",
     "text": [
      "The current columns are  Index(['Age', 'Class of Worker', 'Education', 'Marital Status', 'Occupation',\n",
      "       'Place of Birth', 'Worked hours', 'Sex', 'Race', 'State', 'Income'],\n",
      "      dtype='object')\n",
      "Len of df 33665\n",
      "Finished loading csv for this state\n",
      "--------------------\n",
      "Start loading data for  MA\n",
      "This is state 21 of 51\n",
      "Downloading data for 2022 1-Year person survey for MA...\n"
     ]
    },
    {
     "name": "stderr",
     "output_type": "stream",
     "text": [
      "/tmp/ipykernel_156201/3822860801.py:20: SettingWithCopyWarning: \n",
      "A value is trying to be set on a copy of a slice from a DataFrame.\n",
      "Try using .loc[row_indexer,col_indexer] = value instead\n",
      "\n",
      "See the caveats in the documentation: https://pandas.pydata.org/pandas-docs/stable/user_guide/indexing.html#returning-a-view-versus-a-copy\n",
      "  df['State'] = state_list[0]\n",
      "/tmp/ipykernel_156201/3822860801.py:23: SettingWithCopyWarning: \n",
      "A value is trying to be set on a copy of a slice from a DataFrame.\n",
      "Try using .loc[row_indexer,col_indexer] = value instead\n",
      "\n",
      "See the caveats in the documentation: https://pandas.pydata.org/pandas-docs/stable/user_guide/indexing.html#returning-a-view-versus-a-copy\n",
      "  df['Income'] = ['>50K' if v>50000 else '<=50K' for v in df['PINCP']]\n"
     ]
    },
    {
     "name": "stdout",
     "output_type": "stream",
     "text": [
      "The current columns are  Index(['Age', 'Class of Worker', 'Education', 'Marital Status', 'Occupation',\n",
      "       'Place of Birth', 'Worked hours', 'Sex', 'Race', 'State', 'Income'],\n",
      "      dtype='object')\n",
      "Len of df 41625\n",
      "Finished loading csv for this state\n",
      "--------------------\n",
      "Start loading data for  MI\n",
      "This is state 22 of 51\n",
      "Downloading data for 2022 1-Year person survey for MI...\n"
     ]
    },
    {
     "name": "stderr",
     "output_type": "stream",
     "text": [
      "/tmp/ipykernel_156201/3822860801.py:20: SettingWithCopyWarning: \n",
      "A value is trying to be set on a copy of a slice from a DataFrame.\n",
      "Try using .loc[row_indexer,col_indexer] = value instead\n",
      "\n",
      "See the caveats in the documentation: https://pandas.pydata.org/pandas-docs/stable/user_guide/indexing.html#returning-a-view-versus-a-copy\n",
      "  df['State'] = state_list[0]\n",
      "/tmp/ipykernel_156201/3822860801.py:23: SettingWithCopyWarning: \n",
      "A value is trying to be set on a copy of a slice from a DataFrame.\n",
      "Try using .loc[row_indexer,col_indexer] = value instead\n",
      "\n",
      "See the caveats in the documentation: https://pandas.pydata.org/pandas-docs/stable/user_guide/indexing.html#returning-a-view-versus-a-copy\n",
      "  df['Income'] = ['>50K' if v>50000 else '<=50K' for v in df['PINCP']]\n"
     ]
    },
    {
     "name": "stdout",
     "output_type": "stream",
     "text": [
      "The current columns are  Index(['Age', 'Class of Worker', 'Education', 'Marital Status', 'Occupation',\n",
      "       'Place of Birth', 'Worked hours', 'Sex', 'Race', 'State', 'Income'],\n",
      "      dtype='object')\n",
      "Len of df 50595\n",
      "Finished loading csv for this state\n",
      "--------------------\n",
      "Start loading data for  MN\n",
      "This is state 23 of 51\n",
      "Downloading data for 2022 1-Year person survey for MN...\n"
     ]
    },
    {
     "name": "stderr",
     "output_type": "stream",
     "text": [
      "/tmp/ipykernel_156201/3822860801.py:20: SettingWithCopyWarning: \n",
      "A value is trying to be set on a copy of a slice from a DataFrame.\n",
      "Try using .loc[row_indexer,col_indexer] = value instead\n",
      "\n",
      "See the caveats in the documentation: https://pandas.pydata.org/pandas-docs/stable/user_guide/indexing.html#returning-a-view-versus-a-copy\n",
      "  df['State'] = state_list[0]\n",
      "/tmp/ipykernel_156201/3822860801.py:23: SettingWithCopyWarning: \n",
      "A value is trying to be set on a copy of a slice from a DataFrame.\n",
      "Try using .loc[row_indexer,col_indexer] = value instead\n",
      "\n",
      "See the caveats in the documentation: https://pandas.pydata.org/pandas-docs/stable/user_guide/indexing.html#returning-a-view-versus-a-copy\n",
      "  df['Income'] = ['>50K' if v>50000 else '<=50K' for v in df['PINCP']]\n"
     ]
    },
    {
     "name": "stdout",
     "output_type": "stream",
     "text": [
      "The current columns are  Index(['Age', 'Class of Worker', 'Education', 'Marital Status', 'Occupation',\n",
      "       'Place of Birth', 'Worked hours', 'Sex', 'Race', 'State', 'Income'],\n",
      "      dtype='object')\n",
      "Len of df 32012\n",
      "Finished loading csv for this state\n",
      "--------------------\n",
      "Start loading data for  MS\n",
      "This is state 24 of 51\n",
      "Downloading data for 2022 1-Year person survey for MS...\n"
     ]
    },
    {
     "name": "stderr",
     "output_type": "stream",
     "text": [
      "/tmp/ipykernel_156201/3822860801.py:20: SettingWithCopyWarning: \n",
      "A value is trying to be set on a copy of a slice from a DataFrame.\n",
      "Try using .loc[row_indexer,col_indexer] = value instead\n",
      "\n",
      "See the caveats in the documentation: https://pandas.pydata.org/pandas-docs/stable/user_guide/indexing.html#returning-a-view-versus-a-copy\n",
      "  df['State'] = state_list[0]\n",
      "/tmp/ipykernel_156201/3822860801.py:23: SettingWithCopyWarning: \n",
      "A value is trying to be set on a copy of a slice from a DataFrame.\n",
      "Try using .loc[row_indexer,col_indexer] = value instead\n",
      "\n",
      "See the caveats in the documentation: https://pandas.pydata.org/pandas-docs/stable/user_guide/indexing.html#returning-a-view-versus-a-copy\n",
      "  df['Income'] = ['>50K' if v>50000 else '<=50K' for v in df['PINCP']]\n"
     ]
    },
    {
     "name": "stdout",
     "output_type": "stream",
     "text": [
      "The current columns are  Index(['Age', 'Class of Worker', 'Education', 'Marital Status', 'Occupation',\n",
      "       'Place of Birth', 'Worked hours', 'Sex', 'Race', 'State', 'Income'],\n",
      "      dtype='object')\n",
      "Len of df 13519\n",
      "Finished loading csv for this state\n",
      "--------------------\n",
      "Start loading data for  MO\n",
      "This is state 25 of 51\n",
      "Downloading data for 2022 1-Year person survey for MO...\n"
     ]
    },
    {
     "name": "stderr",
     "output_type": "stream",
     "text": [
      "/tmp/ipykernel_156201/3822860801.py:20: SettingWithCopyWarning: \n",
      "A value is trying to be set on a copy of a slice from a DataFrame.\n",
      "Try using .loc[row_indexer,col_indexer] = value instead\n",
      "\n",
      "See the caveats in the documentation: https://pandas.pydata.org/pandas-docs/stable/user_guide/indexing.html#returning-a-view-versus-a-copy\n",
      "  df['State'] = state_list[0]\n",
      "/tmp/ipykernel_156201/3822860801.py:23: SettingWithCopyWarning: \n",
      "A value is trying to be set on a copy of a slice from a DataFrame.\n",
      "Try using .loc[row_indexer,col_indexer] = value instead\n",
      "\n",
      "See the caveats in the documentation: https://pandas.pydata.org/pandas-docs/stable/user_guide/indexing.html#returning-a-view-versus-a-copy\n",
      "  df['Income'] = ['>50K' if v>50000 else '<=50K' for v in df['PINCP']]\n"
     ]
    },
    {
     "name": "stdout",
     "output_type": "stream",
     "text": [
      "The current columns are  Index(['Age', 'Class of Worker', 'Education', 'Marital Status', 'Occupation',\n",
      "       'Place of Birth', 'Worked hours', 'Sex', 'Race', 'State', 'Income'],\n",
      "      dtype='object')\n",
      "Len of df 32181\n",
      "Finished loading csv for this state\n",
      "--------------------\n",
      "Start loading data for  MT\n",
      "This is state 26 of 51\n",
      "Downloading data for 2022 1-Year person survey for MT...\n"
     ]
    },
    {
     "name": "stderr",
     "output_type": "stream",
     "text": [
      "/tmp/ipykernel_156201/3822860801.py:20: SettingWithCopyWarning: \n",
      "A value is trying to be set on a copy of a slice from a DataFrame.\n",
      "Try using .loc[row_indexer,col_indexer] = value instead\n",
      "\n",
      "See the caveats in the documentation: https://pandas.pydata.org/pandas-docs/stable/user_guide/indexing.html#returning-a-view-versus-a-copy\n",
      "  df['State'] = state_list[0]\n",
      "/tmp/ipykernel_156201/3822860801.py:23: SettingWithCopyWarning: \n",
      "A value is trying to be set on a copy of a slice from a DataFrame.\n",
      "Try using .loc[row_indexer,col_indexer] = value instead\n",
      "\n",
      "See the caveats in the documentation: https://pandas.pydata.org/pandas-docs/stable/user_guide/indexing.html#returning-a-view-versus-a-copy\n",
      "  df['Income'] = ['>50K' if v>50000 else '<=50K' for v in df['PINCP']]\n"
     ]
    },
    {
     "name": "stdout",
     "output_type": "stream",
     "text": [
      "The current columns are  Index(['Age', 'Class of Worker', 'Education', 'Marital Status', 'Occupation',\n",
      "       'Place of Birth', 'Worked hours', 'Sex', 'Race', 'State', 'Income'],\n",
      "      dtype='object')\n",
      "Len of df 5770\n",
      "Finished loading csv for this state\n",
      "--------------------\n",
      "Start loading data for  NE\n",
      "This is state 27 of 51\n",
      "Downloading data for 2022 1-Year person survey for NE...\n"
     ]
    },
    {
     "name": "stderr",
     "output_type": "stream",
     "text": [
      "/tmp/ipykernel_156201/3822860801.py:20: SettingWithCopyWarning: \n",
      "A value is trying to be set on a copy of a slice from a DataFrame.\n",
      "Try using .loc[row_indexer,col_indexer] = value instead\n",
      "\n",
      "See the caveats in the documentation: https://pandas.pydata.org/pandas-docs/stable/user_guide/indexing.html#returning-a-view-versus-a-copy\n",
      "  df['State'] = state_list[0]\n",
      "/tmp/ipykernel_156201/3822860801.py:23: SettingWithCopyWarning: \n",
      "A value is trying to be set on a copy of a slice from a DataFrame.\n",
      "Try using .loc[row_indexer,col_indexer] = value instead\n",
      "\n",
      "See the caveats in the documentation: https://pandas.pydata.org/pandas-docs/stable/user_guide/indexing.html#returning-a-view-versus-a-copy\n",
      "  df['Income'] = ['>50K' if v>50000 else '<=50K' for v in df['PINCP']]\n"
     ]
    },
    {
     "name": "stdout",
     "output_type": "stream",
     "text": [
      "The current columns are  Index(['Age', 'Class of Worker', 'Education', 'Marital Status', 'Occupation',\n",
      "       'Place of Birth', 'Worked hours', 'Sex', 'Race', 'State', 'Income'],\n",
      "      dtype='object')\n",
      "Len of df 11111\n",
      "Finished loading csv for this state\n",
      "--------------------\n",
      "Start loading data for  NV\n",
      "This is state 28 of 51\n",
      "Downloading data for 2022 1-Year person survey for NV...\n"
     ]
    },
    {
     "name": "stderr",
     "output_type": "stream",
     "text": [
      "/tmp/ipykernel_156201/3822860801.py:20: SettingWithCopyWarning: \n",
      "A value is trying to be set on a copy of a slice from a DataFrame.\n",
      "Try using .loc[row_indexer,col_indexer] = value instead\n",
      "\n",
      "See the caveats in the documentation: https://pandas.pydata.org/pandas-docs/stable/user_guide/indexing.html#returning-a-view-versus-a-copy\n",
      "  df['State'] = state_list[0]\n",
      "/tmp/ipykernel_156201/3822860801.py:23: SettingWithCopyWarning: \n",
      "A value is trying to be set on a copy of a slice from a DataFrame.\n",
      "Try using .loc[row_indexer,col_indexer] = value instead\n",
      "\n",
      "See the caveats in the documentation: https://pandas.pydata.org/pandas-docs/stable/user_guide/indexing.html#returning-a-view-versus-a-copy\n",
      "  df['Income'] = ['>50K' if v>50000 else '<=50K' for v in df['PINCP']]\n"
     ]
    },
    {
     "name": "stdout",
     "output_type": "stream",
     "text": [
      "The current columns are  Index(['Age', 'Class of Worker', 'Education', 'Marital Status', 'Occupation',\n",
      "       'Place of Birth', 'Worked hours', 'Sex', 'Race', 'State', 'Income'],\n",
      "      dtype='object')\n",
      "Len of df 15569\n",
      "Finished loading csv for this state\n",
      "--------------------\n",
      "Start loading data for  NH\n",
      "This is state 29 of 51\n",
      "Downloading data for 2022 1-Year person survey for NH...\n"
     ]
    },
    {
     "name": "stderr",
     "output_type": "stream",
     "text": [
      "/tmp/ipykernel_156201/3822860801.py:20: SettingWithCopyWarning: \n",
      "A value is trying to be set on a copy of a slice from a DataFrame.\n",
      "Try using .loc[row_indexer,col_indexer] = value instead\n",
      "\n",
      "See the caveats in the documentation: https://pandas.pydata.org/pandas-docs/stable/user_guide/indexing.html#returning-a-view-versus-a-copy\n",
      "  df['State'] = state_list[0]\n",
      "/tmp/ipykernel_156201/3822860801.py:23: SettingWithCopyWarning: \n",
      "A value is trying to be set on a copy of a slice from a DataFrame.\n",
      "Try using .loc[row_indexer,col_indexer] = value instead\n",
      "\n",
      "See the caveats in the documentation: https://pandas.pydata.org/pandas-docs/stable/user_guide/indexing.html#returning-a-view-versus-a-copy\n",
      "  df['Income'] = ['>50K' if v>50000 else '<=50K' for v in df['PINCP']]\n"
     ]
    },
    {
     "name": "stdout",
     "output_type": "stream",
     "text": [
      "The current columns are  Index(['Age', 'Class of Worker', 'Education', 'Marital Status', 'Occupation',\n",
      "       'Place of Birth', 'Worked hours', 'Sex', 'Race', 'State', 'Income'],\n",
      "      dtype='object')\n",
      "Len of df 7965\n",
      "Finished loading csv for this state\n",
      "--------------------\n",
      "Start loading data for  NJ\n",
      "This is state 30 of 51\n",
      "Downloading data for 2022 1-Year person survey for NJ...\n"
     ]
    },
    {
     "name": "stderr",
     "output_type": "stream",
     "text": [
      "/tmp/ipykernel_156201/3822860801.py:20: SettingWithCopyWarning: \n",
      "A value is trying to be set on a copy of a slice from a DataFrame.\n",
      "Try using .loc[row_indexer,col_indexer] = value instead\n",
      "\n",
      "See the caveats in the documentation: https://pandas.pydata.org/pandas-docs/stable/user_guide/indexing.html#returning-a-view-versus-a-copy\n",
      "  df['State'] = state_list[0]\n",
      "/tmp/ipykernel_156201/3822860801.py:23: SettingWithCopyWarning: \n",
      "A value is trying to be set on a copy of a slice from a DataFrame.\n",
      "Try using .loc[row_indexer,col_indexer] = value instead\n",
      "\n",
      "See the caveats in the documentation: https://pandas.pydata.org/pandas-docs/stable/user_guide/indexing.html#returning-a-view-versus-a-copy\n",
      "  df['Income'] = ['>50K' if v>50000 else '<=50K' for v in df['PINCP']]\n"
     ]
    },
    {
     "name": "stdout",
     "output_type": "stream",
     "text": [
      "The current columns are  Index(['Age', 'Class of Worker', 'Education', 'Marital Status', 'Occupation',\n",
      "       'Place of Birth', 'Worked hours', 'Sex', 'Race', 'State', 'Income'],\n",
      "      dtype='object')\n",
      "Len of df 50354\n",
      "Finished loading csv for this state\n",
      "--------------------\n",
      "Start loading data for  NM\n",
      "This is state 31 of 51\n",
      "Downloading data for 2022 1-Year person survey for NM...\n"
     ]
    },
    {
     "name": "stderr",
     "output_type": "stream",
     "text": [
      "/tmp/ipykernel_156201/3822860801.py:20: SettingWithCopyWarning: \n",
      "A value is trying to be set on a copy of a slice from a DataFrame.\n",
      "Try using .loc[row_indexer,col_indexer] = value instead\n",
      "\n",
      "See the caveats in the documentation: https://pandas.pydata.org/pandas-docs/stable/user_guide/indexing.html#returning-a-view-versus-a-copy\n",
      "  df['State'] = state_list[0]\n",
      "/tmp/ipykernel_156201/3822860801.py:23: SettingWithCopyWarning: \n",
      "A value is trying to be set on a copy of a slice from a DataFrame.\n",
      "Try using .loc[row_indexer,col_indexer] = value instead\n",
      "\n",
      "See the caveats in the documentation: https://pandas.pydata.org/pandas-docs/stable/user_guide/indexing.html#returning-a-view-versus-a-copy\n",
      "  df['Income'] = ['>50K' if v>50000 else '<=50K' for v in df['PINCP']]\n"
     ]
    },
    {
     "name": "stdout",
     "output_type": "stream",
     "text": [
      "The current columns are  Index(['Age', 'Class of Worker', 'Education', 'Marital Status', 'Occupation',\n",
      "       'Place of Birth', 'Worked hours', 'Sex', 'Race', 'State', 'Income'],\n",
      "      dtype='object')\n",
      "Len of df 9219\n",
      "Finished loading csv for this state\n",
      "--------------------\n",
      "Start loading data for  NY\n",
      "This is state 32 of 51\n",
      "Downloading data for 2022 1-Year person survey for NY...\n"
     ]
    },
    {
     "name": "stderr",
     "output_type": "stream",
     "text": [
      "/tmp/ipykernel_156201/3822860801.py:20: SettingWithCopyWarning: \n",
      "A value is trying to be set on a copy of a slice from a DataFrame.\n",
      "Try using .loc[row_indexer,col_indexer] = value instead\n",
      "\n",
      "See the caveats in the documentation: https://pandas.pydata.org/pandas-docs/stable/user_guide/indexing.html#returning-a-view-versus-a-copy\n",
      "  df['State'] = state_list[0]\n",
      "/tmp/ipykernel_156201/3822860801.py:23: SettingWithCopyWarning: \n",
      "A value is trying to be set on a copy of a slice from a DataFrame.\n",
      "Try using .loc[row_indexer,col_indexer] = value instead\n",
      "\n",
      "See the caveats in the documentation: https://pandas.pydata.org/pandas-docs/stable/user_guide/indexing.html#returning-a-view-versus-a-copy\n",
      "  df['Income'] = ['>50K' if v>50000 else '<=50K' for v in df['PINCP']]\n"
     ]
    },
    {
     "name": "stdout",
     "output_type": "stream",
     "text": [
      "The current columns are  Index(['Age', 'Class of Worker', 'Education', 'Marital Status', 'Occupation',\n",
      "       'Place of Birth', 'Worked hours', 'Sex', 'Race', 'State', 'Income'],\n",
      "      dtype='object')\n",
      "Len of df 105420\n",
      "Finished loading csv for this state\n",
      "--------------------\n",
      "Start loading data for  NC\n",
      "This is state 33 of 51\n",
      "Downloading data for 2022 1-Year person survey for NC...\n"
     ]
    },
    {
     "name": "stderr",
     "output_type": "stream",
     "text": [
      "/tmp/ipykernel_156201/3822860801.py:20: SettingWithCopyWarning: \n",
      "A value is trying to be set on a copy of a slice from a DataFrame.\n",
      "Try using .loc[row_indexer,col_indexer] = value instead\n",
      "\n",
      "See the caveats in the documentation: https://pandas.pydata.org/pandas-docs/stable/user_guide/indexing.html#returning-a-view-versus-a-copy\n",
      "  df['State'] = state_list[0]\n",
      "/tmp/ipykernel_156201/3822860801.py:23: SettingWithCopyWarning: \n",
      "A value is trying to be set on a copy of a slice from a DataFrame.\n",
      "Try using .loc[row_indexer,col_indexer] = value instead\n",
      "\n",
      "See the caveats in the documentation: https://pandas.pydata.org/pandas-docs/stable/user_guide/indexing.html#returning-a-view-versus-a-copy\n",
      "  df['Income'] = ['>50K' if v>50000 else '<=50K' for v in df['PINCP']]\n"
     ]
    },
    {
     "name": "stdout",
     "output_type": "stream",
     "text": [
      "The current columns are  Index(['Age', 'Class of Worker', 'Education', 'Marital Status', 'Occupation',\n",
      "       'Place of Birth', 'Worked hours', 'Sex', 'Race', 'State', 'Income'],\n",
      "      dtype='object')\n",
      "Len of df 54857\n",
      "Finished loading csv for this state\n",
      "--------------------\n",
      "Start loading data for  ND\n",
      "This is state 34 of 51\n",
      "Downloading data for 2022 1-Year person survey for ND...\n"
     ]
    },
    {
     "name": "stderr",
     "output_type": "stream",
     "text": [
      "/tmp/ipykernel_156201/3822860801.py:20: SettingWithCopyWarning: \n",
      "A value is trying to be set on a copy of a slice from a DataFrame.\n",
      "Try using .loc[row_indexer,col_indexer] = value instead\n",
      "\n",
      "See the caveats in the documentation: https://pandas.pydata.org/pandas-docs/stable/user_guide/indexing.html#returning-a-view-versus-a-copy\n",
      "  df['State'] = state_list[0]\n",
      "/tmp/ipykernel_156201/3822860801.py:23: SettingWithCopyWarning: \n",
      "A value is trying to be set on a copy of a slice from a DataFrame.\n",
      "Try using .loc[row_indexer,col_indexer] = value instead\n",
      "\n",
      "See the caveats in the documentation: https://pandas.pydata.org/pandas-docs/stable/user_guide/indexing.html#returning-a-view-versus-a-copy\n",
      "  df['Income'] = ['>50K' if v>50000 else '<=50K' for v in df['PINCP']]\n"
     ]
    },
    {
     "name": "stdout",
     "output_type": "stream",
     "text": [
      "The current columns are  Index(['Age', 'Class of Worker', 'Education', 'Marital Status', 'Occupation',\n",
      "       'Place of Birth', 'Worked hours', 'Sex', 'Race', 'State', 'Income'],\n",
      "      dtype='object')\n",
      "Len of df 4498\n",
      "Finished loading csv for this state\n",
      "--------------------\n",
      "Start loading data for  OH\n",
      "This is state 35 of 51\n",
      "Downloading data for 2022 1-Year person survey for OH...\n"
     ]
    },
    {
     "name": "stderr",
     "output_type": "stream",
     "text": [
      "/tmp/ipykernel_156201/3822860801.py:20: SettingWithCopyWarning: \n",
      "A value is trying to be set on a copy of a slice from a DataFrame.\n",
      "Try using .loc[row_indexer,col_indexer] = value instead\n",
      "\n",
      "See the caveats in the documentation: https://pandas.pydata.org/pandas-docs/stable/user_guide/indexing.html#returning-a-view-versus-a-copy\n",
      "  df['State'] = state_list[0]\n",
      "/tmp/ipykernel_156201/3822860801.py:23: SettingWithCopyWarning: \n",
      "A value is trying to be set on a copy of a slice from a DataFrame.\n",
      "Try using .loc[row_indexer,col_indexer] = value instead\n",
      "\n",
      "See the caveats in the documentation: https://pandas.pydata.org/pandas-docs/stable/user_guide/indexing.html#returning-a-view-versus-a-copy\n",
      "  df['Income'] = ['>50K' if v>50000 else '<=50K' for v in df['PINCP']]\n"
     ]
    },
    {
     "name": "stdout",
     "output_type": "stream",
     "text": [
      "The current columns are  Index(['Age', 'Class of Worker', 'Education', 'Marital Status', 'Occupation',\n",
      "       'Place of Birth', 'Worked hours', 'Sex', 'Race', 'State', 'Income'],\n",
      "      dtype='object')\n",
      "Len of df 62508\n",
      "Finished loading csv for this state\n",
      "--------------------\n",
      "Start loading data for  OK\n",
      "This is state 36 of 51\n",
      "Downloading data for 2022 1-Year person survey for OK...\n"
     ]
    },
    {
     "name": "stderr",
     "output_type": "stream",
     "text": [
      "/tmp/ipykernel_156201/3822860801.py:20: SettingWithCopyWarning: \n",
      "A value is trying to be set on a copy of a slice from a DataFrame.\n",
      "Try using .loc[row_indexer,col_indexer] = value instead\n",
      "\n",
      "See the caveats in the documentation: https://pandas.pydata.org/pandas-docs/stable/user_guide/indexing.html#returning-a-view-versus-a-copy\n",
      "  df['State'] = state_list[0]\n",
      "/tmp/ipykernel_156201/3822860801.py:23: SettingWithCopyWarning: \n",
      "A value is trying to be set on a copy of a slice from a DataFrame.\n",
      "Try using .loc[row_indexer,col_indexer] = value instead\n",
      "\n",
      "See the caveats in the documentation: https://pandas.pydata.org/pandas-docs/stable/user_guide/indexing.html#returning-a-view-versus-a-copy\n",
      "  df['Income'] = ['>50K' if v>50000 else '<=50K' for v in df['PINCP']]\n"
     ]
    },
    {
     "name": "stdout",
     "output_type": "stream",
     "text": [
      "The current columns are  Index(['Age', 'Class of Worker', 'Education', 'Marital Status', 'Occupation',\n",
      "       'Place of Birth', 'Worked hours', 'Sex', 'Race', 'State', 'Income'],\n",
      "      dtype='object')\n",
      "Len of df 18442\n",
      "Finished loading csv for this state\n",
      "--------------------\n",
      "Start loading data for  OR\n",
      "This is state 37 of 51\n",
      "Downloading data for 2022 1-Year person survey for OR...\n"
     ]
    },
    {
     "name": "stderr",
     "output_type": "stream",
     "text": [
      "/tmp/ipykernel_156201/3822860801.py:20: SettingWithCopyWarning: \n",
      "A value is trying to be set on a copy of a slice from a DataFrame.\n",
      "Try using .loc[row_indexer,col_indexer] = value instead\n",
      "\n",
      "See the caveats in the documentation: https://pandas.pydata.org/pandas-docs/stable/user_guide/indexing.html#returning-a-view-versus-a-copy\n",
      "  df['State'] = state_list[0]\n",
      "/tmp/ipykernel_156201/3822860801.py:23: SettingWithCopyWarning: \n",
      "A value is trying to be set on a copy of a slice from a DataFrame.\n",
      "Try using .loc[row_indexer,col_indexer] = value instead\n",
      "\n",
      "See the caveats in the documentation: https://pandas.pydata.org/pandas-docs/stable/user_guide/indexing.html#returning-a-view-versus-a-copy\n",
      "  df['Income'] = ['>50K' if v>50000 else '<=50K' for v in df['PINCP']]\n"
     ]
    },
    {
     "name": "stdout",
     "output_type": "stream",
     "text": [
      "The current columns are  Index(['Age', 'Class of Worker', 'Education', 'Marital Status', 'Occupation',\n",
      "       'Place of Birth', 'Worked hours', 'Sex', 'Race', 'State', 'Income'],\n",
      "      dtype='object')\n",
      "Len of df 22456\n",
      "Finished loading csv for this state\n",
      "--------------------\n",
      "Start loading data for  PA\n",
      "This is state 38 of 51\n",
      "Downloading data for 2022 1-Year person survey for PA...\n"
     ]
    },
    {
     "name": "stderr",
     "output_type": "stream",
     "text": [
      "/tmp/ipykernel_156201/3822860801.py:20: SettingWithCopyWarning: \n",
      "A value is trying to be set on a copy of a slice from a DataFrame.\n",
      "Try using .loc[row_indexer,col_indexer] = value instead\n",
      "\n",
      "See the caveats in the documentation: https://pandas.pydata.org/pandas-docs/stable/user_guide/indexing.html#returning-a-view-versus-a-copy\n",
      "  df['State'] = state_list[0]\n",
      "/tmp/ipykernel_156201/3822860801.py:23: SettingWithCopyWarning: \n",
      "A value is trying to be set on a copy of a slice from a DataFrame.\n",
      "Try using .loc[row_indexer,col_indexer] = value instead\n",
      "\n",
      "See the caveats in the documentation: https://pandas.pydata.org/pandas-docs/stable/user_guide/indexing.html#returning-a-view-versus-a-copy\n",
      "  df['Income'] = ['>50K' if v>50000 else '<=50K' for v in df['PINCP']]\n"
     ]
    },
    {
     "name": "stdout",
     "output_type": "stream",
     "text": [
      "The current columns are  Index(['Age', 'Class of Worker', 'Education', 'Marital Status', 'Occupation',\n",
      "       'Place of Birth', 'Worked hours', 'Sex', 'Race', 'State', 'Income'],\n",
      "      dtype='object')\n",
      "Len of df 68221\n",
      "Finished loading csv for this state\n",
      "--------------------\n",
      "Start loading data for  RI\n",
      "This is state 39 of 51\n",
      "Downloading data for 2022 1-Year person survey for RI...\n"
     ]
    },
    {
     "name": "stderr",
     "output_type": "stream",
     "text": [
      "/tmp/ipykernel_156201/3822860801.py:20: SettingWithCopyWarning: \n",
      "A value is trying to be set on a copy of a slice from a DataFrame.\n",
      "Try using .loc[row_indexer,col_indexer] = value instead\n",
      "\n",
      "See the caveats in the documentation: https://pandas.pydata.org/pandas-docs/stable/user_guide/indexing.html#returning-a-view-versus-a-copy\n",
      "  df['State'] = state_list[0]\n",
      "/tmp/ipykernel_156201/3822860801.py:23: SettingWithCopyWarning: \n",
      "A value is trying to be set on a copy of a slice from a DataFrame.\n",
      "Try using .loc[row_indexer,col_indexer] = value instead\n",
      "\n",
      "See the caveats in the documentation: https://pandas.pydata.org/pandas-docs/stable/user_guide/indexing.html#returning-a-view-versus-a-copy\n",
      "  df['Income'] = ['>50K' if v>50000 else '<=50K' for v in df['PINCP']]\n"
     ]
    },
    {
     "name": "stdout",
     "output_type": "stream",
     "text": [
      "The current columns are  Index(['Age', 'Class of Worker', 'Education', 'Marital Status', 'Occupation',\n",
      "       'Place of Birth', 'Worked hours', 'Sex', 'Race', 'State', 'Income'],\n",
      "      dtype='object')\n",
      "Len of df 5760\n",
      "Finished loading csv for this state\n",
      "--------------------\n",
      "Start loading data for  SC\n",
      "This is state 40 of 51\n",
      "Downloading data for 2022 1-Year person survey for SC...\n"
     ]
    },
    {
     "name": "stderr",
     "output_type": "stream",
     "text": [
      "/tmp/ipykernel_156201/3822860801.py:20: SettingWithCopyWarning: \n",
      "A value is trying to be set on a copy of a slice from a DataFrame.\n",
      "Try using .loc[row_indexer,col_indexer] = value instead\n",
      "\n",
      "See the caveats in the documentation: https://pandas.pydata.org/pandas-docs/stable/user_guide/indexing.html#returning-a-view-versus-a-copy\n",
      "  df['State'] = state_list[0]\n",
      "/tmp/ipykernel_156201/3822860801.py:23: SettingWithCopyWarning: \n",
      "A value is trying to be set on a copy of a slice from a DataFrame.\n",
      "Try using .loc[row_indexer,col_indexer] = value instead\n",
      "\n",
      "See the caveats in the documentation: https://pandas.pydata.org/pandas-docs/stable/user_guide/indexing.html#returning-a-view-versus-a-copy\n",
      "  df['Income'] = ['>50K' if v>50000 else '<=50K' for v in df['PINCP']]\n"
     ]
    },
    {
     "name": "stdout",
     "output_type": "stream",
     "text": [
      "The current columns are  Index(['Age', 'Class of Worker', 'Education', 'Marital Status', 'Occupation',\n",
      "       'Place of Birth', 'Worked hours', 'Sex', 'Race', 'State', 'Income'],\n",
      "      dtype='object')\n",
      "Len of df 26933\n",
      "Finished loading csv for this state\n",
      "--------------------\n",
      "Start loading data for  SD\n",
      "This is state 41 of 51\n",
      "Downloading data for 2022 1-Year person survey for SD...\n"
     ]
    },
    {
     "name": "stderr",
     "output_type": "stream",
     "text": [
      "/tmp/ipykernel_156201/3822860801.py:20: SettingWithCopyWarning: \n",
      "A value is trying to be set on a copy of a slice from a DataFrame.\n",
      "Try using .loc[row_indexer,col_indexer] = value instead\n",
      "\n",
      "See the caveats in the documentation: https://pandas.pydata.org/pandas-docs/stable/user_guide/indexing.html#returning-a-view-versus-a-copy\n",
      "  df['State'] = state_list[0]\n",
      "/tmp/ipykernel_156201/3822860801.py:23: SettingWithCopyWarning: \n",
      "A value is trying to be set on a copy of a slice from a DataFrame.\n",
      "Try using .loc[row_indexer,col_indexer] = value instead\n",
      "\n",
      "See the caveats in the documentation: https://pandas.pydata.org/pandas-docs/stable/user_guide/indexing.html#returning-a-view-versus-a-copy\n",
      "  df['Income'] = ['>50K' if v>50000 else '<=50K' for v in df['PINCP']]\n"
     ]
    },
    {
     "name": "stdout",
     "output_type": "stream",
     "text": [
      "The current columns are  Index(['Age', 'Class of Worker', 'Education', 'Marital Status', 'Occupation',\n",
      "       'Place of Birth', 'Worked hours', 'Sex', 'Race', 'State', 'Income'],\n",
      "      dtype='object')\n",
      "Len of df 4961\n",
      "Finished loading csv for this state\n",
      "--------------------\n",
      "Start loading data for  TN\n",
      "This is state 42 of 51\n",
      "Downloading data for 2022 1-Year person survey for TN...\n"
     ]
    },
    {
     "name": "stderr",
     "output_type": "stream",
     "text": [
      "/tmp/ipykernel_156201/3822860801.py:20: SettingWithCopyWarning: \n",
      "A value is trying to be set on a copy of a slice from a DataFrame.\n",
      "Try using .loc[row_indexer,col_indexer] = value instead\n",
      "\n",
      "See the caveats in the documentation: https://pandas.pydata.org/pandas-docs/stable/user_guide/indexing.html#returning-a-view-versus-a-copy\n",
      "  df['State'] = state_list[0]\n",
      "/tmp/ipykernel_156201/3822860801.py:23: SettingWithCopyWarning: \n",
      "A value is trying to be set on a copy of a slice from a DataFrame.\n",
      "Try using .loc[row_indexer,col_indexer] = value instead\n",
      "\n",
      "See the caveats in the documentation: https://pandas.pydata.org/pandas-docs/stable/user_guide/indexing.html#returning-a-view-versus-a-copy\n",
      "  df['Income'] = ['>50K' if v>50000 else '<=50K' for v in df['PINCP']]\n"
     ]
    },
    {
     "name": "stdout",
     "output_type": "stream",
     "text": [
      "The current columns are  Index(['Age', 'Class of Worker', 'Education', 'Marital Status', 'Occupation',\n",
      "       'Place of Birth', 'Worked hours', 'Sex', 'Race', 'State', 'Income'],\n",
      "      dtype='object')\n",
      "Len of df 36419\n",
      "Finished loading csv for this state\n",
      "--------------------\n",
      "Start loading data for  TX\n",
      "This is state 43 of 51\n",
      "Downloading data for 2022 1-Year person survey for TX...\n"
     ]
    },
    {
     "name": "stderr",
     "output_type": "stream",
     "text": [
      "/tmp/ipykernel_156201/3822860801.py:20: SettingWithCopyWarning: \n",
      "A value is trying to be set on a copy of a slice from a DataFrame.\n",
      "Try using .loc[row_indexer,col_indexer] = value instead\n",
      "\n",
      "See the caveats in the documentation: https://pandas.pydata.org/pandas-docs/stable/user_guide/indexing.html#returning-a-view-versus-a-copy\n",
      "  df['State'] = state_list[0]\n",
      "/tmp/ipykernel_156201/3822860801.py:23: SettingWithCopyWarning: \n",
      "A value is trying to be set on a copy of a slice from a DataFrame.\n",
      "Try using .loc[row_indexer,col_indexer] = value instead\n",
      "\n",
      "See the caveats in the documentation: https://pandas.pydata.org/pandas-docs/stable/user_guide/indexing.html#returning-a-view-versus-a-copy\n",
      "  df['Income'] = ['>50K' if v>50000 else '<=50K' for v in df['PINCP']]\n"
     ]
    },
    {
     "name": "stdout",
     "output_type": "stream",
     "text": [
      "The current columns are  Index(['Age', 'Class of Worker', 'Education', 'Marital Status', 'Occupation',\n",
      "       'Place of Birth', 'Worked hours', 'Sex', 'Race', 'State', 'Income'],\n",
      "      dtype='object')\n",
      "Len of df 149261\n",
      "Finished loading csv for this state\n",
      "--------------------\n",
      "Start loading data for  UT\n",
      "This is state 44 of 51\n",
      "Downloading data for 2022 1-Year person survey for UT...\n"
     ]
    },
    {
     "name": "stderr",
     "output_type": "stream",
     "text": [
      "/tmp/ipykernel_156201/3822860801.py:20: SettingWithCopyWarning: \n",
      "A value is trying to be set on a copy of a slice from a DataFrame.\n",
      "Try using .loc[row_indexer,col_indexer] = value instead\n",
      "\n",
      "See the caveats in the documentation: https://pandas.pydata.org/pandas-docs/stable/user_guide/indexing.html#returning-a-view-versus-a-copy\n",
      "  df['State'] = state_list[0]\n",
      "/tmp/ipykernel_156201/3822860801.py:23: SettingWithCopyWarning: \n",
      "A value is trying to be set on a copy of a slice from a DataFrame.\n",
      "Try using .loc[row_indexer,col_indexer] = value instead\n",
      "\n",
      "See the caveats in the documentation: https://pandas.pydata.org/pandas-docs/stable/user_guide/indexing.html#returning-a-view-versus-a-copy\n",
      "  df['Income'] = ['>50K' if v>50000 else '<=50K' for v in df['PINCP']]\n"
     ]
    },
    {
     "name": "stdout",
     "output_type": "stream",
     "text": [
      "The current columns are  Index(['Age', 'Class of Worker', 'Education', 'Marital Status', 'Occupation',\n",
      "       'Place of Birth', 'Worked hours', 'Sex', 'Race', 'State', 'Income'],\n",
      "      dtype='object')\n",
      "Len of df 18921\n",
      "Finished loading csv for this state\n",
      "--------------------\n",
      "Start loading data for  VT\n",
      "This is state 45 of 51\n",
      "Downloading data for 2022 1-Year person survey for VT...\n"
     ]
    },
    {
     "name": "stderr",
     "output_type": "stream",
     "text": [
      "/tmp/ipykernel_156201/3822860801.py:20: SettingWithCopyWarning: \n",
      "A value is trying to be set on a copy of a slice from a DataFrame.\n",
      "Try using .loc[row_indexer,col_indexer] = value instead\n",
      "\n",
      "See the caveats in the documentation: https://pandas.pydata.org/pandas-docs/stable/user_guide/indexing.html#returning-a-view-versus-a-copy\n",
      "  df['State'] = state_list[0]\n",
      "/tmp/ipykernel_156201/3822860801.py:23: SettingWithCopyWarning: \n",
      "A value is trying to be set on a copy of a slice from a DataFrame.\n",
      "Try using .loc[row_indexer,col_indexer] = value instead\n",
      "\n",
      "See the caveats in the documentation: https://pandas.pydata.org/pandas-docs/stable/user_guide/indexing.html#returning-a-view-versus-a-copy\n",
      "  df['Income'] = ['>50K' if v>50000 else '<=50K' for v in df['PINCP']]\n"
     ]
    },
    {
     "name": "stdout",
     "output_type": "stream",
     "text": [
      "The current columns are  Index(['Age', 'Class of Worker', 'Education', 'Marital Status', 'Occupation',\n",
      "       'Place of Birth', 'Worked hours', 'Sex', 'Race', 'State', 'Income'],\n",
      "      dtype='object')\n",
      "Len of df 3833\n",
      "Finished loading csv for this state\n",
      "--------------------\n",
      "Start loading data for  VA\n",
      "This is state 46 of 51\n",
      "Downloading data for 2022 1-Year person survey for VA...\n"
     ]
    },
    {
     "name": "stderr",
     "output_type": "stream",
     "text": [
      "/tmp/ipykernel_156201/3822860801.py:20: SettingWithCopyWarning: \n",
      "A value is trying to be set on a copy of a slice from a DataFrame.\n",
      "Try using .loc[row_indexer,col_indexer] = value instead\n",
      "\n",
      "See the caveats in the documentation: https://pandas.pydata.org/pandas-docs/stable/user_guide/indexing.html#returning-a-view-versus-a-copy\n",
      "  df['State'] = state_list[0]\n",
      "/tmp/ipykernel_156201/3822860801.py:23: SettingWithCopyWarning: \n",
      "A value is trying to be set on a copy of a slice from a DataFrame.\n",
      "Try using .loc[row_indexer,col_indexer] = value instead\n",
      "\n",
      "See the caveats in the documentation: https://pandas.pydata.org/pandas-docs/stable/user_guide/indexing.html#returning-a-view-versus-a-copy\n",
      "  df['Income'] = ['>50K' if v>50000 else '<=50K' for v in df['PINCP']]\n"
     ]
    },
    {
     "name": "stdout",
     "output_type": "stream",
     "text": [
      "The current columns are  Index(['Age', 'Class of Worker', 'Education', 'Marital Status', 'Occupation',\n",
      "       'Place of Birth', 'Worked hours', 'Sex', 'Race', 'State', 'Income'],\n",
      "      dtype='object')\n",
      "Len of df 47371\n",
      "Finished loading csv for this state\n",
      "--------------------\n",
      "Start loading data for  WA\n",
      "This is state 47 of 51\n",
      "Downloading data for 2022 1-Year person survey for WA...\n"
     ]
    },
    {
     "name": "stderr",
     "output_type": "stream",
     "text": [
      "/tmp/ipykernel_156201/3822860801.py:20: SettingWithCopyWarning: \n",
      "A value is trying to be set on a copy of a slice from a DataFrame.\n",
      "Try using .loc[row_indexer,col_indexer] = value instead\n",
      "\n",
      "See the caveats in the documentation: https://pandas.pydata.org/pandas-docs/stable/user_guide/indexing.html#returning-a-view-versus-a-copy\n",
      "  df['State'] = state_list[0]\n",
      "/tmp/ipykernel_156201/3822860801.py:23: SettingWithCopyWarning: \n",
      "A value is trying to be set on a copy of a slice from a DataFrame.\n",
      "Try using .loc[row_indexer,col_indexer] = value instead\n",
      "\n",
      "See the caveats in the documentation: https://pandas.pydata.org/pandas-docs/stable/user_guide/indexing.html#returning-a-view-versus-a-copy\n",
      "  df['Income'] = ['>50K' if v>50000 else '<=50K' for v in df['PINCP']]\n"
     ]
    },
    {
     "name": "stdout",
     "output_type": "stream",
     "text": [
      "The current columns are  Index(['Age', 'Class of Worker', 'Education', 'Marital Status', 'Occupation',\n",
      "       'Place of Birth', 'Worked hours', 'Sex', 'Race', 'State', 'Income'],\n",
      "      dtype='object')\n",
      "Len of df 42172\n",
      "Finished loading csv for this state\n",
      "--------------------\n",
      "Start loading data for  WV\n",
      "This is state 48 of 51\n",
      "Downloading data for 2022 1-Year person survey for WV...\n"
     ]
    },
    {
     "name": "stderr",
     "output_type": "stream",
     "text": [
      "/tmp/ipykernel_156201/3822860801.py:20: SettingWithCopyWarning: \n",
      "A value is trying to be set on a copy of a slice from a DataFrame.\n",
      "Try using .loc[row_indexer,col_indexer] = value instead\n",
      "\n",
      "See the caveats in the documentation: https://pandas.pydata.org/pandas-docs/stable/user_guide/indexing.html#returning-a-view-versus-a-copy\n",
      "  df['State'] = state_list[0]\n",
      "/tmp/ipykernel_156201/3822860801.py:23: SettingWithCopyWarning: \n",
      "A value is trying to be set on a copy of a slice from a DataFrame.\n",
      "Try using .loc[row_indexer,col_indexer] = value instead\n",
      "\n",
      "See the caveats in the documentation: https://pandas.pydata.org/pandas-docs/stable/user_guide/indexing.html#returning-a-view-versus-a-copy\n",
      "  df['Income'] = ['>50K' if v>50000 else '<=50K' for v in df['PINCP']]\n"
     ]
    },
    {
     "name": "stdout",
     "output_type": "stream",
     "text": [
      "The current columns are  Index(['Age', 'Class of Worker', 'Education', 'Marital Status', 'Occupation',\n",
      "       'Place of Birth', 'Worked hours', 'Sex', 'Race', 'State', 'Income'],\n",
      "      dtype='object')\n",
      "Len of df 8056\n",
      "Finished loading csv for this state\n",
      "--------------------\n",
      "Start loading data for  WI\n",
      "This is state 49 of 51\n",
      "Downloading data for 2022 1-Year person survey for WI...\n"
     ]
    },
    {
     "name": "stderr",
     "output_type": "stream",
     "text": [
      "/tmp/ipykernel_156201/3822860801.py:20: SettingWithCopyWarning: \n",
      "A value is trying to be set on a copy of a slice from a DataFrame.\n",
      "Try using .loc[row_indexer,col_indexer] = value instead\n",
      "\n",
      "See the caveats in the documentation: https://pandas.pydata.org/pandas-docs/stable/user_guide/indexing.html#returning-a-view-versus-a-copy\n",
      "  df['State'] = state_list[0]\n",
      "/tmp/ipykernel_156201/3822860801.py:23: SettingWithCopyWarning: \n",
      "A value is trying to be set on a copy of a slice from a DataFrame.\n",
      "Try using .loc[row_indexer,col_indexer] = value instead\n",
      "\n",
      "See the caveats in the documentation: https://pandas.pydata.org/pandas-docs/stable/user_guide/indexing.html#returning-a-view-versus-a-copy\n",
      "  df['Income'] = ['>50K' if v>50000 else '<=50K' for v in df['PINCP']]\n"
     ]
    },
    {
     "name": "stdout",
     "output_type": "stream",
     "text": [
      "The current columns are  Index(['Age', 'Class of Worker', 'Education', 'Marital Status', 'Occupation',\n",
      "       'Place of Birth', 'Worked hours', 'Sex', 'Race', 'State', 'Income'],\n",
      "      dtype='object')\n",
      "Len of df 32774\n",
      "Finished loading csv for this state\n",
      "--------------------\n",
      "Start loading data for  WY\n",
      "This is state 50 of 51\n",
      "Downloading data for 2022 1-Year person survey for WY...\n"
     ]
    },
    {
     "name": "stderr",
     "output_type": "stream",
     "text": [
      "/tmp/ipykernel_156201/3822860801.py:20: SettingWithCopyWarning: \n",
      "A value is trying to be set on a copy of a slice from a DataFrame.\n",
      "Try using .loc[row_indexer,col_indexer] = value instead\n",
      "\n",
      "See the caveats in the documentation: https://pandas.pydata.org/pandas-docs/stable/user_guide/indexing.html#returning-a-view-versus-a-copy\n",
      "  df['State'] = state_list[0]\n",
      "/tmp/ipykernel_156201/3822860801.py:23: SettingWithCopyWarning: \n",
      "A value is trying to be set on a copy of a slice from a DataFrame.\n",
      "Try using .loc[row_indexer,col_indexer] = value instead\n",
      "\n",
      "See the caveats in the documentation: https://pandas.pydata.org/pandas-docs/stable/user_guide/indexing.html#returning-a-view-versus-a-copy\n",
      "  df['Income'] = ['>50K' if v>50000 else '<=50K' for v in df['PINCP']]\n"
     ]
    },
    {
     "name": "stdout",
     "output_type": "stream",
     "text": [
      "The current columns are  Index(['Age', 'Class of Worker', 'Education', 'Marital Status', 'Occupation',\n",
      "       'Place of Birth', 'Worked hours', 'Sex', 'Race', 'State', 'Income'],\n",
      "      dtype='object')\n",
      "Len of df 3240\n",
      "Finished loading csv for this state\n",
      "--------------------\n",
      "Start loading data for  PR\n",
      "This is state 51 of 51\n",
      "Downloading data for 2022 1-Year person survey for PR...\n"
     ]
    },
    {
     "name": "stderr",
     "output_type": "stream",
     "text": [
      "/tmp/ipykernel_156201/3822860801.py:20: SettingWithCopyWarning: \n",
      "A value is trying to be set on a copy of a slice from a DataFrame.\n",
      "Try using .loc[row_indexer,col_indexer] = value instead\n",
      "\n",
      "See the caveats in the documentation: https://pandas.pydata.org/pandas-docs/stable/user_guide/indexing.html#returning-a-view-versus-a-copy\n",
      "  df['State'] = state_list[0]\n",
      "/tmp/ipykernel_156201/3822860801.py:23: SettingWithCopyWarning: \n",
      "A value is trying to be set on a copy of a slice from a DataFrame.\n",
      "Try using .loc[row_indexer,col_indexer] = value instead\n",
      "\n",
      "See the caveats in the documentation: https://pandas.pydata.org/pandas-docs/stable/user_guide/indexing.html#returning-a-view-versus-a-copy\n",
      "  df['Income'] = ['>50K' if v>50000 else '<=50K' for v in df['PINCP']]\n"
     ]
    },
    {
     "name": "stdout",
     "output_type": "stream",
     "text": [
      "The current columns are  Index(['Age', 'Class of Worker', 'Education', 'Marital Status', 'Occupation',\n",
      "       'Place of Birth', 'Worked hours', 'Sex', 'Race', 'State', 'Income'],\n",
      "      dtype='object')\n",
      "Len of df 10343\n",
      "Finished loading csv for this state\n",
      "--------------------\n"
     ]
    }
   ],
   "source": [
    "central_df = columns = ['Age', 'Class of Worker', 'Education', 'Marital Status', 'Occupation', 'Place of Birth', 'Worked hours', 'Sex', 'Race', 'State', 'Income']\n",
    "central_df = pd.DataFrame(columns=columns)\n",
    "\n",
    "#Download datasets for all states\n",
    "for i, state in enumerate(all_states):\n",
    "    print('Start loading data for ', state)\n",
    "    print(f'This is state {i + 1} of {len(all_states)}')\n",
    "\n",
    "    state_list = [state]\n",
    "    data_source = ACSDataSource(survey_year=year, horizon='1-Year', survey='person')\n",
    "    ca_data = data_source.get_data(states=state_list, download=True)\n",
    "    if 'RELP' in ca_data.columns:\n",
    "        df = ca_data[features]\n",
    "        df.drop(['REPL'])\n",
    "    else:\n",
    "        df = ca_data[features_no_relp]\n",
    "    file = 'ACS-'+str(year) +'-' + str(state_list[0]) + \".csv\" \n",
    "\n",
    "    # add column with state\n",
    "    df['State'] = state_list[0]\n",
    "\n",
    "    # create column with binary income variable, below or above 50k\n",
    "    df['Income'] = ['>50K' if v>50000 else '<=50K' for v in df['PINCP']]\n",
    "\n",
    "    # rename columns to \n",
    "    df = df.rename(columns= {\"AGEP\": \"Age\", \"COW\": \"Class of Worker\", \"SCHL\": \"Education\", \"MAR\": \"Marital Status\", \"OCCP\":\"Occupation\", \"POBP\": \"Place of Birth\", \"WKHP\":\"Worked hours\", \"SEX\":\"Sex\", \"RAC1P\":\"Race\"}, errors=\"raise\")\n",
    "    \n",
    "    # drop rows with NaN values\n",
    "    df = df.dropna()\n",
    "\n",
    "    # drop original income column\n",
    "    df.drop('PINCP', axis=1, inplace=True)\n",
    "\n",
    "    print('The current columns are ', df.columns)\n",
    "\n",
    "    central_df = pd.concat([central_df, df], ignore_index=True)\n",
    "\n",
    "    # save data as .csv file\n",
    "    # filepath = os.path.join(current_path, \"acs_data\", file)\n",
    "    # df.to_csv(filepath, index=False)\n",
    "    print('Len of df', len(df))\n",
    "    print('Finished loading csv for this state')\n",
    "    print('--------------------')\n",
    "\n",
    "file = 'ACS-'+str(year) +'-' + 'complete' + \".csv\"\n",
    "filepath = os.path.join(current_path, \"acs_data\", file)\n",
    "central_df.to_csv(filepath, index=False)"
   ]
  },
  {
   "cell_type": "code",
   "execution_count": 7,
   "metadata": {},
   "outputs": [
    {
     "data": {
      "text/plain": [
       "array(['AL', 'AK', 'AZ', 'AR', 'CA', 'CO', 'CT', 'DE', 'FL', 'GA', 'HI',\n",
       "       'ID', 'IL', 'IN', 'IA', 'KS', 'KY', 'LA', 'ME', 'MD', 'MA', 'MI',\n",
       "       'MN', 'MS', 'MO', 'MT', 'NE', 'NV', 'NH', 'NJ', 'NM', 'NY', 'NC',\n",
       "       'ND', 'OH', 'OK', 'OR', 'PA', 'RI', 'SC', 'SD', 'TN', 'TX', 'UT',\n",
       "       'VT', 'VA', 'WA', 'WV', 'WI', 'WY', 'PR'], dtype=object)"
      ]
     },
     "execution_count": 7,
     "metadata": {},
     "output_type": "execute_result"
    }
   ],
   "source": [
    "central_df['State'].unique()"
   ]
  },
  {
   "cell_type": "code",
   "execution_count": null,
   "metadata": {},
   "outputs": [],
   "source": []
  }
 ],
 "metadata": {
  "kernelspec": {
   "display_name": "Python 3 (ipykernel)",
   "language": "python",
   "name": "python3"
  },
  "language_info": {
   "codemirror_mode": {
    "name": "ipython",
    "version": 3
   },
   "file_extension": ".py",
   "mimetype": "text/x-python",
   "name": "python",
   "nbconvert_exporter": "python",
   "pygments_lexer": "ipython3",
   "version": "3.12.3"
  }
 },
 "nbformat": 4,
 "nbformat_minor": 4
}
