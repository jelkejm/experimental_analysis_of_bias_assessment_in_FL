{
 "cells": [
  {
   "cell_type": "markdown",
   "metadata": {},
   "source": [
    "# Notebook to download ACS PUMS dataset\n",
    "This notebook provides the code to download the American Community Survey (ACS) Public Use Microdata Sample (PUMS) files managed by the US Census Bureau. "
   ]
  },
  {
   "cell_type": "code",
   "execution_count": 1,
   "metadata": {},
   "outputs": [],
   "source": [
    "#Import libraries\n",
    "import pandas as pd\n",
    "import os\n",
    "\n",
    "from download_acs.acs_helper import ACSDataSource, adult_filter\n",
    "\n",
    "# Link to dataset: https://www2.census.gov/programs-surveys/acs/data/pums/"
   ]
  },
  {
   "cell_type": "code",
   "execution_count": 2,
   "metadata": {},
   "outputs": [],
   "source": [
    "all_states = ['AL', 'AK', 'AZ', 'AR', 'CA', 'CO', 'CT', 'DE', 'FL', 'GA', 'HI',\n",
    "              'ID', 'IL', 'IN', 'IA', 'KS', 'KY', 'LA', 'ME', 'MD', 'MA', 'MI',\n",
    "              'MN', 'MS', 'MO', 'MT', 'NE', 'NV', 'NH', 'NJ', 'NM', 'NY', 'NC',\n",
    "              'ND', 'OH', 'OK', 'OR', 'PA', 'RI', 'SC', 'SD', 'TN', 'TX', 'UT',\n",
    "              'VT', 'VA', 'WA', 'WV', 'WI', 'WY', 'PR']\n"
   ]
  },
  {
   "cell_type": "code",
   "execution_count": 3,
   "metadata": {},
   "outputs": [],
   "source": [
    "features=['AGEP','COW','SCHL','MAR','OCCP','POBP','RELP','WKHP','SEX','RAC1P','PINCP']\n",
    "features_no_relp=['AGEP','COW','SCHL','MAR','OCCP','POBP','WKHP','SEX','RAC1P','PINCP']"
   ]
  },
  {
   "cell_type": "code",
   "execution_count": 4,
   "metadata": {},
   "outputs": [],
   "source": [
    "current_path = os.getcwd()\n",
    "year = 2018"
   ]
  },
  {
   "cell_type": "code",
   "execution_count": 5,
   "metadata": {},
   "outputs": [
    {
     "name": "stdout",
     "output_type": "stream",
     "text": [
      "Start loading data for  AL\n",
      "This is state 1 of 51\n"
     ]
    },
    {
     "name": "stderr",
     "output_type": "stream",
     "text": [
      "/tmp/ipykernel_152683/329858945.py:28: SettingWithCopyWarning: \n",
      "A value is trying to be set on a copy of a slice from a DataFrame.\n",
      "Try using .loc[row_indexer,col_indexer] = value instead\n",
      "\n",
      "See the caveats in the documentation: https://pandas.pydata.org/pandas-docs/stable/user_guide/indexing.html#returning-a-view-versus-a-copy\n",
      "  df['State'] = state_list[0]\n",
      "/tmp/ipykernel_152683/329858945.py:31: SettingWithCopyWarning: \n",
      "A value is trying to be set on a copy of a slice from a DataFrame.\n",
      "Try using .loc[row_indexer,col_indexer] = value instead\n",
      "\n",
      "See the caveats in the documentation: https://pandas.pydata.org/pandas-docs/stable/user_guide/indexing.html#returning-a-view-versus-a-copy\n",
      "  df['Income'] = ['>50K' if v>50000 else '<=50K' for v in df['PINCP']]\n",
      "/tmp/ipykernel_152683/329858945.py:44: FutureWarning: The behavior of DataFrame concatenation with empty or all-NA entries is deprecated. In a future version, this will no longer exclude empty or all-NA columns when determining the result dtypes. To retain the old behavior, exclude the relevant entries before the concat operation.\n",
      "  central_df = pd.concat([central_df, df], ignore_index=True)\n",
      "/tmp/ipykernel_152683/329858945.py:28: SettingWithCopyWarning: \n",
      "A value is trying to be set on a copy of a slice from a DataFrame.\n",
      "Try using .loc[row_indexer,col_indexer] = value instead\n",
      "\n",
      "See the caveats in the documentation: https://pandas.pydata.org/pandas-docs/stable/user_guide/indexing.html#returning-a-view-versus-a-copy\n",
      "  df['State'] = state_list[0]\n",
      "/tmp/ipykernel_152683/329858945.py:31: SettingWithCopyWarning: \n",
      "A value is trying to be set on a copy of a slice from a DataFrame.\n",
      "Try using .loc[row_indexer,col_indexer] = value instead\n",
      "\n",
      "See the caveats in the documentation: https://pandas.pydata.org/pandas-docs/stable/user_guide/indexing.html#returning-a-view-versus-a-copy\n",
      "  df['Income'] = ['>50K' if v>50000 else '<=50K' for v in df['PINCP']]\n"
     ]
    },
    {
     "name": "stdout",
     "output_type": "stream",
     "text": [
      "The current columns are  Index(['Age', 'Class of Worker', 'Education', 'Marital Status', 'Occupation',\n",
      "       'Place of Birth', 'RELP', 'Worked hours', 'Sex', 'Race', 'State',\n",
      "       'Income'],\n",
      "      dtype='object')\n",
      "Len of df 22448\n",
      "Finished loading csv for this state\n",
      "--------------------\n",
      "Start loading data for  AK\n",
      "This is state 2 of 51\n",
      "The current columns are  Index(['Age', 'Class of Worker', 'Education', 'Marital Status', 'Occupation',\n",
      "       'Place of Birth', 'RELP', 'Worked hours', 'Sex', 'Race', 'State',\n",
      "       'Income'],\n",
      "      dtype='object')\n",
      "Len of df 3580\n",
      "Finished loading csv for this state\n",
      "--------------------\n",
      "Start loading data for  AZ\n",
      "This is state 3 of 51\n"
     ]
    },
    {
     "name": "stderr",
     "output_type": "stream",
     "text": [
      "/tmp/ipykernel_152683/329858945.py:28: SettingWithCopyWarning: \n",
      "A value is trying to be set on a copy of a slice from a DataFrame.\n",
      "Try using .loc[row_indexer,col_indexer] = value instead\n",
      "\n",
      "See the caveats in the documentation: https://pandas.pydata.org/pandas-docs/stable/user_guide/indexing.html#returning-a-view-versus-a-copy\n",
      "  df['State'] = state_list[0]\n",
      "/tmp/ipykernel_152683/329858945.py:31: SettingWithCopyWarning: \n",
      "A value is trying to be set on a copy of a slice from a DataFrame.\n",
      "Try using .loc[row_indexer,col_indexer] = value instead\n",
      "\n",
      "See the caveats in the documentation: https://pandas.pydata.org/pandas-docs/stable/user_guide/indexing.html#returning-a-view-versus-a-copy\n",
      "  df['Income'] = ['>50K' if v>50000 else '<=50K' for v in df['PINCP']]\n"
     ]
    },
    {
     "name": "stdout",
     "output_type": "stream",
     "text": [
      "The current columns are  Index(['Age', 'Class of Worker', 'Education', 'Marital Status', 'Occupation',\n",
      "       'Place of Birth', 'RELP', 'Worked hours', 'Sex', 'Race', 'State',\n",
      "       'Income'],\n",
      "      dtype='object')\n",
      "Len of df 33535\n",
      "Finished loading csv for this state\n",
      "--------------------\n",
      "Start loading data for  AR\n",
      "This is state 4 of 51\n"
     ]
    },
    {
     "name": "stderr",
     "output_type": "stream",
     "text": [
      "/tmp/ipykernel_152683/329858945.py:28: SettingWithCopyWarning: \n",
      "A value is trying to be set on a copy of a slice from a DataFrame.\n",
      "Try using .loc[row_indexer,col_indexer] = value instead\n",
      "\n",
      "See the caveats in the documentation: https://pandas.pydata.org/pandas-docs/stable/user_guide/indexing.html#returning-a-view-versus-a-copy\n",
      "  df['State'] = state_list[0]\n",
      "/tmp/ipykernel_152683/329858945.py:31: SettingWithCopyWarning: \n",
      "A value is trying to be set on a copy of a slice from a DataFrame.\n",
      "Try using .loc[row_indexer,col_indexer] = value instead\n",
      "\n",
      "See the caveats in the documentation: https://pandas.pydata.org/pandas-docs/stable/user_guide/indexing.html#returning-a-view-versus-a-copy\n",
      "  df['Income'] = ['>50K' if v>50000 else '<=50K' for v in df['PINCP']]\n"
     ]
    },
    {
     "name": "stdout",
     "output_type": "stream",
     "text": [
      "The current columns are  Index(['Age', 'Class of Worker', 'Education', 'Marital Status', 'Occupation',\n",
      "       'Place of Birth', 'RELP', 'Worked hours', 'Sex', 'Race', 'State',\n",
      "       'Income'],\n",
      "      dtype='object')\n",
      "Len of df 14043\n",
      "Finished loading csv for this state\n",
      "--------------------\n",
      "Start loading data for  CA\n",
      "This is state 5 of 51\n"
     ]
    },
    {
     "name": "stderr",
     "output_type": "stream",
     "text": [
      "/tmp/ipykernel_152683/329858945.py:28: SettingWithCopyWarning: \n",
      "A value is trying to be set on a copy of a slice from a DataFrame.\n",
      "Try using .loc[row_indexer,col_indexer] = value instead\n",
      "\n",
      "See the caveats in the documentation: https://pandas.pydata.org/pandas-docs/stable/user_guide/indexing.html#returning-a-view-versus-a-copy\n",
      "  df['State'] = state_list[0]\n",
      "/tmp/ipykernel_152683/329858945.py:31: SettingWithCopyWarning: \n",
      "A value is trying to be set on a copy of a slice from a DataFrame.\n",
      "Try using .loc[row_indexer,col_indexer] = value instead\n",
      "\n",
      "See the caveats in the documentation: https://pandas.pydata.org/pandas-docs/stable/user_guide/indexing.html#returning-a-view-versus-a-copy\n",
      "  df['Income'] = ['>50K' if v>50000 else '<=50K' for v in df['PINCP']]\n"
     ]
    },
    {
     "name": "stdout",
     "output_type": "stream",
     "text": [
      "The current columns are  Index(['Age', 'Class of Worker', 'Education', 'Marital Status', 'Occupation',\n",
      "       'Place of Birth', 'RELP', 'Worked hours', 'Sex', 'Race', 'State',\n",
      "       'Income'],\n",
      "      dtype='object')\n",
      "Len of df 196604\n",
      "Finished loading csv for this state\n",
      "--------------------\n",
      "Start loading data for  CO\n",
      "This is state 6 of 51\n"
     ]
    },
    {
     "name": "stderr",
     "output_type": "stream",
     "text": [
      "/tmp/ipykernel_152683/329858945.py:28: SettingWithCopyWarning: \n",
      "A value is trying to be set on a copy of a slice from a DataFrame.\n",
      "Try using .loc[row_indexer,col_indexer] = value instead\n",
      "\n",
      "See the caveats in the documentation: https://pandas.pydata.org/pandas-docs/stable/user_guide/indexing.html#returning-a-view-versus-a-copy\n",
      "  df['State'] = state_list[0]\n",
      "/tmp/ipykernel_152683/329858945.py:31: SettingWithCopyWarning: \n",
      "A value is trying to be set on a copy of a slice from a DataFrame.\n",
      "Try using .loc[row_indexer,col_indexer] = value instead\n",
      "\n",
      "See the caveats in the documentation: https://pandas.pydata.org/pandas-docs/stable/user_guide/indexing.html#returning-a-view-versus-a-copy\n",
      "  df['Income'] = ['>50K' if v>50000 else '<=50K' for v in df['PINCP']]\n"
     ]
    },
    {
     "name": "stdout",
     "output_type": "stream",
     "text": [
      "The current columns are  Index(['Age', 'Class of Worker', 'Education', 'Marital Status', 'Occupation',\n",
      "       'Place of Birth', 'RELP', 'Worked hours', 'Sex', 'Race', 'State',\n",
      "       'Income'],\n",
      "      dtype='object')\n",
      "Len of df 31626\n",
      "Finished loading csv for this state\n",
      "--------------------\n",
      "Start loading data for  CT\n",
      "This is state 7 of 51\n"
     ]
    },
    {
     "name": "stderr",
     "output_type": "stream",
     "text": [
      "/tmp/ipykernel_152683/329858945.py:28: SettingWithCopyWarning: \n",
      "A value is trying to be set on a copy of a slice from a DataFrame.\n",
      "Try using .loc[row_indexer,col_indexer] = value instead\n",
      "\n",
      "See the caveats in the documentation: https://pandas.pydata.org/pandas-docs/stable/user_guide/indexing.html#returning-a-view-versus-a-copy\n",
      "  df['State'] = state_list[0]\n",
      "/tmp/ipykernel_152683/329858945.py:31: SettingWithCopyWarning: \n",
      "A value is trying to be set on a copy of a slice from a DataFrame.\n",
      "Try using .loc[row_indexer,col_indexer] = value instead\n",
      "\n",
      "See the caveats in the documentation: https://pandas.pydata.org/pandas-docs/stable/user_guide/indexing.html#returning-a-view-versus-a-copy\n",
      "  df['Income'] = ['>50K' if v>50000 else '<=50K' for v in df['PINCP']]\n"
     ]
    },
    {
     "name": "stdout",
     "output_type": "stream",
     "text": [
      "The current columns are  Index(['Age', 'Class of Worker', 'Education', 'Marital Status', 'Occupation',\n",
      "       'Place of Birth', 'RELP', 'Worked hours', 'Sex', 'Race', 'State',\n",
      "       'Income'],\n",
      "      dtype='object')\n",
      "Len of df 19961\n",
      "Finished loading csv for this state\n",
      "--------------------\n",
      "Start loading data for  DE\n",
      "This is state 8 of 51\n"
     ]
    },
    {
     "name": "stderr",
     "output_type": "stream",
     "text": [
      "/tmp/ipykernel_152683/329858945.py:28: SettingWithCopyWarning: \n",
      "A value is trying to be set on a copy of a slice from a DataFrame.\n",
      "Try using .loc[row_indexer,col_indexer] = value instead\n",
      "\n",
      "See the caveats in the documentation: https://pandas.pydata.org/pandas-docs/stable/user_guide/indexing.html#returning-a-view-versus-a-copy\n",
      "  df['State'] = state_list[0]\n",
      "/tmp/ipykernel_152683/329858945.py:31: SettingWithCopyWarning: \n",
      "A value is trying to be set on a copy of a slice from a DataFrame.\n",
      "Try using .loc[row_indexer,col_indexer] = value instead\n",
      "\n",
      "See the caveats in the documentation: https://pandas.pydata.org/pandas-docs/stable/user_guide/indexing.html#returning-a-view-versus-a-copy\n",
      "  df['Income'] = ['>50K' if v>50000 else '<=50K' for v in df['PINCP']]\n"
     ]
    },
    {
     "name": "stdout",
     "output_type": "stream",
     "text": [
      "The current columns are  Index(['Age', 'Class of Worker', 'Education', 'Marital Status', 'Occupation',\n",
      "       'Place of Birth', 'RELP', 'Worked hours', 'Sex', 'Race', 'State',\n",
      "       'Income'],\n",
      "      dtype='object')\n",
      "Len of df 4761\n",
      "Finished loading csv for this state\n",
      "--------------------\n",
      "Start loading data for  FL\n",
      "This is state 9 of 51\n"
     ]
    },
    {
     "name": "stderr",
     "output_type": "stream",
     "text": [
      "/tmp/ipykernel_152683/329858945.py:28: SettingWithCopyWarning: \n",
      "A value is trying to be set on a copy of a slice from a DataFrame.\n",
      "Try using .loc[row_indexer,col_indexer] = value instead\n",
      "\n",
      "See the caveats in the documentation: https://pandas.pydata.org/pandas-docs/stable/user_guide/indexing.html#returning-a-view-versus-a-copy\n",
      "  df['State'] = state_list[0]\n",
      "/tmp/ipykernel_152683/329858945.py:31: SettingWithCopyWarning: \n",
      "A value is trying to be set on a copy of a slice from a DataFrame.\n",
      "Try using .loc[row_indexer,col_indexer] = value instead\n",
      "\n",
      "See the caveats in the documentation: https://pandas.pydata.org/pandas-docs/stable/user_guide/indexing.html#returning-a-view-versus-a-copy\n",
      "  df['Income'] = ['>50K' if v>50000 else '<=50K' for v in df['PINCP']]\n"
     ]
    },
    {
     "name": "stdout",
     "output_type": "stream",
     "text": [
      "The current columns are  Index(['Age', 'Class of Worker', 'Education', 'Marital Status', 'Occupation',\n",
      "       'Place of Birth', 'RELP', 'Worked hours', 'Sex', 'Race', 'State',\n",
      "       'Income'],\n",
      "      dtype='object')\n",
      "Len of df 99418\n",
      "Finished loading csv for this state\n",
      "--------------------\n",
      "Start loading data for  GA\n",
      "This is state 10 of 51\n"
     ]
    },
    {
     "name": "stderr",
     "output_type": "stream",
     "text": [
      "/tmp/ipykernel_152683/329858945.py:28: SettingWithCopyWarning: \n",
      "A value is trying to be set on a copy of a slice from a DataFrame.\n",
      "Try using .loc[row_indexer,col_indexer] = value instead\n",
      "\n",
      "See the caveats in the documentation: https://pandas.pydata.org/pandas-docs/stable/user_guide/indexing.html#returning-a-view-versus-a-copy\n",
      "  df['State'] = state_list[0]\n",
      "/tmp/ipykernel_152683/329858945.py:31: SettingWithCopyWarning: \n",
      "A value is trying to be set on a copy of a slice from a DataFrame.\n",
      "Try using .loc[row_indexer,col_indexer] = value instead\n",
      "\n",
      "See the caveats in the documentation: https://pandas.pydata.org/pandas-docs/stable/user_guide/indexing.html#returning-a-view-versus-a-copy\n",
      "  df['Income'] = ['>50K' if v>50000 else '<=50K' for v in df['PINCP']]\n"
     ]
    },
    {
     "name": "stdout",
     "output_type": "stream",
     "text": [
      "The current columns are  Index(['Age', 'Class of Worker', 'Education', 'Marital Status', 'Occupation',\n",
      "       'Place of Birth', 'RELP', 'Worked hours', 'Sex', 'Race', 'State',\n",
      "       'Income'],\n",
      "      dtype='object')\n",
      "Len of df 51299\n",
      "Finished loading csv for this state\n",
      "--------------------\n",
      "Start loading data for  HI\n",
      "This is state 11 of 51\n"
     ]
    },
    {
     "name": "stderr",
     "output_type": "stream",
     "text": [
      "/tmp/ipykernel_152683/329858945.py:28: SettingWithCopyWarning: \n",
      "A value is trying to be set on a copy of a slice from a DataFrame.\n",
      "Try using .loc[row_indexer,col_indexer] = value instead\n",
      "\n",
      "See the caveats in the documentation: https://pandas.pydata.org/pandas-docs/stable/user_guide/indexing.html#returning-a-view-versus-a-copy\n",
      "  df['State'] = state_list[0]\n",
      "/tmp/ipykernel_152683/329858945.py:31: SettingWithCopyWarning: \n",
      "A value is trying to be set on a copy of a slice from a DataFrame.\n",
      "Try using .loc[row_indexer,col_indexer] = value instead\n",
      "\n",
      "See the caveats in the documentation: https://pandas.pydata.org/pandas-docs/stable/user_guide/indexing.html#returning-a-view-versus-a-copy\n",
      "  df['Income'] = ['>50K' if v>50000 else '<=50K' for v in df['PINCP']]\n"
     ]
    },
    {
     "name": "stdout",
     "output_type": "stream",
     "text": [
      "The current columns are  Index(['Age', 'Class of Worker', 'Education', 'Marital Status', 'Occupation',\n",
      "       'Place of Birth', 'RELP', 'Worked hours', 'Sex', 'Race', 'State',\n",
      "       'Income'],\n",
      "      dtype='object')\n",
      "Len of df 7769\n",
      "Finished loading csv for this state\n",
      "--------------------\n",
      "Start loading data for  ID\n",
      "This is state 12 of 51\n"
     ]
    },
    {
     "name": "stderr",
     "output_type": "stream",
     "text": [
      "/tmp/ipykernel_152683/329858945.py:28: SettingWithCopyWarning: \n",
      "A value is trying to be set on a copy of a slice from a DataFrame.\n",
      "Try using .loc[row_indexer,col_indexer] = value instead\n",
      "\n",
      "See the caveats in the documentation: https://pandas.pydata.org/pandas-docs/stable/user_guide/indexing.html#returning-a-view-versus-a-copy\n",
      "  df['State'] = state_list[0]\n",
      "/tmp/ipykernel_152683/329858945.py:31: SettingWithCopyWarning: \n",
      "A value is trying to be set on a copy of a slice from a DataFrame.\n",
      "Try using .loc[row_indexer,col_indexer] = value instead\n",
      "\n",
      "See the caveats in the documentation: https://pandas.pydata.org/pandas-docs/stable/user_guide/indexing.html#returning-a-view-versus-a-copy\n",
      "  df['Income'] = ['>50K' if v>50000 else '<=50K' for v in df['PINCP']]\n"
     ]
    },
    {
     "name": "stdout",
     "output_type": "stream",
     "text": [
      "The current columns are  Index(['Age', 'Class of Worker', 'Education', 'Marital Status', 'Occupation',\n",
      "       'Place of Birth', 'RELP', 'Worked hours', 'Sex', 'Race', 'State',\n",
      "       'Income'],\n",
      "      dtype='object')\n",
      "Len of df 8378\n",
      "Finished loading csv for this state\n",
      "--------------------\n",
      "Start loading data for  IL\n",
      "This is state 13 of 51\n"
     ]
    },
    {
     "name": "stderr",
     "output_type": "stream",
     "text": [
      "/tmp/ipykernel_152683/329858945.py:28: SettingWithCopyWarning: \n",
      "A value is trying to be set on a copy of a slice from a DataFrame.\n",
      "Try using .loc[row_indexer,col_indexer] = value instead\n",
      "\n",
      "See the caveats in the documentation: https://pandas.pydata.org/pandas-docs/stable/user_guide/indexing.html#returning-a-view-versus-a-copy\n",
      "  df['State'] = state_list[0]\n",
      "/tmp/ipykernel_152683/329858945.py:31: SettingWithCopyWarning: \n",
      "A value is trying to be set on a copy of a slice from a DataFrame.\n",
      "Try using .loc[row_indexer,col_indexer] = value instead\n",
      "\n",
      "See the caveats in the documentation: https://pandas.pydata.org/pandas-docs/stable/user_guide/indexing.html#returning-a-view-versus-a-copy\n",
      "  df['Income'] = ['>50K' if v>50000 else '<=50K' for v in df['PINCP']]\n"
     ]
    },
    {
     "name": "stdout",
     "output_type": "stream",
     "text": [
      "The current columns are  Index(['Age', 'Class of Worker', 'Education', 'Marital Status', 'Occupation',\n",
      "       'Place of Birth', 'RELP', 'Worked hours', 'Sex', 'Race', 'State',\n",
      "       'Income'],\n",
      "      dtype='object')\n",
      "Len of df 67624\n",
      "Finished loading csv for this state\n",
      "--------------------\n",
      "Start loading data for  IN\n",
      "This is state 14 of 51\n"
     ]
    },
    {
     "name": "stderr",
     "output_type": "stream",
     "text": [
      "/tmp/ipykernel_152683/329858945.py:28: SettingWithCopyWarning: \n",
      "A value is trying to be set on a copy of a slice from a DataFrame.\n",
      "Try using .loc[row_indexer,col_indexer] = value instead\n",
      "\n",
      "See the caveats in the documentation: https://pandas.pydata.org/pandas-docs/stable/user_guide/indexing.html#returning-a-view-versus-a-copy\n",
      "  df['State'] = state_list[0]\n",
      "/tmp/ipykernel_152683/329858945.py:31: SettingWithCopyWarning: \n",
      "A value is trying to be set on a copy of a slice from a DataFrame.\n",
      "Try using .loc[row_indexer,col_indexer] = value instead\n",
      "\n",
      "See the caveats in the documentation: https://pandas.pydata.org/pandas-docs/stable/user_guide/indexing.html#returning-a-view-versus-a-copy\n",
      "  df['Income'] = ['>50K' if v>50000 else '<=50K' for v in df['PINCP']]\n"
     ]
    },
    {
     "name": "stdout",
     "output_type": "stream",
     "text": [
      "The current columns are  Index(['Age', 'Class of Worker', 'Education', 'Marital Status', 'Occupation',\n",
      "       'Place of Birth', 'RELP', 'Worked hours', 'Sex', 'Race', 'State',\n",
      "       'Income'],\n",
      "      dtype='object')\n",
      "Len of df 35365\n",
      "Finished loading csv for this state\n",
      "--------------------\n",
      "Start loading data for  IA\n",
      "This is state 15 of 51\n"
     ]
    },
    {
     "name": "stderr",
     "output_type": "stream",
     "text": [
      "/tmp/ipykernel_152683/329858945.py:28: SettingWithCopyWarning: \n",
      "A value is trying to be set on a copy of a slice from a DataFrame.\n",
      "Try using .loc[row_indexer,col_indexer] = value instead\n",
      "\n",
      "See the caveats in the documentation: https://pandas.pydata.org/pandas-docs/stable/user_guide/indexing.html#returning-a-view-versus-a-copy\n",
      "  df['State'] = state_list[0]\n",
      "/tmp/ipykernel_152683/329858945.py:31: SettingWithCopyWarning: \n",
      "A value is trying to be set on a copy of a slice from a DataFrame.\n",
      "Try using .loc[row_indexer,col_indexer] = value instead\n",
      "\n",
      "See the caveats in the documentation: https://pandas.pydata.org/pandas-docs/stable/user_guide/indexing.html#returning-a-view-versus-a-copy\n",
      "  df['Income'] = ['>50K' if v>50000 else '<=50K' for v in df['PINCP']]\n"
     ]
    },
    {
     "name": "stdout",
     "output_type": "stream",
     "text": [
      "The current columns are  Index(['Age', 'Class of Worker', 'Education', 'Marital Status', 'Occupation',\n",
      "       'Place of Birth', 'RELP', 'Worked hours', 'Sex', 'Race', 'State',\n",
      "       'Income'],\n",
      "      dtype='object')\n",
      "Len of df 17951\n",
      "Finished loading csv for this state\n",
      "--------------------\n",
      "Start loading data for  KS\n",
      "This is state 16 of 51\n"
     ]
    },
    {
     "name": "stderr",
     "output_type": "stream",
     "text": [
      "/tmp/ipykernel_152683/329858945.py:28: SettingWithCopyWarning: \n",
      "A value is trying to be set on a copy of a slice from a DataFrame.\n",
      "Try using .loc[row_indexer,col_indexer] = value instead\n",
      "\n",
      "See the caveats in the documentation: https://pandas.pydata.org/pandas-docs/stable/user_guide/indexing.html#returning-a-view-versus-a-copy\n",
      "  df['State'] = state_list[0]\n",
      "/tmp/ipykernel_152683/329858945.py:31: SettingWithCopyWarning: \n",
      "A value is trying to be set on a copy of a slice from a DataFrame.\n",
      "Try using .loc[row_indexer,col_indexer] = value instead\n",
      "\n",
      "See the caveats in the documentation: https://pandas.pydata.org/pandas-docs/stable/user_guide/indexing.html#returning-a-view-versus-a-copy\n",
      "  df['Income'] = ['>50K' if v>50000 else '<=50K' for v in df['PINCP']]\n"
     ]
    },
    {
     "name": "stdout",
     "output_type": "stream",
     "text": [
      "The current columns are  Index(['Age', 'Class of Worker', 'Education', 'Marital Status', 'Occupation',\n",
      "       'Place of Birth', 'RELP', 'Worked hours', 'Sex', 'Race', 'State',\n",
      "       'Income'],\n",
      "      dtype='object')\n",
      "Len of df 16027\n",
      "Finished loading csv for this state\n",
      "--------------------\n",
      "Start loading data for  KY\n",
      "This is state 17 of 51\n"
     ]
    },
    {
     "name": "stderr",
     "output_type": "stream",
     "text": [
      "/tmp/ipykernel_152683/329858945.py:28: SettingWithCopyWarning: \n",
      "A value is trying to be set on a copy of a slice from a DataFrame.\n",
      "Try using .loc[row_indexer,col_indexer] = value instead\n",
      "\n",
      "See the caveats in the documentation: https://pandas.pydata.org/pandas-docs/stable/user_guide/indexing.html#returning-a-view-versus-a-copy\n",
      "  df['State'] = state_list[0]\n",
      "/tmp/ipykernel_152683/329858945.py:31: SettingWithCopyWarning: \n",
      "A value is trying to be set on a copy of a slice from a DataFrame.\n",
      "Try using .loc[row_indexer,col_indexer] = value instead\n",
      "\n",
      "See the caveats in the documentation: https://pandas.pydata.org/pandas-docs/stable/user_guide/indexing.html#returning-a-view-versus-a-copy\n",
      "  df['Income'] = ['>50K' if v>50000 else '<=50K' for v in df['PINCP']]\n"
     ]
    },
    {
     "name": "stdout",
     "output_type": "stream",
     "text": [
      "The current columns are  Index(['Age', 'Class of Worker', 'Education', 'Marital Status', 'Occupation',\n",
      "       'Place of Birth', 'RELP', 'Worked hours', 'Sex', 'Race', 'State',\n",
      "       'Income'],\n",
      "      dtype='object')\n",
      "Len of df 22174\n",
      "Finished loading csv for this state\n",
      "--------------------\n",
      "Start loading data for  LA\n",
      "This is state 18 of 51\n"
     ]
    },
    {
     "name": "stderr",
     "output_type": "stream",
     "text": [
      "/tmp/ipykernel_152683/329858945.py:28: SettingWithCopyWarning: \n",
      "A value is trying to be set on a copy of a slice from a DataFrame.\n",
      "Try using .loc[row_indexer,col_indexer] = value instead\n",
      "\n",
      "See the caveats in the documentation: https://pandas.pydata.org/pandas-docs/stable/user_guide/indexing.html#returning-a-view-versus-a-copy\n",
      "  df['State'] = state_list[0]\n",
      "/tmp/ipykernel_152683/329858945.py:31: SettingWithCopyWarning: \n",
      "A value is trying to be set on a copy of a slice from a DataFrame.\n",
      "Try using .loc[row_indexer,col_indexer] = value instead\n",
      "\n",
      "See the caveats in the documentation: https://pandas.pydata.org/pandas-docs/stable/user_guide/indexing.html#returning-a-view-versus-a-copy\n",
      "  df['Income'] = ['>50K' if v>50000 else '<=50K' for v in df['PINCP']]\n"
     ]
    },
    {
     "name": "stdout",
     "output_type": "stream",
     "text": [
      "The current columns are  Index(['Age', 'Class of Worker', 'Education', 'Marital Status', 'Occupation',\n",
      "       'Place of Birth', 'RELP', 'Worked hours', 'Sex', 'Race', 'State',\n",
      "       'Income'],\n",
      "      dtype='object')\n",
      "Len of df 20784\n",
      "Finished loading csv for this state\n",
      "--------------------\n",
      "Start loading data for  ME\n",
      "This is state 19 of 51\n"
     ]
    },
    {
     "name": "stderr",
     "output_type": "stream",
     "text": [
      "/tmp/ipykernel_152683/329858945.py:28: SettingWithCopyWarning: \n",
      "A value is trying to be set on a copy of a slice from a DataFrame.\n",
      "Try using .loc[row_indexer,col_indexer] = value instead\n",
      "\n",
      "See the caveats in the documentation: https://pandas.pydata.org/pandas-docs/stable/user_guide/indexing.html#returning-a-view-versus-a-copy\n",
      "  df['State'] = state_list[0]\n",
      "/tmp/ipykernel_152683/329858945.py:31: SettingWithCopyWarning: \n",
      "A value is trying to be set on a copy of a slice from a DataFrame.\n",
      "Try using .loc[row_indexer,col_indexer] = value instead\n",
      "\n",
      "See the caveats in the documentation: https://pandas.pydata.org/pandas-docs/stable/user_guide/indexing.html#returning-a-view-versus-a-copy\n",
      "  df['Income'] = ['>50K' if v>50000 else '<=50K' for v in df['PINCP']]\n"
     ]
    },
    {
     "name": "stdout",
     "output_type": "stream",
     "text": [
      "The current columns are  Index(['Age', 'Class of Worker', 'Education', 'Marital Status', 'Occupation',\n",
      "       'Place of Birth', 'RELP', 'Worked hours', 'Sex', 'Race', 'State',\n",
      "       'Income'],\n",
      "      dtype='object')\n",
      "Len of df 7077\n",
      "Finished loading csv for this state\n",
      "--------------------\n",
      "Start loading data for  MD\n",
      "This is state 20 of 51\n"
     ]
    },
    {
     "name": "stderr",
     "output_type": "stream",
     "text": [
      "/tmp/ipykernel_152683/329858945.py:28: SettingWithCopyWarning: \n",
      "A value is trying to be set on a copy of a slice from a DataFrame.\n",
      "Try using .loc[row_indexer,col_indexer] = value instead\n",
      "\n",
      "See the caveats in the documentation: https://pandas.pydata.org/pandas-docs/stable/user_guide/indexing.html#returning-a-view-versus-a-copy\n",
      "  df['State'] = state_list[0]\n",
      "/tmp/ipykernel_152683/329858945.py:31: SettingWithCopyWarning: \n",
      "A value is trying to be set on a copy of a slice from a DataFrame.\n",
      "Try using .loc[row_indexer,col_indexer] = value instead\n",
      "\n",
      "See the caveats in the documentation: https://pandas.pydata.org/pandas-docs/stable/user_guide/indexing.html#returning-a-view-versus-a-copy\n",
      "  df['Income'] = ['>50K' if v>50000 else '<=50K' for v in df['PINCP']]\n"
     ]
    },
    {
     "name": "stdout",
     "output_type": "stream",
     "text": [
      "The current columns are  Index(['Age', 'Class of Worker', 'Education', 'Marital Status', 'Occupation',\n",
      "       'Place of Birth', 'RELP', 'Worked hours', 'Sex', 'Race', 'State',\n",
      "       'Income'],\n",
      "      dtype='object')\n",
      "Len of df 33285\n",
      "Finished loading csv for this state\n",
      "--------------------\n",
      "Start loading data for  MA\n",
      "This is state 21 of 51\n"
     ]
    },
    {
     "name": "stderr",
     "output_type": "stream",
     "text": [
      "/tmp/ipykernel_152683/329858945.py:28: SettingWithCopyWarning: \n",
      "A value is trying to be set on a copy of a slice from a DataFrame.\n",
      "Try using .loc[row_indexer,col_indexer] = value instead\n",
      "\n",
      "See the caveats in the documentation: https://pandas.pydata.org/pandas-docs/stable/user_guide/indexing.html#returning-a-view-versus-a-copy\n",
      "  df['State'] = state_list[0]\n",
      "/tmp/ipykernel_152683/329858945.py:31: SettingWithCopyWarning: \n",
      "A value is trying to be set on a copy of a slice from a DataFrame.\n",
      "Try using .loc[row_indexer,col_indexer] = value instead\n",
      "\n",
      "See the caveats in the documentation: https://pandas.pydata.org/pandas-docs/stable/user_guide/indexing.html#returning-a-view-versus-a-copy\n",
      "  df['Income'] = ['>50K' if v>50000 else '<=50K' for v in df['PINCP']]\n"
     ]
    },
    {
     "name": "stdout",
     "output_type": "stream",
     "text": [
      "The current columns are  Index(['Age', 'Class of Worker', 'Education', 'Marital Status', 'Occupation',\n",
      "       'Place of Birth', 'RELP', 'Worked hours', 'Sex', 'Race', 'State',\n",
      "       'Income'],\n",
      "      dtype='object')\n",
      "Len of df 40472\n",
      "Finished loading csv for this state\n",
      "--------------------\n",
      "Start loading data for  MI\n",
      "This is state 22 of 51\n"
     ]
    },
    {
     "name": "stderr",
     "output_type": "stream",
     "text": [
      "/tmp/ipykernel_152683/329858945.py:28: SettingWithCopyWarning: \n",
      "A value is trying to be set on a copy of a slice from a DataFrame.\n",
      "Try using .loc[row_indexer,col_indexer] = value instead\n",
      "\n",
      "See the caveats in the documentation: https://pandas.pydata.org/pandas-docs/stable/user_guide/indexing.html#returning-a-view-versus-a-copy\n",
      "  df['State'] = state_list[0]\n",
      "/tmp/ipykernel_152683/329858945.py:31: SettingWithCopyWarning: \n",
      "A value is trying to be set on a copy of a slice from a DataFrame.\n",
      "Try using .loc[row_indexer,col_indexer] = value instead\n",
      "\n",
      "See the caveats in the documentation: https://pandas.pydata.org/pandas-docs/stable/user_guide/indexing.html#returning-a-view-versus-a-copy\n",
      "  df['Income'] = ['>50K' if v>50000 else '<=50K' for v in df['PINCP']]\n"
     ]
    },
    {
     "name": "stdout",
     "output_type": "stream",
     "text": [
      "The current columns are  Index(['Age', 'Class of Worker', 'Education', 'Marital Status', 'Occupation',\n",
      "       'Place of Birth', 'RELP', 'Worked hours', 'Sex', 'Race', 'State',\n",
      "       'Income'],\n",
      "      dtype='object')\n",
      "Len of df 50511\n",
      "Finished loading csv for this state\n",
      "--------------------\n",
      "Start loading data for  MN\n",
      "This is state 23 of 51\n"
     ]
    },
    {
     "name": "stderr",
     "output_type": "stream",
     "text": [
      "/tmp/ipykernel_152683/329858945.py:28: SettingWithCopyWarning: \n",
      "A value is trying to be set on a copy of a slice from a DataFrame.\n",
      "Try using .loc[row_indexer,col_indexer] = value instead\n",
      "\n",
      "See the caveats in the documentation: https://pandas.pydata.org/pandas-docs/stable/user_guide/indexing.html#returning-a-view-versus-a-copy\n",
      "  df['State'] = state_list[0]\n",
      "/tmp/ipykernel_152683/329858945.py:31: SettingWithCopyWarning: \n",
      "A value is trying to be set on a copy of a slice from a DataFrame.\n",
      "Try using .loc[row_indexer,col_indexer] = value instead\n",
      "\n",
      "See the caveats in the documentation: https://pandas.pydata.org/pandas-docs/stable/user_guide/indexing.html#returning-a-view-versus-a-copy\n",
      "  df['Income'] = ['>50K' if v>50000 else '<=50K' for v in df['PINCP']]\n"
     ]
    },
    {
     "name": "stdout",
     "output_type": "stream",
     "text": [
      "The current columns are  Index(['Age', 'Class of Worker', 'Education', 'Marital Status', 'Occupation',\n",
      "       'Place of Birth', 'RELP', 'Worked hours', 'Sex', 'Race', 'State',\n",
      "       'Income'],\n",
      "      dtype='object')\n",
      "Len of df 31438\n",
      "Finished loading csv for this state\n",
      "--------------------\n",
      "Start loading data for  MS\n",
      "This is state 24 of 51\n"
     ]
    },
    {
     "name": "stderr",
     "output_type": "stream",
     "text": [
      "/tmp/ipykernel_152683/329858945.py:28: SettingWithCopyWarning: \n",
      "A value is trying to be set on a copy of a slice from a DataFrame.\n",
      "Try using .loc[row_indexer,col_indexer] = value instead\n",
      "\n",
      "See the caveats in the documentation: https://pandas.pydata.org/pandas-docs/stable/user_guide/indexing.html#returning-a-view-versus-a-copy\n",
      "  df['State'] = state_list[0]\n",
      "/tmp/ipykernel_152683/329858945.py:31: SettingWithCopyWarning: \n",
      "A value is trying to be set on a copy of a slice from a DataFrame.\n",
      "Try using .loc[row_indexer,col_indexer] = value instead\n",
      "\n",
      "See the caveats in the documentation: https://pandas.pydata.org/pandas-docs/stable/user_guide/indexing.html#returning-a-view-versus-a-copy\n",
      "  df['Income'] = ['>50K' if v>50000 else '<=50K' for v in df['PINCP']]\n"
     ]
    },
    {
     "name": "stdout",
     "output_type": "stream",
     "text": [
      "The current columns are  Index(['Age', 'Class of Worker', 'Education', 'Marital Status', 'Occupation',\n",
      "       'Place of Birth', 'RELP', 'Worked hours', 'Sex', 'Race', 'State',\n",
      "       'Income'],\n",
      "      dtype='object')\n",
      "Len of df 13292\n",
      "Finished loading csv for this state\n",
      "--------------------\n",
      "Start loading data for  MO\n",
      "This is state 25 of 51\n"
     ]
    },
    {
     "name": "stderr",
     "output_type": "stream",
     "text": [
      "/tmp/ipykernel_152683/329858945.py:28: SettingWithCopyWarning: \n",
      "A value is trying to be set on a copy of a slice from a DataFrame.\n",
      "Try using .loc[row_indexer,col_indexer] = value instead\n",
      "\n",
      "See the caveats in the documentation: https://pandas.pydata.org/pandas-docs/stable/user_guide/indexing.html#returning-a-view-versus-a-copy\n",
      "  df['State'] = state_list[0]\n",
      "/tmp/ipykernel_152683/329858945.py:31: SettingWithCopyWarning: \n",
      "A value is trying to be set on a copy of a slice from a DataFrame.\n",
      "Try using .loc[row_indexer,col_indexer] = value instead\n",
      "\n",
      "See the caveats in the documentation: https://pandas.pydata.org/pandas-docs/stable/user_guide/indexing.html#returning-a-view-versus-a-copy\n",
      "  df['Income'] = ['>50K' if v>50000 else '<=50K' for v in df['PINCP']]\n"
     ]
    },
    {
     "name": "stdout",
     "output_type": "stream",
     "text": [
      "The current columns are  Index(['Age', 'Class of Worker', 'Education', 'Marital Status', 'Occupation',\n",
      "       'Place of Birth', 'RELP', 'Worked hours', 'Sex', 'Race', 'State',\n",
      "       'Income'],\n",
      "      dtype='object')\n",
      "Len of df 32010\n",
      "Finished loading csv for this state\n",
      "--------------------\n",
      "Start loading data for  MT\n",
      "This is state 26 of 51\n"
     ]
    },
    {
     "name": "stderr",
     "output_type": "stream",
     "text": [
      "/tmp/ipykernel_152683/329858945.py:28: SettingWithCopyWarning: \n",
      "A value is trying to be set on a copy of a slice from a DataFrame.\n",
      "Try using .loc[row_indexer,col_indexer] = value instead\n",
      "\n",
      "See the caveats in the documentation: https://pandas.pydata.org/pandas-docs/stable/user_guide/indexing.html#returning-a-view-versus-a-copy\n",
      "  df['State'] = state_list[0]\n",
      "/tmp/ipykernel_152683/329858945.py:31: SettingWithCopyWarning: \n",
      "A value is trying to be set on a copy of a slice from a DataFrame.\n",
      "Try using .loc[row_indexer,col_indexer] = value instead\n",
      "\n",
      "See the caveats in the documentation: https://pandas.pydata.org/pandas-docs/stable/user_guide/indexing.html#returning-a-view-versus-a-copy\n",
      "  df['Income'] = ['>50K' if v>50000 else '<=50K' for v in df['PINCP']]\n"
     ]
    },
    {
     "name": "stdout",
     "output_type": "stream",
     "text": [
      "The current columns are  Index(['Age', 'Class of Worker', 'Education', 'Marital Status', 'Occupation',\n",
      "       'Place of Birth', 'RELP', 'Worked hours', 'Sex', 'Race', 'State',\n",
      "       'Income'],\n",
      "      dtype='object')\n",
      "Len of df 5546\n",
      "Finished loading csv for this state\n",
      "--------------------\n",
      "Start loading data for  NE\n",
      "This is state 27 of 51\n"
     ]
    },
    {
     "name": "stderr",
     "output_type": "stream",
     "text": [
      "/tmp/ipykernel_152683/329858945.py:28: SettingWithCopyWarning: \n",
      "A value is trying to be set on a copy of a slice from a DataFrame.\n",
      "Try using .loc[row_indexer,col_indexer] = value instead\n",
      "\n",
      "See the caveats in the documentation: https://pandas.pydata.org/pandas-docs/stable/user_guide/indexing.html#returning-a-view-versus-a-copy\n",
      "  df['State'] = state_list[0]\n",
      "/tmp/ipykernel_152683/329858945.py:31: SettingWithCopyWarning: \n",
      "A value is trying to be set on a copy of a slice from a DataFrame.\n",
      "Try using .loc[row_indexer,col_indexer] = value instead\n",
      "\n",
      "See the caveats in the documentation: https://pandas.pydata.org/pandas-docs/stable/user_guide/indexing.html#returning-a-view-versus-a-copy\n",
      "  df['Income'] = ['>50K' if v>50000 else '<=50K' for v in df['PINCP']]\n"
     ]
    },
    {
     "name": "stdout",
     "output_type": "stream",
     "text": [
      "The current columns are  Index(['Age', 'Class of Worker', 'Education', 'Marital Status', 'Occupation',\n",
      "       'Place of Birth', 'RELP', 'Worked hours', 'Sex', 'Race', 'State',\n",
      "       'Income'],\n",
      "      dtype='object')\n",
      "Len of df 10936\n",
      "Finished loading csv for this state\n",
      "--------------------\n",
      "Start loading data for  NV\n",
      "This is state 28 of 51\n"
     ]
    },
    {
     "name": "stderr",
     "output_type": "stream",
     "text": [
      "/tmp/ipykernel_152683/329858945.py:28: SettingWithCopyWarning: \n",
      "A value is trying to be set on a copy of a slice from a DataFrame.\n",
      "Try using .loc[row_indexer,col_indexer] = value instead\n",
      "\n",
      "See the caveats in the documentation: https://pandas.pydata.org/pandas-docs/stable/user_guide/indexing.html#returning-a-view-versus-a-copy\n",
      "  df['State'] = state_list[0]\n",
      "/tmp/ipykernel_152683/329858945.py:31: SettingWithCopyWarning: \n",
      "A value is trying to be set on a copy of a slice from a DataFrame.\n",
      "Try using .loc[row_indexer,col_indexer] = value instead\n",
      "\n",
      "See the caveats in the documentation: https://pandas.pydata.org/pandas-docs/stable/user_guide/indexing.html#returning-a-view-versus-a-copy\n",
      "  df['Income'] = ['>50K' if v>50000 else '<=50K' for v in df['PINCP']]\n"
     ]
    },
    {
     "name": "stdout",
     "output_type": "stream",
     "text": [
      "The current columns are  Index(['Age', 'Class of Worker', 'Education', 'Marital Status', 'Occupation',\n",
      "       'Place of Birth', 'RELP', 'Worked hours', 'Sex', 'Race', 'State',\n",
      "       'Income'],\n",
      "      dtype='object')\n",
      "Len of df 14889\n",
      "Finished loading csv for this state\n",
      "--------------------\n",
      "Start loading data for  NH\n",
      "This is state 29 of 51\n"
     ]
    },
    {
     "name": "stderr",
     "output_type": "stream",
     "text": [
      "/tmp/ipykernel_152683/329858945.py:28: SettingWithCopyWarning: \n",
      "A value is trying to be set on a copy of a slice from a DataFrame.\n",
      "Try using .loc[row_indexer,col_indexer] = value instead\n",
      "\n",
      "See the caveats in the documentation: https://pandas.pydata.org/pandas-docs/stable/user_guide/indexing.html#returning-a-view-versus-a-copy\n",
      "  df['State'] = state_list[0]\n",
      "/tmp/ipykernel_152683/329858945.py:31: SettingWithCopyWarning: \n",
      "A value is trying to be set on a copy of a slice from a DataFrame.\n",
      "Try using .loc[row_indexer,col_indexer] = value instead\n",
      "\n",
      "See the caveats in the documentation: https://pandas.pydata.org/pandas-docs/stable/user_guide/indexing.html#returning-a-view-versus-a-copy\n",
      "  df['Income'] = ['>50K' if v>50000 else '<=50K' for v in df['PINCP']]\n"
     ]
    },
    {
     "name": "stdout",
     "output_type": "stream",
     "text": [
      "The current columns are  Index(['Age', 'Class of Worker', 'Education', 'Marital Status', 'Occupation',\n",
      "       'Place of Birth', 'RELP', 'Worked hours', 'Sex', 'Race', 'State',\n",
      "       'Income'],\n",
      "      dtype='object')\n",
      "Len of df 8062\n",
      "Finished loading csv for this state\n",
      "--------------------\n",
      "Start loading data for  NJ\n",
      "This is state 30 of 51\n",
      "Downloading data for 2018 1-Year person survey for NJ...\n"
     ]
    },
    {
     "name": "stderr",
     "output_type": "stream",
     "text": [
      "/tmp/ipykernel_152683/329858945.py:28: SettingWithCopyWarning: \n",
      "A value is trying to be set on a copy of a slice from a DataFrame.\n",
      "Try using .loc[row_indexer,col_indexer] = value instead\n",
      "\n",
      "See the caveats in the documentation: https://pandas.pydata.org/pandas-docs/stable/user_guide/indexing.html#returning-a-view-versus-a-copy\n",
      "  df['State'] = state_list[0]\n",
      "/tmp/ipykernel_152683/329858945.py:31: SettingWithCopyWarning: \n",
      "A value is trying to be set on a copy of a slice from a DataFrame.\n",
      "Try using .loc[row_indexer,col_indexer] = value instead\n",
      "\n",
      "See the caveats in the documentation: https://pandas.pydata.org/pandas-docs/stable/user_guide/indexing.html#returning-a-view-versus-a-copy\n",
      "  df['Income'] = ['>50K' if v>50000 else '<=50K' for v in df['PINCP']]\n"
     ]
    },
    {
     "name": "stdout",
     "output_type": "stream",
     "text": [
      "The current columns are  Index(['Age', 'Class of Worker', 'Education', 'Marital Status', 'Occupation',\n",
      "       'Place of Birth', 'RELP', 'Worked hours', 'Sex', 'Race', 'State',\n",
      "       'Income'],\n",
      "      dtype='object')\n",
      "Len of df 48130\n",
      "Finished loading csv for this state\n",
      "--------------------\n",
      "Start loading data for  NM\n",
      "This is state 31 of 51\n",
      "Downloading data for 2018 1-Year person survey for NM...\n"
     ]
    },
    {
     "name": "stderr",
     "output_type": "stream",
     "text": [
      "/tmp/ipykernel_152683/329858945.py:28: SettingWithCopyWarning: \n",
      "A value is trying to be set on a copy of a slice from a DataFrame.\n",
      "Try using .loc[row_indexer,col_indexer] = value instead\n",
      "\n",
      "See the caveats in the documentation: https://pandas.pydata.org/pandas-docs/stable/user_guide/indexing.html#returning-a-view-versus-a-copy\n",
      "  df['State'] = state_list[0]\n",
      "/tmp/ipykernel_152683/329858945.py:31: SettingWithCopyWarning: \n",
      "A value is trying to be set on a copy of a slice from a DataFrame.\n",
      "Try using .loc[row_indexer,col_indexer] = value instead\n",
      "\n",
      "See the caveats in the documentation: https://pandas.pydata.org/pandas-docs/stable/user_guide/indexing.html#returning-a-view-versus-a-copy\n",
      "  df['Income'] = ['>50K' if v>50000 else '<=50K' for v in df['PINCP']]\n"
     ]
    },
    {
     "name": "stdout",
     "output_type": "stream",
     "text": [
      "The current columns are  Index(['Age', 'Class of Worker', 'Education', 'Marital Status', 'Occupation',\n",
      "       'Place of Birth', 'RELP', 'Worked hours', 'Sex', 'Race', 'State',\n",
      "       'Income'],\n",
      "      dtype='object')\n",
      "Len of df 8776\n",
      "Finished loading csv for this state\n",
      "--------------------\n",
      "Start loading data for  NY\n",
      "This is state 32 of 51\n",
      "Downloading data for 2018 1-Year person survey for NY...\n"
     ]
    },
    {
     "name": "stderr",
     "output_type": "stream",
     "text": [
      "/tmp/ipykernel_152683/329858945.py:28: SettingWithCopyWarning: \n",
      "A value is trying to be set on a copy of a slice from a DataFrame.\n",
      "Try using .loc[row_indexer,col_indexer] = value instead\n",
      "\n",
      "See the caveats in the documentation: https://pandas.pydata.org/pandas-docs/stable/user_guide/indexing.html#returning-a-view-versus-a-copy\n",
      "  df['State'] = state_list[0]\n",
      "/tmp/ipykernel_152683/329858945.py:31: SettingWithCopyWarning: \n",
      "A value is trying to be set on a copy of a slice from a DataFrame.\n",
      "Try using .loc[row_indexer,col_indexer] = value instead\n",
      "\n",
      "See the caveats in the documentation: https://pandas.pydata.org/pandas-docs/stable/user_guide/indexing.html#returning-a-view-versus-a-copy\n",
      "  df['Income'] = ['>50K' if v>50000 else '<=50K' for v in df['PINCP']]\n"
     ]
    },
    {
     "name": "stdout",
     "output_type": "stream",
     "text": [
      "The current columns are  Index(['Age', 'Class of Worker', 'Education', 'Marital Status', 'Occupation',\n",
      "       'Place of Birth', 'RELP', 'Worked hours', 'Sex', 'Race', 'State',\n",
      "       'Income'],\n",
      "      dtype='object')\n",
      "Len of df 103756\n",
      "Finished loading csv for this state\n",
      "--------------------\n",
      "Start loading data for  NC\n",
      "This is state 33 of 51\n",
      "Downloading data for 2018 1-Year person survey for NC...\n"
     ]
    },
    {
     "name": "stderr",
     "output_type": "stream",
     "text": [
      "/tmp/ipykernel_152683/329858945.py:28: SettingWithCopyWarning: \n",
      "A value is trying to be set on a copy of a slice from a DataFrame.\n",
      "Try using .loc[row_indexer,col_indexer] = value instead\n",
      "\n",
      "See the caveats in the documentation: https://pandas.pydata.org/pandas-docs/stable/user_guide/indexing.html#returning-a-view-versus-a-copy\n",
      "  df['State'] = state_list[0]\n",
      "/tmp/ipykernel_152683/329858945.py:31: SettingWithCopyWarning: \n",
      "A value is trying to be set on a copy of a slice from a DataFrame.\n",
      "Try using .loc[row_indexer,col_indexer] = value instead\n",
      "\n",
      "See the caveats in the documentation: https://pandas.pydata.org/pandas-docs/stable/user_guide/indexing.html#returning-a-view-versus-a-copy\n",
      "  df['Income'] = ['>50K' if v>50000 else '<=50K' for v in df['PINCP']]\n"
     ]
    },
    {
     "name": "stdout",
     "output_type": "stream",
     "text": [
      "The current columns are  Index(['Age', 'Class of Worker', 'Education', 'Marital Status', 'Occupation',\n",
      "       'Place of Birth', 'RELP', 'Worked hours', 'Sex', 'Race', 'State',\n",
      "       'Income'],\n",
      "      dtype='object')\n",
      "Len of df 52490\n",
      "Finished loading csv for this state\n",
      "--------------------\n",
      "Start loading data for  ND\n",
      "This is state 34 of 51\n",
      "Downloading data for 2018 1-Year person survey for ND...\n"
     ]
    },
    {
     "name": "stderr",
     "output_type": "stream",
     "text": [
      "/tmp/ipykernel_152683/329858945.py:28: SettingWithCopyWarning: \n",
      "A value is trying to be set on a copy of a slice from a DataFrame.\n",
      "Try using .loc[row_indexer,col_indexer] = value instead\n",
      "\n",
      "See the caveats in the documentation: https://pandas.pydata.org/pandas-docs/stable/user_guide/indexing.html#returning-a-view-versus-a-copy\n",
      "  df['State'] = state_list[0]\n",
      "/tmp/ipykernel_152683/329858945.py:31: SettingWithCopyWarning: \n",
      "A value is trying to be set on a copy of a slice from a DataFrame.\n",
      "Try using .loc[row_indexer,col_indexer] = value instead\n",
      "\n",
      "See the caveats in the documentation: https://pandas.pydata.org/pandas-docs/stable/user_guide/indexing.html#returning-a-view-versus-a-copy\n",
      "  df['Income'] = ['>50K' if v>50000 else '<=50K' for v in df['PINCP']]\n"
     ]
    },
    {
     "name": "stdout",
     "output_type": "stream",
     "text": [
      "The current columns are  Index(['Age', 'Class of Worker', 'Education', 'Marital Status', 'Occupation',\n",
      "       'Place of Birth', 'RELP', 'Worked hours', 'Sex', 'Race', 'State',\n",
      "       'Income'],\n",
      "      dtype='object')\n",
      "Len of df 4506\n",
      "Finished loading csv for this state\n",
      "--------------------\n",
      "Start loading data for  OH\n",
      "This is state 35 of 51\n",
      "Downloading data for 2018 1-Year person survey for OH...\n"
     ]
    },
    {
     "name": "stderr",
     "output_type": "stream",
     "text": [
      "/tmp/ipykernel_152683/329858945.py:28: SettingWithCopyWarning: \n",
      "A value is trying to be set on a copy of a slice from a DataFrame.\n",
      "Try using .loc[row_indexer,col_indexer] = value instead\n",
      "\n",
      "See the caveats in the documentation: https://pandas.pydata.org/pandas-docs/stable/user_guide/indexing.html#returning-a-view-versus-a-copy\n",
      "  df['State'] = state_list[0]\n",
      "/tmp/ipykernel_152683/329858945.py:31: SettingWithCopyWarning: \n",
      "A value is trying to be set on a copy of a slice from a DataFrame.\n",
      "Try using .loc[row_indexer,col_indexer] = value instead\n",
      "\n",
      "See the caveats in the documentation: https://pandas.pydata.org/pandas-docs/stable/user_guide/indexing.html#returning-a-view-versus-a-copy\n",
      "  df['Income'] = ['>50K' if v>50000 else '<=50K' for v in df['PINCP']]\n"
     ]
    },
    {
     "name": "stdout",
     "output_type": "stream",
     "text": [
      "The current columns are  Index(['Age', 'Class of Worker', 'Education', 'Marital Status', 'Occupation',\n",
      "       'Place of Birth', 'RELP', 'Worked hours', 'Sex', 'Race', 'State',\n",
      "       'Income'],\n",
      "      dtype='object')\n",
      "Len of df 62725\n",
      "Finished loading csv for this state\n",
      "--------------------\n",
      "Start loading data for  OK\n",
      "This is state 36 of 51\n",
      "Downloading data for 2018 1-Year person survey for OK...\n"
     ]
    },
    {
     "name": "stderr",
     "output_type": "stream",
     "text": [
      "/tmp/ipykernel_152683/329858945.py:28: SettingWithCopyWarning: \n",
      "A value is trying to be set on a copy of a slice from a DataFrame.\n",
      "Try using .loc[row_indexer,col_indexer] = value instead\n",
      "\n",
      "See the caveats in the documentation: https://pandas.pydata.org/pandas-docs/stable/user_guide/indexing.html#returning-a-view-versus-a-copy\n",
      "  df['State'] = state_list[0]\n",
      "/tmp/ipykernel_152683/329858945.py:31: SettingWithCopyWarning: \n",
      "A value is trying to be set on a copy of a slice from a DataFrame.\n",
      "Try using .loc[row_indexer,col_indexer] = value instead\n",
      "\n",
      "See the caveats in the documentation: https://pandas.pydata.org/pandas-docs/stable/user_guide/indexing.html#returning-a-view-versus-a-copy\n",
      "  df['Income'] = ['>50K' if v>50000 else '<=50K' for v in df['PINCP']]\n"
     ]
    },
    {
     "name": "stdout",
     "output_type": "stream",
     "text": [
      "The current columns are  Index(['Age', 'Class of Worker', 'Education', 'Marital Status', 'Occupation',\n",
      "       'Place of Birth', 'RELP', 'Worked hours', 'Sex', 'Race', 'State',\n",
      "       'Income'],\n",
      "      dtype='object')\n",
      "Len of df 18096\n",
      "Finished loading csv for this state\n",
      "--------------------\n",
      "Start loading data for  OR\n",
      "This is state 37 of 51\n",
      "Downloading data for 2018 1-Year person survey for OR...\n"
     ]
    },
    {
     "name": "stderr",
     "output_type": "stream",
     "text": [
      "/tmp/ipykernel_152683/329858945.py:28: SettingWithCopyWarning: \n",
      "A value is trying to be set on a copy of a slice from a DataFrame.\n",
      "Try using .loc[row_indexer,col_indexer] = value instead\n",
      "\n",
      "See the caveats in the documentation: https://pandas.pydata.org/pandas-docs/stable/user_guide/indexing.html#returning-a-view-versus-a-copy\n",
      "  df['State'] = state_list[0]\n",
      "/tmp/ipykernel_152683/329858945.py:31: SettingWithCopyWarning: \n",
      "A value is trying to be set on a copy of a slice from a DataFrame.\n",
      "Try using .loc[row_indexer,col_indexer] = value instead\n",
      "\n",
      "See the caveats in the documentation: https://pandas.pydata.org/pandas-docs/stable/user_guide/indexing.html#returning-a-view-versus-a-copy\n",
      "  df['Income'] = ['>50K' if v>50000 else '<=50K' for v in df['PINCP']]\n"
     ]
    },
    {
     "name": "stdout",
     "output_type": "stream",
     "text": [
      "The current columns are  Index(['Age', 'Class of Worker', 'Education', 'Marital Status', 'Occupation',\n",
      "       'Place of Birth', 'RELP', 'Worked hours', 'Sex', 'Race', 'State',\n",
      "       'Income'],\n",
      "      dtype='object')\n",
      "Len of df 22115\n",
      "Finished loading csv for this state\n",
      "--------------------\n",
      "Start loading data for  PA\n",
      "This is state 38 of 51\n",
      "Downloading data for 2018 1-Year person survey for PA...\n"
     ]
    },
    {
     "name": "stderr",
     "output_type": "stream",
     "text": [
      "/tmp/ipykernel_152683/329858945.py:28: SettingWithCopyWarning: \n",
      "A value is trying to be set on a copy of a slice from a DataFrame.\n",
      "Try using .loc[row_indexer,col_indexer] = value instead\n",
      "\n",
      "See the caveats in the documentation: https://pandas.pydata.org/pandas-docs/stable/user_guide/indexing.html#returning-a-view-versus-a-copy\n",
      "  df['State'] = state_list[0]\n",
      "/tmp/ipykernel_152683/329858945.py:31: SettingWithCopyWarning: \n",
      "A value is trying to be set on a copy of a slice from a DataFrame.\n",
      "Try using .loc[row_indexer,col_indexer] = value instead\n",
      "\n",
      "See the caveats in the documentation: https://pandas.pydata.org/pandas-docs/stable/user_guide/indexing.html#returning-a-view-versus-a-copy\n",
      "  df['Income'] = ['>50K' if v>50000 else '<=50K' for v in df['PINCP']]\n"
     ]
    },
    {
     "name": "stdout",
     "output_type": "stream",
     "text": [
      "The current columns are  Index(['Age', 'Class of Worker', 'Education', 'Marital Status', 'Occupation',\n",
      "       'Place of Birth', 'RELP', 'Worked hours', 'Sex', 'Race', 'State',\n",
      "       'Income'],\n",
      "      dtype='object')\n",
      "Len of df 68960\n",
      "Finished loading csv for this state\n",
      "--------------------\n",
      "Start loading data for  RI\n",
      "This is state 39 of 51\n",
      "Downloading data for 2018 1-Year person survey for RI...\n"
     ]
    },
    {
     "name": "stderr",
     "output_type": "stream",
     "text": [
      "/tmp/ipykernel_152683/329858945.py:28: SettingWithCopyWarning: \n",
      "A value is trying to be set on a copy of a slice from a DataFrame.\n",
      "Try using .loc[row_indexer,col_indexer] = value instead\n",
      "\n",
      "See the caveats in the documentation: https://pandas.pydata.org/pandas-docs/stable/user_guide/indexing.html#returning-a-view-versus-a-copy\n",
      "  df['State'] = state_list[0]\n",
      "/tmp/ipykernel_152683/329858945.py:31: SettingWithCopyWarning: \n",
      "A value is trying to be set on a copy of a slice from a DataFrame.\n",
      "Try using .loc[row_indexer,col_indexer] = value instead\n",
      "\n",
      "See the caveats in the documentation: https://pandas.pydata.org/pandas-docs/stable/user_guide/indexing.html#returning-a-view-versus-a-copy\n",
      "  df['Income'] = ['>50K' if v>50000 else '<=50K' for v in df['PINCP']]\n"
     ]
    },
    {
     "name": "stdout",
     "output_type": "stream",
     "text": [
      "The current columns are  Index(['Age', 'Class of Worker', 'Education', 'Marital Status', 'Occupation',\n",
      "       'Place of Birth', 'RELP', 'Worked hours', 'Sex', 'Race', 'State',\n",
      "       'Income'],\n",
      "      dtype='object')\n",
      "Len of df 5755\n",
      "Finished loading csv for this state\n",
      "--------------------\n",
      "Start loading data for  SC\n",
      "This is state 40 of 51\n",
      "Downloading data for 2018 1-Year person survey for SC...\n"
     ]
    },
    {
     "name": "stderr",
     "output_type": "stream",
     "text": [
      "/tmp/ipykernel_152683/329858945.py:28: SettingWithCopyWarning: \n",
      "A value is trying to be set on a copy of a slice from a DataFrame.\n",
      "Try using .loc[row_indexer,col_indexer] = value instead\n",
      "\n",
      "See the caveats in the documentation: https://pandas.pydata.org/pandas-docs/stable/user_guide/indexing.html#returning-a-view-versus-a-copy\n",
      "  df['State'] = state_list[0]\n",
      "/tmp/ipykernel_152683/329858945.py:31: SettingWithCopyWarning: \n",
      "A value is trying to be set on a copy of a slice from a DataFrame.\n",
      "Try using .loc[row_indexer,col_indexer] = value instead\n",
      "\n",
      "See the caveats in the documentation: https://pandas.pydata.org/pandas-docs/stable/user_guide/indexing.html#returning-a-view-versus-a-copy\n",
      "  df['Income'] = ['>50K' if v>50000 else '<=50K' for v in df['PINCP']]\n"
     ]
    },
    {
     "name": "stdout",
     "output_type": "stream",
     "text": [
      "The current columns are  Index(['Age', 'Class of Worker', 'Education', 'Marital Status', 'Occupation',\n",
      "       'Place of Birth', 'RELP', 'Worked hours', 'Sex', 'Race', 'State',\n",
      "       'Income'],\n",
      "      dtype='object')\n",
      "Len of df 25079\n",
      "Finished loading csv for this state\n",
      "--------------------\n",
      "Start loading data for  SD\n",
      "This is state 41 of 51\n",
      "Downloading data for 2018 1-Year person survey for SD...\n"
     ]
    },
    {
     "name": "stderr",
     "output_type": "stream",
     "text": [
      "/tmp/ipykernel_152683/329858945.py:28: SettingWithCopyWarning: \n",
      "A value is trying to be set on a copy of a slice from a DataFrame.\n",
      "Try using .loc[row_indexer,col_indexer] = value instead\n",
      "\n",
      "See the caveats in the documentation: https://pandas.pydata.org/pandas-docs/stable/user_guide/indexing.html#returning-a-view-versus-a-copy\n",
      "  df['State'] = state_list[0]\n",
      "/tmp/ipykernel_152683/329858945.py:31: SettingWithCopyWarning: \n",
      "A value is trying to be set on a copy of a slice from a DataFrame.\n",
      "Try using .loc[row_indexer,col_indexer] = value instead\n",
      "\n",
      "See the caveats in the documentation: https://pandas.pydata.org/pandas-docs/stable/user_guide/indexing.html#returning-a-view-versus-a-copy\n",
      "  df['Income'] = ['>50K' if v>50000 else '<=50K' for v in df['PINCP']]\n"
     ]
    },
    {
     "name": "stdout",
     "output_type": "stream",
     "text": [
      "The current columns are  Index(['Age', 'Class of Worker', 'Education', 'Marital Status', 'Occupation',\n",
      "       'Place of Birth', 'RELP', 'Worked hours', 'Sex', 'Race', 'State',\n",
      "       'Income'],\n",
      "      dtype='object')\n",
      "Len of df 4968\n",
      "Finished loading csv for this state\n",
      "--------------------\n",
      "Start loading data for  TN\n",
      "This is state 42 of 51\n",
      "Downloading data for 2018 1-Year person survey for TN...\n"
     ]
    },
    {
     "name": "stderr",
     "output_type": "stream",
     "text": [
      "/tmp/ipykernel_152683/329858945.py:28: SettingWithCopyWarning: \n",
      "A value is trying to be set on a copy of a slice from a DataFrame.\n",
      "Try using .loc[row_indexer,col_indexer] = value instead\n",
      "\n",
      "See the caveats in the documentation: https://pandas.pydata.org/pandas-docs/stable/user_guide/indexing.html#returning-a-view-versus-a-copy\n",
      "  df['State'] = state_list[0]\n",
      "/tmp/ipykernel_152683/329858945.py:31: SettingWithCopyWarning: \n",
      "A value is trying to be set on a copy of a slice from a DataFrame.\n",
      "Try using .loc[row_indexer,col_indexer] = value instead\n",
      "\n",
      "See the caveats in the documentation: https://pandas.pydata.org/pandas-docs/stable/user_guide/indexing.html#returning-a-view-versus-a-copy\n",
      "  df['Income'] = ['>50K' if v>50000 else '<=50K' for v in df['PINCP']]\n"
     ]
    },
    {
     "name": "stdout",
     "output_type": "stream",
     "text": [
      "The current columns are  Index(['Age', 'Class of Worker', 'Education', 'Marital Status', 'Occupation',\n",
      "       'Place of Birth', 'RELP', 'Worked hours', 'Sex', 'Race', 'State',\n",
      "       'Income'],\n",
      "      dtype='object')\n",
      "Len of df 34284\n",
      "Finished loading csv for this state\n",
      "--------------------\n",
      "Start loading data for  TX\n",
      "This is state 43 of 51\n",
      "Downloading data for 2018 1-Year person survey for TX...\n"
     ]
    },
    {
     "name": "stderr",
     "output_type": "stream",
     "text": [
      "/tmp/ipykernel_152683/329858945.py:28: SettingWithCopyWarning: \n",
      "A value is trying to be set on a copy of a slice from a DataFrame.\n",
      "Try using .loc[row_indexer,col_indexer] = value instead\n",
      "\n",
      "See the caveats in the documentation: https://pandas.pydata.org/pandas-docs/stable/user_guide/indexing.html#returning-a-view-versus-a-copy\n",
      "  df['State'] = state_list[0]\n",
      "/tmp/ipykernel_152683/329858945.py:31: SettingWithCopyWarning: \n",
      "A value is trying to be set on a copy of a slice from a DataFrame.\n",
      "Try using .loc[row_indexer,col_indexer] = value instead\n",
      "\n",
      "See the caveats in the documentation: https://pandas.pydata.org/pandas-docs/stable/user_guide/indexing.html#returning-a-view-versus-a-copy\n",
      "  df['Income'] = ['>50K' if v>50000 else '<=50K' for v in df['PINCP']]\n"
     ]
    },
    {
     "name": "stdout",
     "output_type": "stream",
     "text": [
      "The current columns are  Index(['Age', 'Class of Worker', 'Education', 'Marital Status', 'Occupation',\n",
      "       'Place of Birth', 'RELP', 'Worked hours', 'Sex', 'Race', 'State',\n",
      "       'Income'],\n",
      "      dtype='object')\n",
      "Len of df 136951\n",
      "Finished loading csv for this state\n",
      "--------------------\n",
      "Start loading data for  UT\n",
      "This is state 44 of 51\n",
      "Downloading data for 2018 1-Year person survey for UT...\n"
     ]
    },
    {
     "name": "stderr",
     "output_type": "stream",
     "text": [
      "/tmp/ipykernel_152683/329858945.py:28: SettingWithCopyWarning: \n",
      "A value is trying to be set on a copy of a slice from a DataFrame.\n",
      "Try using .loc[row_indexer,col_indexer] = value instead\n",
      "\n",
      "See the caveats in the documentation: https://pandas.pydata.org/pandas-docs/stable/user_guide/indexing.html#returning-a-view-versus-a-copy\n",
      "  df['State'] = state_list[0]\n",
      "/tmp/ipykernel_152683/329858945.py:31: SettingWithCopyWarning: \n",
      "A value is trying to be set on a copy of a slice from a DataFrame.\n",
      "Try using .loc[row_indexer,col_indexer] = value instead\n",
      "\n",
      "See the caveats in the documentation: https://pandas.pydata.org/pandas-docs/stable/user_guide/indexing.html#returning-a-view-versus-a-copy\n",
      "  df['Income'] = ['>50K' if v>50000 else '<=50K' for v in df['PINCP']]\n"
     ]
    },
    {
     "name": "stdout",
     "output_type": "stream",
     "text": [
      "The current columns are  Index(['Age', 'Class of Worker', 'Education', 'Marital Status', 'Occupation',\n",
      "       'Place of Birth', 'RELP', 'Worked hours', 'Sex', 'Race', 'State',\n",
      "       'Income'],\n",
      "      dtype='object')\n",
      "Len of df 16612\n",
      "Finished loading csv for this state\n",
      "--------------------\n",
      "Start loading data for  VT\n",
      "This is state 45 of 51\n",
      "Downloading data for 2018 1-Year person survey for VT...\n"
     ]
    },
    {
     "name": "stderr",
     "output_type": "stream",
     "text": [
      "/tmp/ipykernel_152683/329858945.py:28: SettingWithCopyWarning: \n",
      "A value is trying to be set on a copy of a slice from a DataFrame.\n",
      "Try using .loc[row_indexer,col_indexer] = value instead\n",
      "\n",
      "See the caveats in the documentation: https://pandas.pydata.org/pandas-docs/stable/user_guide/indexing.html#returning-a-view-versus-a-copy\n",
      "  df['State'] = state_list[0]\n",
      "/tmp/ipykernel_152683/329858945.py:31: SettingWithCopyWarning: \n",
      "A value is trying to be set on a copy of a slice from a DataFrame.\n",
      "Try using .loc[row_indexer,col_indexer] = value instead\n",
      "\n",
      "See the caveats in the documentation: https://pandas.pydata.org/pandas-docs/stable/user_guide/indexing.html#returning-a-view-versus-a-copy\n",
      "  df['Income'] = ['>50K' if v>50000 else '<=50K' for v in df['PINCP']]\n"
     ]
    },
    {
     "name": "stdout",
     "output_type": "stream",
     "text": [
      "The current columns are  Index(['Age', 'Class of Worker', 'Education', 'Marital Status', 'Occupation',\n",
      "       'Place of Birth', 'RELP', 'Worked hours', 'Sex', 'Race', 'State',\n",
      "       'Income'],\n",
      "      dtype='object')\n",
      "Len of df 3812\n",
      "Finished loading csv for this state\n",
      "--------------------\n",
      "Start loading data for  VA\n",
      "This is state 46 of 51\n",
      "Downloading data for 2018 1-Year person survey for VA...\n"
     ]
    },
    {
     "name": "stderr",
     "output_type": "stream",
     "text": [
      "/tmp/ipykernel_152683/329858945.py:28: SettingWithCopyWarning: \n",
      "A value is trying to be set on a copy of a slice from a DataFrame.\n",
      "Try using .loc[row_indexer,col_indexer] = value instead\n",
      "\n",
      "See the caveats in the documentation: https://pandas.pydata.org/pandas-docs/stable/user_guide/indexing.html#returning-a-view-versus-a-copy\n",
      "  df['State'] = state_list[0]\n",
      "/tmp/ipykernel_152683/329858945.py:31: SettingWithCopyWarning: \n",
      "A value is trying to be set on a copy of a slice from a DataFrame.\n",
      "Try using .loc[row_indexer,col_indexer] = value instead\n",
      "\n",
      "See the caveats in the documentation: https://pandas.pydata.org/pandas-docs/stable/user_guide/indexing.html#returning-a-view-versus-a-copy\n",
      "  df['Income'] = ['>50K' if v>50000 else '<=50K' for v in df['PINCP']]\n"
     ]
    },
    {
     "name": "stdout",
     "output_type": "stream",
     "text": [
      "The current columns are  Index(['Age', 'Class of Worker', 'Education', 'Marital Status', 'Occupation',\n",
      "       'Place of Birth', 'RELP', 'Worked hours', 'Sex', 'Race', 'State',\n",
      "       'Income'],\n",
      "      dtype='object')\n",
      "Len of df 46498\n",
      "Finished loading csv for this state\n",
      "--------------------\n",
      "Start loading data for  WA\n",
      "This is state 47 of 51\n",
      "Downloading data for 2018 1-Year person survey for WA...\n"
     ]
    },
    {
     "name": "stderr",
     "output_type": "stream",
     "text": [
      "/tmp/ipykernel_152683/329858945.py:28: SettingWithCopyWarning: \n",
      "A value is trying to be set on a copy of a slice from a DataFrame.\n",
      "Try using .loc[row_indexer,col_indexer] = value instead\n",
      "\n",
      "See the caveats in the documentation: https://pandas.pydata.org/pandas-docs/stable/user_guide/indexing.html#returning-a-view-versus-a-copy\n",
      "  df['State'] = state_list[0]\n",
      "/tmp/ipykernel_152683/329858945.py:31: SettingWithCopyWarning: \n",
      "A value is trying to be set on a copy of a slice from a DataFrame.\n",
      "Try using .loc[row_indexer,col_indexer] = value instead\n",
      "\n",
      "See the caveats in the documentation: https://pandas.pydata.org/pandas-docs/stable/user_guide/indexing.html#returning-a-view-versus-a-copy\n",
      "  df['Income'] = ['>50K' if v>50000 else '<=50K' for v in df['PINCP']]\n"
     ]
    },
    {
     "name": "stdout",
     "output_type": "stream",
     "text": [
      "The current columns are  Index(['Age', 'Class of Worker', 'Education', 'Marital Status', 'Occupation',\n",
      "       'Place of Birth', 'RELP', 'Worked hours', 'Sex', 'Race', 'State',\n",
      "       'Income'],\n",
      "      dtype='object')\n",
      "Len of df 40253\n",
      "Finished loading csv for this state\n",
      "--------------------\n",
      "Start loading data for  WV\n",
      "This is state 48 of 51\n",
      "Downloading data for 2018 1-Year person survey for WV...\n"
     ]
    },
    {
     "name": "stderr",
     "output_type": "stream",
     "text": [
      "/tmp/ipykernel_152683/329858945.py:28: SettingWithCopyWarning: \n",
      "A value is trying to be set on a copy of a slice from a DataFrame.\n",
      "Try using .loc[row_indexer,col_indexer] = value instead\n",
      "\n",
      "See the caveats in the documentation: https://pandas.pydata.org/pandas-docs/stable/user_guide/indexing.html#returning-a-view-versus-a-copy\n",
      "  df['State'] = state_list[0]\n",
      "/tmp/ipykernel_152683/329858945.py:31: SettingWithCopyWarning: \n",
      "A value is trying to be set on a copy of a slice from a DataFrame.\n",
      "Try using .loc[row_indexer,col_indexer] = value instead\n",
      "\n",
      "See the caveats in the documentation: https://pandas.pydata.org/pandas-docs/stable/user_guide/indexing.html#returning-a-view-versus-a-copy\n",
      "  df['Income'] = ['>50K' if v>50000 else '<=50K' for v in df['PINCP']]\n"
     ]
    },
    {
     "name": "stdout",
     "output_type": "stream",
     "text": [
      "The current columns are  Index(['Age', 'Class of Worker', 'Education', 'Marital Status', 'Occupation',\n",
      "       'Place of Birth', 'RELP', 'Worked hours', 'Sex', 'Race', 'State',\n",
      "       'Income'],\n",
      "      dtype='object')\n",
      "Len of df 8157\n",
      "Finished loading csv for this state\n",
      "--------------------\n",
      "Start loading data for  WI\n",
      "This is state 49 of 51\n",
      "Downloading data for 2018 1-Year person survey for WI...\n"
     ]
    },
    {
     "name": "stderr",
     "output_type": "stream",
     "text": [
      "/tmp/ipykernel_152683/329858945.py:28: SettingWithCopyWarning: \n",
      "A value is trying to be set on a copy of a slice from a DataFrame.\n",
      "Try using .loc[row_indexer,col_indexer] = value instead\n",
      "\n",
      "See the caveats in the documentation: https://pandas.pydata.org/pandas-docs/stable/user_guide/indexing.html#returning-a-view-versus-a-copy\n",
      "  df['State'] = state_list[0]\n",
      "/tmp/ipykernel_152683/329858945.py:31: SettingWithCopyWarning: \n",
      "A value is trying to be set on a copy of a slice from a DataFrame.\n",
      "Try using .loc[row_indexer,col_indexer] = value instead\n",
      "\n",
      "See the caveats in the documentation: https://pandas.pydata.org/pandas-docs/stable/user_guide/indexing.html#returning-a-view-versus-a-copy\n",
      "  df['Income'] = ['>50K' if v>50000 else '<=50K' for v in df['PINCP']]\n"
     ]
    },
    {
     "name": "stdout",
     "output_type": "stream",
     "text": [
      "The current columns are  Index(['Age', 'Class of Worker', 'Education', 'Marital Status', 'Occupation',\n",
      "       'Place of Birth', 'RELP', 'Worked hours', 'Sex', 'Race', 'State',\n",
      "       'Income'],\n",
      "      dtype='object')\n",
      "Len of df 33133\n",
      "Finished loading csv for this state\n",
      "--------------------\n",
      "Start loading data for  WY\n",
      "This is state 50 of 51\n",
      "Downloading data for 2018 1-Year person survey for WY...\n"
     ]
    },
    {
     "name": "stderr",
     "output_type": "stream",
     "text": [
      "/tmp/ipykernel_152683/329858945.py:28: SettingWithCopyWarning: \n",
      "A value is trying to be set on a copy of a slice from a DataFrame.\n",
      "Try using .loc[row_indexer,col_indexer] = value instead\n",
      "\n",
      "See the caveats in the documentation: https://pandas.pydata.org/pandas-docs/stable/user_guide/indexing.html#returning-a-view-versus-a-copy\n",
      "  df['State'] = state_list[0]\n",
      "/tmp/ipykernel_152683/329858945.py:31: SettingWithCopyWarning: \n",
      "A value is trying to be set on a copy of a slice from a DataFrame.\n",
      "Try using .loc[row_indexer,col_indexer] = value instead\n",
      "\n",
      "See the caveats in the documentation: https://pandas.pydata.org/pandas-docs/stable/user_guide/indexing.html#returning-a-view-versus-a-copy\n",
      "  df['Income'] = ['>50K' if v>50000 else '<=50K' for v in df['PINCP']]\n"
     ]
    },
    {
     "name": "stdout",
     "output_type": "stream",
     "text": [
      "The current columns are  Index(['Age', 'Class of Worker', 'Education', 'Marital Status', 'Occupation',\n",
      "       'Place of Birth', 'RELP', 'Worked hours', 'Sex', 'Race', 'State',\n",
      "       'Income'],\n",
      "      dtype='object')\n",
      "Len of df 3102\n",
      "Finished loading csv for this state\n",
      "--------------------\n",
      "Start loading data for  PR\n",
      "This is state 51 of 51\n",
      "Downloading data for 2018 1-Year person survey for PR...\n"
     ]
    },
    {
     "name": "stderr",
     "output_type": "stream",
     "text": [
      "/tmp/ipykernel_152683/329858945.py:28: SettingWithCopyWarning: \n",
      "A value is trying to be set on a copy of a slice from a DataFrame.\n",
      "Try using .loc[row_indexer,col_indexer] = value instead\n",
      "\n",
      "See the caveats in the documentation: https://pandas.pydata.org/pandas-docs/stable/user_guide/indexing.html#returning-a-view-versus-a-copy\n",
      "  df['State'] = state_list[0]\n",
      "/tmp/ipykernel_152683/329858945.py:31: SettingWithCopyWarning: \n",
      "A value is trying to be set on a copy of a slice from a DataFrame.\n",
      "Try using .loc[row_indexer,col_indexer] = value instead\n",
      "\n",
      "See the caveats in the documentation: https://pandas.pydata.org/pandas-docs/stable/user_guide/indexing.html#returning-a-view-versus-a-copy\n",
      "  df['Income'] = ['>50K' if v>50000 else '<=50K' for v in df['PINCP']]\n"
     ]
    },
    {
     "name": "stdout",
     "output_type": "stream",
     "text": [
      "The current columns are  Index(['Age', 'Class of Worker', 'Education', 'Marital Status', 'Occupation',\n",
      "       'Place of Birth', 'RELP', 'Worked hours', 'Sex', 'Race', 'State',\n",
      "       'Income'],\n",
      "      dtype='object')\n",
      "Len of df 9103\n",
      "Finished loading csv for this state\n",
      "--------------------\n"
     ]
    }
   ],
   "source": [
    "central_df = columns = ['Age', 'Class of Worker', 'Education', 'Marital Status', 'Occupation', 'Place of Birth', 'Worked hours', 'Sex', 'Race', 'State', 'Income']\n",
    "central_df = pd.DataFrame(columns=columns)\n",
    "\n",
    "#Download datasets for all states\n",
    "for i, state in enumerate(all_states):\n",
    "    print('Start loading data for ', state)\n",
    "    print(f'This is state {i + 1} of {len(all_states)}')\n",
    "\n",
    "    state_list = [state]\n",
    "    data_source = ACSDataSource(survey_year=year, horizon='1-Year', survey='person')\n",
    "    ca_data = data_source.get_data(states=state_list, download=True)\n",
    "\n",
    "    # for value in ca_data.columns:\n",
    "    #     print(value)\n",
    "    df = adult_filter(ca_data)\n",
    "\n",
    "    if 'RELP' in ca_data.columns:\n",
    "        df = ca_data[features]\n",
    "        df.drop(['RELP'], axis=1)\n",
    "    else:\n",
    "        df = df[features_no_relp]\n",
    "\n",
    "    file = 'ACS-'+str(year) +'-' + str(state_list[0]) + \".csv\" \n",
    "\n",
    "    \n",
    "\n",
    "    # add column with state\n",
    "    df['State'] = state_list[0]\n",
    "\n",
    "    # create column with binary income variable, below or above 50k\n",
    "    df['Income'] = ['>50K' if v>50000 else '<=50K' for v in df['PINCP']]\n",
    "\n",
    "    # rename columns to \n",
    "    df = df.rename(columns= {\"AGEP\": \"Age\", \"COW\": \"Class of Worker\", \"SCHL\": \"Education\", \"MAR\": \"Marital Status\", \"OCCP\":\"Occupation\", \"POBP\": \"Place of Birth\", \"WKHP\":\"Worked hours\", \"SEX\":\"Sex\", \"RAC1P\":\"Race\"}, errors=\"raise\")\n",
    "    \n",
    "    # drop rows with NaN values\n",
    "    df = df.dropna()\n",
    "\n",
    "    # drop original income column\n",
    "    df.drop('PINCP', axis=1, inplace=True)\n",
    "\n",
    "    print('The current columns are ', df.columns)\n",
    "\n",
    "    central_df = pd.concat([central_df, df], ignore_index=True)\n",
    "\n",
    "    # save data as .csv file\n",
    "    filepath = os.path.join(current_path, \"acs_2018\", file)\n",
    "    df.to_csv(filepath, index=False)\n",
    "    print('Len of df', len(df))\n",
    "    print('Finished loading csv for this state')\n",
    "    print('--------------------')\n",
    "\n",
    "file = 'ACS-'+str(year) +'-' + 'complete' + \".csv\"\n",
    "filepath = os.path.join(current_path, \"acs_2018\", file)\n",
    "central_df.to_csv(filepath, index=False)"
   ]
  },
  {
   "cell_type": "markdown",
   "metadata": {},
   "source": []
  }
 ],
 "metadata": {
  "kernelspec": {
   "display_name": "Python 3 (ipykernel)",
   "language": "python",
   "name": "python3"
  },
  "language_info": {
   "codemirror_mode": {
    "name": "ipython",
    "version": 3
   },
   "file_extension": ".py",
   "mimetype": "text/x-python",
   "name": "python",
   "nbconvert_exporter": "python",
   "pygments_lexer": "ipython3",
   "version": "3.11.8"
  }
 },
 "nbformat": 4,
 "nbformat_minor": 4
}
